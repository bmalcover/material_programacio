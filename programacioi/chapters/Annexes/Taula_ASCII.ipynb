{
 "cells": [
  {
   "cell_type": "markdown",
   "metadata": {
    "collapsed": true,
    "pycharm": {
     "name": "#%% md\n"
    }
   },
   "source": [
    "## Taula ASCII\n",
    "\n",
    "El codi ASCII (American Standard Code for Information Interchange) és un codi estàndard americà per a l'intercanvi\n",
    "d'informació. L'ASCII és un joc de caràcters que assigna valors numèrics (del 0 al 127, 7 bits de longitud) a les\n",
    "lletres, xifres i signes de puntuació. Existeixen codis ASCII extensos de 256 caràcters (del 0 al 255, un byte), que\n",
    "permeten representar caràcters no anglesos com poden ser accents o la «ç».\n",
    "\n",
    "ASCII va ser publicat com a estàndard per primera vegada en 1967 i va ser actualitzat per última vegada en 1986. En\n",
    "l'actualitat defineix codis per 33 caràcters no imprimibles, dels quals la majoria són caràcters de control obsolets\n",
    "que tenen efecte sobre com es processa el text, més altres 95 caràcters imprimibles que els segueixen en la numeració\n",
    "(començant pel caràcter espai).\n",
    "\n",
    "Gairebé tots els sistemes informàtics actuals utilitzen el codi ASCII o una extensió compatible per representar\n",
    "textos i per al control de dispositius que treballen amb text.\n",
    "\n",
    "A continuació teniu la taula ASCII, per cada caràcter ens interessa conèixer el seu codi decimal:\n",
    "\n",
    "```{figure} ../img/ascii.png\n",
    ":alt: Taula ASCII\n",
    ":width: 600px\n",
    ":align: center\n",
    "\n",
    "Taula ASCII ampliada.\n",
    "```\n",
    "\n",
    "### Funcions en llenguatge Python\n",
    "\n",
    "Conèixer com els llenguatges de programació codifiquen els caràcters ens dóna la possibilitat de poder operar amb\n",
    "ells. Entre d'altres, a partir d'ara podrem saber si una lletra és majúscula, minúscula o un nombre. També podrem fer\n",
    "transformacions de lletres majúscules a minúscules i viceversa.\n",
    "\n",
    "Per poder saber el codi numèric d’un caràcter hem d'usar la funció `ord`. A continuació en trobarem un exemple:"
   ]
  },
  {
   "cell_type": "code",
   "execution_count": 1,
   "outputs": [
    {
     "data": {
      "text/plain": "97"
     },
     "execution_count": 1,
     "metadata": {},
     "output_type": "execute_result"
    }
   ],
   "source": [
    "ord('a')"
   ],
   "metadata": {
    "collapsed": false,
    "pycharm": {
     "name": "#%%\n"
    }
   }
  },
  {
   "cell_type": "markdown",
   "source": [
    "Per poder saber el caràcter representat per un nombre hem d'usar la funció `chr` de `Python`. A continuació en\n",
    "trobarem un exemple:"
   ],
   "metadata": {
    "collapsed": false,
    "pycharm": {
     "name": "#%% md\n"
    }
   }
  },
  {
   "cell_type": "code",
   "execution_count": 2,
   "outputs": [
    {
     "data": {
      "text/plain": "'a'"
     },
     "execution_count": 2,
     "metadata": {},
     "output_type": "execute_result"
    }
   ],
   "source": [
    "chr(97)\n"
   ],
   "metadata": {
    "collapsed": false,
    "pycharm": {
     "name": "#%%\n"
    }
   }
  },
  {
   "cell_type": "markdown",
   "source": [
    "### Exercicis\n",
    "\n",
    "1. Implementar un programa que llegeixi un caràcter i mostri el seu valor ASCII per pantalla. Per a això, cal\n",
    "convertir el caràcter llegit a un sencer.\n",
    "\n",
    "2. Implementar un programa que llegeixi un caràcter i ens digui si aquest és una lletra majúscula.\n",
    "\n",
    "3. Implementar un programa que llegeixi un caràcter de teclat en minúscula i mostri el mateix caràcter en majúscula.\n",
    "\n",
    "4. Imaginem les lletres de l'alfabet ordenades i disposades en cercle. És a dir, a la dreta de l'A es troba la B,\n",
    "després la C i així successivament fins a la Z; a la dreta de la Z es troba novament la A.\n",
    "\n",
    "    Definim una rotació de longitud _n_ com aquella que porta a una determinada lletra _n_ posicions cap a la seva dreta.\n",
    "\n",
    "    Exemples:\n",
    "\n",
    "    - La rotació de longitud 1 porta l'A a la B, la V a la W i la Z A.\n",
    "\n",
    "    - La rotació de longitud 3 porta l'A a la D, la V a la I i la Z C.\n",
    "\n",
    "    a. Escriu un programa que permeti calcular la rotació de longitud 1. És a dir, donada una lletra de l'alfabet\n",
    "    introduïda\n",
    "    per teclat, el programa ha d'indicar la lletra corresponent a aquesta rotació.\n",
    "\n",
    "    b. Escriu un programa que permeti calcular una rotació arbitrària de longitud _n_. En primer lloc, el programa\n",
    "    demanarà\n",
    "    el valor de la rotació i després la lletra que vol codificar. El programa realitzarà el procés fins que l'usuari\n",
    "    introdueixi una rotació amb el valor '.'.\n",
    "\n",
    "5. Implementar un programa que donada una seqüència ens digui quantes parelles de lletres contenen lletres de\n",
    "l'abecedari seguides."
   ],
   "metadata": {
    "collapsed": false,
    "pycharm": {
     "name": "#%% md\n"
    }
   }
  }
 ],
 "metadata": {
  "kernelspec": {
   "display_name": "Python 3",
   "language": "python",
   "name": "python3"
  },
  "language_info": {
   "codemirror_mode": {
    "name": "ipython",
    "version": 2
   },
   "file_extension": ".py",
   "mimetype": "text/x-python",
   "name": "python",
   "nbconvert_exporter": "python",
   "pygments_lexer": "ipython2",
   "version": "2.7.6"
  }
 },
 "nbformat": 4,
 "nbformat_minor": 0
}