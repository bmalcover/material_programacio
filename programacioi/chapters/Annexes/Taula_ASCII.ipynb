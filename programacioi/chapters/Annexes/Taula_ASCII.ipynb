{
 "cells": [
  {
   "cell_type": "markdown",
   "metadata": {
    "collapsed": true
   },
   "source": [
    "## Taula ASCII\n",
    "\n",
    "El codi ASCII (American Standard Code for Information Interchange) és un codi estàndard americà per a l'intercanvi\n",
    "d'informació. L'ASCII és un joc de caràcters que assigna valors numèrics (del 0 al 127, 7 bits de longitud) a les\n",
    "lletres, xifres i signes de puntuació. Existeixen codis ASCII extensos de 256 caràcters (del 0 al 255, un byte), que\n",
    "permeten representar caràcters no anglesos com poden ser accents o la «ç».\n",
    "\n",
    "ASCII va ser publicat com a estàndard per primera vegada en 1967 i va ser actualitzat per última vegada en 1986. En\n",
    "l'actualitat defineix codis per 33 caràcters no imprimibles, dels quals la majoria són caràcters de control obsolets\n",
    "que tenen efecte sobre com es processa el text, més altres 95 caràcters imprimibles que els segueixen en la numeració\n",
    "(començant pel caràcter espai).\n",
    "\n",
    "Gairebé tots els sistemes informàtics actuals utilitzen el codi ASCII o una extensió compatible per representar\n",
    "textos i per al control de dispositius que treballen amb text.\n",
    "\n",
    "A continuació teniu la taula ASCII, per cada caràcter ens interessa conèixer el seu codi decimal:\n",
    "\n",
    "```{figure} ../img/ascii.png\n",
    ":alt: Taula ASCII\n",
    ":width: 600px\n",
    ":align: center\n",
    "\n",
    "Taula ASCII ampliada.\n",
    "```\n",
    "\n",
    "### Funcions en llenguatge Python\n",
    "\n",
    "Conèixer com els llenguatges de programació codifiquen els caràcters ens dóna la possibilitat de poder operar amb\n",
    "ells. Entre d'altres, a partir d'ara podrem saber si una lletra és majúscula, minúscula o un nombre. També podrem fer\n",
    "transformacions de lletres majúscules a minúscules i viceversa.\n",
    "\n",
    "Per poder saber el codi numèric d’un caràcter hem d'usar la funció `ord`. A continuació en trobarem un exemple:"
   ]
  },
  {
   "cell_type": "code",
   "execution_count": 1,
   "outputs": [
    {
     "data": {
      "text/plain": "97"
     },
     "execution_count": 1,
     "metadata": {},
     "output_type": "execute_result"
    }
   ],
   "source": [
    "ord('a')"
   ],
   "metadata": {
    "collapsed": false
   }
  },
  {
   "cell_type": "markdown",
   "source": [
    "Per poder saber el caràcter representat per un nombre hem d'usar la funció `chr` de `Python`. A continuació en\n",
    "trobarem un exemple:"
   ],
   "metadata": {
    "collapsed": false
   }
  },
  {
   "cell_type": "code",
   "execution_count": 2,
   "outputs": [
    {
     "data": {
      "text/plain": "'a'"
     },
     "execution_count": 2,
     "metadata": {},
     "output_type": "execute_result"
    }
   ],
   "source": [
    "chr(97)\n"
   ],
   "metadata": {
    "collapsed": false
   }
  },
  {
   "cell_type": "markdown",
   "source": [
    "### Exercicis\n",
    "\n",
    "1. Implementar un programa que llegeixi un caràcter i mostri el seu valor ASCII per pantalla.\n",
    "2. Fer el programa invers: un programa que llegeixi un caràcter i ens digui si aquest és una lletra majúscula.\n",
    "3. Implementar un programa que llegeixi un caràcter de teclat que està escrit en minúscula i mostri el mateix caràcter en majúscula.\n",
    "4. Implementar un programa que implementa un algorisme de recorregut basant-se en l'exercici anterior: llegeix un text acabat en punt i transformi totes les lletres minúscules a majúscules.\n",
    "\n",
    "5. El xifrat del Cèsar, també conegut com a xifrat per desplaçament, és una de les tècniques de codificació més simples. Es tracta d'un mètode de xifrat per substitució, en què cada lletra del missatge original és reemplaçada per una altra lletra que es troba un nombre fix _n_ de posicions més endavant a l'alfabet. El desplaçament pot ser major al nombre de lletres de l'alfabet, en aquest cas s'aplica l'aritmètica modular per trobar la solució.\n",
    "\n",
    "Heu de fer un programa que donat un nombre enter natural, _n_, que representa el desplaçament, una opció (_c_ per codificar i _d_ per decodificar) i un text d'entrada, ens doni la codificació o decodificació del text donat. Només tindrem en compte els caràcters de l'alfabet.\n",
    "\n",
    "Per exemple, amb una _n_ = 6:\n",
    "```\n",
    "Text original: ABC DEFG HIJKLMNÑOPQRSTUVWXYZ 11.\n",
    "\n",
    "Text codificat: GHI JKLM NÑOPQRSTUVWXYZABCDEF 11.\n",
    "```\n",
    "\n",
    "\n"
   ],
   "metadata": {
    "collapsed": false
   }
  }
 ],
 "metadata": {
  "kernelspec": {
   "display_name": "Python 3",
   "language": "python",
   "name": "python3"
  },
  "language_info": {
   "codemirror_mode": {
    "name": "ipython",
    "version": 2
   },
   "file_extension": ".py",
   "mimetype": "text/x-python",
   "name": "python",
   "nbconvert_exporter": "python",
   "pygments_lexer": "ipython2",
   "version": "2.7.6"
  }
 },
 "nbformat": 4,
 "nbformat_minor": 0
}
