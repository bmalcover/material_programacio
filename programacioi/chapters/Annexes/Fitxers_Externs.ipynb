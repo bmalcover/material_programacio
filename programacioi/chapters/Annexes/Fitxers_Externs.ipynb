{
 "cells": [
  {
   "cell_type": "markdown",
   "metadata": {
    "collapsed": true,
    "pycharm": {
     "name": "#%% md\n"
    }
   },
   "source": [
    "## Fitxers externs\n",
    "\n",
    "Com hem vist en el tema 4, la programació modular es refereix al procés de dividir un programa gran en subtasques o\n",
    "mòduls separats, més petits i més manejables. Els mòduls individuals es poden usar com blocs de construcció per crear\n",
    "una aplicació més gran. La tècnica de modularització que coneixem fins ara és la creació de subprogrames.\n",
    "\n",
    "En aquest taller veurem una segona manera de modularitzar els nostres programes mitjançant l'importació de codi que\n",
    "es troba en fitxers diferents del qual tenim el nostre programa principal.\n",
    "\n",
    "El codi pot provenir d'altres programes que nosaltres hem fet amb anterioritat o per llibreries de codi ja incloses\n",
    "en la distribució de `Python` ( com per exemple la llibreria _Math_ o _sys_) o d'altres que podem descarregar i\n",
    "instal·lar.\n",
    "Per usar aquestes dues fonts de codi usarem una paraula reservada que ja coneixem `import` però que potser no entenem.\n",
    "\n",
    "Nosaltres ens centrarem en la primera de les fonts de codi, aquelles que ja hem programat amb anterioritat i que es\n",
    "troben en un altre fitxer.\n",
    "\n",
    "Suposem que tenim el fitxer _extern.py_ que conté el següent codi:"
   ]
  },
  {
   "cell_type": "code",
   "execution_count": null,
   "outputs": [],
   "source": [
    "estring = \"Una variable de mostra\"\n",
    "\n",
    "def es_primer(x):\n",
    "    for i in range(2, x):\n",
    "        if x % i == 0:\n",
    "            return False\n",
    "    return True"
   ],
   "metadata": {
    "collapsed": false,
    "pycharm": {
     "name": "#%%\n"
    }
   }
  },
  {
   "cell_type": "markdown",
   "source": [
    "Podem usar el codi definit en el fitxer anomenat _extern.py_ en el nostre fitxer _main.py_ de la següent manera:"
   ],
   "metadata": {
    "collapsed": false,
    "pycharm": {
     "name": "#%% md\n"
    }
   }
  },
  {
   "cell_type": "code",
   "execution_count": 3,
   "outputs": [
    {
     "name": "stdout",
     "output_type": "stream",
     "text": [
      "Una variable de mostra\n"
     ]
    },
    {
     "data": {
      "text/plain": "True"
     },
     "execution_count": 3,
     "metadata": {},
     "output_type": "execute_result"
    }
   ],
   "source": [
    "import extern\n",
    "\n",
    "print(extern.estring)\n",
    "\n",
    "extern.es_primer(23)"
   ],
   "metadata": {
    "collapsed": false,
    "pycharm": {
     "name": "#%%\n"
    }
   }
  },
  {
   "cell_type": "markdown",
   "source": [
    "En importar un fitxer tal com hem fet abans, ens hem d'assegurar que aquest es trobi en la *mateixa carpeta* que el\n",
    "nostre programa principal. Existeixen altres opcions que ens permeten tenir el codi en altres localitzacions del\n",
    "nostre ordinador però això queda fora de l'àmbit d'aquesta assignatura. Per a més informació podeu llegir el següent\n",
    "[enllaç](https://realpython.com/python-modules-packages/#the-module-search-path).\n",
    "\n",
    "### La clausula import\n",
    "\n",
    "La clausula `import` és flexible i ens permet usar-la de diferents maneres en funció de les necessitats que tinguem en\n",
    "cada situació.\n",
    "\n",
    "\n",
    "#### `import <nom>`\n",
    "\n",
    "És la manera més senzilla d'importar codi extern, la que acabam d'explicar en l'exemple anterior. El que hem de tenir\n",
    "en compte és que quan usam qualsevol peça de codi definida en el fitxer que importam, aquesta roman privada en aquell\n",
    "mòdul de la següent manera:"
   ],
   "metadata": {
    "collapsed": false
   }
  },
  {
   "cell_type": "code",
   "execution_count": 4,
   "outputs": [
    {
     "ename": "NameError",
     "evalue": "name 'estring' is not defined",
     "output_type": "error",
     "traceback": [
      "\u001B[1;31m---------------------------------------------------------------------------\u001B[0m",
      "\u001B[1;31mNameError\u001B[0m                                 Traceback (most recent call last)",
      "\u001B[1;32m<ipython-input-4-09551f0536b0>\u001B[0m in \u001B[0;36m<module>\u001B[1;34m\u001B[0m\n\u001B[0;32m      1\u001B[0m \u001B[1;32mimport\u001B[0m \u001B[0mextern\u001B[0m\u001B[1;33m\u001B[0m\u001B[1;33m\u001B[0m\u001B[0m\n\u001B[0;32m      2\u001B[0m \u001B[1;33m\u001B[0m\u001B[0m\n\u001B[1;32m----> 3\u001B[1;33m \u001B[0mprint\u001B[0m\u001B[1;33m(\u001B[0m\u001B[0mestring\u001B[0m\u001B[1;33m)\u001B[0m\u001B[1;33m\u001B[0m\u001B[1;33m\u001B[0m\u001B[0m\n\u001B[0m\u001B[0;32m      4\u001B[0m \u001B[1;33m\u001B[0m\u001B[0m\n",
      "\u001B[1;31mNameError\u001B[0m: name 'estring' is not defined"
     ]
    }
   ],
   "source": [
    "import extern\n",
    "\n",
    "print(estring)"
   ],
   "metadata": {
    "collapsed": false,
    "pycharm": {
     "name": "#%%\n"
    }
   }
  },
  {
   "cell_type": "markdown",
   "source": [
    "obtenim un error, ja que al nostre programa principal no existeix cap variable anomenada `estring`. El codi del\n",
    "mòdul només és accessible quan té el <nom> com prefix mitjançant un punt, tal com es mostra a l'exemple que trobareu\n",
    "a continuació. A més fixau-vos que això en possibilita tenir una variable al programa principal anomenada `estring`\n",
    "sense sofrir interferències amb la que hem definit en el fitxer `extern`:"
   ],
   "metadata": {
    "collapsed": false,
    "pycharm": {
     "name": "#%% md\n"
    }
   }
  },
  {
   "cell_type": "code",
   "execution_count": 5,
   "outputs": [
    {
     "name": "stdout",
     "output_type": "stream",
     "text": [
      "Una variable de mostra\n",
      "la variable del programa principal\n"
     ]
    }
   ],
   "source": [
    "import extern\n",
    "\n",
    "estring = \"La variable del programa principal\"\n",
    "\n",
    "print(extern.estring)\n",
    "print(estring)"
   ],
   "metadata": {
    "collapsed": false,
    "pycharm": {
     "name": "#%%\n"
    }
   }
  },
  {
   "cell_type": "markdown",
   "source": [
    "#### `from <nom> import <codi>`\n",
    "\n",
    "Una alternativa a l'importació que hem vist fins ara és aquella que permet importar elements individuals del mòdul\n",
    "directament al nostre programa. D'aquesta manera podem importar directament un procediment que es troba al fitxer\n",
    "`extern`:"
   ],
   "metadata": {
    "collapsed": false,
    "pycharm": {
     "name": "#%% md\n"
    }
   }
  },
  {
   "cell_type": "code",
   "execution_count": 6,
   "outputs": [
    {
     "data": {
      "text/plain": "False"
     },
     "execution_count": 6,
     "metadata": {},
     "output_type": "execute_result"
    }
   ],
   "source": [
    "from extern import es_primer\n",
    "\n",
    "es_primer(33)"
   ],
   "metadata": {
    "collapsed": false,
    "pycharm": {
     "name": "#%%\n"
    }
   }
  },
  {
   "cell_type": "markdown",
   "source": [
    "Degut que estam important el codi al nostre programa principal sense el prefix aquí sí que és possible sobreescriure el\n",
    "codi importat, per exemple:"
   ],
   "metadata": {
    "collapsed": false,
    "pycharm": {
     "name": "#%% md\n"
    }
   }
  },
  {
   "cell_type": "code",
   "execution_count": 7,
   "outputs": [
    {
     "name": "stdout",
     "output_type": "stream",
     "text": [
      "Una variable de mostra\n",
      "Ara el sobreescric\n"
     ]
    }
   ],
   "source": [
    "from extern import estring\n",
    "\n",
    "print(estring)\n",
    "estring = \"Ara el sobreescric\"\n",
    "print(estring)"
   ],
   "metadata": {
    "collapsed": false,
    "pycharm": {
     "name": "#%%\n"
    }
   }
  },
  {
   "cell_type": "markdown",
   "source": [
    "Fins i tot és possible importar de manera tot el contingut d'un mòdul (fitxer extern) d’un sol cop:"
   ],
   "metadata": {
    "collapsed": false,
    "pycharm": {
     "name": "#%% md\n"
    }
   }
  },
  {
   "cell_type": "code",
   "execution_count": null,
   "outputs": [],
   "source": [
    "from extern import *"
   ],
   "metadata": {
    "collapsed": false,
    "pycharm": {
     "name": "#%%\n"
    }
   }
  },
  {
   "cell_type": "markdown",
   "source": [
    "Encara que podeu trobar codi que usa aquesta darrera tècnica, no es recomana gens fer-ho, ja que és una font de\n",
    "problemes. [Més informació](https://www.geeksforgeeks.org/why-import-star-in-python-is-a-bad-idea/?ref=rp).\n",
    "\n",
    "#### `import <nom> as <nom_alternatiu>`\n",
    "\n",
    "Aquesta darrera opció no ens serà molt útil per aquest curs però s'utilitza molt quant volem importar llibreries de\n",
    "codi externes que tenen noms molt llargs, d'aquesta manera aconseguim un nom alternatiu o pseudònim.\n",
    "\n",
    "S'usa de la següent manera:"
   ],
   "metadata": {
    "collapsed": false,
    "pycharm": {
     "name": "#%% md\n"
    }
   }
  },
  {
   "cell_type": "code",
   "execution_count": 20,
   "outputs": [
    {
     "name": "stdout",
     "output_type": "stream",
     "text": [
      "Una variable de mostra\n"
     ]
    }
   ],
   "source": [
    "import extern as mod_ext\n",
    "\n",
    "print(mod_ext.estring)\n"
   ],
   "metadata": {
    "collapsed": false,
    "pycharm": {
     "name": "#%%\n"
    }
   }
  },
  {
   "cell_type": "markdown",
   "source": [
    "### Execució d'un modul com un _script_\n",
    "\n",
    "El fitxer `extern` que hem usat com a font de codi pel nostre programa principal bàsicament és un fitxer `Python` que\n",
    "pot ser executat com qualsevol altra programa. El fitxer que hem usat fins ara no té gaire interès, ja que només\n",
    "defineix una variable de tipus _string_ i una funció. Ara en feim un altre que a més de definir una variable i un\n",
    "subprograma dugui a terme una tasca concreta anomenat `feina_externa`:"
   ],
   "metadata": {
    "collapsed": false,
    "pycharm": {
     "name": "#%% md\n"
    }
   }
  },
  {
   "cell_type": "code",
   "execution_count": 15,
   "outputs": [
    {
     "name": "stdout",
     "output_type": "stream",
     "text": [
      "La lletra e es una vocal\n"
     ]
    }
   ],
   "source": [
    "def es_vocal(lletra):\n",
    "\n",
    "    return lletra == 'a' or lletra == 'e' or lletra == 'i' or lletra == 'o' or lletra == 'u'\n",
    "\n",
    "ll = 'e'\n",
    "\n",
    "# Anem a mirar si ll és una vocal\n",
    "\n",
    "esvocal = es_vocal(ll)\n",
    "\n",
    "if esvocal:\n",
    "    print(\"La lletra \" + ll + \" és una vocal\")\n",
    "else:\n",
    "    print(\"La lletra \" + ll + \" no és una vocal\")"
   ],
   "metadata": {
    "collapsed": false,
    "pycharm": {
     "name": "#%%\n"
    }
   }
  },
  {
   "cell_type": "markdown",
   "source": [
    "Si executam aquest fragment de codi el que obtindrem és un missatge per pantalla que indica que **La lletra e és una\n",
    "vocal**. Malauradament si importam aquest mòdul veurem que el codi s'executa automàticament:"
   ],
   "metadata": {
    "collapsed": false,
    "pycharm": {
     "name": "#%% md\n"
    }
   }
  },
  {
   "cell_type": "code",
   "execution_count": 26,
   "outputs": [
    {
     "name": "stdout",
     "output_type": "stream",
     "text": [
      "True\n"
     ]
    }
   ],
   "source": [
    "import feina_externa"
   ],
   "metadata": {
    "collapsed": false,
    "pycharm": {
     "name": "#%%\n"
    }
   }
  },
  {
   "cell_type": "markdown",
   "source": [
    "Probablement aquest comportament no sigui el que esperem ni el que necessitem. No és habitual que un mòdul generi\n",
    "un missatge a la consola quan s’importa. En `Python` tenim la capacitat de distingir quan es carrega el fitxer com a\n",
    "mòdul i quan s’executa com a programa independent.\n",
    "\n",
    "Quan executam un fitxer com un programa, `Python` li assigna el nom _main_. El següent codi permet\n",
    "distingir les dues casuístiques:"
   ],
   "metadata": {
    "collapsed": false,
    "pycharm": {
     "name": "#%% md\n"
    }
   }
  },
  {
   "cell_type": "code",
   "execution_count": null,
   "outputs": [],
   "source": [
    "if (__name__ == \"__main__\"):"
   ],
   "metadata": {
    "collapsed": false,
    "pycharm": {
     "name": "#%%\n"
    }
   }
  },
  {
   "cell_type": "markdown",
   "source": [
    "Afegint aquesta línia el nostre fitxer `feina_externa` queda de la següent manera:"
   ],
   "metadata": {
    "collapsed": false,
    "pycharm": {
     "name": "#%% md\n"
    }
   }
  },
  {
   "cell_type": "code",
   "execution_count": null,
   "outputs": [],
   "source": [
    "def es_vocal(lletra):\n",
    "\n",
    "    return lletra == 'a' or lletra == 'e' or lletra == 'i' or lletra == 'o' or lletra == 'u'\n",
    "\n",
    "if __name__ == \"__main__\":\n",
    "    ll = 'e'\n",
    "\n",
    "    # Anem a mirar si ll és una vocal\n",
    "    esvocal = es_vocal(ll)\n",
    "\n",
    "    if esvocal:\n",
    "        print(\"La lletra \" + ll + \" es una vocal\")\n",
    "    else:\n",
    "        print(\"La lletra \" + ll + \" no es una vocal\")\n"
   ],
   "metadata": {
    "collapsed": false,
    "pycharm": {
     "name": "#%%\n"
    }
   }
  },
  {
   "cell_type": "markdown",
   "source": [
    "Normalment ens interessa usar aquesta característica per poder avaluar el codi que tenim en un mòdul sense necessitat\n",
    "d'importar-lo en un altre fitxer, d'això se'n diuen **tests unitaris** i és una bona pràctica de programació."
   ],
   "metadata": {
    "collapsed": false,
    "pycharm": {
     "name": "#%% md\n"
    }
   }
  }
 ],
 "metadata": {
  "kernelspec": {
   "display_name": "Python 3",
   "language": "python",
   "name": "python3"
  },
  "language_info": {
   "codemirror_mode": {
    "name": "ipython",
    "version": 2
   },
   "file_extension": ".py",
   "mimetype": "text/x-python",
   "name": "python",
   "nbconvert_exporter": "python",
   "pygments_lexer": "ipython2",
   "version": "2.7.6"
  }
 },
 "nbformat": 4,
 "nbformat_minor": 0
}