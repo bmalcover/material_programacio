{
 "cells": [
  {
   "cell_type": "markdown",
   "metadata": {
    "colab_type": "text",
    "id": "hnF0MPsqZjWb",
    "slideshow": {
     "slide_type": "slide"
    }
   },
   "source": [
    "# Tema 3\n",
    "\n",
    "## Esquemes algorísmics bàsics\n",
    "\n",
    "Un cop que disposem de les eines bàsiques necessàries per poder construir els nostres programes, és el moment\n",
    "d’estudiar algorismes que ens permetin solucionar programes amb major complexitat. Durant tot el curs veurem que, a\n",
    "partir d'aquestes composicions bàsiques, aplicades a seqüències de dades, es poden resoldre una ampla varietat de\n",
    "problemes.\n",
    "\n",
    "Començarem l'aplicació d'aquests esquemes algorísmics resolent problemes de seqüències de lletres i de nombres, ja que\n",
    "ens permeten aplicar els conceptes teòrics en i són senzills de programar"
   ]
  },
  {
   "cell_type": "markdown",
   "metadata": {
    "colab_type": "text",
    "id": "cT3Ev4Y8ZsdZ",
    "slideshow": {
     "slide_type": "slide"
    }
   },
   "source": [
    "### El concepte de seqüència.\n",
    "\n",
    "S’enten com a seqüència aquell conjunt d'elements que verifiquen les següents condicions:\n",
    "\n",
    "- Existeix un primer element al qual es pot accedir.\n",
    "- Tots els elements tenen un successor excepte el darrer i amb aquesta relació es pot accedir a la resta\n",
    "d'elements que formen la seqüència.\n",
    "- Existeix un darrer element i aquest element es pot identificar.\n",
    "\n",
    "La primera passa a realitzar quant volem resoldre un problema mitjançant algorismes que tracten seqüències és\n",
    "identificar quin és l'element a tractar: lletres, nombres, booleans, paraules, vídeos... No sempre serà una tasca\n",
    "senzilla i dependrà de l'experiència i de la capacitat d'anàlisi del programador adoptar la solució més convenient."
   ]
  },
  {
   "cell_type": "markdown",
   "metadata": {
    "colab_type": "text",
    "id": "E7EKdNG6aY0b",
    "slideshow": {
     "slide_type": "subslide"
    }
   },
   "source": [
    "El tractament de les seqüències es realitza començant pel primer element i accedint a la resta amb la relació de\n",
    "successió.\n",
    "\n",
    "El concepte de tractament seqüencial ens duu a definir algorismes bàsics:\n",
    "\n",
    "- **Esquema de recorregut** on es pretén realitzar un determinat tractament per a cada un dels elements de la\n",
    "seqüència. En aquest cas el tractament s'acabarà en detectar el final de la seqüència.\n",
    "- **Esquema de cerca** on es pretén verificar l'existència d'un element dins la seqüència. Aquest\n",
    "tractament pot acabar quan l'element s'ha trobat o quan s'ha arribat al final de la seqüència per què l'element no hi era."
   ]
  },
  {
   "cell_type": "markdown",
   "metadata": {
    "colab_type": "text",
    "id": "NtqB-WcAZi5G",
    "slideshow": {
     "slide_type": "slide"
    }
   },
   "source": [
    "### Recorregut\n",
    "\n",
    "El recorregut és el mecanisme que permet aplicar una determinada operació a tots els elements que formen part\n",
    "d’una seqüència. És important tenir present sempre el fet que el tractament s’haurà de començar amb el primer element\n",
    "i no acabarà fins que s’hagi aplicat al darrer element de la seqüència.  En determinades circumstàncies és possible\n",
    "que pel cas del darrer element s’hagi de fer un tractament específic.\n"
   ]
  },
  {
   "cell_type": "markdown",
   "metadata": {
    "slideshow": {
     "slide_type": "subslide"
    }
   },
   "source": [
    "Aquest és l'esquema d'un recorregut:\n",
    "\n",
    "```\n",
    "inicialització \n",
    "situar-se sobre el primer element \n",
    "\n",
    "mentre no final:\n",
    "        tractar element actual    \n",
    "        situar-se sobre el següent element\n",
    "\n",
    "tractament de final \n",
    "donar resultat\n",
    "```\n"
   ]
  },
  {
   "cell_type": "markdown",
   "metadata": {
    "slideshow": {
     "slide_type": "slide"
    }
   },
   "source": [
    "\n",
    "Un exemple d'un recorregut és un programa que compta el nombre d'aparicions de la lletra ```a``` en un text. Cal\n",
    "considerar que el caràcter '.' s'utilitzarà com a darrer element per indicar el final de la seqüència (durant la\n",
    "primera part del curs)\n"
   ]
  },
  {
   "cell_type": "code",
   "execution_count": null,
   "metadata": {
    "colab": {},
    "colab_type": "code",
    "id": "LLPQsVCeX7c1",
    "slideshow": {
     "slide_type": "fragment"
    }
   },
   "outputs": [],
   "source": [
    "import sys\n",
    "print(\"Introdueix una seqüència de text acabada en punt.\")\n",
    "lletra = sys.stdin.read(1)\n",
    "nombre = 0\n",
    "while lletra != '.':\n",
    "    \n",
    "    if lletra == 'a':\n",
    "        nombre = nombre + 1\n",
    "        \n",
    "    lletra = sys.stdin.read(1)\n",
    "    \n",
    "print(\" Hi ha un total de \" + str(nombre) + \" lletres a en el texte.\")"
   ]
  },
  {
   "cell_type": "markdown",
   "metadata": {
    "colab_type": "text",
    "id": "hQeFxtRlg-d6",
    "slideshow": {
     "slide_type": "slide"
    }
   },
   "source": [
    "## Esquema general de cerca\n",
    "\n",
    "L’esquema general de cerca és molt semblant al de recorregut, es basa com ell en un bucle per anar tractant els\n",
    "successius elements de la seqüència. La principal diferència es troba precisament en la condició d’acabament del\n",
    "bucle. L’esquema general de cerca consisteix en les següents operacions:\n",
    "\n",
    "```\n",
    "inicialització \n",
    "situar-se sobre el primer element \n",
    "mentre no final i no trobat:\n",
    "        tractar element actual\n",
    "        situar-se sobre el següent element\n",
    "\n",
    "tractament de final \n",
    "actuar segons els resultats\n",
    "```"
   ]
  },
  {
   "cell_type": "markdown",
   "metadata": {
    "slideshow": {
     "slide_type": "slide"
    }
   },
   "source": [
    "A continuació veurem un exemple d'un programa que realitza una cerca. Realitzarem un programa que cerqui la primera\n",
    "vocal d'una seqüència de text acabada en punt."
   ]
  },
  {
   "cell_type": "code",
   "execution_count": null,
   "metadata": {
    "colab": {},
    "colab_type": "code",
    "id": "LyaCM5STZiWI",
    "slideshow": {
     "slide_type": "fragment"
    }
   },
   "outputs": [
    {
     "name": "stdout",
     "output_type": "stream",
     "text": [
      "Introdueix un texte acabat en punt\n"
     ]
    }
   ],
   "source": [
    "import sys\n",
    "\n",
    "print(\"Introdueix un text acabat en punt\")\n",
    "lletra = sys.stdin.read(1)\n",
    "\n",
    "while lletra != '.' and (lletra != 'a' and lletra != 'e' and lletra != 'i' and lletra != 'o' and lletra != 'u'):\n",
    "\n",
    "    lletra = sys.stdin.read(1)\n",
    "\n",
    "if lletra !='.':\n",
    "    print(\"La primera vocal es: \" + lletra)\n",
    "else:\n",
    "    print (\"No he trobat cap vocal\")"
   ]
  },
  {
   "cell_type": "markdown",
   "metadata": {
    "colab_type": "text",
    "id": "KaM6-tf1kaym",
    "slideshow": {
     "slide_type": "slide"
    }
   },
   "source": [
    "La condició de trobat és un poc llarga, realitzarem una segona versió del mateix programa fent ús d’una variable\n",
    "booleana per poder simplificar les condicions. Això provoca certs canvis en el nostre programa. El primer valor\n",
    "assignat  a la variable ```lletra``` és l'espai en blanc, això és degut a que l'avaluació del valor de la variable\n",
    "```lletra``` es dins el bucle i per tant necessitam assegurar que entrarem almanco una vegada dins aquest per saber\n",
    "si la primera lletra de la seqüència és vocal o no."
   ]
  },
  {
   "cell_type": "code",
   "execution_count": null,
   "metadata": {
    "colab": {},
    "colab_type": "code",
    "id": "QxC0OenDkiZj",
    "slideshow": {
     "slide_type": "fragment"
    }
   },
   "outputs": [],
   "source": [
    "import sys\n",
    "\n",
    "lletra = ' '\n",
    "trobat = False\n",
    "\n",
    "while lletra != '.' and not trobat:\n",
    "\n",
    "    lletra = sys.stdin.read(1)\n",
    "  \n",
    "    if lletra == 'a' or lletra == 'e' or lletra == 'i' or lletra == 'o' or lletra == 'u':\n",
    "        trobat = True\n",
    "    \n",
    "if trobat == True:\n",
    "    print(\"La primera vocal és: \" + lletra)\n",
    "else:  \n",
    "    print (\"No he trobat cap vocal\")"
   ]
  },
  {
   "cell_type": "markdown",
   "metadata": {
    "colab_type": "text",
    "id": "hrvWpHWZlH_j",
    "slideshow": {
     "slide_type": "slide"
    }
   },
   "source": [
    "Si ens aturem a fer una petita reflexió, podrem observar com els dos programes anteriors són dues implementacions\n",
    "diferents **del mateix algorisme**.\n",
    "\n",
    "Tant els recorreguts com les cerques són eines molt útils, és important saber com aplicar adequadament aquests dos\n",
    "esquemes.\n",
    "\n",
    "Al llarg dels següents capítols es plantegen nombrosos exemples on, a priori, l'aplicació de cerques i recorreguts\n",
    "pot parèixer estranya, però un examen detallat dels problemes revelarà que quasi sempre es pot interpretar el\n",
    "problema considerant que es tracta de manejar una seqüència d'elements d'un determinat tipus."
   ]
  }
 ],
 "metadata": {
  "celltoolbar": "Slideshow",
  "colab": {
   "include_colab_link": true,
   "name": "Tema 3.ipynb",
   "provenance": [],
   "version": "0.3.2"
  },
  "kernelspec": {
   "display_name": "Python 3",
   "language": "python",
   "name": "python3"
  },
  "language_info": {
   "codemirror_mode": {
    "name": "ipython",
    "version": 3
   },
   "file_extension": ".py",
   "mimetype": "text/x-python",
   "name": "python",
   "nbconvert_exporter": "python",
   "pygments_lexer": "ipython3",
   "version": "3.7.4"
  }
 },
 "nbformat": 4,
 "nbformat_minor": 1
}