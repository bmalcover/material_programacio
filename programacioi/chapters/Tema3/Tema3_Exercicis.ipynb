{
 "cells": [
  {
   "cell_type": "markdown",
   "metadata": {},
   "source": [
    "## Exercicis del Tema 3"
   ]
  },
  {
   "cell_type": "markdown",
   "metadata": {
    "collapsed": false,
    "jupyter": {
     "outputs_hidden": false
    }
   },
   "source": [
    "1.Donada una seqüència d'enters positius acabada amb el nombre -1, mostrar per pantalla quin és el valor mínim.\n",
    "\n",
    "2.Donada una seqüència de paraules acabades amb la paraula de longitud 0. Indica quantes tenen longitud parella i quantes tenen longitud senar. \n",
    "\n",
    "3.Implementar un programa que demani un nombre a l'usuari i compti el nombre de valors superiors a 10 que apareixen en una seqüència de nombres enters fins a trobar el nombre triat.\n",
    "\n",
    "4.Escriviu un programa que compti el nombre de parelles ascendents consecutives en una seqüència no buida d'enters positius acabada en 0.\n",
    "\n",
    "5.Fer un programa que mostri per pantalla la diferència màxima entre un element i el següent en una seqüència d'enters.\n",
    "\n",
    "6.Calcular la longitud de la seqüència més llarga de repeticions consecutives de la mateixa paraula.\n",
    "\n",
    "7.Esbrinar si una seqüència d'enters és ascendent.\n",
    "\n",
    "8.Implementar un programa que demani a l'usuari un número $i$ ens indiqui la successió de fibbonacci fins aquest nombre.\n",
    "Si l'usuari introdueix el número 6, el programa mostrarà: 1, 1, 2, 3, 5, 8. [Succesió de Fibonacci](https://ca.wikipedia.org/wiki/Successi%C3%B3_de_Fibonacci)\n",
    "\n",
    "9.Crear un petit joc on l'ordinador genera un nombre aleatori entre 0 i 9, l'usuari ha d'aconseguir endevinar en\n",
    " el menor nombre possible d'intents:\n",
    "```\n",
    "    Exemple:\n",
    "    He pensat un número del 0 al 9, a veure si l'endevines. 7\n",
    "    Incorrecte 4\n",
    "    Incorrecte 5\n",
    "    Incorrecte 6\n",
    "    Incorrecte 3\n",
    "    Incorrecte 1\n",
    "    Acertaste al 6 intento.\n",
    "```\n",
    "Per generar un nombre aleatori entre 0 i 9 hem de fer el següent:\n",
    "\n",
    "```\n",
    "import random\n",
    "aleatori = random.randint(0, 9)\n",
    "```\n",
    "\n",
    "10.Escriure un programa que rebi un nombre enter $n$ i lliuri com a resultat el nombre $n$ amb els seus dígits en l'ordre invers.\n",
    "\n",
    "11.Donat un nombre natural $n$, escriure SI si els seus dígits són creixents de esquerra a dreta o NO en cas contrari.\n",
    "\n",
    "12.Donada una seqüència d'enters no buida, dir quina és la longitud màxima de les seves planes. Una plana és una subseqüència del mateix element.\n",
    "\n",
    "13.Escriure un programa en el qual l’usuari introdueixi un nombre i el programa calculi una aproximació al nombre pi\n",
    "desenvolupant tants termes de la següent successió com el nombre introduït: $pi ≈ 4(1 - 1/3 + 1/5 - 1/7 ...)$.\n",
    "\n",
    "14.Realitza un programa que genera 50 nombres aleatoris amb valors entre el 0 i el 10 i ens mostra quantes vegades\n",
    "tenim 2 nombres consecutius que son iguals. També volem saber quins han estat aquests nombres.\n",
    "\n",
    "14b.Fes una variant del programa anterior que  mostra les vegades on el nombre previ és múltiple del nombre actual i\n",
    "quines són aquestes parelles.\n",
    "\n",
    "15.Els nombres primers bessons són aquelles parelles de nombres primers que difereixen en 2. És a dir, dos nombres $p$ i $q$\n",
    "(amb $p$ < $q$) són primers bessons si $q = p + 2$. Excepte pel cas del 2 i el 3. Quins són els primers bessons majors al\n",
    "valor 150? Solució: (179, 181) Quants primers bessons hi ha entre 100 i 1000? Solució: 27 Quins són?\n",
    "\n",
    "\n",
    "\n"
   ]
  },
  {
   "cell_type": "markdown",
   "metadata": {},
   "source": [
    "### Seqüències de seqüències\n",
    "\n",
    "1.Donades diverses seqüències d'enters (que no contenen el nombre 0), cadascuna acabada en zero, calcular el màxim de cada seqüència i la suma dels màxims.\n",
    "2.Donades diverses seqüències d'enters (que no contenen el nombre 0), cadascuna acabada en zero. Comprovar si alguna de les seqüències suma més de 50.\n",
    "\n",
    "3.Donades diverses seqüències d'enters (que no contenen el nombre 0). Indica quina és la primera seqüència que conté un número que acaba en 3. Indicau \"No n'hi ha\" si no n'apareix cap.\n",
    "\n",
    "4.Donades diverses seqüències d'enters (que no contenen el nombre 0). Compta quantes seqüències contenen un múltiple de 10. \n",
    "\n",
    "5.El 2520 és el nombre més petit que es pot dividir per cadascun dels nombres de l'1 al 10 sense cap tipus de reste. Quin és el nombre positiu més petit que es pot dividir sense reste per tots els nombres de l'1 al 20?\n",
    "\n",
    "6.En el rang (0, 2223). Quants nombres tenen almanco dues vegades seguides el nombre 2. Per exemple: 22, 221 ...\n",
    "\n",
    "7.Quants nombres de cinc dígits comencen per 4, acaben en 5 i les seves xifres sumen 18?\n",
    "\n",
    "8.Realitza un programa que genera 100 nombres aleatoris amb valors entre el 100 i el 1000. Ha de mostrar aquells que\n",
    "tenen les seves xifres en ordre estrictament decreixent.\n"
   ]
  }
 ],
 "metadata": {
  "kernelspec": {
   "display_name": "Python 3 (ipykernel)",
   "language": "python",
   "name": "python3"
  },
  "language_info": {
   "codemirror_mode": {
    "name": "ipython",
    "version": 3
   },
   "file_extension": ".py",
   "mimetype": "text/x-python",
   "name": "python",
   "nbconvert_exporter": "python",
   "pygments_lexer": "ipython3",
   "version": "3.11.11"
  }
 },
 "nbformat": 4,
 "nbformat_minor": 4
}
