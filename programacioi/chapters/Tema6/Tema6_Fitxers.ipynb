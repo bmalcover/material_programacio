{
 "cells": [
  {
   "cell_type": "markdown",
   "metadata": {
    "colab_type": "text",
    "id": "z_BOk870ipDb"
   },
   "source": [
    "# Tema 6\n",
    "\n",
    "## Fitxers\n",
    "\n",
    "Fins ara els nostres programes sempre han rebut la informació d'una única font: el teclat, a l'hora de generar\n",
    "la informació només la sabem mostrar per pantalla.\n",
    "\n",
    "Aquest fet ens suposa una limitació per al tipus de programes que podem construir, ja que la informació que produïm\n",
    "es perd cada cop que tornam a executar el programa o tancam l'ordinador.\n",
    "\n",
    "Podem superar aquestes problemàtiques si sabem fer ús de fitxers.\n",
    "\n",
    "\n",
    "## Que és un fitxer?\n",
    "\n",
    "Abans de poder treballar amb fitxers, és important entendre què són i com els sistemes operatius moderns gestionen\n",
    "alguns dels seus aspectes.\n",
    "\n",
    "Bàsicament, un fitxer és un conjunt contigu de bytes usats per emmagatzemar dades. Aquestes dades s'organitzen en un\n",
    "format específic i poden ser tan simples com una seqüència de text o tan complexes com l'executable d'un programa. Els\n",
    "fitxers es poden emmagatzemar en memòria secundària (disc dur) i per tant la informació que hi guardem perdura més\n",
    "enllà del temps que l'ordinador es troba encès.\n",
    "\n",
    "Els fitxers de la majoria de sistemes moderns es componen de tres parts:\n",
    "\n",
    "* **Capçalera**: metadades sobre el contingut del fitxer (nom de fitxer, organització interna, tipus, etc.)\n",
    "* **Dades**: contingut del fitxer escrit pel creador o editor.\n",
    "* **Final del fitxer** (EOF): caràcter especial que indica el final del fitxer, en el nostre cas aquest caràcter serà\n",
    " el caràcter buit \"\".\n",
    "\n"
   ]
  },
  {
   "cell_type": "markdown",
   "metadata": {
    "colab_type": "text",
    "id": "YFZJWpg2wZFg"
   },
   "source": [
    "## Localització (Path)\n",
    "\n",
    "Quan accedim a un fitxer del nostre sistema operatiu des d'un programa és necessari indicar quin camí hem de seguir\n",
    "de la localització on es troba programa fins a arribar al fitxer. El camí o *path* del fitxer es representa en el nostre\n",
    "programa amb un *string* a l'hora de construir un objecte de la classe fitxer. La localització d'un fitxer es\n",
    "divideix en tres parts principals:\n",
    "\n",
    "  * **Ruta de carpetes**: la ubicació de la carpeta al sistema de fitxers on les carpetes posteriors estan separades\n",
    "  per una barra inclinada `/`. Per accedir a carpetes anteriors usarem el símbol `..`.\n",
    "  * **Nom del fitxer**: el nom real del fitxer. Com a anècdota podem comentar que Windows no permetia noms iniciats\n",
    "  amb punt fins la seva versió 10, ja que era un nom reservat per a fitxers del mateix sistema.\n",
    "  * **Extensió**: el final del camí del fitxer marcat amb un símbol (.) ens serveix per indicar el tipus de fitxer.En\n",
    "   cap cas condiciona el seu contingut.\n",
    "  \n",
    "Els *paths* poden ser:\n",
    "  \n",
    "  * **Absoluts**: Respecte a l'arrel del sistema. El que coneixem com C: (Windows) o `/` (UNIX).\n",
    "  * **Relatius**: Respecte a la carpeta on estem situats.\n",
    "  \n",
    "<pre><span></span>/  ← arrel (C: en windows)\n",
    "│ \n",
    "├── joan/ \n",
    "│   │\n",
    "│   ├── to/ \n",
    "│   │   ├── main.py\n",
    "│   │   └── cats.txt\n",
    "│   │\n",
    "│   ├── main2.py\n",
    "│   │\n",
    "│   └── dogs.txt \n",
    "│\n",
    "└── animals.csv   </pre>"
   ]
  },
  {
   "cell_type": "markdown",
   "metadata": {},
   "source": [
    "Si ens trobem en la carpeta **to** i volem accedir al fitxer **cats.txt** ho farem amb els següents _strings_:\n",
    "\n",
    "    path_relatiu = \"cats.txt\"\n",
    "    path_absolut = \"/path/to/cats.txt\"\n",
    "\n",
    "Si ens trobem a la carpeta **path** i volem accedir al fitxer **cats.txt** ho farem amb els següents _strings_:\n",
    "\n",
    "    path_relatiu = \"to/cats.txt\"\n",
    "    path_absolut = \"/path/to/cats.txt\"\n",
    "\n",
    "Si ens trobem a la carpeta **to** i volem accedir al fitxer **dogs.txt** ho farem amb els següents _strings_:\n",
    "\n",
    "    path_relatiu = \"../dogs.txt\"\n",
    "    path_absolut = \"/path/dogs.txt\"\n"
   ]
  },
  {
   "cell_type": "markdown",
   "metadata": {
    "colab_type": "text",
    "id": "YO0BZLpV66I8"
   },
   "source": [
    "## Us de fitxers a Python\n",
    "\n",
    "Quan vulguem treballar amb un fitxer, el primer que hem de fer és obrir-lo. Això es fa invocant la funció integrada\n",
    "`open` que té un únic argument obligatori que és el camí (*path*) cap al fitxer. `open` **ens retorna un objecte de\n",
    "la classe** _file_.\n",
    "\n",
    "```\n",
    "fitxer = open(\"harry_potter.txt\")  # el fitxer harry_potter es a la mateixa carpeta que el fitxer amb el codi\n",
    "```\n",
    "\n",
    "Després d’obrir un fitxer, el següent que aprendrem és com tancar-lo. Ho podem fer amb la sentència `close`:\n",
    "\n",
    "```\n",
    "fitxer.close() # tancam el fitxer \n",
    "```\n",
    "\n",
    "**Advertència!!!** Hem d’assegurar-nos que un fitxer obert està tancat correctament.\n",
    "\n",
    "És important saber que tancar el fitxer és la nostra responsabilitat com a programadors. En la majoria dels casos, un\n",
    "cop finalitzat el programa o en el mètode en el qual s'ha obert el fitxer, aquest es tancarà. No obstant això, no hi\n",
    "ha cap garantia que això succeeixi i podem tenir ocupacions de memòria no desitjades.\n",
    "\n",
    "Assegurar-nos que el nostre codi es comporta d'una manera ben definida i no es dóna qualsevol comportament no\n",
    "desitjat és una bona pràctica de programació.\n",
    "\n",
    "Una de les maneres recomanades d'assegurar que un fitxer es tanca correctament és usant la següent estructura de codi:\n",
    "\n",
    "```\n",
    "with open('harry_potter.txt') as fitxer:\n",
    "    # Processament del fitxer\n",
    "```\n",
    "\n",
    "La sentència `with` s'encarrega de tancar el fitxer automàticament, fins i tot en casos d’error. És recomanable usar\n",
    "el bloc `with` sempre que sigui possible, ja que permet un codi més net i facilita el maneig de qualsevol error\n",
    "inesperat.\n",
    "\n",
    "\n",
    "## El mode d'un fitxer\n",
    "\n",
    "A l'hora d'obrir un fitxer també necessitarem usar el segon argument del mètode open: `mode`. Aquest argument és un\n",
    "_string_ que pot contenir diverses combinacions de caràcters per representar com volem obrir el fitxer. El valor per\n",
    "defecte és `r`, que representa obrir el fitxer en mode de només lectura, tal com hem fet a l'exemple anterior.\n",
    "\n",
    "\n",
    "<table class=\"table table-hover\">\n",
    "<thead>\n",
    "<tr>\n",
    "<th>Caracter</th>\n",
    "<th>Significat</th>\n",
    "</tr>\n",
    "</thead>\n",
    "<tbody>\n",
    "<tr>\n",
    "<td><code>'r'</code></td>\n",
    "<td>Obre per a lectura ( per defecte)</td>\n",
    "</tr>\n",
    "<tr>\n",
    "<td><code>'w'</code></td>\n",
    "<td>Obre per a escriptura, sobrescriu el que teniem abans</td>\n",
    "</tr>\n",
    "<tr>\n",
    "<td><code>'a'</code></td>\n",
    "<td>Obre el fitxer en mode escriptura i afegeix la informació al final</td>\n",
    "</tr>\n",
    "<tr>\n",
    "<td><code>'r+'</code></td>\n",
    "<td>Obre el fitxer en mode lectura i escriptura</td>\n",
    "</tr>\n",
    "</tbody>\n",
    "</table>\n",
    "\n"
   ]
  },
  {
   "cell_type": "markdown",
   "metadata": {
    "colab_type": "text",
    "id": "4fx0UQ6gE0-n"
   },
   "source": [
    "## Llegir i escriure en fitxers oberts\n",
    "\n",
    "Un cop obert un fitxer, hi podem llegir o escriure informació. Hi ha diversos mètodes de la classe fitxer que es\n",
    "poden usar per acomplir aquesta tasca:\n",
    "\n",
    "<table class=\"table table-hover\">\n",
    "<thead>\n",
    "<tr>\n",
    "<th>Mètode</th>\n",
    "<th>Funció</th>\n",
    "</tr>\n",
    "</thead>\n",
    "<tbody>\n",
    "<tr>\n",
    "<td><code>read(1)</code></td>\n",
    "<td>Llegeix des del fitxer en funció del nombre de bytes <code> size </code>. Si no es passa cap argument es llegirà tot el fitxer. **Nosaltres com feim amb el text de teclat, llegirem els fitxers caracter a caracter**.</td>\n",
    "</tr>\n",
    "<tr>\n",
    "<td><code>readline(size=-1)</code></td>\n",
    "<td> Llegeix com a màxim el nombre de <code> size </code> de caràcters de la línia. Si no es passa cap argument es llegirà tota la línia (o la resta de la línia).</td>\n",
    "</tr>\n",
    "<tr>\n",
    "<td><code>readlines()</code></td>\n",
    "<td> Llegeix les línies restants de l’objecte de fitxer i les retorna com a llista.</td>\n",
    "</tr>\n",
    "</tbody>\n",
    "</table>\n",
    "\n",
    "Ara ens centrarem en l’escriptura de fitxers. Igual que amb la lectura de fitxers, els objectes de fitxer tenen\n",
    "diversos mètodes útils per escriure en un fitxer:\n",
    "\n",
    "<table class=\"table table-hover\">\n",
    "<thead>\n",
    "<tr>\n",
    "<th>Mètode</th>\n",
    "<th>Funció</th>\n",
    "</tr>\n",
    "</thead>\n",
    "<tbody>\n",
    "<tr>\n",
    "<td><code>write(string)</code></td>\n",
    "<td>Escriu el string en el fitxer. **Ens hem d'ocupar de fer el salt de línia pel nostre compte.**</td>\n",
    "</tr>\n",
    "<tr>\n",
    "<td><code>writelines(seq)</code></td>\n",
    "<td>Això escriu la seqüència al fitxer. No s'afegeix cap finalització de línia a cada element de la seqüència. Depèn\n",
    "de nosaltres afegir les línies apropiades.</td>\n",
    "</tr>\n",
    "</tbody>\n",
    "</table>\n",
    "\n",
    "**Anem a veure alguns exemples**\n",
    "\n",
    "Lectura de tots els caràcters d'un fitxer.\n"
   ]
  },
  {
   "cell_type": "code",
   "execution_count": 15,
   "metadata": {
    "colab": {},
    "colab_type": "code",
    "id": "NhiY9i8X65r-"
   },
   "outputs": [
    {
     "name": "stdout",
     "output_type": "stream",
     "text": [
      "Juro solemnemente que esto es una travesura\n",
      "Me voy a la cama antes de que a alguno de los dos se os ocurra otra genial idea y acabemos muertos. O peor: expulsados\n",
      "Dobby no mata, solo mutila o hiere de gravedad\n",
      "Es Leviosa, no leviosa\n"
     ]
    }
   ],
   "source": [
    "with open(\"harry_potter.txt\", 'r') as harry:\n",
    "  \n",
    "  lletra = harry.read(1)\n",
    "  \n",
    "  while lletra != \"\": # Final de fitxer\n",
    "    \n",
    "    print(lletra, end=\"\")\n",
    "    lletra = harry.read(1)"
   ]
  },
  {
   "cell_type": "code",
   "execution_count": 16,
   "metadata": {},
   "outputs": [
    {
     "name": "stdout",
     "output_type": "stream",
     "text": [
      "Juro solemnemente que esto es una travesura\n",
      "-Me voy a la cama antes de que a alguno de los dos se os ocurra otra genial idea y acabemos muertos. O peor: expulsados\n",
      "-Dobby no mata, solo mutila o hiere de gravedad\n",
      "-Es Leviosa, no leviosa\n",
      "-"
     ]
    }
   ],
   "source": [
    "with open(\"harry_potter.txt\", 'r') as fitxer:\n",
    "  \n",
    " for linia in fitxer:\n",
    "        print(linia, end=\"-\")"
   ]
  },
  {
   "cell_type": "markdown",
   "metadata": {
    "colab_type": "text",
    "id": "FxPmI0b8_fjw"
   },
   "source": [
    "Anem a veure com escriure"
   ]
  },
  {
   "cell_type": "code",
   "execution_count": 0,
   "metadata": {
    "colab": {},
    "colab_type": "code",
    "id": "dlwmRd73_gT6"
   },
   "outputs": [],
   "source": [
    "text = [\"En\", \"un\" , \"agujero\" , \"en\" , \"el\" , \"suelo\" , \"habitaba\" , \"un\" , \"hobbit\"]\n",
    "\n",
    "with open(\"resultat.txt\", 'w') as res:\n",
    "  \n",
    "  for element in text:\n",
    "    res.write(element)\n",
    "    res.write(\"\\n\")  "
   ]
  }
 ],
 "metadata": {
  "colab": {
   "include_colab_link": true,
   "name": "Tema7_Fitxers.ipynb",
   "provenance": [],
   "version": "0.3.2"
  },
  "kernelspec": {
   "display_name": "Python 3",
   "language": "python",
   "name": "python3"
  },
  "language_info": {
   "codemirror_mode": {
    "name": "ipython",
    "version": 3
   },
   "file_extension": ".py",
   "mimetype": "text/x-python",
   "name": "python",
   "nbconvert_exporter": "python",
   "pygments_lexer": "ipython3",
   "version": "3.7.4"
  }
 },
 "nbformat": 4,
 "nbformat_minor": 1
}