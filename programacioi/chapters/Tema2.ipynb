{
 "cells": [
  {
   "cell_type": "markdown",
   "metadata": {
    "colab_type": "text",
    "id": "o14mTyL1N9O9",
    "slideshow": {
     "slide_type": "slide"
    }
   },
   "source": [
    "### Dades\n",
    "\n",
    "Les dades que utilitzen els programes es guarden dins la memòria principal i les identificam mitjançant el\n",
    "que anomenem com a **variables**. Com el nom indica, una variable pot canviar de contingut al llarg de l'execució d'un\n",
    "programa.\n",
    "\n",
    "Tenen tres característiques que les defineixen completament: el seu nom, el seu tipus i el seu valor.\n",
    "\n",
    "#### Nom\n",
    "\n",
    "És una combinació de caràcters, dígits i el signe de subratllat que permeten identificar una variable de\n",
    "manera única. Tot nom ha de començar per un caràcter.\n",
    "\n",
    "* **Exemples de noms vàlids**: x, y, pi, var2, var_2, preu_de_cost\n",
    "\n",
    "* **Exemples de noms invàlids**: 14_de_maig , 35a , +set, capitol 14\n",
    "\n",
    "És molt recomanable que les variables comencin amb minúscula."
   ]
  },
  {
   "cell_type": "markdown",
   "metadata": {
    "colab_type": "text",
    "id": "3QZN1Z8NV9XM",
    "slideshow": {
     "slide_type": "subslide"
    }
   },
   "source": [
    "Hem de pensar que hi ha una sèrie de noms que `Python` utilitza com a part del llenguatge i per tant no són vàlids\n",
    "com a nom de variable ja que ens poden donar resultats inesperats. A continuació els podeu veure:\n",
    "\n",
    "\n",
    "<div class=\"table-responsive\">\n",
    "<table class=\"table table-hover\">\n",
    "\n",
    "<thead>\n",
    "<tr>\n",
    "<th colspan=\"4\">Paraules clau en Python</th>\n",
    "</tr>\n",
    "</thead>\n",
    "<tbody>\n",
    "<tr>\n",
    "<td><code>False</code></td>\n",
    "<td><code>def</code></td>\n",
    "<td><code>if</code></td>\n",
    "<td><code>raise</code></td>\n",
    "</tr>\n",
    "<tr>\n",
    "<td><code>None</code></td>\n",
    "<td><code>del</code></td>\n",
    "<td><code>import</code></td>\n",
    "<td><code>return</code></td>\n",
    "</tr>\n",
    "<tr>\n",
    "<td><code>True</code></td>\n",
    "<td><code>elif</code></td>\n",
    "<td><code>in</code></td>\n",
    "<td><code>try</code></td>\n",
    "</tr>\n",
    "<tr>\n",
    "<td><code>and</code></td>\n",
    "<td><code>else</code></td>\n",
    "<td><code>is</code></td>\n",
    "<td><code>while</code></td>\n",
    "</tr>\n",
    "<tr>\n",
    "<td><code>as</code></td>\n",
    "<td><code>except</code></td>\n",
    "<td><code>lambda</code></td>\n",
    "<td><code>with</code></td>\n",
    "</tr>\n",
    "<tr>\n",
    "<td><code>assert</code></td>\n",
    "<td><code>finally</code></td>\n",
    "<td><code>nonlocal</code></td>\n",
    "<td><code>yield</code></td>\n",
    "</tr>\n",
    "<tr>\n",
    "<td><code>break</code></td>\n",
    "<td><code>for</code></td>\n",
    "<td><code>not</code></td>\n",
    "<td></td>\n",
    "</tr>\n",
    "<tr>\n",
    "<td><code>class</code></td>\n",
    "<td><code>from</code></td>\n",
    "<td><code>or</code></td>\n",
    "<td></td>\n",
    "</tr>\n",
    "<tr>\n",
    "<td><code>continue</code></td>\n",
    "<td><code>global</code></td>\n",
    "<td><code>pass</code></td>\n",
    "<td></td>\n",
    "</tr>\n",
    "</tbody>\n",
    " </table>\n"
   ]
  },
  {
   "cell_type": "markdown",
   "metadata": {
    "colab_type": "text",
    "id": "QYmFrq7ESkUi",
    "slideshow": {
     "slide_type": "slide"
    }
   },
   "source": [
    "#### Tipus\n",
    "\n",
    "El tipus defineix la natura dels valors que pot tenir una variable. També limita les operacions que es poden fer amb\n",
    "elles.\n",
    "\n",
    "Els tipus de dades elementals són: caràcter, enter, real i booleà:\n",
    "\n",
    "**Caràcter** permet representar informació referent a caràcters simples i a seqüències de caràcters, es representen\n",
    "entre comes, ja siguin simples ' o dobles \". Al món de la programació coneixem una seqüència de caràcters amb el nom de\n",
    "_String_ (_str_). `Python` considera els caràcters com strings de longitud 1.\n",
    "\n",
    "- Exemples de caràcters: 'a', 'b', '\\n'.\n",
    "- Exemples de _String_: '3', \"llonguet\", \"Josep\".\n",
    "\n",
    "**Enter** (*int*) permet representar valors numèrics tant positius com negatius.\n",
    "\n",
    "- Exemples d'enters: -33, 14, 28 o 8545445.\n",
    "\n",
    "**Real** (*float*): aquest tipus designa un nombre de coma flotant. Aquests valors s'especifiquen amb un punt\n",
    "decimal. Opcionalment, es pot afegir el caràcter e o E seguit d’un enter positiu o negatiu per especificar la notació\n",
    "científica.\n",
    "\n",
    "- Exemples de nombres reals: -1.2, 3.1416, -0.26989, 4. , 3e7 (3000000.0), 1.6e-4 (0.00016).\n",
    "\n",
    "**Complex**: valors numèrics en format complex. S'especifiquen com <part real>+<part imaginaria>j.\n",
    "\n",
    "- Exemples de nombres complexos: 2+3j, 33+0j.\n",
    "\n",
    "**Booleà**: valors lògics. Poden tenir únicament dos valors: veritat (*True*) o fals (*False*).\n",
    "\n",
    "El valor màxim i mínim que podem guardar en una variable de tipus enter o real no estan definits, com passa en altres\n",
    "llenguatges, depenen de la màquina on executam el codi.\n",
    "\n",
    "\n",
    "```{admonition} Curiositat\n",
    "Per la definició pròpia de l'estàndard internacional _IEEE 754_ la representació dels nombres reals es fa amb 64\n",
    "bits, això implica que el major nombre real que podem representar és $$1.8$$x$$10^{308}$$, si volem emprar un nombre\n",
    "més gran `Python` ho indicarà com _inf_.\n",
    "```\n",
    "\n",
    "[//]: <>(Referencia (https://realpython.com/python-data-types/#integers))\n"
   ]
  },
  {
   "cell_type": "markdown",
   "metadata": {
    "colab_type": "text",
    "id": "_gJ5wONJT3FD",
    "slideshow": {
     "slide_type": "slide"
    }
   },
   "source": [
    "### Declaracions de variables\n",
    "\n",
    "Durant el transcurs del programa, el programador ha d'especificar cada una de les variables que necessitarà.\n",
    "\n",
    "L'especificació d'aquestes variables s'anomena una declaració. \n",
    "\n",
    "Normalment, aquestes declaracions es fan a l'inici del programa. Com a mínim, s'ha de definir el nom i s’ha d’assignar\n",
    " un valor inicial. Si no es vol (o no és pot) assignar un valor, a `Python` tenim el valor nul:  **None**.\n",
    "\n",
    "A continuació teniu la primera mostra de codi, declaram una variable de cada un dels diferents tipus de dades que hem\n",
    "descrit en la secció anterior:"
   ]
  },
  {
   "cell_type": "code",
   "execution_count": 7,
   "metadata": {
    "slideshow": {
     "slide_type": "subslide"
    }
   },
   "outputs": [
    {
     "name": "stdout",
     "output_type": "stream",
     "text": [
      "<class 'str'>\n",
      "<class 'float'>\n",
      "<class 'float'>\n",
      "<class 'str'>\n"
     ]
    }
   ],
   "source": [
    "caracter = 'a'\n",
    "estring = \"Hola mon\"\n",
    "enter =  123\n",
    "decimal = 1.23\n",
    "complex = 1+23j\n",
    "logic = False\n",
    "\n",
    "#Aquest codi ara no es rellevant per a nosaltres.\n",
    "print(type(caracter))\n",
    "print(type(estring))\n",
    "print(type(enter))\n",
    "print(type(decimal))\n"
   ]
  },
  {
   "cell_type": "markdown",
   "metadata": {
    "colab_type": "text",
    "id": "6S0DUax1URt3",
    "slideshow": {
     "slide_type": "slide"
    }
   },
   "source": [
    "### Operadors i operands\n",
    "\n",
    "A `Python`, els **operadors** són símbols especials que indiquen que cal fer algun tipus de computació. Els valors\n",
    "amb els quals actua un operador s'anomenen **operands**.\n",
    "\n",
    "Ho entendrem amb un petit exemple:\n",
    "```\n",
    "x = 10.0\n",
    "y = 5\n",
    "resultat = x + y\n",
    "```\n",
    "En aquest cas, l'operador **+** ens permet sumar els operands `x` i `y` junts i guardar el resultat en la variable\n",
    "del mateix nom. Hem de destacar que en aquest codi hem necessitat definir tres variables diferents.\n",
    "\n",
    "Un operand pot ser una variable o un literal. Definim els **literals** en un programa com la idea d’expressar un\n",
    "valor que no canvia en el codi font, aquests son d'un dels diferents tipus de dades que hem descrit\n",
    "anteriorment.\n",
    "\n",
    "A continuació tenim un altre fragment de codi en el qual usam altres operadors i literals de tipus enter:\n",
    "```\n",
    "a = 10\n",
    "b = 20\n",
    "x = 45\n",
    "r = (a + b - 5) + (x + 10 + 20)\n",
    "```"
   ]
  },
  {
   "cell_type": "markdown",
   "metadata": {
    "colab_type": "text",
    "id": "1hT4qF0g68Bb",
    "slideshow": {
     "slide_type": "subslide"
    }
   },
   "source": [
    "Una seqüència d'operands i operadors, com a + b - 5, s'anomena **expressió**. `Python` admet molts operadors\n",
    "diferents per combinar operands de diferents tipus, això ens permetrà crear expressions diferents per\n",
    "solventar els diferents problemes que sen's presentin."
   ]
  },
  {
   "cell_type": "markdown",
   "metadata": {
    "colab_type": "text",
    "id": "xAOOjalo7Q9a",
    "slideshow": {
     "slide_type": "slide"
    }
   },
   "source": [
    "\n",
    "#### Operadors aritmètics\n",
    "\n",
    "La taula següent llista els operadors aritmètics compatibles amb Python:\n",
    "\n",
    "<div class=\"table-responsive\">\n",
    "<table class=\"table table-hover\">\n",
    "<thead>\n",
    "<tr>\n",
    "<th>Operador</th>\n",
    "<th>Exemple</th>\n",
    "<th>Definició</th>\n",
    "<th>Resultat</th>\n",
    "</tr>\n",
    "</thead>\n",
    "<tbody>\n",
    "<tr>\n",
    "<td><code>+</code>&nbsp;(unari)</td>\n",
    "<td><code>+a</code></td>\n",
    "<td><strong>Unari Positiu</strong></td>\n",
    "<td><code>a</code> Realment no fa res. Existeix per complementar la negació unària.</td>\n",
    "</tr>\n",
    "<tr>\n",
    "<td><code>+</code>&nbsp;(binari)</td>\n",
    "<td><code>a + b</code></td>\n",
    "<td><strong>Suma</strong></td>\n",
    "<td>Suma <code>a</code> i <code>b</code></td>\n",
    "</tr>\n",
    "<tr>\n",
    "<td><code>-</code>&nbsp;(unari)</td>\n",
    "<td><code>-a</code></td>\n",
    "<td><strong>Negació unària </strong></td>\n",
    "<td>El mateix valor que <code>a</code> però amb el signe oposat</td>\n",
    "</tr>\n",
    "<tr>\n",
    "<td><code>-</code>&nbsp;(binari)</td>\n",
    "<td><code>a - b</code></td>\n",
    "<td><strong>Resta</strong></td>\n",
    "<td>Resultat de restar <code>b</code>  a l'operand <code>a</code></td>\n",
    "</tr>\n",
    "<tr>\n",
    "<td><code> * </code></td>\n",
    "<td><code>a * b</code></td>\n",
    "<td><strong>Multiplicació</strong></td>\n",
    "<td>Producte de  <code>a</code> i <code>b</code></td>\n",
    "</tr>\n",
    "<tr>\n",
    "<td><code>/</code></td>\n",
    "<td><code>a / b</code></td>\n",
    "<td><strong>Divisió</strong></td>\n",
    "<td>Quocient de <code>a</code> dividit per <code>b</code>.<br> El resultat sempré és del tipus float <code>float</code>.</td>\n",
    "</tr>\n",
    "<tr>\n",
    "<td><code>%</code></td>\n",
    "<td><code>a % b</code></td>\n",
    "<td><strong>Mòdul</strong></td>\n",
    "<td>Reste de <code>a</code> dividit per  <code>b</code></td>\n",
    "</tr>\n",
    "<tr>\n",
    "<td><code>//</code></td>\n",
    "<td><code>a // b</code></td>\n",
    "<td><strong>Divisió sencera</strong> </td>\n",
    "<td>Quocient de dividir <code>a</code> entre <code>b</code>, arrodonit al següent número sencer més petit</td>\n",
    "</tr>\n",
    "<tr>\n",
    "<td><code> **</code></td>\n",
    "<td><code>a ** b</code></td>\n",
    "<td><strong>Exponent</strong></td>\n",
    "<td><code>a</code> elevat a  <code>b</code></td>\n",
    "</tr>\n",
    "</tbody>\n",
    "</table>\n",
    "\n",
    "Aquí teniu alguns exemples del seu ús:"
   ]
  },
  {
   "cell_type": "code",
   "execution_count": 4,
   "metadata": {},
   "outputs": [
    {
     "data": {
      "text/plain": "1.5"
     },
     "execution_count": 4,
     "metadata": {},
     "output_type": "execute_result"
    }
   ],
   "source": [
    "\n",
    "divisio = 3 / 2\n",
    "divisio"
   ]
  },
  {
   "cell_type": "code",
   "execution_count": 3,
   "outputs": [
    {
     "data": {
      "text/plain": "1"
     },
     "execution_count": 3,
     "metadata": {},
     "output_type": "execute_result"
    }
   ],
   "source": [
    "divisio_sencera = 3 // 2\n",
    "divisio_sencera"
   ],
   "metadata": {
    "collapsed": false,
    "pycharm": {
     "name": "#%%\n"
    }
   }
  },
  {
   "cell_type": "markdown",
   "metadata": {
    "colab_type": "text",
    "id": "mIyp79mW9S0B",
    "slideshow": {
     "slide_type": "slide"
    }
   },
   "source": [
    "#### Operadors de comparació\n",
    "Els operadors de comparació s’utilitzen normalment en contextos _booleans_ com els que ens serveixen per controlar el\n",
    "flux del programa, com veurem més endavant. El resultat d'usar un operador de comparació sempre és del tipus _booleà_.\n",
    "\n",
    "<div class=\"table-responsive\">\n",
    "<table class=\"table table-hover\">\n",
    "<thead>\n",
    "<tr>\n",
    "<th>Operador</th>\n",
    "<th>Exemple</th>\n",
    "<th>Definició</th>\n",
    "<th>Resultat</th>\n",
    "</tr>\n",
    "</thead>\n",
    "<tbody>\n",
    "<tr>\n",
    "<td><code>==</code></td>\n",
    "<td><code>a == b</code></td>\n",
    "<td><strong>Igual</strong></td>\n",
    "<td><code>True</code> si el valor de  <code>a</code> és igual al valor de <code>b</code><br><code>False</code> en cas contrari</td>\n",
    "</tr>\n",
    "<tr>\n",
    "<td><code>!=</code></td>\n",
    "<td><code>a != b</code></td>\n",
    "<td><strong>Diferent</strong></td>\n",
    "<td><code>True</code> si el valor de <code>a</code> és diferent a <code>b</code><br><code>False</code> en cas contrari</td>\n",
    "</tr>\n",
    "<tr>\n",
    "<td><code>&lt;</code></td>\n",
    "<td><code>a &lt; b</code></td>\n",
    "<td><strong>Menor</strong></td>\n",
    "<td><code>True</code> si el valor de <code>a</code> és menor a <code>b</code><br><code> False</code> en cas contrari</td>\n",
    "</tr>\n",
    "<tr>\n",
    "<td><code>&lt;=</code></td>\n",
    "<td><code>a &lt;= b</code></td>\n",
    "<td><strong>Menor o igual a </strong></td>\n",
    "<td><code>True</code> si el valor de <code>a</code>és menor o igual a <code>b</code><br><code>False</code> en cas contrari</td>\n",
    "</tr>\n",
    "<tr>\n",
    "<td><code>&gt;</code></td>\n",
    "<td><code>a &gt; b</code></td>\n",
    "<td><strong>Major</strong></td>\n",
    "<td><code>True</code> si el valor de <code>a</code> és major a <code>b</code><br><code>False</code> en cas contrari</td>\n",
    "</tr>\n",
    "<tr>\n",
    "<td><code>&gt;=</code></td>\n",
    "<td><code>a &gt;= b</code></td>\n",
    "<td><strong>Major o igual a</strong></td>\n",
    "<td><code>True</code> si el valor de <code>a</code> iés major o igual a <code>b</code><br><code>False</code> en cas contrari</td>\n",
    "</tr>\n",
    "</tbody>\n",
    "</table>\n",
    "</div>\n",
    "\n",
    "```{admonition} Curiositat\n",
    "El valor emmagatzemat internament per a una variable en coma flotant pot no ser el que un pensaria que seria. Per\n",
    "aquest motiu, és poc pràctic comparar variables del tipus coma flotant amb l'operador d'igualtat exacta  `==`.\n",
    "```\n",
    "\n",
    "Aquí teniu alguns exemples del seu ús:"
   ]
  },
  {
   "cell_type": "code",
   "execution_count": 6,
   "outputs": [
    {
     "data": {
      "text/plain": "False"
     },
     "execution_count": 6,
     "metadata": {},
     "output_type": "execute_result"
    }
   ],
   "source": [
    "x = 4\n",
    "y = 5\n",
    "comparacio_1 = x > y\n",
    "comparacio_1"
   ],
   "metadata": {
    "collapsed": false,
    "pycharm": {
     "name": "#%%\n"
    }
   }
  },
  {
   "cell_type": "code",
   "execution_count": 7,
   "outputs": [
    {
     "data": {
      "text/plain": "True"
     },
     "execution_count": 7,
     "metadata": {},
     "output_type": "execute_result"
    }
   ],
   "source": [
    "lletra_a = 'a'\n",
    "lletra_b = 'b'\n",
    "\n",
    "comparacio_2 = lletra_a <= lletra_b\n",
    "comparacio_2\n"
   ],
   "metadata": {
    "collapsed": false,
    "pycharm": {
     "name": "#%%\n"
    }
   }
  },
  {
   "cell_type": "code",
   "execution_count": 8,
   "outputs": [
    {
     "data": {
      "text/plain": "True"
     },
     "execution_count": 8,
     "metadata": {},
     "output_type": "execute_result"
    }
   ],
   "source": [
    "lletra_a = 'a'\n",
    "lletra_b = 'a'\n",
    "\n",
    "comparacio_3 = lletra_a == lletra_b\n",
    "comparacio_2"
   ],
   "metadata": {
    "collapsed": false,
    "pycharm": {
     "name": "#%%\n"
    }
   }
  },
  {
   "cell_type": "markdown",
   "metadata": {
    "colab_type": "text",
    "id": "YlJBrldmJHSH",
    "slideshow": {
     "slide_type": "slide"
    }
   },
   "source": [
    "#### Operadors lògics\n",
    "\n",
    "Els operadors lògics _not_ , *or* i _and_ modifiquen i uneixen expressions avaluades en un context booleà i ens\n",
    "permeten crear condicions més complexes.\n",
    "\n",
    "\n",
    "**Expressions lògiques que inclouen operands booleans**\n",
    "\n",
    "Com heu vist, algunes expressions de `Python` són, en realitat, de tipus booleà. És a dir, són iguals a un dels\n",
    "valors `Python` `True` or `False`.\n",
    "\n",
    "Per exemple:"
   ]
  },
  {
   "cell_type": "markdown",
   "metadata": {
    "colab_type": "text",
    "id": "7ZLUCGl8VTFx",
    "slideshow": {
     "slide_type": "subslide"
    }
   },
   "source": [
    "A continuació teniu la taula d'operadors:\n",
    "\n",
    "<div class=\"table-responsive\">\n",
    "<table class=\"table table-hover\">\n",
    "<tr>\n",
    "<th>Operador</th>\n",
    "<th>Exemple</th>\n",
    "<th>Significat</th>\n",
    "</tr>\n",
    "</thead>\n",
    "<tbody>\n",
    "<tr>\n",
    "<td><code>not</code></td>\n",
    "<td><code>not x</code></td>\n",
    "<td><code>True</code> si <code>x</code> és <code>False</code><br><code>False</code> si <code>x</code> és <code>True</code></td>\n",
    "</tr>\n",
    "<tr>\n",
    "<td><code>or</code></td>\n",
    "<td><code>x or y</code></td>\n",
    "<td><code>True</code> si <code>x</code> ò <code>y</code> és  <code>True</code><br><code>False</code> en cas contrari</td>\n",
    "</tr>\n",
    "<tr>\n",
    "<td><code>and</code></td>\n",
    "<td><code>x and y</code></td>\n",
    "<td><code>True</code> si <code>x</code> i  <code>y</code> són <code>True</code><br><code>False</code> en cas contrari </td>\n",
    "</tr>\n",
    "</tbody>\n",
    "</table>\n",
    "\n",
    "Per veure el seu ús, però sobretot el resultat de l'aplicació d'aquests operadors en variables del tipus booleà, a\n",
    "continuació teniu un conjunt d'exemples de la seva aplicació:"
   ]
  },
  {
   "cell_type": "code",
   "execution_count": null,
   "outputs": [],
   "source": [
    "vertader = True\n",
    "fals = False"
   ],
   "metadata": {
    "collapsed": false,
    "pycharm": {
     "name": "#%%\n"
    }
   }
  },
  {
   "cell_type": "code",
   "execution_count": null,
   "outputs": [],
   "source": [
    "operador_not = not vertader\n",
    "operador_not"
   ],
   "metadata": {
    "collapsed": false,
    "pycharm": {
     "name": "#%%\n"
    }
   }
  },
  {
   "cell_type": "code",
   "execution_count": null,
   "outputs": [],
   "source": [
    "operador_or = vertader or fals\n",
    "operador_or\n"
   ],
   "metadata": {
    "collapsed": false,
    "pycharm": {
     "name": "#%%\n"
    }
   }
  },
  {
   "cell_type": "code",
   "execution_count": null,
   "outputs": [],
   "source": [
    "operador_or = fals or fals\n",
    "operador_or"
   ],
   "metadata": {
    "collapsed": false,
    "pycharm": {
     "name": "#%%\n"
    }
   }
  },
  {
   "cell_type": "code",
   "execution_count": null,
   "outputs": [],
   "source": [
    "operador_and = vertader and fals\n",
    "operador_and"
   ],
   "metadata": {
    "collapsed": false,
    "pycharm": {
     "name": "#%%\n"
    }
   }
  },
  {
   "cell_type": "code",
   "execution_count": null,
   "outputs": [],
   "source": [
    "operador_and = vertader and vertader\n",
    "operador_and"
   ],
   "metadata": {
    "collapsed": false,
    "pycharm": {
     "name": "#%%\n"
    }
   }
  },
  {
   "cell_type": "markdown",
   "metadata": {
    "colab_type": "text",
    "id": "ao85rcLYdD7f",
    "slideshow": {
     "slide_type": "slide"
    }
   },
   "source": [
    "#### Operadors d'assignació augmentada\n",
    "\n",
    "Abans hem vist que un signe igual (=) s'utilitza per assignar un valor a una variable.\n",
    "\n",
    "És, per descomptat, perfectament viable que el valor de la dreta de l'assignació sigui una expressió que contingui\n",
    "altres variables. Si feim l'operació sobre una mateixa variable podem fer el següent:\n",
    "\n",
    "`x <op>= y`  és el mateix que fer  ` x = x <op> y`\n",
    "\n",
    "\n",
    "Es a dir:\n",
    "```\n",
    "x = 4\n",
    "y = 5\n",
    "\n",
    "x += y\n",
    "```\n",
    "És el mateix que fer:\n",
    "\n",
    "```\n",
    "x = x + y\n",
    "```"
   ]
  },
  {
   "cell_type": "markdown",
   "metadata": {
    "colab_type": "text",
    "id": "9lzzG0HpEGp2",
    "slideshow": {
     "slide_type": "slide"
    }
   },
   "source": [
    "### Comentaris en el codi\n",
    "\n",
    "En el món de la programació, un comentari és una explicació o anotació llegible pel programador en el codi font d’un\n",
    "programa d’ordinador. S'escriuen amb el propòsit de facilitar la comprensió del codi font per a futures lectures del\n",
    "mateix programador o per altres programadors, són ignorats pels intèrprets.\n",
    "\n",
    "Moltes vegades també usarem els comentaris per prevenir l'execució d'una part del codi quan volem avaluar el\n",
    "funcionament del nostre propi codi.\n",
    "\n",
    "A ```Python``` els comentaris s'expressen amb el símbol ```#```.  A continuació en veurem dos exemples del seu ús:\n",
    "```\n",
    "# Això és un comentari que m'ajuda a explicar el bloc de codi\n",
    "\n",
    "x = y +3 # Aquí també puc posar un comentari per descriure l'expressió\n",
    "```\n",
    "\n",
    "Es recomanable comentar el codi que realitzam, en particular aquelles parts més rellevants o que presenten\n",
    "certa dificultat."
   ]
  },
  {
   "cell_type": "markdown",
   "source": [
    "### Entrada / Sortida d'informació\n",
    "\n",
    "Un programa necesita poder rebre i mostrar informació de l'/ al usuari.\n",
    "\n",
    "#### Entrada\n",
    "Per poder proporcionar informació al programa, podem usar la funció `input`, sempre ens tornarà l'string corresponent a la informació que l'usuari ens proporciona."
   ],
   "metadata": {
    "collapsed": false
   }
  },
  {
   "cell_type": "code",
   "execution_count": 37,
   "metadata": {
    "colab": {},
    "colab_type": "code",
    "id": "kwwaCjz9E1bR",
    "slideshow": {
     "slide_type": "subslide"
    }
   },
   "outputs": [
    {
     "name": "stdout",
     "output_type": "stream",
     "text": [
      "biel\n"
     ]
    },
    {
     "data": {
      "text/plain": [
       "'biel'"
      ]
     },
     "execution_count": 37,
     "metadata": {},
     "output_type": "execute_result"
    }
   ],
   "source": [
    "nombre = input()\n",
    "nombre"
   ]
  },
  {
   "cell_type": "markdown",
   "metadata": {
    "colab_type": "text",
    "id": "MRtPt1erFF5u",
    "slideshow": {
     "slide_type": "slide"
    }
   },
   "source": [
    "Si volem llegir un sencer o un float haurem de realitzar una transformació explícita (*casting*)"
   ]
  },
  {
   "cell_type": "code",
   "execution_count": 40,
   "metadata": {
    "colab": {},
    "colab_type": "code",
    "id": "WMH-Pgk3E-PE",
    "slideshow": {
     "slide_type": "subslide"
    }
   },
   "outputs": [
    {
     "name": "stdout",
     "output_type": "stream",
     "text": [
      "Escriu un entera\n"
     ]
    },
    {
     "ename": "ValueError",
     "evalue": "invalid literal for int() with base 10: 'a'",
     "output_type": "error",
     "traceback": [
      "\u001B[1;31m---------------------------------------------------------------------------\u001B[0m",
      "\u001B[1;31mValueError\u001B[0m                                Traceback (most recent call last)",
      "\u001B[1;32m<ipython-input-40-ceb3be4e838d>\u001B[0m in \u001B[0;36m<module>\u001B[1;34m\u001B[0m\n\u001B[1;32m----> 1\u001B[1;33m \u001B[0menter\u001B[0m \u001B[1;33m=\u001B[0m \u001B[0mint\u001B[0m\u001B[1;33m(\u001B[0m\u001B[0minput\u001B[0m\u001B[1;33m(\u001B[0m\u001B[1;34m\"Escriu un enter\"\u001B[0m\u001B[1;33m)\u001B[0m\u001B[1;33m)\u001B[0m\u001B[1;33m\u001B[0m\u001B[1;33m\u001B[0m\u001B[0m\n\u001B[0m\u001B[0;32m      2\u001B[0m \u001B[0menter\u001B[0m\u001B[1;33m\u001B[0m\u001B[1;33m\u001B[0m\u001B[0m\n\u001B[0;32m      3\u001B[0m \u001B[1;33m\u001B[0m\u001B[0m\n\u001B[0;32m      4\u001B[0m \u001B[0mprint\u001B[0m\u001B[1;33m(\u001B[0m\u001B[0mtype\u001B[0m\u001B[1;33m(\u001B[0m\u001B[0menter\u001B[0m\u001B[1;33m)\u001B[0m\u001B[1;33m)\u001B[0m\u001B[1;33m\u001B[0m\u001B[1;33m\u001B[0m\u001B[0m\n",
      "\u001B[1;31mValueError\u001B[0m: invalid literal for int() with base 10: 'a'"
     ]
    }
   ],
   "source": [
    "enter = int(input(\"Escriu un enter\"))\n",
    "enter\n",
    "\n",
    "print(type(enter))"
   ]
  },
  {
   "cell_type": "code",
   "execution_count": 41,
   "metadata": {
    "colab": {},
    "colab_type": "code",
    "id": "4yV9HSM3GCKw",
    "slideshow": {
     "slide_type": "subslide"
    }
   },
   "outputs": [
    {
     "name": "stdout",
     "output_type": "stream",
     "text": [
      "Escriu un decimal: 3\n",
      "<class 'float'>\n"
     ]
    }
   ],
   "source": [
    "decimal = float(input(\"Escriu un decimal: \"))\n",
    "decimal\n",
    "print(type(decimal))"
   ]
  },
  {
   "cell_type": "markdown",
   "metadata": {
    "colab_type": "text",
    "id": "yKHGE-aPfnPQ",
    "slideshow": {
     "slide_type": "slide"
    }
   },
   "source": [
    "Si volem llegir un únic caràcter ho podem fer de la següent manera:"
   ]
  },
  {
   "cell_type": "code",
   "execution_count": null,
   "metadata": {
    "colab": {},
    "colab_type": "code",
    "id": "zdOOeL2cf_1U",
    "slideshow": {
     "slide_type": "subslide"
    }
   },
   "outputs": [],
   "source": [
    "import sys\n",
    "\n",
    "car = sys.stdin.read(1)\n",
    "car"
   ]
  },
  {
   "cell_type": "markdown",
   "metadata": {
    "colab_type": "text",
    "id": "3Gz46PWWGRtj",
    "slideshow": {
     "slide_type": "slide"
    }
   },
   "source": [
    "#### Sortida\n",
    "\n",
    "Per poder mostar informació per pantalla, farem servir la funció `print`. Aquesta funció pot mostrar qualsevol text\n",
    "(*string*) separat entre comes.\n",
    "\n",
    "\n",
    "A continuació teniu diversos exemples:"
   ]
  },
  {
   "cell_type": "code",
   "execution_count": 45,
   "metadata": {
    "colab": {},
    "colab_type": "code",
    "id": "H4vuloNBHDcV",
    "slideshow": {
     "slide_type": "subslide"
    }
   },
   "outputs": [
    {
     "name": "stdout",
     "output_type": "stream",
     "text": [
      "Esto es el un texto\n",
      "Esto es un texto  concatenado con otro\n",
      "Esto es un texto a b\n",
      "Texto concatenado con un numero A\n"
     ]
    }
   ],
   "source": [
    "print(\"Hola mon!\")\n",
    "\n",
    "\n",
    "print(\"Aixo es un text\" + \" el qual concatenam amb un altre text\")\n",
    "\n",
    "a = 'a' + \" \" + 'b'\n",
    "\n",
    "print(\"També ho podem fer així\" + a)\n",
    "\n",
    "num = 3\n",
    "\n",
    "print(\"Text concatenat amb un nombre \" + str(num))\n",
    "\n",
    "print('Si vull posar cometes dobles en el text (\") puc delimitar el string amb cometes simples')\n",
    "print(\"'Si vull posar cometes simples en el text (') puc delimitar el string amb cometes dobles\")"
   ]
  }
 ],
 "metadata": {
  "celltoolbar": "Slideshow",
  "colab": {
   "collapsed_sections": [],
   "name": "Tema2",
   "provenance": [],
   "version": "0.3.2"
  },
  "kernelspec": {
   "display_name": "Python 3",
   "language": "python",
   "name": "python3"
  },
  "language_info": {
   "codemirror_mode": {
    "name": "ipython",
    "version": 3
   },
   "file_extension": ".py",
   "mimetype": "text/x-python",
   "name": "python",
   "nbconvert_exporter": "python",
   "pygments_lexer": "ipython3",
   "version": "3.7.4"
  }
 },
 "nbformat": 4,
 "nbformat_minor": 1
}