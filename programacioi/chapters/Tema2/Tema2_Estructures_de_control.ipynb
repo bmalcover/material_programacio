{
 "cells": [
  {
   "cell_type": "markdown",
   "metadata": {
    "colab_type": "text",
    "id": "BADOB7_PdyRq",
    "slideshow": {
     "slide_type": "slide"
    }
   },
   "source": [
    "## Composició d'instruccions\n",
    "\n",
    "Normalment un programa consta de més d'una instrucció, necessita executar una sèrie d'afirmacions repetitivament o\n",
    "triar entre conjunts alternatius d'instruccions a l'hora d'executar-se.\n",
    "\n",
    "Aquí és on entren en joc les estructures de control. Una estructura de control dirigeix l'ordre d'execució de les\n",
    "declaracions d'un programa. Totes les estructures de control tenen un únic punt d'entrada i un únic punt de sortida.\n",
    "Això és una de les coses que permet que la programació es regeixi pels principis de la programació estructurada. Els\n",
    "programes estructurats estan formats per estructures simples organitzades de forma jeràrquica que controlen el flux\n",
    "d'execució del programa.\n",
    "\n",
    "Tenim tres esquemes de composició:\n",
    "\n",
    "- **Seqüencial**\n",
    "- **Condicional o alternatiu**\n",
    "- **Repetitiva o iterativa**"
   ]
  },
  {
   "cell_type": "markdown",
   "metadata": {
    "slideshow": {
     "slide_type": "slide"
    }
   },
   "source": [
    "### Seqüencial\n",
    "\n",
    "Amb els coneixements de programació que tenim de les seccions anteriors podem crear expressions usant variables o\n",
    "literals i relacionat-los mitjançant els diferents operadors. A més podem intuir que un programa no és limitarà a una\n",
    "sola expressió sino que per resoldre problemes una mica complexes en necessitarem un conjunt més o manco gran.\n",
    "\n",
    "El nostre primer programa que permet resoldre eqüacions de primer grau té el següent codi:\n",
    "\n",
    "```\n",
    "print(\"Programa per resoldre una eqüació de primer grau, de la forma ax + b =  0\")  # ax + b =  0\n",
    "\n",
    "# Obtenim informació de l'usuari\n",
    "a = int(input(\" Escriu el valor a: \"))\n",
    "\n",
    "b = int(input(\" ara escriu el valor de b: \"))\n",
    "\n",
    "# Expresio\n",
    "x = -b / a\n",
    "\n",
    "# Resultat\n",
    "print (\" El resultat és: \" + str(x))\n",
    "```"
   ]
  },
  {
   "cell_type": "markdown",
   "metadata": {
    "pycharm": {
     "name": "#%% md\n"
    }
   },
   "source": [
    "Si analitzem aquest programa podem observar com l'execució del codi que hem desenvolupat ha de seguir un\n",
    "ordre seqüencial estricte per tenir el resultat correcte. És necessari que l'intèrpret de Python executi les\n",
    "instruccions en l'ordre en el qual estan escrites, de dalt a baix i sense saltar-ne cap. Aquest és un clar exemple\n",
    "d'un esquema de composició seqüencial.\n"
   ]
  },
  {
   "cell_type": "markdown",
   "metadata": {
    "colab_type": "text",
    "id": "vJi1QV41ffqn",
    "slideshow": {
     "slide_type": "slide"
    }
   },
   "source": [
    "### Condicional\n",
    "\n",
    "En el món real, hi ha molt de problemes on s'ha d'avaluar la informació disponible i a continuació triar entre diverses\n",
    "opcions basant-nos en el que observem. Aquest tipus de patrons no són reproduïbles amb l'esquema de composició\n",
    "iteratiu i per tant introduirem l'esquema de composició condicional.\n",
    "\n",
    "Aquest esquema respon a estructures del següent tipus:\n",
    "```\n",
    "si plou\n",
    "   llavors afago el paraigüa\n",
    "sino\n",
    "   llavors agafo la gorra\n",
    "```\n",
    "\n",
    "En un programa de `Python`, la instrucció `if` servei per prendre aquest tipus de decisions. Permet l'execució\n",
    "condicional d'una declaració o grup d'afirmacions basada en el valor d'una expressió.\n",
    "\n",
    "```\n",
    "if <expr>:\n",
    "    <statement>\n",
    "```\n",
    "\n",
    "En el codi que es mostra a dalt: ```<expr>``` és una expressió avaluada en context booleà i ```<statement>``` és una\n",
    "o un conjunt d'expressions de  `Python` vàlida, a més, **ha d'estar tabulada**.\n",
    "\n",
    "En el següent exemple usam la composició condicional per obtenir el valor absolut d'un nombre:"
   ]
  },
  {
   "cell_type": "code",
   "execution_count": null,
   "metadata": {},
   "outputs": [],
   "source": [
    "# Programa que calcula el valor absolut d'un nombre\n",
    "x = 12\n",
    "\n",
    "#Bloc condicional\n",
    "if x < 0:\n",
    "    print(\"Entram dins el bloc condicional\")\n",
    "    x = x * -1  # x*= -1 o també x = -x\n",
    "\n",
    "print(\"Som fora del bloc condicional\")\n",
    "# Donam resultats\n",
    "print(\"El valor absolut es: \" + str(x))\n"
   ]
  },
  {
   "cell_type": "code",
   "execution_count": null,
   "metadata": {
    "colab": {},
    "colab_type": "code",
    "hideCode": true,
    "id": "4RccK5rhigNj",
    "slideshow": {
     "slide_type": "fragment"
    }
   },
   "outputs": [],
   "source": [
    "x = -123  # int(input(\"Introdueix un nombre\"))\n",
    "\n",
    "if x < 0: # Si el nombre és negatiu\n",
    "    print(\"El programa passa per aquí perquè el nombre és negatiu\")\n",
    "    x = x * -1\n",
    "\n",
    "print(\"El valor absolut de x es: \" + str(x))"
   ]
  },
  {
   "cell_type": "markdown",
   "metadata": {
    "slideshow": {
     "slide_type": "slide"
    }
   },
   "source": [
    "#### Les clàusules `else` i `elsif`\n",
    "\n",
    "Ara que sabem com utilitzar una instrucció `if` per executar condicionalment una sola instrucció o un bloc de\n",
    "diverses afirmacions és hora d'esbrinar què més podem fer.\n",
    "\n",
    "Hi ha problemes en els quals volem avaluar una condició i prendre una ruta si és certa però també poder seguir una\n",
    "ruta alternativa si aquesta ho és. Això s'aconsegueix amb una clàusula `else`.\n",
    "\n",
    "Per exemple si volem fer un codi que ens digui si un nombre és positiu o negatiu ho podem fer de la següent manera:\n",
    "\n",
    "\n",
    "```\n",
    "x = int(input(\"Insereix un nombre: \"))\n",
    "\n",
    "if x > 0:\n",
    "    print(\"Avaluam el nombre\")  # Un bloc amb dues sentències de codi.\n",
    "    print(\"El nombre és positiu\")\n",
    "else:\n",
    "    print(\"El nombre és negatiu\")\n",
    "```"
   ]
  },
  {
   "cell_type": "markdown",
   "metadata": {
    "colab_type": "text",
    "id": "hLguq-hosBvn",
    "slideshow": {
     "slide_type": "slide"
    }
   },
   "source": [
    "Realment el codi de sobre no fa del tot bé la seva feina, ja que quan `x` pren el valor 0, el programa no\n",
    "contempla cap cas. Per a poder completar i corregir el notre programa, necessitam avaluar una condició més, ho podem\n",
    "fer amb la paraula reservada `elif`.\n",
    "\n",
    "```\n",
    "\n",
    "x = int(input(\"Insereix un nombre: \"))\n",
    "\n",
    "if x > 0:\n",
    "    print(\"Avaluam el nombre\")  # Un bloc amb dues sentències de codi.\n",
    "    print(\"El nombre és positiu\")\n",
    "\n",
    "elif x == 0: # Aqui contemplam que el nombre pugui ser 0\n",
    "\n",
    "    print(\"El nombre és zero\")\n",
    "\n",
    "else:\n",
    "# Aqui no necesitam una nova condicio, si el nombre no es positiu\n",
    "# ni zero, segur que es negatiu\n",
    "\n",
    "    print(\"El nombre és negatiu\")\n",
    "    \n",
    "print(\"Fins la propera vegada\")\n",
    "```"
   ]
  },
  {
   "cell_type": "markdown",
   "metadata": {
    "colab_type": "text",
    "id": "jehdyMaXk8Wy",
    "slideshow": {
     "slide_type": "slide"
    }
   },
   "source": [
    "En general podem fer tantes condicions com vulguem o necessitem:\n",
    "\n",
    "```\n",
    "if <expr>:\n",
    "    <statement(s)>\n",
    "elif <expr>:\n",
    "    <statement(s)>\n",
    "elif <expr>:\n",
    "    <statement(s)>\n",
    "    ...\n",
    "else:\n",
    "    <statement(s)>\n",
    "```"
   ]
  },
  {
   "cell_type": "markdown",
   "metadata": {
    "colab_type": "text",
    "id": "-tXfLswYl04L",
    "slideshow": {
     "slide_type": "slide"
    }
   },
   "source": [
    "### Composició iterativa\n",
    "\n",
    "\n",
    "Altres problemes demanden la repetició del mateix bloc de codi més d'una vegada. Pensem per exemple en el codi\n",
    "necessari per calcular una taula de multiplicar, bàsicament consisteix a repetir la mateixa expressió canviant un\n",
    "dels operands en cada repetició. L'estructura de control que implementa la composició iterativa  s'anomena bucle.\n",
    "\n",
    "En la programació, hi ha dos tipus d'iteracions, indefinides i definides:\n",
    "\n",
    "  - Amb iteració **indefinida**, la quantitat de vegades que s'executa el bucle no s'especifica explícitament. Al\n",
    "  contrari, el bloc designat s'executa repetidament sempre que es compleixi alguna condició lògica (_booleana_).\n",
    "  \n",
    "  - Amb una iteració **definida**, s'especifica explícitament el nombre de vegades que s'executarà el bloc designat\n",
    "    en el moment en què s'inicia el bucle.\n",
    "  "
   ]
  },
  {
   "cell_type": "markdown",
   "metadata": {
    "colab_type": "text",
    "id": "yG3V3TaMsOBX",
    "slideshow": {
     "slide_type": "slide"
    }
   },
   "source": [
    "\n",
    "#### El bucle  indefinit\n",
    "\n",
    "\n",
    "Per crear iteracions amb un nombre inicialment indefinit de repeticions usarem l'instrucció ```  while ```. En\n",
    "aquesta secció veurem com es fa servir aquesta  instrucció per construir programes que contenguin bucles.\n",
    "\n",
    "El format d'un ``` while ``` inicial i rudimentari es mostra a continuació:\n",
    "\n",
    "```\n",
    "while <expr>:\n",
    "    <statement(s)>\n",
    "```\n",
    "\n",
    "Quan es troba un bucle, l'expressió ` <expr> ` es valora per primera vegada en context booleà. Si el resultat és\n",
    "cert, llavors s'executa el cos del bucle. A continuació, `<expr> ` es valora de nou, i si encara és avaluada com a\n",
    "certa (`True`), el cos s'executa de nou. Aquest procés continua fins que ` <expr> ` es converteix en `False`, llavors\n",
    "l'execució del programa segueix amb la primera sentència més enllà del cos del bucle.\n",
    "\n",
    "Un exemple de programa que usa un bucle indefinit seria el següent, que ens permet fer un compte enrere partint del\n",
    "valor de la variable `n` fins arribar a 1:"
   ]
  },
  {
   "cell_type": "code",
   "execution_count": null,
   "metadata": {
    "colab": {},
    "colab_type": "code",
    "id": "xbKRf128kkNr",
    "slideshow": {
     "slide_type": "fragment"
    }
   },
   "outputs": [],
   "source": [
    "n = 5\n",
    "print(\"El valor inicial de la variable 'n' es: \" + str(5))\n",
    "while n > 0: # Que passa quant n = 0 ?\n",
    "\n",
    "    print(n)\n",
    "    n = n - 1\n",
    "\n",
    "print(\"Valor de n = \" + str(n))  \n",
    "print(\"Som fora del bucle\")\n",
    "\n"
   ]
  },
  {
   "cell_type": "markdown",
   "metadata": {
    "colab_type": "text",
    "id": "lFuUpaQevh9I",
    "slideshow": {
     "slide_type": "slide"
    }
   },
   "source": [
    "Un altre exemple de programa que usa bucles indefinits és el càlcul de les taules de multiplicació\n",
    "\n",
    "```\n",
    "print(\"Aquest és un programa pels alumnes de primaria\")\n",
    "taula = int(input(\"Quina taula de multiplicació vols que calculi ? \"))\n",
    "\n",
    "x = 0\n",
    "\n",
    "while x <= 10: # Esquema iteratiu indefinit\n",
    "    resultat = taula * x\n",
    "    print(str(taula) + \" x \" + str(x) + \" = \" + str(resultat))\n",
    "\n",
    "    x = x + 1 # incrementam la variable que controla el bucle\n",
    "\n",
    "print(\"Programa acabat\")\n",
    "```"
   ]
  },
  {
   "cell_type": "markdown",
   "metadata": {},
   "source": [
    "#### El bucle definit\n",
    "\n",
    "Aquest altre tipus de bucle és més controlat ja que no finalitza quan una condició es deixa de complir, sino que quan\n",
    "el definim també sabem quantes iteracions realitzarà. La instrucció usada en aquest cas és coneix amb el nom de `for` i\n",
    "l'explicarem a continuació.\n",
    "\n",
    "```\n",
    "for <var> in <iterable>:\n",
    "    <statement(s)>\n",
    "    \n",
    "   ```\n",
    "   \n",
    "`var` és la variable que usarem en el cos del bucle, no s'ha de definir amb anterioritat. `<iterable>` és una\n",
    "col·lecció d'objectes sobre la qual iterarem, per exemple, una llista o una tupla. El ` <statement\n",
    "(s)>` en el cos del bucle es denota amb indentació tal com hem explicat en els condicionals, totes les expressions\n",
    "que formen el ` <statement(s)>` s'executa(en) una vegada per cada element de l'`<iterable>.` La variable\n",
    "de bucle  `<var>` assumeix el valor del cada element de l`<iterable>`.\n",
    "\n",
    "\n",
    "**Ara per ara, deixarem les llistes i les tuples pel tema 5** i ens centrarem en un sol tipus de bucles `for`.\n",
    "\n",
    "\n",
    "Si volem iterar sobre un rang de valors, podem fer el següent:"
   ]
  },
  {
   "cell_type": "code",
   "execution_count": null,
   "metadata": {
    "colab": {},
    "colab_type": "code",
    "id": "EdmZaWSqvOUy",
    "slideshow": {
     "slide_type": "fragment"
    }
   },
   "outputs": [],
   "source": [
    "for i in (0,1,2,3,4,5):\n",
    "    s = i + 3\n",
    "    print(s)"
   ]
  },
  {
   "cell_type": "markdown",
   "metadata": {
    "colab_type": "text",
    "id": "4i5TIf9_xL0I",
    "slideshow": {
     "slide_type": "fragment"
    }
   },
   "source": [
    "Fixem-nos en la part de l'`<iterable>` definim els valor que la variable `i` prendrà al llarg del bucle.\n",
    "Si el rang de valors és molt gran, haver d'escriure tots els nombres es pot fer molt pesat. Per tant\n",
    "Python ens proporciona una manera més elegant de fer-ho.\n",
    "\n",
    "La funció `range(<final>)` retorna un iterable que produeix enters, entre 0 i `<final>`-1:"
   ]
  },
  {
   "cell_type": "code",
   "execution_count": 5,
   "metadata": {
    "colab": {},
    "colab_type": "code",
    "id": "GogRxqKAxjwl",
    "slideshow": {
     "slide_type": "fragment"
    }
   },
   "outputs": [
    {
     "name": "stdout",
     "output_type": "stream",
     "text": [
      "0\n",
      "1\n",
      "2\n",
      "3\n",
      "4\n",
      "5\n",
      "6\n",
      "7\n",
      "8\n",
      "9\n"
     ]
    }
   ],
   "source": [
    "for i in range(10):\n",
    "    print(i)"
   ]
  },
  {
   "cell_type": "markdown",
   "metadata": {
    "colab_type": "text",
    "id": "ZRx1nrFrxtv3",
    "slideshow": {
     "slide_type": "slide"
    }
   },
   "source": [
    "El `range(<inici>, <final>, <bot>`) retorna un iterable que produeix enters començant amb `<begin>`, fins `<end>`-1.\n",
    "Si s'especifica, `<bot>` indica el salt entre dos valors consecutius de la seqüència.\n",
    "\n",
    "Vegem els següents exemples:"
   ]
  },
  {
   "cell_type": "code",
   "execution_count": 1,
   "metadata": {
    "colab": {},
    "colab_type": "code",
    "id": "Av7s6VrZyAf9",
    "slideshow": {
     "slide_type": "fragment"
    }
   },
   "outputs": [
    {
     "data": {
      "text/plain": "[5, 6, 7, 8, 9]"
     },
     "execution_count": 1,
     "metadata": {},
     "output_type": "execute_result"
    }
   ],
   "source": [
    "# La paraula reservada list la veurem més endavant en el tema 5.\n",
    "list(range(5, 10, 1)) # el mateix que fer list(range(5, 10))"
   ]
  },
  {
   "cell_type": "code",
   "execution_count": 2,
   "metadata": {
    "colab": {},
    "colab_type": "code",
    "id": "irk2iEO0yNfP",
    "slideshow": {
     "slide_type": "fragment"
    }
   },
   "outputs": [
    {
     "data": {
      "text/plain": "[0, 10, 20, 30, 40, 50, 60, 70, 80, 90]"
     },
     "execution_count": 2,
     "metadata": {},
     "output_type": "execute_result"
    }
   ],
   "source": [
    "list(range(0, 100, 10))"
   ]
  },
  {
   "cell_type": "code",
   "execution_count": 3,
   "metadata": {
    "colab": {},
    "colab_type": "code",
    "id": "gF2-RCYyyBwb",
    "slideshow": {
     "slide_type": "fragment"
    }
   },
   "outputs": [
    {
     "data": {
      "text/plain": "[-5, -4, -3, -2, -1, 0, 1, 2, 3, 4]"
     },
     "execution_count": 3,
     "metadata": {},
     "output_type": "execute_result"
    }
   ],
   "source": [
    "list(range(-5, 5))"
   ]
  },
  {
   "cell_type": "code",
   "execution_count": 4,
   "metadata": {
    "colab": {},
    "colab_type": "code",
    "id": "0HPd3FBzyB5f",
    "pycharm": {
     "name": "#%%\n"
    },
    "slideshow": {
     "slide_type": "fragment"
    }
   },
   "outputs": [
    {
     "data": {
      "text/plain": "[5, 3, 1, -1, -3]"
     },
     "execution_count": 4,
     "metadata": {},
     "output_type": "execute_result"
    }
   ],
   "source": [
    "list(range(5, -5, -2))"
   ]
  },
  {
   "cell_type": "markdown",
   "metadata": {},
   "source": [
    "### Combinació d'estructures de control\n",
    "\n",
    "Encara que durant aquesta secció hem vist les diferents estructures de control del fluxe del programa per separat,\n",
    "molts dels nostres programes necessitaran la combinació d'aquests tres esquemes per tal de resoldre els problemes\n",
    "que s'ens presentaran.\n",
    "\n",
    "A continuació resoldrem dos problemes fent ús de les tres estructures de control descrites en el\n",
    "capítol:\n",
    "\n",
    "**Realitzar un programa que llegeixi dos nombres\n",
    "de teclat a i b, on _a_ <= _b_, i mostri a l'usuari el sumatori d'_a_ fins _b_ (ambdos inclosos)**\n",
    "\n",
    "```\n",
    "print(\"Calcul de la suma de l'interval a ,b\")\n",
    "\n",
    "num_a = int(input(\"Escriu a \"))\n",
    "num_b = int(input(\"Escriu b \"))\n",
    "\n",
    "sumatori = 0\n",
    "\n",
    "for i in range(num_a, num_b+1):\n",
    "    sumatori = sumatori + i\n",
    "    print(i, sumatori) # Mostram informació intermitja, això no és necessari per solventar el problema\n",
    "\n",
    "print(\"El resultat es: \" + str(sumatori))\n",
    "\n",
    "```"
   ]
  },
  {
   "cell_type": "markdown",
   "metadata": {
    "pycharm": {
     "name": "#%% md\n"
    }
   },
   "source": [
    "**Realitzar un programa que llegeix un nombre enter del teclat i calcula la part sencera del seu logaritme en base 2**\n",
    "\n",
    "```\n",
    "print(\"Introdueix un nombre enter per teclat i calcularé la part sencera del seu logaritme e¡en base 2\")\n",
    "\n",
    "num = int(input(\"Sobre quin valor vols que realitzi el càlcul? \"))\n",
    "\n",
    "calc = 0\n",
    "\n",
    "while 2**calc < num:\n",
    "    calc = calc + 1\n",
    "\n",
    "if 2**calc == num:\n",
    "    print(\"La part entera del log es: \" + str(calc))\n",
    "else:\n",
    "    calc = calc - 1\n",
    "    print(\"La part entera del log es: \" + str(calc))\n",
    "```"
   ]
  }
 ],
 "metadata": {
  "colab": {
   "collapsed_sections": [],
   "include_colab_link": true,
   "name": "Tema2_Estructures_de_control",
   "provenance": [],
   "version": "0.3.2"
  },
  "kernelspec": {
   "display_name": "Python 3",
   "language": "python",
   "name": "python3"
  },
  "language_info": {
   "codemirror_mode": {
    "name": "ipython",
    "version": 3
   },
   "file_extension": ".py",
   "mimetype": "text/x-python",
   "name": "python",
   "nbconvert_exporter": "python",
   "pygments_lexer": "ipython3",
   "version": "3.7.9"
  }
 },
 "nbformat": 4,
 "nbformat_minor": 1
}