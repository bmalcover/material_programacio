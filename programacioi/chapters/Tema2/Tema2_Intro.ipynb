{
 "cells": [
  {
   "cell_type": "markdown",
   "metadata": {},
   "source": [
    "# 2. Components del llenguatge\n",
    "\n",
    "## Introducció\n",
    "\n",
    "Un programa es pot definir com una seqüència d'**operacions** que s'han d'aplicar a un conjunt de **dades** en un **ordre** determinat per dur a terme una tasca específica en un computador.\n",
    "\n",
    "En aquest tema veurem els components més elementals del llenguatge `Python` que seran necessaris per poder crear un programa.\n",
    "\n",
    "En concret parlarem de:\n",
    "\n",
    "   - Els **tipus de dades** que podem tractar.\n",
    "   - **Quines operacions** es poden utilitzar amb les dades.\n",
    "   - **Mecanismes** que permetran controlar l'ordre d'execució de les operacions.\n",
    "\n",
    "A més de les peces més elementals que conformen els programes, en aquest tema també realitzarem una breu introducció als mètodes per aportar i obtenir informació d'un programa. El que es coneix com a **entrada/sortida**.\n",
    "\n",
    "La lectura i comprensió dels conceptes exposats en aquest segon capítol ens permetrà realitzar els nostres primers programes d'ordinador."
   ]
  }
 ],
 "metadata": {
  "kernelspec": {
   "display_name": "Python 3",
   "language": "python",
   "name": "python3"
  },
  "language_info": {
   "codemirror_mode": {
    "name": "ipython",
    "version": 3
   },
   "file_extension": ".py",
   "mimetype": "text/x-python",
   "name": "python",
   "nbconvert_exporter": "python",
   "pygments_lexer": "ipython3",
   "version": "3.7.3"
  }
 },
 "nbformat": 4,
 "nbformat_minor": 1
}
