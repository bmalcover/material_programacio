{
 "cells": [
  {
   "cell_type": "markdown",
   "metadata": {
    "colab_type": "text",
    "id": "Xge_LeDYwaUe",
    "slideshow": {
     "slide_type": "slide"
    }
   },
   "source": [
    "## Subprogrames i paràmetres\n",
    "\n",
    "La definició de subprogrames es realitza per motius de claredat i reusabilitat. Els subprogrames per sí mateixos són\n",
    "programes complets, amb les seves declaracions i les seves instruccions, però a més a més, tenen la propietat que es\n",
    "poden utilitzar dins d'altres programes.\n",
    "\n"
   ]
  },
  {
   "cell_type": "markdown",
   "metadata": {
    "slideshow": {
     "slide_type": "subslide"
    }
   },
   "source": [
    "Un subprograma es defineix per quatre aspectes:\n",
    "\n",
    "* El **nom** del subprograma: és la manera de poder identificar cada un dels subprogrames.\n",
    "* Els arguments o **paràmetres**: és informació addicional que es pot subministrar als subprogrames per que funcionin\n",
    " adequadament. Usualment s’indica com una llista tancada entre parèntesis.\n",
    "* El **tipus de valor resultat**: és el tipus d’informació que el subprograma pot subministrar com a resultat de la\n",
    "seva execució. *Quan un subprograma té un valor resultat se l’anomena funció, quan no és així se l’anomena\n",
    "procediment*. El valor que retorna el subprograma es genera amb la instrucció *return*. En el llenguatge *Python* no\n",
    "hem d'especificar quin és el tipus del valor resultat.\n",
    "* L’**àmbit** del subprograma: és el context des del qual es pot invocar al subprograma. Els valors que poden\n",
    "indicar-se són, en principi, dos: públic i privat.\n",
    "\n",
    "Cal notar que a `Python` tenim la paraula reservada `def` per determinar que un bloc de codi es correspon a un\n",
    "subprograma, ja sigui un procediment o una funció. L'esquema d'un subprograma és el següent:\n",
    "\n",
    "```\n",
    "def <nom>(<parametre_1>, <parametre_2>, ..., <parametre_n>):\n",
    "    <línies de codi>\n",
    "```\n",
    "\n",
    "El conjunt de línies de codi també és coneix amb el nom de _cos del subprograma_. Tal com el codi dins un bloc\n",
    "condicional o un bloc iteratiu el cos del subprograma ha d'estar identat.\n",
    "\n",
    "A continuació tenim un petit subprograma anomenat _salutacio_ que no rep cap argument i que serveix per imprimir el\n",
    "missatge _Hello World!_ per pantalla. Aquest subprograma no retorna cap valor"
   ]
  },
  {
   "cell_type": "code",
   "execution_count": 2,
   "metadata": {},
   "outputs": [],
   "source": [
    "def salutacio():\n",
    "    print(\"Hello World!\")"
   ]
  },
  {
   "cell_type": "markdown",
   "metadata": {
    "colab_type": "text",
    "id": "QeFW9f8mudlo",
    "slideshow": {
     "slide_type": "slide"
    }
   },
   "source": [
    "A la definició de les característiques dels subprogrames hem explicat que aquests poden ser parametritzats. El sentit\n",
    "d’utilitzar paràmetres és subministrar informació al subprograma de manera que aquest pugui realitzar la tasca per la\n",
    "qual ha estat dissenyat. El que es fa és indicar com una llista d’expressions separades per comes tota la informació\n",
    "que es consideren necessària pel seu correcte funcionament.\n",
    "\n",
    "El següent **procediment** anomenat ```missatge``` rep dos paràmetres anomenats ````a```` i ````b````, i mostra per\n",
    "pantalla el seu valor. Els paràmetres o arguments, s'expressen mitjançant una llista de noms separats per comes."
   ]
  },
  {
   "cell_type": "code",
   "execution_count": 3,
   "metadata": {
    "colab": {},
    "colab_type": "code",
    "id": "KiEMKD81v6eQ",
    "slideshow": {
     "slide_type": "fragment"
    }
   },
   "outputs": [],
   "source": [
    "def missatge(a, b):\n",
    "    print(\"El valor de a es: \" + str(a))\n",
    "    print(\"El valor de b es: \" + str(b))"
   ]
  },
  {
   "cell_type": "markdown",
   "metadata": {
    "colab_type": "text",
    "id": "d2UttpNnwE0n",
    "slideshow": {
     "slide_type": "slide"
    }
   },
   "source": [
    "Quan volem usar un subprograma hem de especificar tants de valors com paràmetres hi ha entre parèntesis, per altra\n",
    "banda també hem de tenir en compte l'ordre d'aquests paràmetres ja que poden tenir diferent significat o ser de\n",
    "diferent tipus.\n",
    "\n",
    "A continuació veurem com s'implementa una **funció** que transforma una quantitat de metres a centimetres. Aquesta\n",
    "funció que s'anomena ```m_a_cm``` rep un paràmetre anomenat ```m``` el qual esperam que contengui un nombre ja sigui\n",
    "enter o decimal. Aquesta funció usa el paràmetre en una expressió i posteriorment retorna el valor calculat."
   ]
  },
  {
   "cell_type": "code",
   "execution_count": 6,
   "metadata": {
    "colab": {},
    "colab_type": "code",
    "id": "KUsRV4z1wDjP",
    "slideshow": {
     "slide_type": "fragment"
    }
   },
   "outputs": [],
   "source": [
    "def m_a_cm(metres):\n",
    "\n",
    "    centimetres = metres * 100\n",
    "    return centimetres"
   ]
  },
  {
   "cell_type": "markdown",
   "metadata": {
    "colab_type": "text",
    "id": "RYFLXZGC_tnG",
    "slideshow": {
     "slide_type": "slide"
    }
   },
   "source": [
    "La paraula reservada `return` ens serveix per explicitar el valor que ha de tornar la funció.\n",
    "\n",
    "Vegem exemples d'ús dels procediments i les funcions definides anteriorment. És interessant fixar-se en com actuen\n",
    "els arguments dels subprogrames que hem definit."
   ]
  },
  {
   "cell_type": "code",
   "execution_count": 7,
   "metadata": {
    "colab": {
     "base_uri": "https://localhost:8080/",
     "height": 73
    },
    "colab_type": "code",
    "id": "3YjFc7hRAvaQ",
    "outputId": "b383a3cf-f7c6-4eeb-a567-747d111a4a58",
    "slideshow": {
     "slide_type": "fragment"
    }
   },
   "outputs": [
    {
     "name": "stdout",
     "output_type": "stream",
     "text": [
      "Hello World!\n",
      "Hello World!\n",
      "El valor de a es: 4\n",
      "El valor de b es: 3\n",
      "33 metres son 3300 cm\n"
     ]
    }
   ],
   "source": [
    "# Us d'un procediment múltiples cops\n",
    "salutacio()\n",
    "salutacio()\n",
    "\n",
    "# Els paràmetres tant poden ser literals com variables.\n",
    "missatge(4, 3)\n",
    "\n",
    "# La variable transformat recull el valor de la funció m_a_cm\n",
    "# podem usar aquest valor per altres tasques en el nostre programa\n",
    "m = 33\n",
    "transformat = m_a_cm(m)\n",
    "\n",
    "print(str(m) + \" metres son \" + str(transformat) + \" cm\")"
   ]
  },
  {
   "cell_type": "markdown",
   "metadata": {},
   "source": [
    "#### Valor de retorn dels procediments\n",
    "\n",
    "Com acabam de comentar el que diferència un procediment d'una funció és que aquesta segona té una clàusula\n",
    "```return``` que s'encarrega d'explicitar el valor que la funció ha de retornar. Tot i això que hem comentat a\n",
    "Python els procediments també tenen un valor de retorn, aquest és el valor especial ```None``` i és sempre el mateix.\n",
    "\n",
    "Vegem-ne un exemple il·lustratiu:"
   ]
  },
  {
   "cell_type": "code",
   "execution_count": 10,
   "outputs": [
    {
     "name": "stdout",
     "output_type": "stream",
     "text": [
      "Hem rebut el valor 33 hem sumat 3 unitats i ara tenim el valor 36\n",
      "El valor que retornen els procediments a Python es: None\n"
     ]
    }
   ],
   "source": [
    "# definim un procediment que rep un valor numèric, suma tres unitats\n",
    "# mostra el valor resultant per pantalla\n",
    "def suma_3(valor):\n",
    "\n",
    "    valor_mes_3 = valor + 3\n",
    "    print(\"Hem rebut el valor \" + str(valor) + \" hem sumat 3 unitats i ara tenim el valor \" + str(valor_mes_3))\n",
    "\n",
    "\n",
    "retorn = suma_3(33)\n",
    "\n",
    "print(\"El valor que retornen els procediments a Python es: \" + str(retorn))\n",
    "\n"
   ],
   "metadata": {
    "collapsed": false,
    "pycharm": {
     "name": "#%%\n"
    }
   }
  },
  {
   "cell_type": "markdown",
   "source": [
    "### Àmbit de les variables\n",
    "\n",
    "Així com hem definit l'àmbit dels subprogrames com el context des del qual es poden invocar. Anàlogament podem\n",
    "definir l'àmbit de les variables com el context en el qual es poden usar.\n",
    "\n",
    "#### Àmbit local\n",
    "Les variables declarades dins d'un subprograma, només poden ser utilitzades per ell, fora de l'àmbit del\n",
    "subprograma aquestes no són visibles, d'aquesta característica en diem que les variables tenen un **àmbit\n",
    "local**.\n",
    "\n",
    "Anem a veure un conjunt d'exemples il·lustratius on mostram dues variables amb el **mateix nom** en **àmbits\n",
    "diferents** i estudiarem com interactuen.\n",
    "\n",
    "En aquest primer cas, tenim dues variables amb el mateix nom (```variable_1```) en àmbits diferents. Una en l'àmbit\n",
    "local dins el subprograma ```exemple_1``` i una altra en l'àmbit global del programa principal:"
   ],
   "metadata": {
    "collapsed": false,
    "pycharm": {
     "name": "#%% md\n"
    }
   }
  },
  {
   "cell_type": "code",
   "execution_count": 12,
   "metadata": {},
   "outputs": [
    {
     "name": "stdout",
     "output_type": "stream",
     "text": [
      "El valor de la variable_1 dins el procediment prova es: 33\n",
      "El valor de la variable_1 al programa principal es: 0\n"
     ]
    }
   ],
   "source": [
    "# Declaram una funcio\n",
    "def exemple_1():\n",
    "    variable_1 = 33\n",
    "    \n",
    "    print(\"El valor de la variable_1 dins el procediment exemple_1 és: \" + str(variable_1))\n",
    "    return variable_1\n",
    "\n",
    "# Programa principal\n",
    "variable_1 = 0\n",
    "exemple_1()\n",
    "print(\"El valor de la variable_1 al programa principal és: \" + str(variable_1))"
   ]
  },
  {
   "cell_type": "markdown",
   "metadata": {},
   "source": [
    "Podem observar com el valor de la ```variable_1``` és diferent en ambdós ambits. El interpret de ```Python``` és\n",
    "capaç de diferenciar en quin àmbit treballa en cada moment i quin valor ha d'assingar a la ```variable_1``` en cada\n",
    "moment.\n",
    "\n",
    "A continuació disposarem d'un segon exemple on complicam una mica més la situació per veure com actuen els\n",
    "paràmetres. El que és interessant d'aquest troç de codi és entendre com els noms de les variables\n",
    "```primer_parametre``` i ```segon_parametre``` en el context del programa principal no condicionen els valors que els\n",
    " paràmetres ```primer_parametre``` i ```segon_parametre``` tendran dins el subprograma."
   ]
  },
  {
   "cell_type": "code",
   "execution_count": 14,
   "metadata": {},
   "outputs": [
    {
     "name": "stdout",
     "output_type": "stream",
     "text": [
      "Valor del primer_parametre dins la funció: 33\n",
      "Valor del segon_parametre dins la funció: 0\n",
      " \n",
      "Valor del primer_parametre al programa principal: 0\n",
      "Valor del segon_parametre al programa principal: 0\n"
     ]
    }
   ],
   "source": [
    "# Declaram un procediment amb paràmetres i modificam el valor del parametre a dins.\n",
    "\n",
    "def exemple_2(primer_parametre, segon_parametre):\n",
    "    \n",
    "    primer_parametre = primer_parametre + 33\n",
    "    print(\"Valor del primer_parametre dins la funció: \" + str(primer_parametre))\n",
    "    print(\"Valor del segon_parametre dins la funció: \" + str(segon_parametre))\n",
    "\n",
    "primer_parametre = 0\n",
    "segon_parametre = 0\n",
    "\n",
    "exemple_2(segon_parametre, primer_parametre)\n",
    "\n",
    "print(\" \")\n",
    "print(\"Valor del primer_parametre al programa principal: \" + str(primer_parametre))\n",
    "print(\"Valor del segon_parametre al programa principal: \" + str(segon_parametre))"
   ]
  },
  {
   "cell_type": "markdown",
   "source": [
    "El que succeeix en el codi anterior és el que anomenam *pas de paràmetres per valor* en el qual el valor de la\n",
    "variable en el programa principal es copiat en l'argument del subprograma. En el cas concret de l'exemple anterior la\n",
    "variable ```segon_parametre``` del programa principal copia el seu valor al paràmetre```primer_parametre``` del\n",
    "subprograma i de la mateixa manera succeeix amb la variable ```primer_parametre``` del programa principal i\n",
    "el paràmetre ```segon_parametre``` del procediemnt-\n",
    "\n",
    "En aquest darrer exemple tenim una funció anomenada ```exemple_3``` que rep un paràmetre, modificam el seu valor i el\n",
    "retornam. Amb aquest exemple evaluam l'efecte del pas de paràmetres i el retorn del seu valor per comprobar que\n",
    "allò que succeeix dins un subprograma queda restringit al seu àmbit i no té conseqüències en un àmbit exterior."
   ],
   "metadata": {
    "collapsed": false
   }
  },
  {
   "cell_type": "code",
   "execution_count": 9,
   "metadata": {},
   "outputs": [
    {
     "name": "stdout",
     "output_type": "stream",
     "text": [
      "Valor del parametre1 al programa principal: 0\n",
      "Valor del valor_resultant al programa principal: 33\n"
     ]
    }
   ],
   "source": [
    "# Declaram una funció amb paràmetres, modificam el valor del parametre a dins\n",
    "# retornam el resultat. \n",
    "\n",
    "def exemple_3(parametre1):\n",
    "    \n",
    "    parametre1 = parametre1 + 33\n",
    "    \n",
    "    return parametre1\n",
    "\n",
    "#Programa principal\n",
    "\n",
    "parametre1 = 0\n",
    "valor_resultant = exemple_3(parametre1)\n",
    "\n",
    "print(\"Valor del parametre1 al programa principal: \" + str(parametre1))\n",
    "print(\"Valor del valor_resultant al programa principal: \" + str(valor_resultant))"
   ]
  },
  {
   "cell_type": "markdown",
   "metadata": {},
   "source": [
    "En el tema següent veurem com aquest funcionament dels paràmetres pot ser diferent per alguns\n",
    "tipus de dades que anomenarem com a **tipus mutables**. L'altre tipus de pas de paràmetres que podrem usar es diu\n",
    "**pas de paràmetres per referència**\n",
    "\n",
    "#### Àmbit global\n",
    "\n",
    "L'ús de variables locals és la manera aconsellada de procedir en la gran majoria de programes, ja que facilita la\n",
    "comprensió del codi (només ens hem de preocupar d'entendre allò que hi ha dins el subprograma) i ens assegura que\n",
    "sempre que els paràmetres tinguin els mateixos valors, el subprograma sempre respondrà de la mateixa manera.\n",
    "\n",
    "Tot i això, en la programació orientada a procediments que és la que hem realitzat fins ara existeixen alguns casos en\n",
    "els quals ens interessa usar la mateixa variable en tot el programa, aquest fet és diu **variable d'àmbit global**.\n",
    "\n",
    "Per especificar dins un subprograma que una variable és d'àmbit global ho hem de fer mitjançant l'ús de la\n",
    "paraula reservada ```global``` abans de la definició de la variable.  **Aquesta pràctica no és recomanable en\n",
    "la majoria de situacions**, ja que pot dur a resultats inesperats en l'execució dels programes i ens dificulta la\n",
    "reutilització del codi. Quan utilitzam aquesta tècnica, ens hem d'assegurar que el problema no es pot resoldre amb\n",
    "variables locals."
   ]
  },
  {
   "cell_type": "code",
   "execution_count": 7,
   "metadata": {},
   "outputs": [
    {
     "name": "stdout",
     "output_type": "stream",
     "text": [
      "Valor de x abans de cridar al procediment: 3\n",
      "Valor de x despres de cridar al procediment: 36\n"
     ]
    }
   ],
   "source": [
    "def procediment_amb_variable_global(j):\n",
    "    global x # indicam que aquesta variable es la mateixa que la de la linia 8\n",
    "    x = x + j\n",
    "    \n",
    "\n",
    "x = 3\n",
    "print(\"Valor de x abans de cridar al procediment: \" + str(x))\n",
    "procediment_amb_variable_global(33)\n",
    "print(\"Valor de x despres de cridar al procediment: \" + str(x))"
   ]
  },
  {
   "cell_type": "markdown",
   "metadata": {},
   "source": [
    "Ens hem de fixar que aquest procediment no és pot usar en altre programa si no existeix una variable anomnenada\n",
    "````x``` amb tipus numèric en un àmbit extern.\n",
    "\n",
    "### Exercicis de repàs:\n",
    "\n",
    "A resoldre amb l'ús de subprogrames:\n",
    "\n",
    "1. Funció anomenada *es_primer* que retorna el valor ```True``` si el valor que rep per parametre és un nombre primer.\n",
    "\n",
    "2. Procediment anomenat *els_divisors_primers* que imprimeix els divisors que són primers del nombre que ha rebut per paràmetre.\n",
    "\n",
    "3. Programa que ens compta el nombre de vegades que apareix la parella 'la' en un texte acabat en ```enter```.\n",
    "\n",
    "\n"
   ]
  }
 ],
 "metadata": {
  "celltoolbar": "Slideshow",
  "colab": {
   "include_colab_link": true,
   "name": "Tema4",
   "provenance": [],
   "version": "0.3.2"
  },
  "kernelspec": {
   "display_name": "Python 3",
   "language": "python",
   "name": "python3"
  },
  "language_info": {
   "codemirror_mode": {
    "name": "ipython",
    "version": 3
   },
   "file_extension": ".py",
   "mimetype": "text/x-python",
   "name": "python",
   "nbconvert_exporter": "python",
   "pygments_lexer": "ipython3",
   "version": "3.7.4"
  }
 },
 "nbformat": 4,
 "nbformat_minor": 1
}