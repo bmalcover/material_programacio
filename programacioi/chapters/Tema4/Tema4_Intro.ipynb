{
 "cells": [
  {
   "metadata": {},
   "cell_type": "markdown",
   "source": [
    "# Tema 4\n",
    "\n",
    "## Subprogrames\n",
    "\n",
    "L'aplicació dels conceptes introduïts al capítol 3 permet resoldre problemes aparentment complicats sense gaire dificultat. Qualsevol problema que impliqui el tractament d'una seqüència, encara que no de forma evident, és resoluble amb els mètodes de cerca i recorregut.\n",
    "\n",
    "Resoldrem el següent problema: **Donades diverses seqüències de nombres enters positius, cadascuna acabada amb el nombre -1, digueu el número de la primera línia que contingui algun nombre primer. Si no n’hi ha cap que compleixi aquesta condició, escriviu \"No n'existeix cap\".**\n",
    "\n",
    "A partir de l'experiència anterior, el codi que resol aquest problema és el següent:"
   ],
   "id": "143413f81873dd12"
  },
  {
   "metadata": {},
   "cell_type": "code",
   "outputs": [],
   "execution_count": null,
   "source": [
    "n = int(input(\"introdueix el nombre de seqüències que vols tractar, et diré quina és la primera línia que conté un nombre primer\"))\n",
    "\n",
    "trobat = False # noteu el canvi, ja que si trobem a una seqüència ja no hem de cercar més\n",
    "i = 0\n",
    "\n",
    "while not trobat and i < n: # mentre no final;  # mentre no final; següent element\n",
    "    # Tractar element actual (tota la seqüència)\n",
    "    print(f\"> seqüència {i}\")\n",
    "    nombre = int(input(\"introdueix un nombre enter positiu\")) # primer element\n",
    "    posicio = 0\n",
    "    while not trobat and nombre != -1: # no final\n",
    "        primer = True\n",
    "        comparacio = nombre // 2\n",
    "        while primer and comparacio > 1: # una nova cerca\n",
    "            if nombre % comparacio == 0: #tractar element actual\n",
    "                primer = False\n",
    "        if primer:\n",
    "            trobat = True\n",
    "        else:\n",
    "            nombre = int(input(\"introdueix un nombre enter positiu\")) # següent element\n",
    "    i += 1\n",
    "\n",
    "if trobat:\n",
    "    print(f\"La primera línia amb un nombre senar és {posicio}\")\n",
    "else:\n",
    "    print(\"No n'existeix cap\")"
   ],
   "id": "d57a246015b1e09"
  },
  {
   "metadata": {},
   "cell_type": "markdown",
   "source": [
    "Veiem que el codi comença a fer-se més complex, ja que tenim una cerca dins una cerca de cerques. Per altra banda, saber si un nombre és primer o no, podría considerar-se un programa en si mateix, per tant, una solució seria poder tenir un programa independent que fes la feina i que poguesim incorporar a la nostra solució tornaríem a tenir un codi que treballa a un nivell d'abstracció igual al del capítol anterior.\n",
    "\n",
    "A continuació podem veure el mateix programa amb un nivell d'abstracció adaptat al que el problema ens demana:"
   ],
   "id": "af5eb1c043c0438b"
  },
  {
   "metadata": {},
   "cell_type": "code",
   "outputs": [],
   "execution_count": null,
   "source": [
    "n = int(input(\"introdueix el nombre de seqüències que vols tractar, et diré quina és la primera línia que conté un nombre primer\"))\n",
    "\n",
    "trobat = False # noteu el canvi, ja que si trobem a una seqüència ja no hem de cercar més\n",
    "i = 0\n",
    "\n",
    "while not trobat and i < n: # mentre no final;  # mentre no final; següent element\n",
    "    # Tractar element actual (tota la seqüència)\n",
    "    print(f\"> seqüència {i}\")\n",
    "    nombre = int(input(\"introdueix un nombre enter positiu\")) # primer element\n",
    "    \n",
    "    posicio = 0\n",
    "    while not trobat and nombre != -1: # no final\n",
    "        if nombre es un nombre primer: #tractar element actual (un element d'una seqüència)\n",
    "            trobat = True\n",
    "        else:\n",
    "            nombre = int(input(\"introdueix un nombre enter positiu\")) # següent element\n",
    "    i += 1\n",
    "\n",
    "if trobat:\n",
    "    print(f\"La primera línia amb un nombre senar és {posicio}\")\n",
    "else:\n",
    "    print(\"No n'existeix cap\")"
   ],
   "id": "5207a449c438e11e"
  },
  {
   "metadata": {},
   "cell_type": "markdown",
   "source": " Incorporar subprogrames ens permet adaptar el nivell d’abstracció i estructurar millor les nostres solucions. En aquest capítol aprendrem a simplificar el codi i a fer-lo més llegible i mantenible mitjançant l’ús de subprogrames.",
   "id": "9ca54b1e93bc6da1"
  }
 ],
 "metadata": {
  "kernelspec": {
   "display_name": "Python 3",
   "language": "python",
   "name": "python3"
  },
  "language_info": {
   "codemirror_mode": {
    "name": "ipython",
    "version": 2
   },
   "file_extension": ".py",
   "mimetype": "text/x-python",
   "name": "python",
   "nbconvert_exporter": "python",
   "pygments_lexer": "ipython2",
   "version": "2.7.6"
  }
 },
 "nbformat": 4,
 "nbformat_minor": 5
}
