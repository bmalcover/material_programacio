{
 "cells": [
  {
   "cell_type": "markdown",
   "source": [
    "# Tema 4\n",
    "\n",
    "## Organització del codi per la resolució de problemes més complexes"
   ],
   "metadata": {
    "collapsed": false
   }
  },
  {
   "cell_type": "markdown",
   "source": [
    "L'aplicació dels conceptes introduïts al capítol 3 permet resoldre problemes aparentment complicats sense gaire\n",
    "dificultat. Qualsevol problema que impliqui el tractament d'una seqüència, encara que no de forma evident, es\n",
    "resoluble amb els mètodes de cerca i recorregut.\n",
    "\n",
    "En aquest capítol es mostra com es poden usar els esquemes bàsics vists al capítol anterior per solucionar problemes\n",
    "una mica més generals i també més complexes. Durant aquest procés observarem com la quantitat de codi necessari creix i\n",
    "necessitarem organitzar-ho en blocs lògics coneguts amb el nom de subprogrames.\n"
   ],
   "metadata": {
    "collapsed": false
   }
  }
 ],
 "metadata": {
  "celltoolbar": "Hide code",
  "kernelspec": {
   "display_name": "Python 3",
   "language": "python",
   "name": "python3"
  },
  "language_info": {
   "codemirror_mode": {
    "name": "ipython",
    "version": 3
   },
   "file_extension": ".py",
   "mimetype": "text/x-python",
   "name": "python",
   "nbconvert_exporter": "python",
   "pygments_lexer": "ipython3",
   "version": "3.7.4"
  }
 },
 "nbformat": 4,
 "nbformat_minor": 2
}