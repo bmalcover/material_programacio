{
 "cells": [
  {
   "cell_type": "markdown",
   "metadata": {
    "collapsed": true,
    "pycharm": {
     "name": "#%% md\n"
    }
   },
   "source": [
    "## Exercicis Tema 5\n",
    "\n",
    "### Altres estructures\n",
    "\n",
    "1. Obtenir una llista amb el quadrat dels 5 primers nombres naturals.\n",
    "\n",
    "2. Fer un programa que ens diu el nombre d’aparicions de cada vocal en una seqüència acabada en punt, aquest cop heu\n",
    "d'usar un diccionari.\n",
    "\n",
    "3. Crear una funció generadora que rebi el valor d’inici i l’increment com a paràmtre i ens proporcioni valors\n",
    "successius a partir del valor inicial. Llavors, crear una llista de 10 nombres que comenci en el valor -5 i el\n",
    "següent nombre s'obtingui d’incrementar 10 unitats. Finalment, crear una nova llista, amb aquells que són positius.\n",
    "\n",
    "4. Tenim una llista que té un conjunt de distàncies en metres (la podeu crear a mà) Transformar-la en una que\n",
    "té les distàncies en yardes: 1 yarda = 0’9144 metres.\n",
    "\n",
    "5. Generau una llista els primers 11 valors d’una successió que té com a terme inicial el valor 1 i els termes\n",
    "successius es s'obtenen sumant un nombre aleatori entre 1 i 4 al terme previ. Crear la llista d'aquells que són parells.\n",
    "\n",
    "6. Implementar la vostra pròpia funció map anomenada `mimap` que rep una funció lambda per paràmetre i la aplica als\n",
    " elements d’una llista que també rep per paràmetre. Posau un exemple d’ús.\n",
    "\n",
    "7. Eliminar els noms buits de la següent llista: `noms = [\"\", \"jose\", \"juana\", \"lluis\" , \"encarnacio\", \"\", \"pepa\"]`\n",
    "_Ajuda_: També podem aplicar la funció len  als *strings*, un *string* buit té longitud 0.\n",
    "\n",
    "\n",
    "9. A partir de la llista de l’exercici anterior, volem obtenir una nova llista on concatenem els noms amb els següents\n",
    "`cognoms = [\"stark\", \"targaryen\", \"baratheon\", \"martell\", \"lannister\"]`\n",
    "\n",
    "\n",
    "10. Aquest algorisme hauría de fer la següent feina: donades dues llistes de nombres de lamateixa longitud determina\n",
    "quina d'elles té més valors més alts comparant-los un a un. Però, falla. Heu d’indicar un cas en què falli, i\n",
    "escriure una nova versió corregida. La nova versió no pot emprar bucles, només _list comprehensions_ i funcions lambda\n",
    "```\n",
    "countA = 0\n",
    "countB = 0\n",
    "for i in range(0, len(A)+ len(B)):\n",
    "    vA = A[i]\n",
    "    vB = B[i]\n",
    "    if vA > vB:\n",
    "        countA = countA + 1\n",
    "    else:\n",
    "        countB = countB + 1\n",
    "   print(A gana ' + str(countA) + ', B gana ' + str(countB)+ ':')\n",
    "\n",
    "   if countA > countB:\n",
    "        print (‘Gana A')\n",
    "   if countB < countA:\n",
    "        print('Gana B')\n",
    "   else:\n",
    "    print ('Empate’)\n",
    "```"
   ]
  }
 ],
 "metadata": {
  "kernelspec": {
   "display_name": "Python 3",
   "language": "python",
   "name": "python3"
  },
  "language_info": {
   "codemirror_mode": {
    "name": "ipython",
    "version": 2
   },
   "file_extension": ".py",
   "mimetype": "text/x-python",
   "name": "python",
   "nbconvert_exporter": "python",
   "pygments_lexer": "ipython2",
   "version": "2.7.6"
  }
 },
 "nbformat": 4,
 "nbformat_minor": 0
}