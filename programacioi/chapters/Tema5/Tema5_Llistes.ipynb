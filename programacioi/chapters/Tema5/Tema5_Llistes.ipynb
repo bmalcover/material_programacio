{
 "cells": [
  {
   "cell_type": "markdown",
   "metadata": {
    "colab_type": "text",
    "id": "J5tT2iow83J2"
   },
   "source": [
    "## Llistes\n",
    "\n",
    "Les llistes són probablement la manera d'estructurar dades més útils i versàtils de Python. Una llista és una\n",
    "col·lecció d'elements amb les següents propietats:\n",
    "\n",
    "* **Les llistes són ordenades**: Una llista no és només una col·lecció d'objectes. L'ordre en què especifiquem els\n",
    "elements quan construïm una llista és una característica innata d'aquesta llista i es manté durant tota la seva vida.\n",
    "* **Les llistes poden contenir qualsevol mena d'element**: Inclús una col·lecció d'elements de diferents tipus, encara que no sigui una opció massa recomanable.\n",
    "* **Es pot accedir als elements de la llista mitjançant un índex**: Es pot accedir als elements individuals d'una\n",
    "llista mitjançant un índex que especificarem entre claudàtors després del nom de la variable. La indexació de la llista comença en el valor zero.\n",
    "* **Les llistes són mutables**: Un cop creada, s'hi poden afegir, eliminar, canviar i moure elements. `Python` ofereix una\n",
    "àmplia gamma d'operacions que permeten de modificar les llistes.\n",
    "\n",
    "Una llista té la següent forma:\n",
    "\n",
    "```{figure} ../img/llista.png\n",
    ":alt: Una llista\n",
    ":width: 600px\n",
    ":align: center\n",
    "\n",
    "Aparença d'una llista. TODO: posar referencia.\n",
    "```\n",
    "\n",
    "En llenguatge `Python` una llista es defineix de la següent manera:"
   ]
  },
  {
   "cell_type": "code",
   "execution_count": null,
   "outputs": [],
   "source": [
    "llista = [\"foo\", \"bar\", \"baz\", \"qux\", \"quux\", \"corge\"]\n",
    "\n",
    "print(llista)"
   ],
   "metadata": {
    "collapsed": false,
    "pycharm": {
     "name": "#%%\n"
    }
   }
  },
  {
   "cell_type": "markdown",
   "metadata": {},
   "source": [
    "\n",
    "### Creació d'una llista\n",
    "\n",
    "Una llista buida es pot crear de dues maneres, usant una funció anomenada `list`:\n",
    "```\n",
    "ll = list()\n",
    "```\n",
    "\n",
    "La manera explícita que consisteix a posar els dos claudàtors sense cap element:\n",
    "```\n",
    "llista2 = []\n",
    "```"
   ]
  },
  {
   "cell_type": "markdown",
   "metadata": {
    "colab_type": "text",
    "id": "KrIBirXL_bHh"
   },
   "source": [
    "Les llistes poden tenir un nombre molt gran, però finit d'elements, tants com la memòria de l'ordinador ens permeti,\n",
    "o com hem explicat abans no tenir cap element, amb el que aconseguim una llista buida."
   ]
  },
  {
   "cell_type": "code",
   "execution_count": 7,
   "metadata": {
    "colab": {
     "base_uri": "https://localhost:8080/",
     "height": 56
    },
    "colab_type": "code",
    "id": "j4i--n0i_r9S",
    "outputId": "8293d3a8-80cf-4c97-d6f4-576e937a02c7"
   },
   "outputs": [
    {
     "name": "stdout",
     "output_type": "stream",
     "text": [
      "La llista a es:[0, 1, 2, 3, 4, 5, 6, 7, 8, 9, 10, 11, 12, 13, 14, 15, 16, 17, 18, 19, 20, 21, 22, 23, 24, 25, 26, 27, 28, 29, 30, 31, 32, 33, 34, 35, 36, 37, 38, 39, 40, 41, 42, 43, 44, 45, 46, 47, 48, 49, 50, 51, 52, 53, 54, 55, 56, 57, 58, 59, 60, 61, 62, 63, 64, 65, 66, 67, 68, 69, 70, 71, 72, 73, 74, 75, 76, 77, 78, 79, 80, 81, 82, 83, 84, 85, 86, 87, 88, 89, 90, 91, 92, 93, 94, 95, 96, 97, 98, 99, 100]\n"
     ]
    }
   ],
   "source": [
    "a = [0,  1,  2,  3,  4,  5,  6,  7,  8,  9, 10, 11, 12, 13, 14, 15, 16, 17, 18, 19,\n",
    "    20, 21, 22, 23, 24, 25, 26, 27, 28, 29, 30, 31, 32, 33, 34, 35, 36, 37, 38, 39,\n",
    "    40, 41, 42, 43, 44, 45, 46, 47, 48, 49, 50, 51, 52, 53, 54, 55, 56, 57, 58, 59,\n",
    "    60, 61, 62, 63, 64, 65, 66, 67, 68, 69, 70, 71, 72, 73, 74, 75, 76, 77, 78, 79,\n",
    "    80, 81, 82, 83, 84, 85, 86, 87, 88, 89, 90, 91, 92, 93, 94, 95, 96, 97, 98, 99]\n",
    "\n",
    "print(\"La llista a es:\" + str(a))"
   ]
  },
  {
   "cell_type": "markdown",
   "metadata": {
    "colab_type": "text",
    "id": "jW3zM3Xs_IcJ"
   },
   "source": [
    "### Accedint als elements d'una llista"
   ]
  },
  {
   "cell_type": "markdown",
   "metadata": {
    "colab_type": "text",
    "id": "kizkXfkNANra"
   },
   "source": [
    "Es pot accedir a elements individuals d'una llista especificant la seva posició, també anomenada índex, entre\n",
    "claudàtors. Com ja hem comentat a la part introductòria, la indexació de llistes comença en l'índex zero, això vol dir que el primer element es troba en la posició 0\n",
    "i el darrer en la posició $n-1$.\n",
    "\n",
    "Vegem un petit exemple:"
   ]
  },
  {
   "cell_type": "code",
   "execution_count": 2,
   "metadata": {
    "colab": {
     "base_uri": "https://localhost:8080/",
     "height": 249
    },
    "colab_type": "code",
    "id": "7XUJxvqQ_TD5",
    "outputId": "daefb4dd-d6ba-40e2-a064-1aedc9103dcd"
   },
   "outputs": [
    {
     "name": "stdout",
     "output_type": "stream",
     "text": [
      "foo\n",
      "baz\n"
     ]
    }
   ],
   "source": [
    "ll = [\"foo\", \"bar\", \"baz\", \"qux\", \"quux\", \"corge\"]\n",
    "  \n",
    "# Ara provarem d'obtenir l'informació guardarda en una posició de la llista\n",
    "\n",
    "primera = ll[0]\n",
    "print(primera)\n",
    "\n",
    "tercera = ll[2]\n",
    "print(tercera)"
   ]
  },
  {
   "cell_type": "markdown",
   "metadata": {
    "colab_type": "text",
    "id": "RAcLxhCrBH0o"
   },
   "source": [
    "Per indexar també es poden usar nombres negatius. El significat d'usar un nombre negatiu és que la indexació es fa\n",
    "del final de la llista en lloc del seu principi. D'aquesta manera tenim que:\n",
    "\n",
    "```\n",
    "ll[-1]    # indexa el darrer element de la llista.\n",
    "```\n",
    "\n",
    "#### Slicing\n",
    "\n",
    "'Python' també permet una sintaxi d'indexació avançada que permet extreure subllistes d'una llista. Aquesta\n",
    "tècnica és coneguda com a _slicing_. Sigui 'll' una variable que identifica una llista, una expressió de la forma\n",
    "`ll[inici:final]` retorna la porció de 'll' que comença en la posició 'inici', i acaba en la posició 'final-1'. És a\n",
    "dir, la posició indexada per 'final' no és inclosa dins aquesta subllista.\n",
    "\n",
    "En resum, podem fer les següents seleccions:\n",
    "\n",
    "```\n",
    "a[inici:final]  # elements de la llista de la posició inici fins la posició final-1.\n",
    "a[inici:]       # elements de la llista de la posició inici fins al final de la llista.\n",
    "a[:final]       # elements de la llista de la primera posició fins la posició final-1.\n",
    "a[:]            # seleccionam tota la llista\n",
    "```\n",
    "\n",
    "Vegem un exemple de _slicing_ en codi `Python`:"
   ]
  },
  {
   "cell_type": "code",
   "execution_count": 3,
   "metadata": {
    "colab": {
     "base_uri": "https://localhost:8080/",
     "height": 36
    },
    "colab_type": "code",
    "id": "Es9UckJUBNFY",
    "outputId": "1eca6012-fb82-44d3-a3ba-c72eecf7ed63"
   },
   "outputs": [
    {
     "name": "stdout",
     "output_type": "stream",
     "text": [
      "Llista sencera\n",
      "['foo', 'bar', 'baz', 'qux', 'quux', 'corge']\n",
      "La meva subllista\n",
      "['bar', 'baz']\n"
     ]
    }
   ],
   "source": [
    "print(\"Llista sencera\")\n",
    "print(ll)\n",
    "print(\"La meva subllista\")\n",
    "\n",
    "subllista = ll[1:3]\n",
    "print(subllista)"
   ]
  },
  {
   "cell_type": "markdown",
   "metadata": {
    "colab_type": "text",
    "id": "Hk2_oHJDBeyK"
   },
   "source": [
    "A partir del coneixement bàsic del _slicing_, podem realitzar seleccions més complexes afegint un darrer paràmetre\n",
    "`ll[inici:final:increment]`, aquest paràmetre 'increment' indica l'increment dels índexs a l'hora de fer la selecció.\n",
    "Si no indiquem cap 'increment' el valor per defecte és 1. Com passa amb els índexs 'inici' i 'final',\n",
    "l''increment' també pot ser un nombre negatiu. D'aquesta manera, podrem fer les següents seleccions:\n",
    "\n",
    "```\n",
    "a[::-1]    # tots els elements de la llista en ordre invers\n",
    "a[1::-1]   # els primers dos elements, en ordre invers\n",
    "a[:-3:-1]  # els dos darrers elements, en ordre invers\n",
    "a[-3::-1]  # tots els elements, excepte els dos darrers en ordre invers\n",
    "```\n",
    "\n",
    "A continuació teniu exemples de selecció en codi `Python`:"
   ]
  },
  {
   "cell_type": "code",
   "execution_count": 34,
   "metadata": {
    "colab": {
     "base_uri": "https://localhost:8080/",
     "height": 73
    },
    "colab_type": "code",
    "id": "F-yfshwCDwao",
    "outputId": "aded1bfb-9532-4a52-cd94-1730dade6522"
   },
   "outputs": [
    {
     "name": "stdout",
     "output_type": "stream",
     "text": [
      "[1, 2, 3, 4, 5]\n",
      "[6, 7, 8, 9, 10]\n",
      "[2, 5, 8]\n",
      "Solucions\n",
      "[1, 2, 3, 4, 5, 6, 7, 8, 9, 10]\n",
      "Parells: [2, 4, 6, 8, 10]\n",
      "Senars del 3 al 9: [1, 3, 5, 7, 9]\n"
     ]
    }
   ],
   "source": [
    "llista = [1, 2, 3, 4, 5, 6, 7, 8, 9, 10]\n",
    "\n",
    "print(llista[:5]) # Agafam del primer fins al 5e element\n",
    "print(llista[5:]) # Agafam del 5e fins al darrer element\n",
    "\n",
    "# Es pot especificar com és l'increment dels indexos\n",
    "\n",
    "print(llista[1::3])\n",
    "\n",
    "print(\"Solucions\")\n",
    "# Que pensau que pot donar ll[:]?\n",
    "print(llista[:])\n",
    "\n",
    "# Com aconseguiriem els elements parells de la llista?\n",
    "parells = llista[1::2]\n",
    "print(\"Parells: \" + str(parells))\n",
    "\n",
    "# I els senars del 3 al 9?\n",
    "\n",
    "senars_3_9 = llista[::2]\n",
    "print(\"Senars del 3 al 9: \" + str(senars_3_9))"
   ]
  },
  {
   "cell_type": "markdown",
   "metadata": {},
   "source": [
    "### Mutabilitat\n",
    "\n",
    "Un cop hem creat una llista, podem afegir, eliminar, canviar i moure elements a voluntat. `Python` ofereix una àmplia\n",
    "gamma d'eines que ens permeten modificar les llistes.\n",
    "\n",
    "#### Modificació d'un valor\n",
    "\n",
    "Un únic valor d'una llista es pot substituir de manera molt similar a com modifiquem una variable. En aquest cas hem\n",
    "d'especificar quin dels valors de la llista volem modificar. Com podem suposar, seleccionarem l'element mitjançant el\n",
    "seu índex."
   ]
  },
  {
   "cell_type": "code",
   "execution_count": 4,
   "metadata": {},
   "outputs": [
    {
     "name": "stdout",
     "output_type": "stream",
     "text": [
      "Llista original [1, 2, 3, 4, 5]\n",
      "Llista modificada a la primera posicio [-33, 2, 3, 4, 5]\n",
      "[-33, 2, 3, 4, 55]\n"
     ]
    }
   ],
   "source": [
    "llista = [1, 2, 3, 4, 5]\n",
    "\n",
    "print(\"Llista original \" + str(llista))\n",
    "llista[0] = -33\n",
    "\n",
    "print(\"Llista modificada a la primera posicio \" + str(llista))\n",
    "\n",
    "llista[-1] = 55\n",
    "print(llista)"
   ]
  },
  {
   "cell_type": "markdown",
   "metadata": {
    "hideCode": false,
    "hideOutput": false,
    "hidePrompt": false
   },
   "source": [
    "També podem fer seleccions de _slices_ de la llista i assignar-hi múltiples elements en una sola assignació usant\n",
    "llistes de la mateixa mida."
   ]
  },
  {
   "cell_type": "code",
   "execution_count": 43,
   "metadata": {},
   "outputs": [
    {
     "name": "stdout",
     "output_type": "stream",
     "text": [
      "[33, 33, 3, 4, 55]\n"
     ]
    }
   ],
   "source": [
    "llista[0:2] = [33, 33]\n",
    "print(llista)"
   ]
  },
  {
   "cell_type": "markdown",
   "metadata": {},
   "source": [
    "#### Mètodes que modifiquen una llista\n",
    "Les operacions que tenim a continuació fan feina d'una manera que no havíem vist fins ara sobre cap element dels\n",
    "nostres programes. Aquestes operacions **no són funcions ni subprogrames**, ja que modifiquen la llista sobre la qual estan actuant, els coneixem com a **mètodes**. De moment ens és suficient posar-hi nom, però una mica més endavant en tornarem a parlar.\n",
    "\n",
    "Aquests mètodes són:\n",
    "\n",
    "* `append`\n",
    "* `extend`\n",
    "* `insert`\n",
    "* `remove`\n",
    "* `pop`\n",
    "\n",
    "\n",
    "**Descripció dels mètodes**\n",
    "\n",
    "Append: Mètode que rep un element per paràmetre i l'afegeix al final de la llista\n"
   ]
  },
  {
   "cell_type": "code",
   "execution_count": 11,
   "metadata": {},
   "outputs": [
    {
     "name": "stdout",
     "output_type": "stream",
     "text": [
      "[1, 2, 3]\n"
     ]
    }
   ],
   "source": [
    "a = [1, 2]\n",
    "a.append(3)\n",
    "print(a)\n",
    "a.append(5)"
   ]
  },
  {
   "cell_type": "markdown",
   "metadata": {},
   "source": [
    "Extend: Mètode que rep una llista i l'afegeix al final de la llista."
   ]
  },
  {
   "cell_type": "code",
   "execution_count": 12,
   "metadata": {
    "colab": {
     "base_uri": "https://localhost:8080/",
     "height": 111
    },
    "colab_type": "code",
    "id": "PtoUjwe_Jb5I",
    "outputId": "fd28984f-f6f4-472d-d4a0-c9fb48606888"
   },
   "outputs": [
    {
     "name": "stdout",
     "output_type": "stream",
     "text": [
      "[1, 2, 3, 5, 5, 6]\n"
     ]
    }
   ],
   "source": [
    "a.extend([5, 6])\n",
    "print(a)\n"
   ]
  },
  {
   "cell_type": "markdown",
   "metadata": {},
   "source": [
    "Insert: Mètode que rep un enter i un element. Afegeix l'element a la posició seleccionada de la llista."
   ]
  },
  {
   "cell_type": "code",
   "execution_count": 13,
   "metadata": {},
   "outputs": [
    {
     "name": "stdout",
     "output_type": "stream",
     "text": [
      "[1, 2, 3, 4, 5, 5, 6]\n"
     ]
    }
   ],
   "source": [
    "# Del resultat de la operació extend, veiem que no tenim el nombre 4.\n",
    "# usam la métode insert per afegir-ho\n",
    "a.insert(3, 4)\n",
    "print(a)"
   ]
  },
  {
   "cell_type": "markdown",
   "metadata": {},
   "source": [
    "Remove: Mètode que rep un element per paràmetre i l'elimina de la llista."
   ]
  },
  {
   "cell_type": "code",
   "execution_count": 14,
   "metadata": {},
   "outputs": [
    {
     "name": "stdout",
     "output_type": "stream",
     "text": [
      "[2, 3, 4, 5, 5, 6]\n"
     ]
    }
   ],
   "source": [
    "a.remove(1)\n",
    "print(a)"
   ]
  },
  {
   "cell_type": "code",
   "execution_count": 15,
   "metadata": {},
   "outputs": [
    {
     "name": "stdout",
     "output_type": "stream",
     "text": [
      "[1, 2, 3, 4, 5, 6, 7]\n"
     ]
    }
   ],
   "source": [
    "# Observau que passaria si tenc aquesta llista\n",
    "b = [1,2,2,3,4,5,6,7]\n",
    "b.remove(2)\n",
    "print(b)"
   ]
  },
  {
   "cell_type": "code",
   "execution_count": 16,
   "metadata": {},
   "outputs": [
    {
     "ename": "ValueError",
     "evalue": "list.remove(x): x not in list",
     "output_type": "error",
     "traceback": [
      "\u001B[1;31m---------------------------------------------------------------------------\u001B[0m",
      "\u001B[1;31mValueError\u001B[0m                                Traceback (most recent call last)",
      "\u001B[1;32m<ipython-input-16-cde4a9e4ebee>\u001B[0m in \u001B[0;36m<module>\u001B[1;34m\u001B[0m\n\u001B[0;32m      3\u001B[0m \u001B[0mc\u001B[0m \u001B[1;33m=\u001B[0m \u001B[1;33m[\u001B[0m\u001B[1;36m1\u001B[0m\u001B[1;33m,\u001B[0m \u001B[1;36m2\u001B[0m\u001B[1;33m,\u001B[0m \u001B[1;36m3\u001B[0m\u001B[1;33m,\u001B[0m \u001B[1;36m4\u001B[0m\u001B[1;33m,\u001B[0m \u001B[1;36m5\u001B[0m\u001B[1;33m]\u001B[0m\u001B[1;33m\u001B[0m\u001B[1;33m\u001B[0m\u001B[0m\n\u001B[0;32m      4\u001B[0m \u001B[1;33m\u001B[0m\u001B[0m\n\u001B[1;32m----> 5\u001B[1;33m \u001B[0mc\u001B[0m\u001B[1;33m.\u001B[0m\u001B[0mremove\u001B[0m\u001B[1;33m(\u001B[0m\u001B[1;34m'a'\u001B[0m\u001B[1;33m)\u001B[0m\u001B[1;33m\u001B[0m\u001B[1;33m\u001B[0m\u001B[0m\n\u001B[0m\u001B[0;32m      6\u001B[0m \u001B[1;33m\u001B[0m\u001B[0m\n",
      "\u001B[1;31mValueError\u001B[0m: list.remove(x): x not in list"
     ]
    }
   ],
   "source": [
    "# Darrer cas, intentam eliminar un element que no existeix\n",
    "c = [1, 2, 3, 4, 5]\n",
    "c.remove('a')"
   ]
  },
  {
   "cell_type": "markdown",
   "metadata": {},
   "source": [
    "Pop: Mètode que rep un enter per paràmetre i elimina l'element que està indexat per aquest enter. Si no especifiquem\n",
    "cap valor per paràmetre, elimina el darrer element."
   ]
  },
  {
   "cell_type": "code",
   "execution_count": 21,
   "metadata": {},
   "outputs": [
    {
     "name": "stdout",
     "output_type": "stream",
     "text": [
      "[3, 4, 5, 5, 6]\n",
      "[3, 4, 5, 5]\n"
     ]
    }
   ],
   "source": [
    "# Tornam a la nostra llista a, anem a usar el metode pop\n",
    "\n",
    "a.pop(0)\n",
    "print(a)\n",
    "a.pop()\n",
    "print(a)"
   ]
  },
  {
   "cell_type": "markdown",
   "metadata": {
    "colab_type": "text",
    "id": "ntjhJQGBJRw1"
   },
   "source": [
    "Mes informació de cada un dels mètodes anterios: [aquí](https://docs.python.org/3/tutorial/datastructures.html)\n",
    "\n",
    "\n",
    "#### Operadors i funcions\n",
    "\n",
    "Python ens proveeix de tota una sèrie d'operacions que ens permeten obtenir informació de les llistes, tenim funcions\n",
    "ja programades que ens permetran estalviar molta feina.\n",
    "\n",
    "\n",
    "**Operadors**\n",
    "\n",
    "L'operador `in` i el modificador `not` ens permeten saber si un element és o no és a la nostra llista."
   ]
  },
  {
   "cell_type": "code",
   "execution_count": 22,
   "metadata": {
    "colab": {
     "base_uri": "https://localhost:8080/",
     "height": 54
    },
    "colab_type": "code",
    "id": "C-OJwy8rJnMz",
    "outputId": "88228980-9ba8-456b-f376-c9dfdda35637"
   },
   "outputs": [
    {
     "name": "stdout",
     "output_type": "stream",
     "text": [
      "True\n",
      "True\n"
     ]
    }
   ],
   "source": [
    "separadors = [' ', ',', ';', '-']\n",
    "\n",
    "x = ',' in separadors\n",
    "\n",
    "print(x)\n",
    "\n",
    "x = 'j' not in separadors\n",
    "\n",
    "print(x)"
   ]
  },
  {
   "cell_type": "markdown",
   "metadata": {},
   "source": [
    "També tenim l'operador de concatenació `+` i el de multiplicació `*`. \n",
    "* `+` Ens permet concatenar vàries llistes, tal com ho fem amb els Strings.\n",
    "* `*` Ens permet repetir vàries vegades una llista, en crea una de nova.\n",
    "\n",
    "Veurem el seu ús mitjançant exemples:"
   ]
  },
  {
   "cell_type": "code",
   "execution_count": 23,
   "metadata": {},
   "outputs": [
    {
     "name": "stdout",
     "output_type": "stream",
     "text": [
      "[0, 0, 0, 0, 0, 0, 0, 0, 0, 0]\n"
     ]
    }
   ],
   "source": [
    "llista_a = [1, 2, 3]\n",
    "llista_b = [4, 5, 6]\n",
    "\n",
    "\n",
    "llista_c = [0] * 10\n",
    "print(llista_c)"
   ]
  },
  {
   "cell_type": "markdown",
   "metadata": {
    "colab_type": "text",
    "id": "e_r5CpjWKLUs"
   },
   "source": [
    "**Funcions sobre llistes**\n",
    "\n",
    "Hi ha tot un seguit de funcions ja definides a Python que ens permeten obtenir informació d'una llista.\n",
    "\n",
    "* `len`: ens retorna un enter amb la longitud de la llista.\n",
    "* `min`: ens retorna el valor més petit de la llista.\n",
    "* `max`: ens retorna el valor més gran de la llista."
   ]
  },
  {
   "cell_type": "code",
   "execution_count": 24,
   "metadata": {},
   "outputs": [
    {
     "name": "stdout",
     "output_type": "stream",
     "text": [
      "6\n",
      "9\n"
     ]
    }
   ],
   "source": [
    "llista = [1,2,3,9,5,6]  # Definicio d'una llista\n",
    "\n",
    "# Provam la funcio longitud\n",
    "longitud = len(llista)\n",
    "\n",
    "print(longitud)\n",
    "\n",
    "# Provam la funcio max\n",
    "valor_maxim = max(llista)\n",
    "\n",
    "print(valor_maxim)"
   ]
  },
  {
   "cell_type": "markdown",
   "metadata": {},
   "source": [
    "#### Llistes com a paràmetres de subprogrames\n",
    "\n",
    "A causa de aquesta mutabilidad, és a dir, la capacitat de ser modificades en temps d'execució, les llistes passades com\n",
    "a paràmetre d'un subprograma tenen un comportament diferent del que tenen les variables que hem emprat fins ara.\n",
    "\n",
    "Si passem una llista com a paràmetre d'un subprograma, sigui un procediment o una funció i hi fem qualsevol\n",
    "modificació, aquesta es veurà reflectida en la variable de l'àmbit extern que ha estat usada en el pas de paràmetre.\n",
    "\n",
    "Anem a veure un exemple:\n"
   ]
  },
  {
   "cell_type": "code",
   "execution_count": 5,
   "outputs": [
    {
     "name": "stdout",
     "output_type": "stream",
     "text": [
      "Llista abans de cridar al mètode afegeix_element:  []\n",
      "Llista despres de cridar al mètode afegeix_element:  [5]\n"
     ]
    }
   ],
   "source": [
    "\"Mètode que rep una llista i un element i afegeix l'element al final de la llista\"\n",
    "def afegeix_element(llista, element):\n",
    "\n",
    "    llista.append(element)\n",
    "\n",
    "ll_mutable = []\n",
    "\n",
    "print(\"Llista abans de cridar al mètode afegeix_element: \", ll_mutable)\n",
    "afegeix_element(ll_mutable, 5)\n",
    "print(\"Llista despres de cridar al mètode afegeix_element: \", ll_mutable)\n",
    "\n"
   ],
   "metadata": {
    "collapsed": false,
    "pycharm": {
     "name": "#%%\n"
    }
   }
  },
  {
   "metadata": {},
   "cell_type": "markdown",
   "source": [
    "**Exercici**\n",
    "\n",
    "Fes un programa que llegeix nombres del teclat fins que l'usuari realitza l'entrada de longitud 0. Has de ficar cada element en una llista i després crear una función anomenada `escalat` que rep una llista per paràmetre i estandaritza cada element, és a dir resta la mitjana i dividideix per la desviació típica.\n",
    "\n",
    "\n",
    "Fórmula de la mitjana:\n",
    "\n",
    "$\\bar{x} = \\frac{1}{n} \\sum_{i=1}^{n} x_i$\n",
    "\n",
    "Fórmula de la desviació típica:\n",
    "\n",
    "$s = \\sqrt{\\frac{1}{n - 1} \\sum_{i=1}^{n} (x_i - \\bar{x})^2}$\n",
    "\n",
    "\n",
    "Solució al problema:\n",
    "\n",
    "```\n",
    "import math\n",
    "def escalat(llista):\n",
    "    n = 0\n",
    "    suma = 0\n",
    "    # 1. Calcular la mitjana\n",
    "    for x in llista:\n",
    "        suma = suma + x\n",
    "        n = n + 1\n",
    "    if n == 0:\n",
    "        return []  # llista buida\n",
    "\n",
    "    mitjana = suma / n\n",
    "\n",
    "    # 2. Calcular la suma dels quadrats de les diferències\n",
    "    suma_quadrats = 0\n",
    "    for x in llista:\n",
    "        difer = x - mitjana\n",
    "        suma_quadrats += difer * difer\n",
    "\n",
    "    # 3. Calcular desviació típica (mostra)\n",
    "    if n == 1:\n",
    "        desviacio = 1  # per evitar dividir per 0\n",
    "    else:\n",
    "        desviacio = math.sqrt(suma_quadrats / (n - 1))\n",
    "\n",
    "    # 4. Crear llista estandarditzada\n",
    "    estandar = []\n",
    "    for x in llista:\n",
    "        estandar.append((x - mitjana) / desviacio)\n",
    "\n",
    "    return estandar\n",
    "\n",
    "if __name__ == \"__main__\":\n",
    "    # Programa per llegir nombres fins a entrada buida\n",
    "    valors = []\n",
    "    entrada = input(\"Introdueix un nombre (enter per acabar): \")\n",
    "    while entrada != \"\":  # també len(entrada) == 0\n",
    "        # Convertim a float i afegim a la llista\n",
    "        valors.append(float(entrada))\n",
    "        entrada = input(\"Introdueix un nombre (enter per acabar): \")\n",
    "\n",
    "    print(\"Llista original:\", valors)\n",
    "\n",
    "    # Estandarditzar la llista\n",
    "    llista_estandar = escalat(valors)\n",
    "    print(\"Llista estandaritzada:\", llista_estandar)\n",
    "```\n"
   ]
  },
  {
   "cell_type": "markdown",
   "source": [
    "### Iterant sobre llistes\n",
    "\n",
    "Nosaltres ja coneixem l'operació d'iteració, ara que som conscients de l'existència de llistes veurem com podem usar\n",
    "l'operador `for` per recórrer les llistes de manera automàtica. També com ho podem iterar mitjançant l'accés al seu\n",
    "índex:"
   ],
   "metadata": {
    "collapsed": false,
    "pycharm": {
     "name": "#%% md\n"
    }
   }
  },
  {
   "cell_type": "code",
   "execution_count": 66,
   "metadata": {},
   "outputs": [
    {
     "name": "stdout",
     "output_type": "stream",
     "text": [
      "Arta\n",
      "Sineu\n",
      "Alcudia\n",
      "Mancor\n",
      "Valldemossa\n"
     ]
    }
   ],
   "source": [
    "# Recorrer una llista obtenint cada un dels seus elements\n",
    "llista_pobles = [\"Arta\", \"Sineu\", \"Alcudia\", \"Mancor\", \"Valldemossa\"]\n",
    "\n",
    "for poble in llista_pobles: # el operador for ens torna cada un dels elements de la llista\n",
    "    print(poble)"
   ]
  },
  {
   "cell_type": "code",
   "execution_count": 67,
   "metadata": {},
   "outputs": [
    {
     "name": "stdout",
     "output_type": "stream",
     "text": [
      "0 9\n",
      "1 4.5\n",
      "2 3.0\n",
      "3 7\n",
      "4 6.5\n",
      "5 3\n",
      "[10, 5.5, 4.0, 8, 7.5, 4]\n"
     ]
    }
   ],
   "source": [
    "#Recorrer una llista amb els index per modificar valors\n",
    "\n",
    "notes = [9, 4.5, 3.0, 7, 6.5, 3]\n",
    "longitud = len(notes)\n",
    "\n",
    "for i in range(0, longitud): # recordau que la funció range ens crea una llista\n",
    "    print(i, notes[i])\n",
    "    notes[i] = notes[i] + 1\n",
    "    \n",
    "print(notes)\n",
    "    "
   ]
  },
  {
   "cell_type": "markdown",
   "metadata": {},
   "source": [
    "També podem usar el bucle `while` per operar amb llistes:"
   ]
  },
  {
   "cell_type": "code",
   "execution_count": 68,
   "metadata": {},
   "outputs": [
    {
     "name": "stdout",
     "output_type": "stream",
     "text": [
      "L'element més gran de la llista de notes es: 10\n"
     ]
    }
   ],
   "source": [
    "#Fare una cerca manual del valor mes gran en la llista\n",
    "\n",
    "idx = 0\n",
    "mes_gran = notes[idx] # posicio indexada per 0\n",
    "\n",
    "while idx < len(notes): # mentre no final\n",
    "    # Tractament de l'element actual\n",
    "    if notes[idx] > mes_gran:\n",
    "        mes_gran = notes[idx]\n",
    "        \n",
    "    idx = idx + 1 # Seguent element\n",
    "    \n",
    "# Donar resultats\n",
    "print(\"L'element més gran de la llista de notes es: \" + str(mes_gran))\n"
   ]
  },
  {
   "cell_type": "markdown",
   "metadata": {},
   "source": [
    "**Exercici**\n",
    "\n",
    "Donada una llista que conté nombres enters positius, negatius i el nombre 0 ordenats de menor a major. Volem trobar el segment més gran la suma del qual és 0.\n",
    "\n",
    "Algorisme:\n",
    "\n",
    "1. Tenim dos indexos `left` i `right` que són els extrems del segment candidat.\n",
    "\n",
    "2. Tenim la variable `sumA` que és la suma dels elements dins del segment `[left, right]`.\n",
    "\n",
    "3. Mentre la suma no sigui zero:\n",
    "\n",
    "    - Si la suma és positiva, eliminem l’últim element (right -= 1).\n",
    "\n",
    "    - Si la suma és negativa, eliminem el primer element (left += 1).\n",
    "\n",
    "4. Quan la suma arriba a zero, `[left, right]` és el segment més llarg amb suma 0.\n",
    "\n",
    "5. Si `left` > `right` llavors no existeix cap segment amb suma zero.\n",
    "\n",
    "Implementació:\n",
    "\n",
    "```\n",
    "def sum_llista(l):\n",
    "    s = 0\n",
    "    for x in l:\n",
    "        s += x\n",
    "    return s\n",
    "def largest_null_segment(ll):\n",
    "    left = 0\n",
    "    right = len(ll) - 1\n",
    "    sumA = sum_llista(ll)\n",
    "\n",
    "    while sumA != 0 and left <= right:\n",
    "        if sumA > 0:\n",
    "            sumA -= ll[right]\n",
    "            right -= 1\n",
    "        else:\n",
    "            sumA -= ll[left]\n",
    "            left += 1\n",
    "\n",
    "    if left > right:\n",
    "        return []  # no hi ha segment amb suma 0\n",
    "    else:\n",
    "        return ll[left:right+1]\n",
    "\n",
    "# Exemple\n",
    "a = [-9, -7, -6, -4, -3, -1, 3, 5, 6, 8, 9]\n",
    "segment = largest_null_segment(a)\n",
    "\n",
    "print(f\"El segment original és {a}\")\n",
    "print(f\"El segment que suma 0 més gran és: {segment}\")\n",
    "```"
   ]
  },
  {
   "metadata": {},
   "cell_type": "markdown",
   "source": [
    "**Exercici**\n",
    "\n",
    "Suposem que un polinomi està donat com una llista de `coeficients`, començant del coeficient del grau més alt. Fes una funció anomenada `Horner` que avalua el seu valor en un punt `x`.\n",
    "\n",
    "L'esquema de Horner és el següent. Donat un polinomi general:\n",
    "\n",
    "$P(x) = a_n x^n + a_{n-1} x^{n-1} + \\dots + a_1 x + a_0$\n",
    "\n",
    "- Aquest és l'esquema de Horner:\n",
    "\n",
    "$P(x) = (\\dots((a_n x + a_{n-1}) x + a_{n-2}) x + \\dots + a_1) x + a_0$\n",
    "\n",
    "- La seva forma recurrent amb $b_i$ és:\n",
    "\n",
    "$$\\begin{align*}\n",
    "b_n &= a_n \\\\\n",
    "b_{n-1} &= b_n x + a_{n-1} \\\\\n",
    "b_{n-2} &= b_{n-1} x + a_{n-2} \\\\\n",
    "&\\ \\ \\vdots \\\\\n",
    "b_0 &= b_1 x + a_0\n",
    "\\end{align*}$$\n",
    "\n",
    "Finalment\n",
    "$P(x) = b_0$\n",
    "\n",
    "```\n",
    "def horner(coeficients, x):\n",
    "    \"\"\"\n",
    "    Avalua un polinomi en x seguint l'esquema de Horner.\n",
    "    Arguments:\n",
    "    coefs -- llista de coeficients [a_n, a_{n-1}, ..., a_0]\n",
    "    x     -- valor on s'avalua el polinomi\n",
    "\n",
    "    \"\"\"\n",
    "    resultat = 0\n",
    "    for coef in coeficients:\n",
    "        resultat = resultat * x + coef\n",
    "    return resultat\n",
    "\n",
    "\n",
    "# Exemple:\n",
    "# P(x) = 2x^3 - 6x^2 + 2x - 1\n",
    "coeficients = [2, -6, 2, -1]\n",
    "x = 3\n",
    "print(\"P(3) =\", horner(coeficients, x))\n",
    "```"
   ]
  },
  {
   "cell_type": "markdown",
   "metadata": {
    "hideCode": true
   },
   "source": [
    "**Exercici**\n",
    "\n",
    "Vull saber quina és la vocal que apareix més cops en una seqüència\n",
    "acabada en punt\n"
   ]
  },
  {
   "cell_type": "markdown",
   "metadata": {},
   "source": [
    "**Exercici**\n",
    "\n",
    "Per acabar farem un darrer exercici que consisteix en mostrar invertides totes les paraules d'una seqüència."
   ]
  }
 ],
 "metadata": {
  "celltoolbar": "Hide code",
  "colab": {
   "name": "Tema5_llistes.ipynb",
   "provenance": [],
   "version": "0.3.2"
  },
  "kernelspec": {
   "display_name": "Python 3",
   "language": "python",
   "name": "python3"
  },
  "language_info": {
   "codemirror_mode": {
    "name": "ipython",
    "version": 3
   },
   "file_extension": ".py",
   "mimetype": "text/x-python",
   "name": "python",
   "nbconvert_exporter": "python",
   "pygments_lexer": "ipython3",
   "version": "3.7.4"
  }
 },
 "nbformat": 4,
 "nbformat_minor": 1
}
