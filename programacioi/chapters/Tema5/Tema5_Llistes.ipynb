{
 "cells": [
  {
   "cell_type": "markdown",
   "metadata": {
    "colab_type": "text",
    "id": "J5tT2iow83J2"
   },
   "source": [
    "## Iterables\n",
    "\n",
    "A `Python`, un iterable és una estructura que es pot recórrer o iterar mitjançant un bucle. En altres paraules, un iterable és qualsevol objecte de `Python` sobre el qual es pot aplicar un bucle `for` per a iterar a través dels seus elements un per un.\n",
    "\n",
    "Durant aquest capítol en veurem les més rellevants:\n",
    "\n",
    "* Llistes\n",
    "* Strings\n",
    "* Tuples\n",
    "* Diccionaris\n",
    "\n",
    "Derivat del coneixement d'aquestes estructures també descobrirem noves capacitats del llenguatge:\n",
    "\n",
    "* _List comprehension_\n",
    "* Funcions _lambda_\n",
    "* Funcions _map_ i _filter_\n",
    "* Funcions generadores de seqüències\n",
    "\n",
    "\n",
    "### Llistes\n",
    "\n",
    "Les llistes són probablement la manera d'estructurar dades més útils i versàtils de Python. Una llista és una col·lecció d'elements amb les següents propietats:\n",
    "\n",
    "* **Les llistes són ordenades**: Una llista no és només una col·lecció d'objectes. L'ordre en què especifiquem els elements quan construïm una llista és una característica innata d'aquesta construcció i es manté durant tota la seva vida mentre no apliquem modificacions.\n",
    "* **Les llistes poden contenir qualsevol mena d'element**: Inclús una col·lecció d'elements de diferents tipus, encara que no sigui una opció massa recomanable.\n",
    "* **Es pot accedir als elements de la llista mitjançant un índex**: Es pot accedir als elements individuals d'una llista mitjançant un índex que especificarem entre claudàtors després del nom de la variable. La indexació de la llista comença en el valor zero.\n",
    "* **Les llistes són mutables**: Un cop creada, s'hi poden afegir, eliminar, canviar i moure elements. `Python` ofereix una àmplia gamma d'operacions que permeten modificar les llistes.\n",
    "\n",
    "Una llista té la següent forma:\n",
    "\n",
    "```{figure} ../img/llista.png\n",
    ":alt: Una llista\n",
    ":width: 600px\n",
    ":align: center\n",
    "\n",
    "Aparença d'una llista. TODO: posar referencia.\n",
    "```\n",
    "\n",
    "En llenguatge `Python` una llista es defineix de la següent manera:"
   ]
  },
  {
   "cell_type": "code",
   "execution_count": null,
   "outputs": [],
   "source": [
    "llista = [\"foo\", \"bar\", \"baz\", \"qux\", \"quux\", \"corge\"]\n",
    "\n",
    "print(llista)"
   ],
   "metadata": {
    "collapsed": false
   }
  },
  {
   "cell_type": "markdown",
   "metadata": {},
   "source": [
    "#### Creació d'una llista\n",
    "\n",
    "Una llista buida es pot crear de dues maneres, usant una funció anomenada `list`:\n",
    "```\n",
    "ll = list()\n",
    "```\n",
    "\n",
    "La manera explícita que consisteix a posar els dos claudàtors sense cap element:\n",
    "```\n",
    "llista2 = []\n",
    "```"
   ]
  },
  {
   "cell_type": "markdown",
   "metadata": {
    "colab_type": "text",
    "id": "KrIBirXL_bHh"
   },
   "source": [
    "Les llistes poden tenir un nombre molt gran, però finit d'elements, tants com la memòria de l'ordinador en el qual estem treballant ens permeti, o com hem explicat abans no tenir cap element, amb el que aconseguim una llista buida."
   ]
  },
  {
   "cell_type": "code",
   "execution_count": 7,
   "metadata": {
    "colab": {
     "base_uri": "https://localhost:8080/",
     "height": 56
    },
    "colab_type": "code",
    "id": "j4i--n0i_r9S",
    "outputId": "8293d3a8-80cf-4c97-d6f4-576e937a02c7"
   },
   "outputs": [
    {
     "name": "stdout",
     "output_type": "stream",
     "text": [
      "La llista a es:[0, 1, 2, 3, 4, 5, 6, 7, 8, 9, 10, 11, 12, 13, 14, 15, 16, 17, 18, 19, 20, 21, 22, 23, 24, 25, 26, 27, 28, 29, 30, 31, 32, 33, 34, 35, 36, 37, 38, 39, 40, 41, 42, 43, 44, 45, 46, 47, 48, 49, 50, 51, 52, 53, 54, 55, 56, 57, 58, 59, 60, 61, 62, 63, 64, 65, 66, 67, 68, 69, 70, 71, 72, 73, 74, 75, 76, 77, 78, 79, 80, 81, 82, 83, 84, 85, 86, 87, 88, 89, 90, 91, 92, 93, 94, 95, 96, 97, 98, 99, 100]\n"
     ]
    }
   ],
   "source": [
    "a = [0,  1,  2,  3,  4,  5,  6,  7,  8,  9, 10, 11, 12, 13, 14, 15, 16, 17, 18, 19,\n",
    "    20, 21, 22, 23, 24, 25, 26, 27, 28, 29, 30, 31, 32, 33, 34, 35, 36, 37, 38, 39,\n",
    "    40, 41, 42, 43, 44, 45, 46, 47, 48, 49, 50, 51, 52, 53, 54, 55, 56, 57, 58, 59,\n",
    "    60, 61, 62, 63, 64, 65, 66, 67, 68, 69, 70, 71, 72, 73, 74, 75, 76, 77, 78, 79,\n",
    "    80, 81, 82, 83, 84, 85, 86, 87, 88, 89, 90, 91, 92, 93, 94, 95, 96, 97, 98, 99]\n",
    "\n",
    "print(f'La llista a es: {a}')"
   ]
  },
  {
   "cell_type": "markdown",
   "metadata": {
    "colab_type": "text",
    "id": "jW3zM3Xs_IcJ"
   },
   "source": [
    "#### Accedint als elements d'una llista"
   ]
  },
  {
   "cell_type": "markdown",
   "metadata": {
    "colab_type": "text",
    "id": "kizkXfkNANra"
   },
   "source": [
    "Es pot accedir a elements individuals d'una llista especificant la seva posició, també anomenada índex, entre claudàtors. Com ja hem comentat a la part introductòria del tema la indexació de llistes comença a l'índex zero, això vol dir que el primer element es troba en aquesta posició i el darrer en la posició $n-1$ on $n$ és el nombre d'elements de la llista.\n",
    "\n",
    "Vegem un petit exemple:"
   ]
  },
  {
   "cell_type": "code",
   "execution_count": 2,
   "metadata": {
    "colab": {
     "base_uri": "https://localhost:8080/",
     "height": 249
    },
    "colab_type": "code",
    "id": "7XUJxvqQ_TD5",
    "outputId": "daefb4dd-d6ba-40e2-a064-1aedc9103dcd"
   },
   "outputs": [
    {
     "name": "stdout",
     "output_type": "stream",
     "text": [
      "foo\n",
      "baz\n"
     ]
    }
   ],
   "source": [
    "ll = [\"foo\", \"bar\", \"baz\", \"qux\", \"quux\", \"corge\"]\n",
    "  \n",
    "# Ara provarem d'obtenir l'informació guardarda en una posició de la llista\n",
    "\n",
    "primera = ll[0]\n",
    "print(primera)\n",
    "\n",
    "tercera = ll[2]\n",
    "print(tercera)"
   ]
  },
  {
   "cell_type": "markdown",
   "metadata": {
    "colab_type": "text",
    "id": "RAcLxhCrBH0o"
   },
   "source": [
    "Per indexar també es poden usar nombres negatius. El significat d'usar un nombre negatiu és que la indexació es fa del final de la llista en lloc del seu principi. D'aquesta manera tenim que:\n",
    "\n",
    "```\n",
    "ll[-1]    # indexa el darrer element de la llista.\n",
    "```\n",
    "\n",
    "##### Slicing\n",
    "\n",
    "`Python` també permet una sintaxi d'indexació avançada que permet extreure subllistes d'una llista. Aquesta tècnica és coneguda com a _slicing_. Sigui 'll' una variable que identifica una llista, una expressió de la forma `ll[inici:final]` retorna la porció de 'll' que comença en la posició 'inici', i acaba en la posició 'final-1'. És a dir, la posició indexada per 'final' no és inclosa dins aquesta subllista.\n",
    "\n",
    "En resum, podem fer les següents seleccions:\n",
    "\n",
    "```\n",
    "a[inici:final]  # elements de la llista de la posició inici fins la posició final-1.\n",
    "a[inici:]       # elements de la llista de la posició inici fins al final de la llista.\n",
    "a[:final]       # elements de la llista de la primera posició fins la posició final-1.\n",
    "a[:]            # seleccionam tota la llista\n",
    "```\n",
    "\n",
    "Vegem un exemple de _slicing_ en codi `Python`:"
   ]
  },
  {
   "cell_type": "code",
   "execution_count": 3,
   "metadata": {
    "colab": {
     "base_uri": "https://localhost:8080/",
     "height": 36
    },
    "colab_type": "code",
    "id": "Es9UckJUBNFY",
    "outputId": "1eca6012-fb82-44d3-a3ba-c72eecf7ed63"
   },
   "outputs": [
    {
     "name": "stdout",
     "output_type": "stream",
     "text": [
      "Llista sencera\n",
      "['foo', 'bar', 'baz', 'qux', 'quux', 'corge']\n",
      "La meva subllista\n",
      "['bar', 'baz']\n"
     ]
    }
   ],
   "source": [
    "print(\"Llista sencera\")\n",
    "print(ll)\n",
    "print(\"La meva subllista\")\n",
    "\n",
    "subllista = ll[1:3]\n",
    "print(subllista)"
   ]
  },
  {
   "cell_type": "markdown",
   "metadata": {
    "colab_type": "text",
    "id": "Hk2_oHJDBeyK"
   },
   "source": [
    "A partir del coneixement bàsic del _slicing_, podem realitzar seleccions més complexes afegint un darrer paràmetre `ll[inici:final:increment]`, aquest paràmetre 'increment' indica l'increment dels índexs a l'hora de fer la selecció.\n",
    "Si no indiquem cap 'increment' el valor per defecte és 1. Com passa amb els índexs `inici` i `final`, l'`increment` també pot ser un nombre negatiu. D'aquesta manera, podrem fer les següents seleccions:\n",
    "\n",
    "```\n",
    "a[::-1]    # tots els elements de la llista en ordre invers\n",
    "a[1::-1]   # els primers dos elements, en ordre invers\n",
    "a[:-3:-1]  # els dos darrers elements, en ordre invers\n",
    "a[-3::-1]  # tots els elements, excepte els dos darrers en ordre invers\n",
    "```\n",
    "\n",
    "A continuació teniu exemples de selecció en codi `Python`:"
   ]
  },
  {
   "cell_type": "code",
   "execution_count": 34,
   "metadata": {
    "colab": {
     "base_uri": "https://localhost:8080/",
     "height": 73
    },
    "colab_type": "code",
    "id": "F-yfshwCDwao",
    "outputId": "aded1bfb-9532-4a52-cd94-1730dade6522"
   },
   "outputs": [
    {
     "name": "stdout",
     "output_type": "stream",
     "text": [
      "[1, 2, 3, 4, 5]\n",
      "[6, 7, 8, 9, 10]\n",
      "[2, 5, 8]\n",
      "Solucions\n",
      "[1, 2, 3, 4, 5, 6, 7, 8, 9, 10]\n",
      "Parells: [2, 4, 6, 8, 10]\n",
      "Senars del 3 al 9: [1, 3, 5, 7, 9]\n"
     ]
    }
   ],
   "source": [
    "llista = [1, 2, 3, 4, 5, 6, 7, 8, 9, 10]\n",
    "\n",
    "print(llista[:5]) # Agafam del primer fins al 5e element\n",
    "print(llista[5:]) # Agafam del 5e fins al darrer element\n",
    "\n",
    "# Es pot especificar com és l'increment dels indexos\n",
    "\n",
    "print(llista[1::3])\n",
    "\n",
    "print(\"Solucions\")\n",
    "# Que pensau que pot donar ll[:]?\n",
    "print(llista[:])\n",
    "\n",
    "# Com aconseguiriem els elements parells de la llista?\n",
    "parells = llista[1::2]\n",
    "print(\"Parells: \" + str(parells))\n",
    "\n",
    "# I els senars del 3 al 9?\n",
    "\n",
    "senars_3_9 = llista[::2]\n",
    "print(f'Senars del 3 al 9: {senars_3_9}')"
   ]
  },
  {
   "cell_type": "markdown",
   "metadata": {},
   "source": [
    "```{warning}\n",
    "  El _slicing_ realitza copies dels elements que hem selecccionat de les subllistes, si en feim alguna modificació aquesta no es mantendrà a la llista original.\n",
    "```\n",
    "\n",
    "#### Mutabilitat\n",
    "\n",
    "Un cop hem creat una llista, podem afegir, eliminar, canviar i moure elements a voluntat. `Python` ofereix una àmplia gamma d'eines que ens permeten modificar-les.\n",
    "\n",
    "##### Modificació d'un valor\n",
    "\n",
    "Podem modificar o substituir un únic valor d'una llista de manera molt similar a com modifiquem una variable. En aquest cas hem d'especificar quin dels valors de la llista volem modificar. Com podem suposar, seleccionarem l'element mitjançant el seu índex."
   ]
  },
  {
   "cell_type": "code",
   "execution_count": 4,
   "metadata": {},
   "outputs": [
    {
     "name": "stdout",
     "output_type": "stream",
     "text": [
      "Llista original [1, 2, 3, 4, 5]\n",
      "Llista modificada a la primera posicio [-33, 2, 3, 4, 5]\n",
      "[-33, 2, 3, 4, 55]\n"
     ]
    }
   ],
   "source": [
    "llista = [1, 2, 3, 4, 5]\n",
    "\n",
    "print(f'Llista original \" {llista}')\n",
    "llista[0] = -33\n",
    "\n",
    "print(f'Llista modificada a la primera posicio {llista}')\n",
    "\n",
    "llista[-1] = 55\n",
    "print(llista)"
   ]
  },
  {
   "cell_type": "markdown",
   "metadata": {
    "hideCode": false,
    "hideOutput": false,
    "hidePrompt": false
   },
   "source": [
    "També podem fer seleccions de _slices_ de la llista i assignar-hi múltiples elements en una sola assignació usant llistes de la mateixa mida."
   ]
  },
  {
   "cell_type": "code",
   "execution_count": 43,
   "metadata": {},
   "outputs": [
    {
     "name": "stdout",
     "output_type": "stream",
     "text": [
      "[33, 33, 3, 4, 55]\n"
     ]
    }
   ],
   "source": [
    "llista[0:2] = [33, 33]\n",
    "print(llista)"
   ]
  },
  {
   "cell_type": "markdown",
   "metadata": {},
   "source": [
    "##### Mètodes que modifiquen una llista\n",
    "\n",
    "Les operacions que tenim a continuació fan feina d'una manera que no havíem vist fins ara sobre cap variable dels nostres programes. Aquestes operacions **no són funcions ni subprogrames**, ja que modifiquen la llista sobre la qual estan actuant, els coneixem com a **mètodes**. De moment ens és suficient posar-hi nom, però una mica més endavant en aquest mateix tema en tornarem a parlar.\n",
    "\n",
    "Aquests mètodes són:\n",
    "\n",
    "* `append`\n",
    "* `extend`\n",
    "* `insert`\n",
    "* `remove`\n",
    "* `pop`\n",
    "\n",
    "\n",
    "**Descripció dels mètodes**\n",
    "\n",
    "**Append**: Mètode que rep un element per paràmetre i l'afegeix al final de la llista\n"
   ]
  },
  {
   "cell_type": "code",
   "execution_count": 11,
   "metadata": {},
   "outputs": [
    {
     "name": "stdout",
     "output_type": "stream",
     "text": [
      "[1, 2, 3]\n"
     ]
    }
   ],
   "source": [
    "a = [1, 2]\n",
    "a.append(3)\n",
    "print(a)\n",
    "a.append(5)"
   ]
  },
  {
   "cell_type": "markdown",
   "metadata": {},
   "source": [
    "**Extend**: Mètode que rep una llista i l'afegeix al final de la llista."
   ]
  },
  {
   "cell_type": "code",
   "execution_count": 12,
   "metadata": {
    "colab": {
     "base_uri": "https://localhost:8080/",
     "height": 111
    },
    "colab_type": "code",
    "id": "PtoUjwe_Jb5I",
    "outputId": "fd28984f-f6f4-472d-d4a0-c9fb48606888"
   },
   "outputs": [
    {
     "name": "stdout",
     "output_type": "stream",
     "text": [
      "[1, 2, 3, 5, 5, 6]\n"
     ]
    }
   ],
   "source": [
    "a.extend([5, 6])\n",
    "print(a)\n"
   ]
  },
  {
   "cell_type": "markdown",
   "metadata": {},
   "source": [
    "**Insert**: Mètode que rep un enter i un element. Afegeix l'element a la posició seleccionada de la llista."
   ]
  },
  {
   "cell_type": "code",
   "execution_count": 13,
   "metadata": {},
   "outputs": [
    {
     "name": "stdout",
     "output_type": "stream",
     "text": [
      "[1, 2, 3, 4, 5, 5, 6]\n"
     ]
    }
   ],
   "source": [
    "# Del resultat de la operació extend, veiem que no tenim el nombre 4.\n",
    "# usam la métode insert per afegir-ho\n",
    "a.insert(3, 4)\n",
    "print(a)"
   ]
  },
  {
   "cell_type": "markdown",
   "metadata": {},
   "source": [
    "**Remove**: Mètode que rep un element per paràmetre i l'elimina de la llista. Si l'element no existeix, aquest mètode provocarà un error en el nostre codi."
   ]
  },
  {
   "cell_type": "code",
   "execution_count": 14,
   "metadata": {},
   "outputs": [
    {
     "name": "stdout",
     "output_type": "stream",
     "text": [
      "[2, 3, 4, 5, 5, 6]\n"
     ]
    }
   ],
   "source": [
    "a.remove(1)\n",
    "print(a)"
   ]
  },
  {
   "cell_type": "code",
   "execution_count": 15,
   "metadata": {},
   "outputs": [
    {
     "name": "stdout",
     "output_type": "stream",
     "text": [
      "[1, 2, 3, 4, 5, 6, 7]\n"
     ]
    }
   ],
   "source": [
    "# Observau que passaria si tenc aquesta llista\n",
    "b = [1,2,2,3,4,5,6,7]\n",
    "b.remove(2)\n",
    "print(b)"
   ]
  },
  {
   "cell_type": "code",
   "execution_count": 16,
   "metadata": {},
   "outputs": [
    {
     "ename": "ValueError",
     "evalue": "list.remove(x): x not in list",
     "output_type": "error",
     "traceback": [
      "\u001B[1;31m---------------------------------------------------------------------------\u001B[0m",
      "\u001B[1;31mValueError\u001B[0m                                Traceback (most recent call last)",
      "\u001B[1;32m<ipython-input-16-cde4a9e4ebee>\u001B[0m in \u001B[0;36m<module>\u001B[1;34m\u001B[0m\n\u001B[0;32m      3\u001B[0m \u001B[0mc\u001B[0m \u001B[1;33m=\u001B[0m \u001B[1;33m[\u001B[0m\u001B[1;36m1\u001B[0m\u001B[1;33m,\u001B[0m \u001B[1;36m2\u001B[0m\u001B[1;33m,\u001B[0m \u001B[1;36m3\u001B[0m\u001B[1;33m,\u001B[0m \u001B[1;36m4\u001B[0m\u001B[1;33m,\u001B[0m \u001B[1;36m5\u001B[0m\u001B[1;33m]\u001B[0m\u001B[1;33m\u001B[0m\u001B[1;33m\u001B[0m\u001B[0m\n\u001B[0;32m      4\u001B[0m \u001B[1;33m\u001B[0m\u001B[0m\n\u001B[1;32m----> 5\u001B[1;33m \u001B[0mc\u001B[0m\u001B[1;33m.\u001B[0m\u001B[0mremove\u001B[0m\u001B[1;33m(\u001B[0m\u001B[1;34m'a'\u001B[0m\u001B[1;33m)\u001B[0m\u001B[1;33m\u001B[0m\u001B[1;33m\u001B[0m\u001B[0m\n\u001B[0m\u001B[0;32m      6\u001B[0m \u001B[1;33m\u001B[0m\u001B[0m\n",
      "\u001B[1;31mValueError\u001B[0m: list.remove(x): x not in list"
     ]
    }
   ],
   "source": [
    "# Darrer cas, intentam eliminar un element que no existeix\n",
    "c = [1, 2, 3, 4, 5]\n",
    "c.remove('a')"
   ]
  },
  {
   "cell_type": "markdown",
   "metadata": {},
   "source": [
    "**Pop**: Mètode que rep un enter per paràmetre i elimina l'element que està indexat per aquest enter. Si no especifiquem cap valor per paràmetre, elimina el darrer element. Si l'index de l'element no existeix, aquest mètode provocarà un error en el nostre codi."
   ]
  },
  {
   "cell_type": "code",
   "execution_count": 21,
   "metadata": {},
   "outputs": [
    {
     "name": "stdout",
     "output_type": "stream",
     "text": [
      "[3, 4, 5, 5, 6]\n",
      "[3, 4, 5, 5]\n"
     ]
    }
   ],
   "source": [
    "# Tornam a la nostra llista a, anem a usar el metode pop\n",
    "\n",
    "a.pop(0)\n",
    "print(a)\n",
    "a.pop()\n",
    "print(a)"
   ]
  },
  {
   "cell_type": "markdown",
   "metadata": {
    "colab_type": "text",
    "id": "ntjhJQGBJRw1"
   },
   "source": [
    "A continuació teniu més informació de cada un dels mètodes anteriors: [documentació Python](https://docs.python.org/3/tutorial/datastructures.html)\n",
    "\n",
    "\n",
    "#### Operadors i funcions\n",
    "\n",
    "Python ens proveeix de tota una sèrie d'operacions que ens permeten obtenir informació de les llistes, tenim funcions ja programades que ens permetran estalviar molta feina.\n",
    "\n",
    "**Operadors**\n",
    "\n",
    "L'operador `in` i el modificador `not` ens permeten saber si un element és o no és a la nostra llista. Aquests dos mètodes serveixen, per exemple, per saber si un element és a una llista abans d'eliminar-ho."
   ]
  },
  {
   "cell_type": "code",
   "execution_count": 22,
   "metadata": {
    "colab": {
     "base_uri": "https://localhost:8080/",
     "height": 54
    },
    "colab_type": "code",
    "id": "C-OJwy8rJnMz",
    "outputId": "88228980-9ba8-456b-f376-c9dfdda35637"
   },
   "outputs": [
    {
     "name": "stdout",
     "output_type": "stream",
     "text": [
      "True\n",
      "True\n"
     ]
    }
   ],
   "source": [
    "separadors = [' ', ',', ';', '-']\n",
    "\n",
    "x = ',' in separadors\n",
    "\n",
    "print(x)\n",
    "\n",
    "x = 'j' not in separadors\n",
    "\n",
    "print(x)"
   ]
  },
  {
   "cell_type": "markdown",
   "metadata": {},
   "source": [
    "També tenim l'operador de concatenació `+` i el de multiplicació `*`. \n",
    "* `+` Ens permet concatenar vàries llistes, tal com ho fem amb els Strings.\n",
    "* `*` Ens permet repetir diverses vegades una llista, en crea una de nova.\n",
    "\n",
    "Veurem el seu ús mitjançant exemples:"
   ]
  },
  {
   "cell_type": "code",
   "execution_count": 23,
   "metadata": {},
   "outputs": [
    {
     "name": "stdout",
     "output_type": "stream",
     "text": [
      "[0, 0, 0, 0, 0, 0, 0, 0, 0, 0]\n"
     ]
    }
   ],
   "source": [
    "llista_a = [1, 2, 3]\n",
    "llista_b = [4, 5, 6]\n",
    "\n",
    "\n",
    "llista_c = [0] * 10\n",
    "print(llista_c)"
   ]
  },
  {
   "cell_type": "markdown",
   "metadata": {
    "colab_type": "text",
    "id": "e_r5CpjWKLUs"
   },
   "source": [
    "**Funcions**\n",
    "\n",
    "Hi ha tot un seguit de funcions ja definides a Python que ens permeten obtenir informació d'una llista.\n",
    "\n",
    "* `len`: ens retorna un enter amb la longitud de la llista.\n",
    "* `min`: ens retorna el valor més petit de la llista.\n",
    "* `max`: ens retorna el valor més gran de la llista."
   ]
  },
  {
   "cell_type": "code",
   "execution_count": 24,
   "metadata": {},
   "outputs": [
    {
     "name": "stdout",
     "output_type": "stream",
     "text": [
      "6\n",
      "9\n"
     ]
    }
   ],
   "source": [
    "llista = [1,2,3,9,5,6]  # Definicio d'una llista\n",
    "\n",
    "# Provam la funcio longitud\n",
    "longitud = len(llista)\n",
    "\n",
    "print(longitud)\n",
    "\n",
    "# Provam la funcio max\n",
    "valor_maxim = max(llista)\n",
    "\n",
    "print(valor_maxim)"
   ]
  },
  {
   "cell_type": "markdown",
   "metadata": {},
   "source": [
    "**Exercici**\n",
    "\n",
    "Tornem a fer el programa que compta l'aparició de cada vocal, aquest cop en lloc d'usar 5 variables diferents usarem una llista de longitud 5 que conté valors enters, on la primera posició ens indica quantes 'a' hem trobat, la segona quantes 'e' i així successivament."
   ]
  },
  {
   "cell_type": "code",
   "execution_count": null,
   "metadata": {
    "hideCode": false
   },
   "outputs": [],
   "source": [
    "import sys\n",
    "\n",
    "vocals = [0, 0, 0, 0, 0]  # també podria ser: llista = [0]*5\n",
    "lletra = sys.stdin.read(1)\n",
    "\n",
    "while lletra != '.':\n",
    "    \n",
    "    if lletra == 'a':\n",
    "        vocals[0] = vocals[0] + 1\n",
    "    if lletra == 'e':\n",
    "        vocals[1] = vocals[1] + 1\n",
    "    if lletra == 'i':\n",
    "        vocals[2] = vocals[2] + 1\n",
    "    if lletra == 'o':\n",
    "        vocals[3] = vocals[3] + 1\n",
    "    if lletra == 'u':\n",
    "        vocals[4] = vocals[4] + 1\n",
    "\n",
    "\n",
    "    lletra = sys.stdin.read(1)\n",
    "\n",
    "#Donam resultats\n",
    "print(\"Hi ha: \" + str(vocals[0]) + \" lletres \\'a\\'\")\n",
    "print(\"Hi ha: \" + str(vocals[1]) + \" lletres \\'e\\'\")\n",
    "print(\"Hi ha: \" + str(vocals[2]) + \" lletres \\'i\\'\")\n",
    "print(\"Hi ha: \" + str(vocals[3]) + \" lletres \\'o\\'\")\n",
    "print(\"Hi ha: \" + str(vocals[4]) + \" lletres \\'u\\'\")\n",
    "\n",
    "\n"
   ]
  },
  {
   "cell_type": "markdown",
   "metadata": {},
   "source": [
    "#### Llistes com a paràmetres de subprogrames\n",
    "\n",
    "A causa de la mutabilitat de les llistes que fins ara hem mostrat, és a dir, la capacitat de ser modificades en temps d'execució, les llistes passades com a paràmetre d'un subprograma tenen un comportament diferent del que tenen les variables que hem emprat fins ara.\n",
    "Si passem una llista com a paràmetre d'un subprograma, sigui un procediment o una funció i hi fem qualsevol modificació, aquesta es veurà reflectida en la variable de l'àmbit extern que ha estat usada en el pas de paràmetre.\n",
    "\n",
    "Anem a veure un exemple:\n"
   ]
  },
  {
   "cell_type": "code",
   "execution_count": 5,
   "outputs": [
    {
     "name": "stdout",
     "output_type": "stream",
     "text": [
      "Llista abans de cridar al mètode afegeix_element:  []\n",
      "Llista despres de cridar al mètode afegeix_element:  [5]\n"
     ]
    }
   ],
   "source": [
    "\"Mètode que rep una llista i un element i afegeix l'element al final de la llista\"\n",
    "def afegeix_element(llista, element):\n",
    "\n",
    "    llista.append(element)\n",
    "\n",
    "ll_mutable = []\n",
    "\n",
    "print(\"Llista abans de cridar al mètode afegeix_element: \", ll_mutable)\n",
    "afegeix_element(ll_mutable, 5)\n",
    "print(\"Llista despres de cridar al mètode afegeix_element: \", ll_mutable)\n",
    "\n"
   ],
   "metadata": {
    "collapsed": false
   }
  },
  {
   "cell_type": "markdown",
   "source": [
    "#### Iterant sobre llistes\n",
    "\n",
    "Nosaltres ja coneixem l'operació d'iteració i sabem que les llistes són un tipus de dades iterable. Ara veurem com podem usar l'operador `for` per recórrer les llistes de manera automàtica. També com ho podem iterar mitjançant l'accés al seu índex:"
   ],
   "metadata": {
    "collapsed": false
   }
  },
  {
   "cell_type": "code",
   "execution_count": 66,
   "metadata": {},
   "outputs": [
    {
     "name": "stdout",
     "output_type": "stream",
     "text": [
      "Arta\n",
      "Sineu\n",
      "Alcudia\n",
      "Mancor\n",
      "Valldemossa\n"
     ]
    }
   ],
   "source": [
    "# Recorrer una llista obtenint cada un dels seus elements\n",
    "llista_pobles = [\"Arta\", \"Sineu\", \"Alcudia\", \"Mancor\", \"Valldemossa\"]\n",
    "\n",
    "for poble in llista_pobles: # el operador for ens torna cada un dels elements de la llista\n",
    "    print(poble)"
   ]
  },
  {
   "cell_type": "code",
   "execution_count": 67,
   "metadata": {},
   "outputs": [
    {
     "name": "stdout",
     "output_type": "stream",
     "text": [
      "0 9\n",
      "1 4.5\n",
      "2 3.0\n",
      "3 7\n",
      "4 6.5\n",
      "5 3\n",
      "[10, 5.5, 4.0, 8, 7.5, 4]\n"
     ]
    }
   ],
   "source": [
    "#Recorrer una llista amb els index per modificar valors\n",
    "\n",
    "notes = [9, 4.5, 3.0, 7, 6.5, 3]\n",
    "longitud = len(notes)\n",
    "\n",
    "for i in range(0, longitud): # recordau que la funció range ens crea una llista\n",
    "    print(i, notes[i])\n",
    "    notes[i] = notes[i] + 1\n",
    "    \n",
    "print(notes)\n",
    "    "
   ]
  },
  {
   "cell_type": "markdown",
   "metadata": {},
   "source": [
    "També podem usar el bucle `while` per operar amb llistes:"
   ]
  },
  {
   "cell_type": "code",
   "execution_count": 68,
   "metadata": {},
   "outputs": [
    {
     "name": "stdout",
     "output_type": "stream",
     "text": [
      "L'element més gran de la llista de notes es: 10\n"
     ]
    }
   ],
   "source": [
    "#Fare una cerca manual del valor mes gran en la llista\n",
    "\n",
    "idx = 0\n",
    "mes_gran = notes[idx] # posicio indexada per 0\n",
    "\n",
    "while idx < len(notes): # mentre no final\n",
    "    # Tractament de l'element actual\n",
    "    if notes[idx] > mes_gran:\n",
    "        mes_gran = notes[idx]\n",
    "        \n",
    "    idx = idx + 1 # Seguent element\n",
    "    \n",
    "# Donar resultats\n",
    "print(\"L'element més gran de la llista de notes es: \" + str(mes_gran))\n"
   ]
  },
  {
   "cell_type": "markdown",
   "metadata": {},
   "source": [
    "#### Exercicis\n",
    "\n",
    "**Exercici 1**\n",
    "\n",
    "Anem a fer una segona versió de l'exercici anterior però eliminant els 5 condicionals:"
   ]
  },
  {
   "cell_type": "code",
   "execution_count": null,
   "metadata": {
    "hideCode": false
   },
   "outputs": [],
   "source": [
    "import sys\n",
    "\n",
    "vocals = [0, 0, 0, 0, 0]  # també podria ser llista = [0]*5\n",
    "lletres = ['a', 'e', 'i', 'o', 'u']\n",
    "longitud = len(lletres)\n",
    "\n",
    "lletra = sys.stdin.read(1) # primer element\n",
    "\n",
    "# mentre no final\n",
    "while lletra != '.':\n",
    "\n",
    "    # Cerca dins la llista de lletres\n",
    "    idx = 0\n",
    "    while idx < longitud and lletra != lletres[idx]:\n",
    "        idx = idx + 1\n",
    "\n",
    "    if idx < longitud:\n",
    "        vocals[idx] = vocals[idx] + 1\n",
    "\n",
    "    lletra = sys.stdin.read(1)\n",
    "\n",
    "# Donam resultats\n",
    "for jdx in range(0, longitud):\n",
    "    print(\"Hi ha: \" + str(vocals[jdx]) + \" lletres \" + lletres[jdx])"
   ]
  },
  {
   "cell_type": "markdown",
   "metadata": {
    "hideCode": true
   },
   "source": [
    "**Exercici 2**\n",
    "\n",
    "Ara el que vull és modificar el programa anterior per saber quina és la vocal que apareix més cops en una seqüència acabada en punt:\n"
   ]
  },
  {
   "cell_type": "code",
   "execution_count": null,
   "metadata": {
    "hideCode": true
   },
   "outputs": [],
   "source": [
    "import sys\n",
    "\n",
    "vocals = [0, 0, 0, 0, 0]  # també podria ser llista = [0]*5\n",
    "lletres = ['a', 'e', 'i', 'o', 'u']\n",
    "longitud = len(lletres)\n",
    "\n",
    "lletra = sys.stdin.read(1)\n",
    "\n",
    "# Recorregut fins al final de la seqüència\n",
    "while lletra != '.':\n",
    "\n",
    "    idx = 0\n",
    "    while idx < longitud and lletra != lletres[idx]:\n",
    "        idx = idx + 1\n",
    "\n",
    "    if idx < longitud:\n",
    "        vocals[idx] = vocals[idx] + 1\n",
    "\n",
    "    lletra = sys.stdin.read(1)\n",
    "\n",
    "# Fare una cerca manual del valor mes gran en la llista\n",
    "idx = 0\n",
    "mes_gran = vocals[idx]  # posicio indexada per 0\n",
    "index_major = idx  # També necessitem saber quina es la vocal\n",
    "\n",
    "while idx < longitud:  # mentre no final\n",
    "    # Tractament de l'element actual\n",
    "    if vocals[idx] > mes_gran:\n",
    "        mes_gran = vocals[idx]\n",
    "        index_major = idx\n",
    "\n",
    "    idx = idx + 1  # Seguent element\n",
    "\n",
    "# Donar resultats\n",
    "print(\"La vocal que apareix més cops és: \" + lletres[index_major] +\" amb \" + str(vocals[index_major]) + \" aparicions\")\n"
   ]
  },
  {
   "cell_type": "markdown",
   "metadata": {},
   "source": [
    "**Exercici**\n",
    "\n",
    "Per acabar farem un darrer exercici, que uneix el tema anterior amb aquest. Mostrar invertides totes les paraules d'una seqüència."
   ]
  },
  {
   "cell_type": "code",
   "execution_count": null,
   "metadata": {
    "hideCode": false
   },
   "outputs": [],
   "source": [
    "import sys\n",
    "\n",
    "def botar_blancs():\n",
    "    global lletra # primer element\n",
    "\n",
    "    while lletra == ' ': # mentre no final\n",
    "        lletra = sys.stdin.read(1) # seguent element\n",
    "\n",
    "\n",
    "def llegir_paraula():\n",
    "    global lletra # primer element\n",
    "    paraula = []\n",
    "\n",
    "    while lletra != ' ' and lletra != '.': # mentre no final\n",
    "        paraula.append(lletra) # tractar element atual\n",
    "        lletra = sys.stdin.read(1) # seguent element\n",
    "\n",
    "    return paraula\n",
    "\n",
    "def imprimir_invertit(paraula):\n",
    "\n",
    "    darrera_lletra = len(paraula)-1\n",
    "    increment = -1\n",
    "\n",
    "    for i in range( darrera_lletra, -1, increment):\n",
    "        print(paraula[i], end=\"\")\n",
    "\n",
    "lletra = sys.stdin.read(1)\n",
    "botar_blancs() # primer element\n",
    "\n",
    "while lletra != '.': # mentre no final\n",
    "    #tractar element actual\n",
    "    paraula = llegir_paraula()\n",
    "    imprimir_invertit(paraula)\n",
    "    \n",
    "    print(\" \", end=\"\")\n",
    "    \n",
    "    # situar-se sobre el seguent element\n",
    "    botar_blancs()"
   ]
  },
  {
   "cell_type": "markdown",
   "source": [
    "### Tuples\n",
    "\n",
    "Python proporciona un altre tipus de col·lecció ordenada d'objectes anomenada tupla. Les tuples són idèntiques a les llistes en tots els aspectes, tret de les següents dues propietats:\n",
    "* Les tuples es defineixen especificant els elements entre parèntesis en comptes de claudàtors.\n",
    "* Les tuples **són immutables**.\n",
    "\n",
    "Les tuples normalment es creen emprant un conjunt de parèntesis. També es pot utilitzar la paraula reservada `tuple` com a constructor de tuples, aquesta funció rep una estructura iterable i retorna la mateixa informació transformada en tupla."
   ],
   "metadata": {
    "collapsed": false
   }
  },
  {
   "cell_type": "code",
   "execution_count": null,
   "outputs": [],
   "source": [
    "# Creació d'una tupla i us amb funcions\n",
    "vocals = ('a', 'e', 'i', 'o', 'u')\n",
    "\n",
    "# Operadors\n",
    "hi_es = 'u' in vocals\n",
    "\n",
    "print(hi_es)\n",
    "\n",
    "\n",
    "long = len(vocals)\n",
    "print(long)\n",
    "\n",
    "maxim = max(vocals)\n",
    "print(maxim)\n",
    "\n",
    "\n",
    "# Indexacio\n",
    "vocals[0] = 'A'"
   ],
   "metadata": {
    "collapsed": false
   }
  },
  {
   "cell_type": "markdown",
   "source": [
    "Les tuples es poden desempaquetar, és a dir, es poden transformar en variables individuals:"
   ],
   "metadata": {
    "collapsed": false
   }
  },
  {
   "cell_type": "code",
   "execution_count": null,
   "outputs": [],
   "source": [
    "a, e, i, o, u = vocals\n",
    "\n",
    "print(f'{a} - {e} - {i}')"
   ],
   "metadata": {
    "collapsed": false
   }
  },
  {
   "cell_type": "code",
   "execution_count": null,
   "outputs": [],
   "source": [
    "ei, o , u = vocals  # ens dona un error ja que hauria de posar 5 variables i no 3\n",
    "print(aei)"
   ],
   "metadata": {
    "collapsed": false
   }
  },
  {
   "cell_type": "code",
   "execution_count": null,
   "outputs": [],
   "source": [
    "a = 4\n",
    "b = 5\n",
    "tupla_int = (a, b)\n",
    "print(tupla_int)"
   ],
   "metadata": {
    "collapsed": false
   }
  },
  {
   "cell_type": "markdown",
   "source": [
    "Això ens és molt pràctic per construir funcions que retornen més d'un valor, no és una pràctica altament recomanable però pot ser molt útil en algunes situacions."
   ],
   "metadata": {
    "collapsed": false
   }
  },
  {
   "cell_type": "code",
   "execution_count": null,
   "outputs": [],
   "source": [
    "def retorna2():\n",
    "    a = 3\n",
    "    b = 4\n",
    "    return (a, b) # sería el mateix posar return a, b\n",
    "\n",
    "primer, segon = retorna2()\n",
    "\n",
    "print(primer)\n",
    "print(segon)"
   ],
   "metadata": {
    "collapsed": false
   }
  },
  {
   "cell_type": "markdown",
   "source": [
    "**Quan utilitzar una tupla en lloc d'una llista?**\n",
    "\n",
    "Quan no volem que les dades es puguin modificar. Si es pretén que els valors de la col·lecció es mantinguin constants durant tota la vida del programa cal usar una tupla en lloc d'una llista, ja que protegirà les dades contra una possible modificació accidental."
   ],
   "metadata": {
    "collapsed": false
   }
  },
  {
   "cell_type": "markdown",
   "source": [
    "### Strings\n",
    "\n",
    "Com ja sabem, la informació textual es representa a `Python` amb objectes de tipus `str`, normalment anomenats cadenes de caràcters o simplement _strings_. **En realitat els _strings_ són estructures iterables i a més també són immutables**. El fet de ser immutable implica que un cop hem creat un _string_ ja no el podrem modificar.\n",
    "\n",
    "Podem emprar el mètode _str_ per construir que rep qualsevol variable (objecte) de `Python` i retorna la seva representació en format textual. Ben aviat, serem nosaltres els que emprarem aquesta propietat per construir les nostres representacions.\n",
    "\n",
    "Així en el codi següent, a l'hora de realitzar la concatenació no estam modificant el string `a`, sino que n'estam creant un de nou."
   ],
   "metadata": {
    "collapsed": false
   }
  },
  {
   "cell_type": "code",
   "execution_count": null,
   "outputs": [],
   "source": [
    "a = \"m'encanta \"\n",
    "b = \"programar\"\n",
    "\n",
    "a = a + b"
   ],
   "metadata": {
    "collapsed": false
   }
  },
  {
   "cell_type": "markdown",
   "source": [
    "Si intentem modificar una posició d'un _string_, veurem que obtenim un error:"
   ],
   "metadata": {
    "collapsed": false
   }
  },
  {
   "cell_type": "code",
   "execution_count": null,
   "outputs": [],
   "source": [
    "str_a = \"pxogramacio\"\n",
    "str_a[1] = \"r\""
   ],
   "metadata": {
    "collapsed": false
   }
  },
  {
   "cell_type": "markdown",
   "source": [
    "#### Mètodes dels _strings_\n",
    "\n",
    "Totes les cadenes de caràcters implementen les operacions comunes de les seqüències, a continuació es mostra una col·lecció d'algunes d'elles. Podeu trobar la col·leció completa al [següent enllaç](https://docs.python.org/es/3/library/stdtypes.html#string-methods).\n",
    "\n",
    "\n",
    "- `str.capitalize()`: Retorna una còpia de la cadena amb el primer caràcter en majúscules i la resta en minúscules.\n",
    "\n",
    "- `str.casefold()`: Torna el text de la cadena, normalitzat a minúscules. Els textos normalitzats es poden utilitzar per fer cerques textuals independents de majúscules i minúscules.\n",
    "\n",
    "- `str.center(width[, fillchar])`: Retorna el text de la cadena, centrat en una cadena de longitud `width`. El farciment a esquerra i dreta es realitza usant el caràcter definit pel paràmetre `fillchar` (per defecte s'usa el caràcter espai ASCII).\n",
    "\n",
    "- `str.count(sub[, start[, end]])`: Retorna el nombre d'ocurrències no solapades de la cadena `sub` al rang [start, end].\n",
    "\n",
    "- `str.endswith(suffix[, start[, end]])`: Torna `True` si la cadena acaba amb el `suffix` especificat i `False` en cas contrari:\n",
    "\n",
    "- `str.find(sub[, start[, end]])`:  Retorna el menor índex de la cadena on es pot trobar la cadena `sub`, considerant només l'interval `s[start:end]`\n",
    "\n",
    "- `str.isdecimal()`: Torna `True` si tots els caràcters de la cadena són caràcters decimals i hi ha, almenys, un caràcter, en cas contrari, retorna `False`. Els caràcters decimals són aquells que es poden fer servir per formar números en base 10.\n",
    "\n",
    "- `str.isdigit()`: Torna `True` si tots els caràcters de la cadena són dígits i hi ha, almenys, un caràcter, en cas contrari, retorna `False`.\n",
    "\n",
    "- `str.islower()` : Torna `True`v si tots els caràcters de la cadena que tenen formes en majúscules i minúscules estan en minúscules i hi ha, almenys, un caràcter d'aquest tipus, en cas contrari, retorna `False`.\n",
    "\n",
    " - `str.isnumeric()`: Torna `True` si tots els caràcters de la cadena són caràcters numèrics i hi ha, almenys, un caràcter, en cas contrari, retorna `False`.\n",
    "\n",
    " - `str.join(iterable)`: Retorna una cadena de caràcters formada per la concatenació de les cadenes a l'iterable.\n",
    "\n",
    "- `str.split(set=None, maxsplit=-1)`: Retorna una llista amb les paraules que componen la cadena de caràcters original, usant com a separador el valor de `set`."
   ],
   "metadata": {
    "collapsed": false
   }
  },
  {
   "cell_type": "markdown",
   "source": [
    "### Diccionaris\n",
    "\n",
    "Un diccionari consisteix en una col·lecció **no ordenada** de parells de clau-valor. A diferència de les seqüències, indexades per un rang de nombres, els diccionaris són indexats per claus que poden ser de **qualsevol tipus immutable**; els *strings* i els nombres sempre poden ser claus. Les tuples es poden utilitzar com a claus. No podem emprar llistes com a claus, ja que les llistes es poden modificar.\n",
    "\n",
    "El millor és pensar en les claus del diccionari com un **conjunt**, on a cada element del conjunt li correspon un valor.\n",
    "\n",
    "A continuació teniu les seves operacions bàsiques:\n",
    "\n",
    "#### Creacio d'un diccionari nou:\n",
    "De manera molt similar a com ho hem après a fer amb les llistes, podem crear diccionaris usant la paraula reservada\n",
    "`dict` o de manera explícita usant claudàtors:"
   ],
   "metadata": {
    "collapsed": false
   }
  },
  {
   "cell_type": "code",
   "execution_count": null,
   "outputs": [],
   "source": [
    "dicc = dict()"
   ],
   "metadata": {
    "collapsed": false
   }
  },
  {
   "cell_type": "markdown",
   "source": [
    "També es podria construir així:"
   ],
   "metadata": {
    "collapsed": false
   }
  },
  {
   "cell_type": "code",
   "execution_count": null,
   "outputs": [],
   "source": [
    "dicc2 = {}"
   ],
   "metadata": {
    "collapsed": false
   }
  },
  {
   "cell_type": "markdown",
   "source": [
    "O amb alguns valors ja definits:"
   ],
   "metadata": {
    "collapsed": false
   }
  },
  {
   "cell_type": "code",
   "execution_count": null,
   "outputs": [],
   "source": [
    "dicc = {43142512: \"Joan Petit\",  44216793:\"Marina Aniram\", 44444444: \"Joan Petit\"}\n",
    "print(dicc)"
   ],
   "metadata": {
    "collapsed": false
   }
  },
  {
   "cell_type": "markdown",
   "source": [
    "#### Accedint als elements d'un diccionari\n",
    "\n",
    "En aquesta estructura no accedim als elements amb un índex, sinó que es fa amb el valor d'una clau."
   ],
   "metadata": {
    "collapsed": false
   }
  },
  {
   "cell_type": "code",
   "execution_count": null,
   "outputs": [],
   "source": [
    "# Insercio d'una parella clau - valor\n",
    "dicc[43142133] = \"Ororo Munroe\"\n",
    "\n",
    "\n",
    "# Inserció de noves parelles clau - valor\n",
    "dicc[41142133] = \"Kurt Wagner\"\n",
    "dicc[46094245] = \"Jean Gray\"\n",
    "dicc[40111134] = \"Robert Drake\"\n",
    "\n",
    "print(dicc)"
   ],
   "metadata": {
    "collapsed": false
   }
  },
  {
   "cell_type": "markdown",
   "source": [
    "#### Operadors, funcions i mètodes\n",
    "Seguim amb la descripció escrivint les operacions que es poden realitzar amb un diccionari.\n",
    "\n",
    "**Operadors**\n",
    "\n",
    "Als diccionaris també podem aplicar l'operador de pertinença ```in``` i el seu modificador ```not```"
   ],
   "metadata": {
    "collapsed": false
   }
  },
  {
   "cell_type": "code",
   "execution_count": null,
   "outputs": [],
   "source": [
    "# Consultam pertinença\n",
    "\n",
    "dni = 40111134\n",
    "print(\"Tenim el dni\", dni, \"? \")\n",
    "\n",
    "pertany = 40111134 in dicc\n",
    "print(pertany)\n",
    "\n",
    "print(dicc[dni])"
   ],
   "metadata": {
    "collapsed": false
   }
  },
  {
   "cell_type": "markdown",
   "source": [
    "**Funcions**\n",
    "\n",
    "Als diccionaris també podem usar la funció ```len``` que ens diu quants d'elements conté el diccionari.\n",
    "\n",
    "També podem usar les funcions ```max``` i ```min``` que ens retornen informació de les claus:"
   ],
   "metadata": {
    "collapsed": false
   }
  },
  {
   "cell_type": "code",
   "execution_count": null,
   "outputs": [],
   "source": [
    "longitud = len(dicc)\n",
    "print(longitud)\n",
    "\n",
    "valor_maxim = max(dicc)\n",
    "print(valor_maxim)"
   ],
   "metadata": {
    "collapsed": false
   }
  },
  {
   "cell_type": "markdown",
   "source": [
    "**Mètodes**\n",
    "\n",
    "A més de modificar i afegir elements usant els claudàtors també ho podem fer mitjançant mètodes propis dels\n",
    "diccionaris. A més, usant els mètodes adients podem obtenir la informació del diccionari en forma de llista, siguin:\n",
    "les claus, els valors o tuples clau-valor:\n",
    "\n",
    "Modificació:\n",
    "\n",
    "* ```clear```: Elimina totes les parelles clau-valor del diccionari.\n",
    "* ```get```: Ens retorna el valor de la clau que passem per paràmetre, si la clau no existeix, retorna Error.\n",
    "* ```pop```: Elimina la clau del diccionari i ens torna el seu valor, si no existeix retorna Error."
   ],
   "metadata": {
    "collapsed": false
   }
  },
  {
   "cell_type": "code",
   "execution_count": null,
   "outputs": [],
   "source": [
    "# get\n",
    "clau = 40111134\n",
    "valor =  dicc.get(clau)\n",
    "print(valor)\n",
    "\n",
    "# pop\n",
    "#clau2 = 43142133\n",
    "valor = dicc.pop(clau2)   # error si una clau no existeix\n",
    "\n",
    "print(valor)\n",
    "\n",
    "nombre_elements = len(dicc)\n",
    "print(nombre_elements)\n",
    "\n",
    "\n",
    "# clear\n",
    "#dicc.clear()\n",
    "print(dicc)"
   ],
   "metadata": {
    "collapsed": false
   }
  },
  {
   "cell_type": "markdown",
   "source": [
    "Consulta:\n",
    "\n",
    "* ``` keys```: mètode que ens retorna una llista amb el conjunt de claus que hi ha al diccionari.\n",
    "* ``` values```: mètode que ens retorna una llista amb els valors que hi ha al diccionari.\n",
    "* ``` items```: mètode que ens retorna una llista de tuples. Cada tupla té una clau i el seu valor corresponent.\n",
    "\n",
    "És important destacar 2 coses:\n",
    "\n",
    "  * Les llistes que obtenim de les operacions anteriors, poden no seguir l'ordre d'inserció.\n",
    "  * Obtenir llistes ens dona la possibilitat d'iterar sobre elles usant un bucle definit `for`."
   ],
   "metadata": {
    "collapsed": false
   }
  },
  {
   "cell_type": "code",
   "execution_count": null,
   "outputs": [],
   "source": [
    "#Del nostre diccionari en podem obtenir les claus amb el metode keys()\n",
    "print(\"Claus\", end= \" -> \")\n",
    "print(dicc.keys())\n",
    "\n",
    "\n",
    "#Podem tenir tots els valors\n",
    "print(\"Valors\", end= \" -> \")\n",
    "print(dicc.values())\n",
    "\n",
    "#Tambe podem obtenir totes les parelles clau - valor en format llista de tuples\n",
    "print(\"Parelles\", end= \" -> \")\n",
    "print(dicc.items())\n",
    "\n",
    "print(\"Iteracions\")\n",
    "print(\"Iteracio sobre les claus d'un diccionari: \")\n",
    "for clau in dicc.keys():\n",
    "    print(clau, end= \" \")\n",
    "    print(\"\")\n",
    "\n",
    "print(\"Iteracio sobre les claus valors d'un diccionari: \")\n",
    "\n",
    "for item in dicc.items():\n",
    "    clau, valor = item # Desempaquetam els valors d'una tupla\n",
    "    print(valor, end= \" \")\n",
    "\n",
    "\n",
    "#NOTA: Aquest for es pot fer d'almanco una altra manera mes: desempaquetar a l'encapçalament\n",
    "\n",
    "for clau, valor in dicc.items():\n",
    "    print(clau)\n"
   ],
   "metadata": {
    "collapsed": false
   }
  },
  {
   "cell_type": "markdown",
   "source": [
    "Les llistes i els diccionaris són dos dels tipus `Python` més usats. Com heu vist, tenen diverses similituds, però\n",
    "difereixen en com s’accedeix als seus elements. Recordem que s'accedeix als elements de les llistes mitjançant un índex\n",
    "numèric en funció de l'ordre i al diccionari s'hi accedeix mitjançant claus.\n",
    "\n",
    "A causa d'aquesta diferència, les llistes i diccionaris són adequats per a circumstàncies diferents."
   ],
   "metadata": {
    "collapsed": false
   }
  },
  {
   "cell_type": "markdown",
   "source": [
    "### List comprehension\n",
    "\n",
    "Ens proporcionen una manera concisa de crear llistes a partir d'altres llistes. Les aplicacions més habituals són la\n",
    "creació de noves llistes en què cada element és el resultat d’alguna operació aplicada a cada membre d’una altra\n",
    "seqüència per crear una subseqüència d'aquells elements que satisfan una determinada condició.\n",
    "\n",
    "`nova_llista = [ expresio for element in iterable]`\n",
    "\n",
    "Per exemple, suposem que volem crear una llista dels quadrats dels nombres entre 0 i 10:"
   ],
   "metadata": {
    "collapsed": false
   }
  },
  {
   "cell_type": "code",
   "execution_count": null,
   "outputs": [],
   "source": [
    "# Manera tradicional\n",
    "quadrats = []\n",
    "for x in range(0, 10):\n",
    "    quadrats.append(x**2)\n",
    "\n",
    "print(quadrats)\n",
    "# La manera de generar aquesta mateixa llista amb list comprehension:\n",
    "llista_original = (0,1,2,3,4,5,6,7,8,9)\n",
    "quadrats_2 = [x**2 for x in llista_original]\n",
    "print(quadrats_2)"
   ],
   "metadata": {
    "collapsed": false
   }
  },
  {
   "cell_type": "markdown",
   "source": [
    "A continuació teniu varis exemples del seu ús:"
   ],
   "metadata": {
    "collapsed": false
   }
  },
  {
   "cell_type": "code",
   "execution_count": null,
   "outputs": [],
   "source": [
    "vec = [-4, -2, 0, 2, 4]\n",
    "\n",
    "# donada una llista, multiplicam per dos cada un dels seus valors\n",
    "r1 = [x*2 for x in vec]\n",
    "print(r1)"
   ],
   "metadata": {
    "collapsed": false
   }
  },
  {
   "cell_type": "code",
   "execution_count": null,
   "outputs": [],
   "source": [],
   "metadata": {
    "collapsed": false
   }
  },
  {
   "cell_type": "code",
   "execution_count": null,
   "outputs": [],
   "source": [
    "# podem aplicar funcions a cada un dels elements\n",
    "r3 = [abs(x) for x in vec]\n",
    "print(r3)"
   ],
   "metadata": {
    "collapsed": false
   }
  },
  {
   "cell_type": "code",
   "execution_count": null,
   "outputs": [],
   "source": [
    "# tenim molta flexibilitat, per exemple:\n",
    "r5 = [(x, x**2) for x in range(6)]\n",
    "print(r5)\n",
    "\n",
    "\n",
    "nombre, quadrat = r5[len(r5)-1]\n",
    "print(nombre)\n",
    "print(quadrat)"
   ],
   "metadata": {
    "collapsed": false
   }
  },
  {
   "cell_type": "markdown",
   "source": [
    "### La funció *zip*\n",
    "\n",
    "La funció `zip` pren una o més seqüències i combina els elements corresponents de cada una d'elles en una\n",
    "llista on cada element d'aquesta llista és una tupla. Es deté quan s'esgota la seqüència més curta.\n",
    "\n",
    "Anem a veure un exemple:"
   ],
   "metadata": {
    "collapsed": false
   }
  },
  {
   "cell_type": "code",
   "execution_count": null,
   "outputs": [],
   "source": [
    "l = list(range(18))\n",
    "l2 = list(range(6))\n",
    "\n",
    "z = list(zip(l,l2))\n",
    "\n",
    "print(\"Resultat d'executar zip\")\n",
    "print(z)\n",
    "\n",
    "for element in z:\n",
    "\n",
    "    print(str(element[0]) + \" - \" + str(element[1]))"
   ],
   "metadata": {
    "collapsed": false,
    "pycharm": {
     "is_executing": true
    }
   }
  },
  {
   "cell_type": "markdown",
   "source": [
    "Anem a veure un exemple que permet sumar els elements de dues llistes:"
   ],
   "metadata": {
    "collapsed": false
   }
  },
  {
   "cell_type": "code",
   "execution_count": null,
   "outputs": [],
   "source": [
    "import random\n",
    "\n",
    "# Agafam 6 mostres d'una llista que te els elements de 0 a 99\n",
    "l3 = random.sample(range(100), 6)\n",
    "\n",
    "print(\"Llista generada aleatòriament\")\n",
    "print(l3)\n",
    "print(\"Llista simple\")\n",
    "print(l)\n",
    "\n",
    "zipat = zip(l,l3)\n",
    "print(list(zipat))"
   ],
   "metadata": {
    "collapsed": false
   }
  },
  {
   "cell_type": "code",
   "execution_count": null,
   "outputs": [],
   "source": [
    "# En aquest exemple aplicam un list comprehension a la funcio zip\n",
    "suma = [x + y for x, y in zip(l, l3)]\n",
    "\n",
    "print(\"Suma\")\n",
    "print(suma)"
   ],
   "metadata": {
    "collapsed": false
   }
  },
  {
   "cell_type": "code",
   "execution_count": null,
   "outputs": [],
   "source": [
    "longitud = len(l3)-1\n",
    "\n",
    "sumatori = []\n",
    "for i in range(0, longitud):\n",
    "\n",
    "    sumat = l[i] + l3[i]\n",
    "    sumatori.append(sumat)\n",
    "print(sumatori)"
   ],
   "metadata": {
    "collapsed": false
   }
  },
  {
   "cell_type": "markdown",
   "source": [
    "**Exercicis**\n",
    "\n",
    "1. Donada una llista amb els nombres d'1 a 100, obtenir una llista amb els senars.\n",
    "2. Donada una llista amb tots els nombres d'1 a 7000, eliminar tots els múltiples de 7.\n",
    "3. Crear un llista de tuples que tingui els primers 50 nombres parells, juntament amb els 50 primers nombres que no\n",
    "són múltiple de 7."
   ],
   "metadata": {
    "collapsed": false
   }
  },
  {
   "cell_type": "code",
   "execution_count": null,
   "outputs": [],
   "source": [
    "### 1\n",
    "llista_1_100 = range(1, 101)\n",
    "\n",
    "llista_senars = [x for x in llista_1_100 if x % 2 == 1]\n",
    "\n",
    "#print(llista_senars)\n",
    "\n",
    "#2\n",
    "llista_7 = [x for x in range(1, 7001) if x % 7 != 0]\n",
    "\n",
    "#print(llista_7)\n",
    "\n",
    "#3\n",
    "\n",
    "zippat = zip(llista_senars, llista_7)\n",
    "print(list(zippat))"
   ],
   "metadata": {
    "collapsed": false
   }
  },
  {
   "cell_type": "markdown",
   "source": [
    "### Funcions lambda\n",
    "\n",
    "A `Python`, utilitzem la paraula clau `lambda` per declarar una funció anònima. Una funció anònima fa referència a\n",
    "una funció declarada sense nom.\n",
    "\n",
    "Tot i que sintàcticament semblen diferents, les funcions lambda es comporten de la mateixa manera que les funcions\n",
    "regulars que es declaren usant la paraula clau `def`.\n",
    "\n",
    "Les característiques de les funcions lambda de `Python` són les següents:\n",
    "\n",
    "* Una funció lambda pot prendre qualsevol nombre d’arguments.\n",
    "* De forma sintàctica, les funcions lambda només **es limiten a una sola expressió**. Recordar que una expressió és una\n",
    "peça de codi que executarà per la funció lambda.\n",
    "\n",
    "La seva sintaxi és: `lambda argument(s): expressio`\n",
    "\n",
    "Anem a veure un exemple de la seva aplicació:"
   ],
   "metadata": {
    "collapsed": false
   }
  },
  {
   "cell_type": "code",
   "execution_count": null,
   "outputs": [],
   "source": [
    "def divisible2(num):\n",
    "    return num % 2 == 0\n",
    "\n",
    "# es equivalent a:\n",
    "\n",
    "f = lambda num: num % 2 == 0\n",
    "\n",
    "print(f(22))\n",
    "\n",
    "# no es necessari ni tan sols assignar un identificador\n",
    "\n",
    "print((lambda num: num % 2 == 0)(5))\n",
    "\n",
    "# poden tenir el nombre de paràmetres que vulguem\n",
    "s = lambda x, y, z:  x+y+z\n",
    "\n",
    "print(s(5, 5, 10))"
   ],
   "metadata": {
    "collapsed": false,
    "pycharm": {
     "is_executing": true
    }
   }
  },
  {
   "cell_type": "markdown",
   "source": [
    "Les funcions anònimes `lambda` s’utilitzen quan necessitem una funció durant un període curt de temps. Normalment\n",
    "s'utilitzen quan es vol passar una funció com a argument per a funcions d'ordre superior, és a dir, funcions que\n",
    "prenen altres funcions com a arguments."
   ],
   "metadata": {
    "collapsed": false
   }
  },
  {
   "cell_type": "markdown",
   "source": [
    "### Yield\n",
    "\n",
    "Els generadors són un tipus d’iterador els elements dels quals només podem usar una vegada. Els generadors no\n",
    "emmagatzemen tots els valors de l'iterador en la memòria, a diferència de les llistes, els generen sobre la marxa.\n",
    "\n",
    "`yield` és una paraula clau que s'utilitza com a `return` d'una funció, excepte que la funció retornarà un generador.\n",
    "\n",
    "Vegem un exemple en codi:"
   ],
   "metadata": {
    "collapsed": false
   }
  },
  {
   "cell_type": "code",
   "execution_count": null,
   "outputs": [],
   "source": [
    "#Primer exemple\n",
    "def generador_simple():\n",
    "    print(\"Inici\")\n",
    "    yield 1\n",
    "    yield 2\n",
    "    yield 3\n",
    "    yield 25\n",
    "\n",
    "generador = generador_simple()\n",
    "\n",
    "print(next(generador))\n",
    "print(next(generador))\n",
    "print(next(generador))\n",
    "\n",
    "nou_valor = next(generador)\n",
    "print(nou_valor)"
   ],
   "metadata": {
    "collapsed": false
   }
  },
  {
   "cell_type": "markdown",
   "source": [
    "És important entendre que quan es crida a la funció generadora, el codi d'aquesta funció no s’executa, la funció només\n",
    "retorna l’objecte del generador. Un cop que emprem per primera vegada que usem el nostre generador el codi de la\n",
    "nostra funció s'executarà des del principi fins que arribi a la paraula reservada `yield`, i tornarà el primer valor\n",
    ". A continuació, cada una de les altres cridades del nostre generador executarà el codi de la funció fins tobar un\n",
    "altre cop el `yield` o fins acabar i per tant sortir de la funció.\n",
    "\n",
    "El generador es considera buit una vegada que la funció s’executa, però ja no es produeix un nou valor. Pot ser que\n",
    "el bucle hagi acabat, o perquè ja no es satisfà una certa condició.\n",
    "\n",
    "A continuació tenim un exemple que ens permet generar tants elements de la successió de Fibonacci com necessitem."
   ],
   "metadata": {
    "collapsed": false
   }
  },
  {
   "cell_type": "code",
   "execution_count": null,
   "outputs": [],
   "source": [
    "\n",
    "def Fibo():\n",
    "    pre1 = 1\n",
    "    pre2 = 1\n",
    "    suma = 1\n",
    "    yield suma\n",
    "    while True:\n",
    "        yield suma\n",
    "        suma = pre1 + pre2\n",
    "        pre1 = pre2\n",
    "        pre2 = suma"
   ],
   "metadata": {
    "collapsed": false
   }
  },
  {
   "cell_type": "markdown",
   "source": [
    "I com el podem emprar per generar 32 nombres d'aquesta successió:"
   ],
   "metadata": {
    "collapsed": false
   }
  },
  {
   "cell_type": "code",
   "execution_count": null,
   "outputs": [],
   "source": [
    "generador = Fibo()\n",
    "i = 0\n",
    "while i < 33:\n",
    "\n",
    "    print(next(generador))\n",
    "\n",
    "    i += 1\n",
    "\n",
    "\n"
   ],
   "metadata": {
    "collapsed": false
   }
  }
 ],
 "metadata": {
  "celltoolbar": "Hide code",
  "colab": {
   "name": "Tema5_llistes.ipynb",
   "provenance": [],
   "version": "0.3.2"
  },
  "kernelspec": {
   "display_name": "Python 3",
   "language": "python",
   "name": "python3"
  },
  "language_info": {
   "codemirror_mode": {
    "name": "ipython",
    "version": 3
   },
   "file_extension": ".py",
   "mimetype": "text/x-python",
   "name": "python",
   "nbconvert_exporter": "python",
   "pygments_lexer": "ipython3",
   "version": "3.7.4"
  }
 },
 "nbformat": 4,
 "nbformat_minor": 1
}
