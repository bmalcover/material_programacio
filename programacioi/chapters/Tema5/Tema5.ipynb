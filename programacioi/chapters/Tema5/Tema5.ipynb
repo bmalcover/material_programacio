{
 "cells": [
  {
   "cell_type": "markdown",
   "metadata": {},
   "source": [
    "# Tema 5\n",
    "\n",
    "## Dades estructurades\n",
    "\n",
    "Amb les eines i tècniques que hem après fins aquest moment hi ha problemes que encara que seríem capaços de programar\n",
    "però que la seva resolució ens obligaria a crear un nombre molt gran de variables o a usar estratègies que ens farien\n",
    "l'implementació del programa molt pesada, pensem en:\n",
    "\n",
    "* Un programa que compta quants cops apareix cada lletra de l'abecedari.\n",
    "* Mostrar la vocal que més cops apareix en un text. \n",
    "    \n",
    "D'altres problemes que pareixen senzills de resoldre ni tan sols som capaços de fer l'implementació del programa\n",
    "corresponent ja que sembla que ens falten eines per fer-ho. Posem per exemple els següents problemes.\n",
    "\n",
    "* Donada una seqüència acabada en punt, poder mostrar-la girada per pantalla.\n",
    "* Comptar el nombre d'aparicions de la primera paraula en un text.\n",
    "* Guardar una relació de notes d'un examen, on tinguem el DNI d'un estudiant i la seva nota associada.\n"
   ]
  },
  {
   "cell_type": "markdown",
   "metadata": {},
   "source": [
    "### Dades simples i estructurades\n",
    "\n",
    "Això és degut que fins al moment nosaltres hem definit les **variables** com a **dades simples**, cada variable\n",
    "guarda un únic valor d'únic tipus de dades.\n",
    "\n",
    "En aquest tema introduirem el concepte de **dades estructurades** o dades compostes que ens permetran agrupar\n",
    "conjunts de valors en una única variable.\n",
    "\n",
    "Així com no hi ha un únic tipus de dades elemental, tampoc hi ha una única manera de dotar d'estructura a les nostres\n",
    "dades. Durant aquest capítol en veurem les més rellevants:\n",
    "\n",
    "* Llistes\n",
    "* Tuples\n",
    "* Diccionaris\n",
    "* Classes\n",
    "\n",
    "Derivat del coneixement d'aquestes estructures també descobrirem noves capacitats del llenguatge:\n",
    "\n",
    "* _List comprehension_\n",
    "* Funcions _lambda_\n",
    "* Funcions _map_ i _filter_\n",
    "* Funcions generadores de seqüències\n",
    "\n"
   ]
  }
 ],
 "metadata": {
  "kernelspec": {
   "display_name": "Python 3",
   "language": "python",
   "name": "python3"
  },
  "language_info": {
   "codemirror_mode": {
    "name": "ipython",
    "version": 3
   },
   "file_extension": ".py",
   "mimetype": "text/x-python",
   "name": "python",
   "nbconvert_exporter": "python",
   "pygments_lexer": "ipython3",
   "version": "3.7.4"
  }
 },
 "nbformat": 4,
 "nbformat_minor": 2
}