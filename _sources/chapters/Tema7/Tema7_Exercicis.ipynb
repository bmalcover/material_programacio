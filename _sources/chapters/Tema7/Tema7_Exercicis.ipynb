{
 "cells": [
  {
   "cell_type": "markdown",
   "metadata": {
    "collapsed": true,
    "pycharm": {
     "name": "#%% md\n"
    }
   },
   "source": [
    "## Exercicis Tema 7\n",
    "\n",
    "1.\tModifica l’algorisme de la bombolla per canviar el seu criteri d’ordenació, ara volem que ho faci de major a\n",
    "menor. Prova el seu correcte funcionament amb una llista que pots posar directament al teu programa.\n",
    "2.\tGenera una llista de 100 elements amb valors entre 1 i 5000. Ordena aquesta llista usant l’algorisme de la\n",
    "bombolla que has modificat en l’exercici anterior. Fes que l’usuari pugui introduir un valor per cercar i fes una\n",
    "cerca lineal que aprofiti el fet que la llista està ordenada per aturar si ja sabem que no trobarem l’element que cercam\n",
    "3.\tLlegeix els noms del fitxer noms.txt que tens a l’aula digital i guardal’s tots en una llista. Ordena aquesta\n",
    "segons l’ordre alfabètic de la seva primera lletra usant l’algorisme de la bombolla, mostra la llista ordenada per\n",
    "pantalla, cada nom a una línia.\n",
    "4.\tModifica l’exercici anterior per comparar l’ordre alfabètic de tot el nom. Et serà útil tenir una funció que ens\n",
    "digui si un nom és major a un altre. Aquest exercici és d’una dificultat més alta.\n"
   ]
  }
 ],
 "metadata": {
  "kernelspec": {
   "display_name": "Python 3",
   "language": "python",
   "name": "python3"
  },
  "language_info": {
   "codemirror_mode": {
    "name": "ipython",
    "version": 2
   },
   "file_extension": ".py",
   "mimetype": "text/x-python",
   "name": "python",
   "nbconvert_exporter": "python",
   "pygments_lexer": "ipython2",
   "version": "2.7.6"
  }
 },
 "nbformat": 4,
 "nbformat_minor": 0
}