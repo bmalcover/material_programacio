{
 "cells": [
  {
   "cell_type": "markdown",
   "metadata": {},
   "source": [
    "# Tema 7\n",
    "\n",
    "## Disseny algorísmic\n",
    "\n",
    "\n",
    "Hem dedicat tot el curs aprendre a fer programes que funcionin de la manera esperada en tots els casos, que siguin\n",
    "fàcils d'entendre i també de modificar.\n",
    "\n",
    "Per altra banda, no ens hem preocupat gens del temps que tarden els nostres programes ni de la qualitat dels nostres\n",
    "algorismes. Un exemple clar són els exercicis del Tema 4 on hem treballat amb seqüències numèriques on la nostra\n",
    "estratègia era la d'usar la força bruta per fer una cerca en tot el rang de valors disponibles.\n",
    "\n",
    "En aquest tema realitzarem una introducció al concepte de cost computacional dels algorismes, analitzarem els\n",
    "algorismes de cerca i introduirem els algorismes d'ordenació.\n",
    "\n",
    "L'ordenació és una aplicació fonamental en computació. La majoria de les dades produïdes per un programa estan\n",
    "ordenades d'alguna manera, i molts dels còmputs que ha de realitzar un programa són més eficients si les dades sobre\n",
    "els quals operen estan ordenades. Un dels tipus d'operació que més es beneficien d'operar sobre un conjunt de dades\n",
    "ordenades és la recerca d'una informació.\n",
    "\n"
   ]
  },
  {
   "cell_type": "markdown",
   "metadata": {},
   "source": [
    "## Complexitat Computacional\n",
    "\n",
    "A classe hem vist que el mateix problema pot tenir diferents solucions, cada una d'aquestes solucions pot tenir\n",
    "diferent eficiència (rapidesa d'execució). Així, per exemple, un problema tan fàcil com multiplicar dos nombres\n",
    "enters és resolt mitjançant dos algoritmes diferents a Anglaterra i la resta d'Europa. Una altra forma molt més\n",
    "curiosa de realitzar la multiplicació dels nombres enters és el mètode rus, un mètode més complex que els anteriors i\n",
    " que requereix realitzar un nombre d'operacions matemàtiques bastant superior, tot i que obté el mateix resultat.\n",
    "\n",
    "[Més informació de la multiplicació rusa](https://es.wikipedia.org/wiki/Multiplicaci%C3%B3n_por_duplicaci%C3%B3n)\n",
    "\n",
    "\n",
    "\n",
    "Quan hem de seleccionar un algorisme per resoldre un determinat problema és important determinar els recursos\n",
    "computacionals necessaris: temps de computació i espai d'emmagatzematge en memòria, de moment no ens ocuparem de\n",
    "l'espai d'emmagatzematge. **L'eficiència d'un algoritme no pot mesurar-se en unitats de temps, ja que cada ordinador\n",
    "té característiques pròpies i el temps pot variar.**\n",
    "\n",
    "**Principi d'invariància**\n",
    "\n",
    "Per estudiar la complexitat computacional dels algoritmes es pren per cert el principi de invariància: *dues\n",
    "implementacions diferents del mateix algoritme no difereixen en la seva eficiència més que en una constant\n",
    "multiplicativa*; és a dir, si dues implementacions del mateix algorisme necessiten t(n)<sub>1</sub> i t(n)\n",
    "<sub>2</sub> unitats de temps, on *n* és la mida de el vector d'entrada, llavors hi ha un c > 0 tal que t(n)\n",
    "<sub>1</sub> < c * t(n)<sub>2</sub>.\n",
    "\n",
    "Aquest principi permet concloure que un canvi en la màquina on s'executa un algorisme proporciona una millora d'un\n",
    "factor constant, mentre que les millores que depenen del nombre de dades que processa l'algoritme hauran de venir\n",
    "donades per canvis en el propi algorisme.\n",
    "\n",
    "**Cost computacional d'un algorisme**\n",
    "\n",
    "El càlcul de l'eficiència d'un algorisme es basa en comptar el nombre d'operacions elementals que realitza. Per\n",
    "operació elemental s'entén una operació el temps d'execució de la qual és constant. En la següent imatge veim les\n",
    "funcions dels costs computacionals més usats i el seu increment d'execució en unitats de temps segons l'increment de\n",
    "la mida del conjunt de dades a tractar.\n",
    "\n",
    "\n",
    "```{figure} ../img/cost.png\n",
    ":alt: Imatge costs\n",
    ":width: 400px\n",
    ":align: center\n",
    "\n",
    "Funcions de cost. TODO: posar referencia.\n",
    "```"
   ]
  },
  {
   "cell_type": "markdown",
   "metadata": {},
   "source": [
    "## Algorismes de cerca\n",
    "\n",
    "Nosaltres ja hem treballat els algorismes de cerca, de manera general, un problema de cerca es pot enunciar de la\n",
    "següent manera: *donat un conjunt d'elements, determinar si un element es troba en el conjunt o no*.\n",
    "\n",
    "Fins ara només hem vist un tipus de cerca però veurem que en tenim certes variacions. L'elecció depèn de la forma en\n",
    "què es troben organitzades les dades: si es troben ordenades o si s'ignora la seva disposició o si es sap que estan\n",
    "generades a l'atzar.\n",
    "\n",
    "### Cerca seqüèncial\n",
    "\n",
    "És l'algoritme de cerca més simple, menys eficient i que menys precondicions requereix: no requereix coneixements\n",
    "sobre el conjunt de recerca ni accés aleatori. Consisteix en comparar cada element del conjunt de recerca amb el\n",
    "valor desitjat fins que aquest sigui trobat o fins que trobem el final de la seqüència. El pitjor dels casos\n",
    "consisteix en haver de comparar amb tots els elements de la seqüència abans de poder dir si l'element és allà o no,\n",
    "direm que el seu cost computacional és lineal, ja que depen linealment del nombre d'elements.\n",
    "\n",
    "**Algorisme**\n",
    "\n",
    "Dades necessàries\n",
    "  * vec: llista en la que es vol cercar la dada\n",
    "  * mida: mida del vector\n",
    "  * dada: element a cercar\n",
    "\n",
    "Variables necessàries\n",
    "  * trobat: variable booleana\n",
    "  * idx: index a consultar\n",
    "\n",
    "```\n",
    "\n",
    "trobat = False\n",
    "idx = 0 \n",
    "\n",
    "mentre idx < mida i no trobat:    \n",
    "    si vec[idx] ==  dada:\n",
    "        trobat = True\n",
    "        \n",
    "    idx = idx + 1\n",
    "            \n",
    "        \n",
    "```"
   ]
  },
  {
   "cell_type": "markdown",
   "metadata": {},
   "source": [
    "### Cerca binaria o dicotòmica\n",
    "\n",
    "És un mètode molt eficient, però té diversos prerequisits: \n",
    "\n",
    "* El conjunt de cerca ha d'estar ordenat. \n",
    "* Es pot accedir als diversos elements de la seqüència. Accés aleatòri.\n",
    "\n",
    "Aquest algoritme compara la dada cercada amb l'element central del conjunt. Segons sigui menor o major es prossegueix\n",
    " la recerca amb el subconjunt anterior o posterior, respectivament a l'element central, i així successivament.\n",
    "\n",
    "**Algorisme**\n",
    "\n",
    "Dades necessàries\n",
    "  * vec: llista en la qual es vol cercar la dada\n",
    "  * mida: mida del vector\n",
    "  * dada: element a cercar\n",
    "\n",
    "Variables necessàries\n",
    "  * centre: subindex central de l'interval\n",
    "  * inf: límit inferior de l'interval\n",
    "  * sup: límit superior de l'interval\n",
    "  \n",
    "```\n",
    "inf = 0\n",
    "sup = mida-1\n",
    "trobat = False\n",
    "\n",
    "mentre inf <= sup i no trobat:\n",
    "  centre = ((sup - inf) / 2) + inf \n",
    "  si vec[centre] == dada:\n",
    "      trobat = True\n",
    "  sino dada < vec[centre]:\n",
    "      sup = centre - 1\n",
    "  sino:\n",
    "      inf = centre + 1\n",
    "\n",
    "```\n",
    "\n",
    "En el millor cas, la dada és l'element que es troba a la meitat, es realitza 1 iteració. En el cas més desfavorable,\n",
    "el nombre d'iteracions és el menor enter K que verifica 2<sup>K</sup> = mida del conjunt. El seu ordre de complexitat\n",
    "és logarítmic, això implica que quant realitzam una cerca binaria només comparam amb el log<inf>2</inf> del nombre\n",
    "d'elements en el conjunt.\n",
    "\n",
    "\n",
    "A continuació veureu una taula que compara la cerca binària amb la cerca seqüencial. Es comprova que per a conjunts\n",
    "de dades grans la recerca binària segueix sent eficient mentre que la seqüencial es va degradant. La taula mostra el\n",
    "nombre d'elements a avaluar per un i altre algorisme per trobar un element en un conjunt de dades.\n",
    "\n",
    "| Mida del conjunt | Cerca seqüèncial | Cerca binaria |\n",
    "|------------------|------------------|---------------|\n",
    "| 1                | 1                | 1             |\n",
    "| 10               | 10               | 4             |\n",
    "| 1000             | 1000             | 11            |\n",
    "| 5000             | 5000             | 14            |\n",
    "| 100000           | 100000           | 18            |\n",
    "| 1000000          | 1000000          | 21            |"
   ]
  },
  {
   "cell_type": "markdown",
   "metadata": {},
   "source": [
    "A continuació teniu una comparació gràfica dels mètodes de cerca lineal i dicotòmica.\n",
    "\n",
    "```{figure} ../img/linealvsdico.jpg\n",
    ":alt: Imatge costs\n",
    ":width: 450px\n",
    ":align: center\n",
    "\n",
    "Comparació gràfica entre la cerca lineal i la dicotòmica.\n",
    "```\n",
    "\n",
    "\n",
    "En aquest enllaç teniu una comparació visual dels dos algorismes [Aquí](https://blog.penjee.com/wp-content/uploads/2015/04/binary-and-linear-search-animations.gif)"
   ]
  },
  {
   "cell_type": "markdown",
   "metadata": {},
   "source": [
    "### Implementacio de les cerques\n",
    "\n",
    "A continuació teniu l'implementació dels dos tipus de cerques en una funció que retorna un valor booleà que defineix\n",
    "si ha trobat o no l'element. Les dues funcions reben 2 paràmetres, el conjunt sobre el qual cercar i el valor a cercar."
   ]
  },
  {
   "cell_type": "code",
   "execution_count": 138,
   "metadata": {},
   "outputs": [],
   "source": [
    "import random\n",
    "\n",
    "def generar_llista(n_elements, creixent=True):\n",
    "    \n",
    "    llista = [1]\n",
    "    for i in range(1, n_elements):\n",
    "        aleatori = random.randint(1, 9)\n",
    "        # si es creixent sera ordenada\n",
    "        if creixent:\n",
    "            aleatori += llista[i-1]\n",
    "        \n",
    "        llista.append(aleatori)\n",
    "        \n",
    "    return llista"
   ]
  },
  {
   "cell_type": "code",
   "execution_count": 139,
   "metadata": {},
   "outputs": [],
   "source": [
    "def cerca_sequencial(llista, x):\n",
    "    \n",
    "    trobat = False\n",
    "    i = 0\n",
    "    while i < len(llista) and not trobat:\n",
    "        if  llista[i] == x:\n",
    "            trobat = True\n",
    "        \n",
    "        i = i + 1\n",
    "    \n",
    "    return trobat"
   ]
  },
  {
   "cell_type": "code",
   "execution_count": 112,
   "metadata": {},
   "outputs": [],
   "source": [
    "def cerca_binaria(llista, x):\n",
    "\n",
    "    esq = 0 # esq guarda l'index de l'inici del segment\n",
    "    dret = len(llista) -1 # dret guarda l'index del final del segment\n",
    "\n",
    "    trobat = False\n",
    "    while esq <= dret and not trobat: #mentre \n",
    "\n",
    "        mitj = (esq + dret) // 2  # sempre calculam\n",
    "\n",
    "        print(\"DEBUG:\", \"esquerra:\", esq, \"dreta:\", dret, \"mitj:\", mitj, \"valor:\", llista[mitj])\n",
    "\n",
    "        # si el valor d'enmig es el que cercavem ja ho tenim\n",
    "        if llista[mitj] == x:\n",
    "            trobat = True\n",
    "        # si el valor del punt mitj es major que x, cercam en el segment [esq, mitj-1], descartant\n",
    "        # l'altra part del conjunt derecha\n",
    "        elif llista[mitj] > x:\n",
    "            dret = mitj-1\n",
    "\n",
    "        # sino, seguim cercant en l'altre segment\n",
    "        # [mitj+1, dret], descartando la izquierda\n",
    "        else:\n",
    "            esq = mitj+1\n",
    "\n",
    "    # si arribam aqui no hem trobat l'element que cercam\n",
    "\n",
    "    return trobat"
   ]
  },
  {
   "cell_type": "code",
   "execution_count": 114,
   "metadata": {},
   "outputs": [],
   "source": [
    "n_elements = 20\n",
    "llista = generar_llista(n_elements)"
   ]
  },
  {
   "cell_type": "code",
   "execution_count": 118,
   "metadata": {},
   "outputs": [
    {
     "name": "stdout",
     "output_type": "stream",
     "text": [
      "[1, 9, 18, 27, 29, 30, 33, 38, 44, 47, 53, 61, 64, 66, 70, 76, 85, 93, 97, 102]\n",
      "DEBUG: esquerra: 0 dreta: 19 mitj: 9 valor: 47\n",
      "DEBUG: esquerra: 10 dreta: 19 mitj: 14 valor: 70\n",
      "DEBUG: esquerra: 10 dreta: 13 mitj: 11 valor: 61\n",
      "DEBUG: esquerra: 12 dreta: 13 mitj: 12 valor: 64\n",
      "Wall time: 1.99 ms\n"
     ]
    },
    {
     "data": {
      "text/plain": [
       "True"
      ]
     },
     "execution_count": 118,
     "metadata": {},
     "output_type": "execute_result"
    }
   ],
   "source": [
    "%%time\n",
    "print(llista)\n",
    "cerca_binaria(llista, 64)"
   ]
  },
  {
   "cell_type": "code",
   "execution_count": 83,
   "metadata": {},
   "outputs": [],
   "source": [
    "llista = generar_llista(n_elements)"
   ]
  },
  {
   "cell_type": "code",
   "execution_count": 105,
   "metadata": {},
   "outputs": [
    {
     "name": "stdout",
     "output_type": "stream",
     "text": [
      "Wall time: 36.9 s\n"
     ]
    },
    {
     "data": {
      "text/plain": [
       "False"
      ]
     },
     "execution_count": 105,
     "metadata": {},
     "output_type": "execute_result"
    }
   ],
   "source": [
    "%%time\n",
    "\n",
    "cerca_sequencial(llista, 1000)"
   ]
  },
  {
   "cell_type": "markdown",
   "metadata": {},
   "source": [
    "## Ordenació\n",
    "\n",
    "L'ordenació és el procés d'organitzar un conjunt de dades en algun ordre o seqüència específica, pot ser creixent o\n",
    "decreixent per dades numèriques o l'ordre alfabètic per caràcters o strings. Els algoritmes d'ordenació permuten els\n",
    "elements del conjunt de dades fins aconseguir l'ordre dessitjat.\n",
    "\n",
    "\n",
    "Per aconseguir el nostre objectiu usarem dues operacions bàsiques: la comparació i l'intercanvi. Existeixen molts\n",
    "algorismes d'ordenació amb diferents avantatges i inconvenients en aquest tema veurem el més bàsic de tots."
   ]
  },
  {
   "cell_type": "markdown",
   "metadata": {},
   "source": [
    "### Mètode de la bombolla\n",
    "\n",
    "Es basa en recórrer l'array un cert nombre de vegades, comparant parells de valors que ocupen posicions adjacents\n",
    "(0-1,1-2, ...). Si les dues dades que comparam no estan ordenades, s'intercanvien. Aquesta operació es repeteix *n-1*\n",
    " vegades, sent *n* la mida del conjunt de dades d'entrada. Al final de la darrera passada l'element més gran estarà\n",
    " en darrera posició; en la segona, el segon element arribarà a la penúltima, i així sucesivament.\n",
    "\n",
    "El seu nom es deu al fet que l'element de major valor *puja* a la posició final de l'array, a l'igual que les\n",
    "bombolles d'aire en un dipòsit pugen a la part superior. Per això ha de realitzar un recorregut pas a pas des de la\n",
    "seva posició inicial fins a la posició final de l'array.\n",
    "\n",
    "Aquest algorisme és el més bàsic d'ordenació i és que el seu cost computacional és molt alt, d'aquest tipus\n",
    "d'algorismes s'en diuen quadratics. En el millor cas, si tenim la llista ordenada, haurem de fer tantes comparacions\n",
    "com el nombre d'elements té la llista i en el pitjor dels casos el nombre de comparacions serà el nombre d'elements\n",
    "de la llista al quadrat.\n",
    "\n",
    "\n",
    "**Algorisme**\n",
    "\n",
    "Dades necessàries\n",
    "  * vec: llista en la que es vol ordenar\n",
    "  * mida: mida de la llista\n",
    "\n",
    "\n",
    "Variables necessàries\n",
    "\n",
    "\n",
    "```\n",
    "i pren tots els valors de 1 a mida:\n",
    "    j pren tots els valors de 0 a mida - 1:\n",
    "        si vec[j] > vec[j + 1]:\n",
    "            aux = vec[j]\n",
    "            vec[j] = vec[j+1]\n",
    "            vec[j+1] = aux\n",
    "\n",
    "\n",
    "```\n"
   ]
  },
  {
   "cell_type": "markdown",
   "metadata": {},
   "source": [
    "### Explicació gràfica\n",
    "\n",
    "```{figure} ../img/bubble.png\n",
    ":alt: algorisme bombolla\n",
    ":width: 450px\n",
    ":align: center\n",
    "\n",
    "Esquema visual de l'algorisme de la bombolla.\n",
    "```\n",
    "\n",
    "\n",
    "[Més informació complementaria de l'algorisme](https://www.geeksforgeeks.org/bubble-sort/)\n",
    "### Implementació de l'algorisme\n",
    "\n"
   ]
  },
  {
   "cell_type": "code",
   "execution_count": 63,
   "metadata": {},
   "outputs": [],
   "source": [
    "def bubbleSort(llista): \n",
    "    mida = len(llista) \n",
    "    for i in range(1, mida):\n",
    "        for j in range(0, mida-1): \n",
    "            \n",
    "            if llista[j] >llista[j+1]: \n",
    "                llista[j], llista[j+1] = (llista[j+1], llista[j])\n",
    "                \n",
    "        print(llista)\n",
    "                \n",
    "    return llista"
   ]
  },
  {
   "cell_type": "code",
   "execution_count": 68,
   "metadata": {},
   "outputs": [
    {
     "name": "stdout",
     "output_type": "stream",
     "text": [
      "[1, 9, 2, 5, 2, 3, 9, 8, 7, 5]\n",
      "[1, 2, 5, 2, 3, 9, 8, 7, 5, 9]\n",
      "[1, 2, 2, 3, 5, 8, 7, 5, 9, 9]\n",
      "[1, 2, 2, 3, 5, 7, 5, 8, 9, 9]\n",
      "[1, 2, 2, 3, 5, 5, 7, 8, 9, 9]\n",
      "[1, 2, 2, 3, 5, 5, 7, 8, 9, 9]\n",
      "[1, 2, 2, 3, 5, 5, 7, 8, 9, 9]\n",
      "[1, 2, 2, 3, 5, 5, 7, 8, 9, 9]\n",
      "[1, 2, 2, 3, 5, 5, 7, 8, 9, 9]\n",
      "[1, 2, 2, 3, 5, 5, 7, 8, 9, 9]\n"
     ]
    }
   ],
   "source": [
    "llista = generar_llista(10, False) \n",
    "print(llista)\n",
    "llista = bubbleSort(llista)"
   ]
  },
  {
   "cell_type": "markdown",
   "metadata": {},
   "source": [
    "### Millora de l'algorisme\n",
    "\n",
    "Hi ha un canvi de l'algorisme que permet evitar realitzar totes les iteracions del bucle exterior, si ens adonam que\n",
    "la llista ja està ordenada podem aturar d'ordenar.\n",
    "\n",
    "Dades necessàries\n",
    "  * vec: llista en la que es vol ordenar\n",
    "  * mida: mida de la llista\n",
    "\n",
    "\n",
    "Variables necessàries\n",
    "  * actualitzat: variable booleana\n",
    "\n",
    "\n",
    "```\n",
    "actualitzat = True\n",
    "\n",
    "mentre actualitzat:\n",
    "    actualitzat = False\n",
    "    j pren tots els valors de 0 a mida - 1\n",
    "        si vec[j] > vec[j + 1]:\n",
    "            aux = vec[j]\n",
    "            vec[j] = vec[j+1]\n",
    "            vec[j+1] = aux\n",
    "            actualitzat = True\n",
    "\n",
    "```\n"
   ]
  },
  {
   "cell_type": "code",
   "execution_count": 132,
   "metadata": {},
   "outputs": [],
   "source": [
    "def bubbleSort_curt(llista): \n",
    "    actualitzat = True\n",
    "    mida = len(llista) \n",
    "    while actualitzat: \n",
    "        actualitzat = False\n",
    "        for j in range(0, mida-1): \n",
    "            \n",
    "            if llista[j] > llista[j+1] : \n",
    "                llista[j], llista[j+1] = llista[j+1], llista[j]\n",
    "                actualitzat = True\n",
    "        print(llista)\n",
    "                \n",
    "    return llista"
   ]
  },
  {
   "cell_type": "code",
   "execution_count": 135,
   "metadata": {},
   "outputs": [
    {
     "name": "stdout",
     "output_type": "stream",
     "text": [
      "[1, 4, 6, 3, 3, 3, 8, 2, 8, 2]\n",
      "[1, 4, 3, 3, 3, 6, 2, 8, 2, 8]\n",
      "[1, 3, 3, 3, 4, 2, 6, 2, 8, 8]\n",
      "[1, 3, 3, 3, 2, 4, 2, 6, 8, 8]\n",
      "[1, 3, 3, 2, 3, 2, 4, 6, 8, 8]\n",
      "[1, 3, 2, 3, 2, 3, 4, 6, 8, 8]\n",
      "[1, 2, 3, 2, 3, 3, 4, 6, 8, 8]\n",
      "[1, 2, 2, 3, 3, 3, 4, 6, 8, 8]\n",
      "[1, 2, 2, 3, 3, 3, 4, 6, 8, 8]\n"
     ]
    }
   ],
   "source": [
    "llista =  generar_llista(10, False)\n",
    "print(llista)\n",
    "llista = bubbleSort_curt(llista)\n"
   ]
  },
  {
   "cell_type": "markdown",
   "metadata": {},
   "source": [
    "### Altres algorismes d'ordenació\n",
    "\n",
    "En aquesta secció hem realitzat una introducció als algorismes d'ordenació i hem vist el funcionament del més bàsic,\n",
    "en successives assignatures en veureu d'altres molt més avançats i per tant més complexes però també molt més\n",
    "eficients. Alguns dels més coneguts són:\n",
    "\n",
    "* **Algorisme de selecció:** Aquest mètode considera que la llista està formada per 2 parts: una part ordenada que\n",
    "estarà buida a el principi i al principi comprèn tot l'array; i una part desordenada  que a principi comprèn tot\n",
    "l'array i al final de l'algorisme estarà buida. El seu cost computacional és el mateix que el de l'algorisme de la\n",
    "bombolla però requereix de menys operacions.\n",
    "\n",
    "* **Algorisme d'inserció:** És un mètode molt similar a l'anterior, enlloc de tenir 2 parts es realitza l'ordenació\n",
    "inserint els elements en la posició que els hi toca de la llista. Tal com l'algorisme de selecció el seu cost\n",
    "computacional és el mateix que el de la bombolla però necessita menys operacions.\n",
    "\n",
    "* **Quicksort:** El mètode d'ordenació ràpida (Quicksort) per ordenar els elements de l'array es basa en el fet que\n",
    "és més ràpid i fàcil ordenar dues llistes petites que una llista gran. Es basa en l'estratègia típica de \"divideix i\n",
    "venceràs\". La llista a ordenar es divideix en dues parts: una contindrà tots els valors menors o iguals a un cert\n",
    "valor (que se sol anomenar pivot) i l'altra amb els valors més grans que aquest valor."
   ]
  }
 ],
 "metadata": {
  "kernelspec": {
   "display_name": "Python 3",
   "language": "python",
   "name": "python3"
  },
  "language_info": {
   "codemirror_mode": {
    "name": "ipython",
    "version": 3
   },
   "file_extension": ".py",
   "mimetype": "text/x-python",
   "name": "python",
   "nbconvert_exporter": "python",
   "pygments_lexer": "ipython3",
   "version": "3.7.4"
  }
 },
 "nbformat": 4,
 "nbformat_minor": 2
}