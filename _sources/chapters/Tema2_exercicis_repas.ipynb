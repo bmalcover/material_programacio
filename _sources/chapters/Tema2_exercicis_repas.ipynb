{
 "cells": [
  {
   "cell_type": "markdown",
   "metadata": {},
   "source": [
    "**Realizar un programa que lea dos entero de teclado: a y b, donde a <= b, y muestre al\n",
    "usuario el sumatorio desde a hasta b (ambos incluidos)**"
   ]
  },
  {
   "cell_type": "code",
   "execution_count": null,
   "outputs": [],
   "source": [
    "print(\"Calculo de la suma del intervalo a ,b\")\n",
    "\n",
    "num_a = int(input(\"Escribe a \"))\n",
    "num_b = int(input(\"Escribe b \"))\n",
    "\n",
    "sumatorio = 0\n",
    "\n",
    "for i in range(num_a, num_b+1):\n",
    "    sumatorio = sumatorio + i\n",
    "    print(i, sumatorio)\n",
    "    \n",
    "print(\"El resultado es: \" + str(sumatorio)) "
   ],
   "metadata": {
    "collapsed": false,
    "pycharm": {
     "name": "#%%\n"
    }
   }
  },
  {
   "cell_type": "code",
   "execution_count": 42,
   "metadata": {},
   "outputs": [
    {
     "data": {
      "text/plain": [
       "3.8"
      ]
     },
     "execution_count": 42,
     "metadata": {},
     "output_type": "execute_result"
    }
   ],
   "source": [
    "\n"
   ]
  },
  {
   "cell_type": "markdown",
   "metadata": {},
   "source": [
    "**Realizar un programa que lea un entero de teclado y calcule su logaritmo en base 2**"
   ]
  },
  {
   "cell_type": "code",
   "execution_count": null,
   "outputs": [],
   "source": [
    "print(\"Introduce un entero por teclado y calculare la parte entera de su logaritmo en base 2\")\n",
    "\n",
    "num = int(input(\"Sobre que valor quieres que realize el calculo \"))\n",
    "\n",
    "calc = 0\n",
    "\n",
    "while 2**calc < num:\n",
    "    calc = calc + 1\n",
    "    \n",
    "if 2**calc == num:\n",
    "    print(\"La part entera del log es: \" + str(calc))\n",
    "else:\n",
    "    calc = calc - 1 \n",
    "    print(\"La part entera del log es: \" + str(calc))"
   ],
   "metadata": {
    "collapsed": false,
    "pycharm": {
     "name": "#%%\n"
    }
   }
  },
  {
   "cell_type": "markdown",
   "source": [
    "**Realizar un programa que calcule el resultado del sumatorio de la serie armónica dado un entero por teclado.**"
   ],
   "metadata": {
    "collapsed": false
   }
  },
  {
   "cell_type": "code",
   "execution_count": null,
   "outputs": [],
   "source": [
    "print(\"Sumatorio de la serie armonica: \")\n",
    "\n",
    "arm = int(input(\"Escribe el numero en cuestion \"))\n",
    "\n",
    "sumatorio = 0\n",
    "\n",
    "for i in range(1, arm+1):\n",
    "    sumatorio = sumatorio + float(1 / i) \n",
    "    \n",
    "    # Aquesta part d'aqui abaix es cosmetica\n",
    "    \n",
    "    print(\"(1/\" + str(i) + \")\", end=\"\")\n",
    "    \n",
    "    if i == arm:\n",
    "        print(\" = \", end = \"\")\n",
    "    else:\n",
    "        print(\"+\", end = \"\")\n",
    "    \n",
    "print(str(sumatorio))"
   ],
   "metadata": {
    "collapsed": false,
    "pycharm": {
     "name": "#%%\n"
    }
   }
  },
  {
   "cell_type": "code",
   "execution_count": 45,
   "metadata": {},
   "outputs": [
    {
     "data": {
      "text/plain": [
       "0"
      ]
     },
     "execution_count": 45,
     "metadata": {},
     "output_type": "execute_result"
    }
   ],
   "source": [
    "a = 4\n",
    "b = 5\n",
    "\n",
    "c = a // (b)\n",
    "c"
   ]
  }
 ],
 "metadata": {
  "kernelspec": {
   "display_name": "Python 3",
   "language": "python",
   "name": "python3"
  },
  "language_info": {
   "codemirror_mode": {
    "name": "ipython",
    "version": 3
   },
   "file_extension": ".py",
   "mimetype": "text/x-python",
   "name": "python",
   "nbconvert_exporter": "python",
   "pygments_lexer": "ipython3",
   "version": "3.7.4"
  }
 },
 "nbformat": 4,
 "nbformat_minor": 2
}