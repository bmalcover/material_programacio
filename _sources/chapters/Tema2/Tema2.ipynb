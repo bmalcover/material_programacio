{
 "cells": [
  {
   "cell_type": "markdown",
   "metadata": {
    "colab_type": "text",
    "id": "o14mTyL1N9O9",
    "slideshow": {
     "slide_type": "slide"
    }
   },
   "source": [
    "### Dades\n",
    "\n",
    "Les dades que utilitzen els programes es guarden dins la memòria principal mitjançant el\n",
    "que anomenem com a **variables**. Com el nom indica, una variable pot canviar de contingut al llarg de l'execució d'un\n",
    "programa.\n",
    "\n",
    "Tenen tres característiques que les defineixen completament: el seu nom, el seu tipus i el seu valor.\n",
    "\n",
    "#### Nom o identificador\n",
    "\n",
    "És una combinació de caràcters, dígits i el signe de subratllat (`_`) que permeten identificar una variable de\n",
    "manera única. Tot nom ha de començar per un caràcter.\n",
    "\n",
    "* **Exemples de noms vàlids**: x, y, pi, var2, var_2, preu_de_cost\n",
    "\n",
    "* **Exemples de noms invàlids**: 14_de_maig , 35a , +set, capitol 14\n",
    "\n",
    "És altament recomanable que els identificadors de les variables comencin amb minúscula i que el seu nom serveixi per\n",
    "entrendre el significat de la variable dins el context del programa."
   ]
  },
  {
   "cell_type": "markdown",
   "metadata": {
    "colab_type": "text",
    "id": "3QZN1Z8NV9XM",
    "slideshow": {
     "slide_type": "subslide"
    }
   },
   "source": [
    "Hem de pensar que hi ha una sèrie de noms que cada llenguatge de programació utilitza com a part del llenguatge i, per tant, no són vàlids com a nom de variable. Es diu que estan reservats i si els usem obtindrem errors o ens poden donar resultats inesperats.\n",
    "\n",
    "A la taula que teniu a continuació els podeu veure:\n",
    "\n",
    "\n",
    "<div class=\"table-responsive\">\n",
    "<table class=\"table table-hover\">\n",
    "\n",
    "<thead>\n",
    "<tr>\n",
    "<th colspan=\"4\">Paraules clau en Python</th>\n",
    "</tr>\n",
    "</thead>\n",
    "<tbody>\n",
    "<tr>\n",
    "<td><code>False</code></td>\n",
    "<td><code>def</code></td>\n",
    "<td><code>if</code></td>\n",
    "<td><code>raise</code></td>\n",
    "</tr>\n",
    "<tr>\n",
    "<td><code>None</code></td>\n",
    "<td><code>del</code></td>\n",
    "<td><code>import</code></td>\n",
    "<td><code>return</code></td>\n",
    "</tr>\n",
    "<tr>\n",
    "<td><code>True</code></td>\n",
    "<td><code>elif</code></td>\n",
    "<td><code>in</code></td>\n",
    "<td><code>try</code></td>\n",
    "</tr>\n",
    "<tr>\n",
    "<td><code>and</code></td>\n",
    "<td><code>else</code></td>\n",
    "<td><code>is</code></td>\n",
    "<td><code>while</code></td>\n",
    "</tr>\n",
    "<tr>\n",
    "<td><code>as</code></td>\n",
    "<td><code>except</code></td>\n",
    "<td><code>lambda</code></td>\n",
    "<td><code>with</code></td>\n",
    "</tr>\n",
    "<tr>\n",
    "<td><code>assert</code></td>\n",
    "<td><code>finally</code></td>\n",
    "<td><code>nonlocal</code></td>\n",
    "<td><code>yield</code></td>\n",
    "</tr>\n",
    "<tr>\n",
    "<td><code>break</code></td>\n",
    "<td><code>for</code></td>\n",
    "<td><code>not</code></td>\n",
    "<td></td>\n",
    "</tr>\n",
    "<tr>\n",
    "<td><code>class</code></td>\n",
    "<td><code>from</code></td>\n",
    "<td><code>or</code></td>\n",
    "<td></td>\n",
    "</tr>\n",
    "<tr>\n",
    "<td><code>continue</code></td>\n",
    "<td><code>global</code></td>\n",
    "<td><code>pass</code></td>\n",
    "<td></td>\n",
    "</tr>\n",
    "</tbody>\n",
    " </table>\n"
   ]
  },
  {
   "cell_type": "markdown",
   "metadata": {
    "colab_type": "text",
    "id": "QYmFrq7ESkUi",
    "slideshow": {
     "slide_type": "slide"
    }
   },
   "source": [
    "#### Tipus\n",
    "\n",
    "El tipus defineix la natura dels valors que pot emmagatzemar una variable. També limita les operacions que es poden fer amb elles.\n",
    "\n",
    "Els tipus de dades elementals són: _String_, enter, real i booleà:\n",
    "\n",
    "**String** permet representar informació textual. Es representen entre comes, ja siguin simples `'` o dobles `\"` o triples `'''`. `Python` considera els caràcters com strings de longitud 1.\n",
    "\n",
    "- Cometes simples: 'permet incloure cometes \"dobles\"'.\n",
    "- Dobles cometes: \"permet incloure cometes 'simples'\".\n",
    "- Triples cometes: ja sigui amb cometes simples '''Triples cometes simples''' o dobles \"\"\"Triples cometes dobles\"\"\".\n",
    "\n",
    "Les cadenes definides amb cometes tripes poden incloure diverses línies, tots els espais en blancs inclosos s'incorporen a la cadena de forma literal.\n",
    "\n",
    "- Exemples de caràcters: 'a', 'b', '\\n'.\n",
    "- Exemples de _String_: '3', \"llonguet\", \"Josep\".\n",
    "\n",
    "**Enter** (*int*) permet representar valors numèrics enters tant positius com negatius, el valor màxim i mínim que podem emprar no està acotat pel llenguatge, dependrà de la memòria disponible en la màquina en la qual executem el codi.\n",
    "\n",
    "- Exemples d'enters: -33, 14, 28 o 8545445.\n",
    "\n",
    "**Real** (*float*): aquest tipus designa un nombre de coma flotant. Aquests valors s'especifiquen separant la part entera de la part decimal amb un punt. Opcionalment, es pot afegir el caràcter e o E seguit d’un enter positiu o negatiu per especificar el nombre emprant la notació científica.\n",
    "\n",
    "- Exemples de nombres reals: -1.2, 3.1416, -0.26989, 4. , 3e7 (3000000.0), 1.6e-4 (0.00016).\n",
    "\n",
    "**Complex**: valors numèrics en format complex. S'especifiquen de la següent manera: `<part real>+<part imaginaria>j`.\n",
    "\n",
    "- Exemples de nombres complexos: 2+3j, 33+0j.\n",
    "\n",
    "**Booleà**: ens permet representar valors lògics. Poden tenir únicament dos valors: veritat (`True`) o fals (`False`).\n",
    "\n",
    "El valor màxim i mínim que podem guardar en una variable de tipus enter o real, la llargària màxima que podem tenir en un _String_ a `Python` no estan definits tal com passa en altres llenguatges depenen de la màquina on executem el codi. Aquest fet implica que hem de construir els nostres programes amb certa cura, pensant que si el volem executar en un altre ordinador amb menys capacitat, potser aquest no podrà fer-ho.\n"
   ]
  },
  {
   "cell_type": "markdown",
   "metadata": {
    "colab_type": "text",
    "id": "_gJ5wONJT3FD",
    "slideshow": {
     "slide_type": "slide"
    }
   },
   "source": [
    "### Declaracions de variables\n",
    "\n",
    "Durant el transcurs del programa, el programador ha d'especificar cada una de les variables que necessitarà.  L'especificació de cada una d'aquestes variables s'anomena una declaració.\n",
    "\n",
    "Normalment, aquestes declaracions es fan a l'inici del programa encara que si és necessari es pot fer en qualsevol punt. En fer una declaració és necessari com a mínim: definir el nom i assignar un valor inicial. Si no es vol (o no es pot) assignar un valor, a `Python` tenim el valor nul: **None**.\n",
    "\n",
    "A continuació teniu la primera mostra de codi en la que declarem una variable de cada un dels diferents tipus de dades que hem descrit en la secció anterior:"
   ]
  },
  {
   "cell_type": "code",
   "execution_count": 1,
   "metadata": {
    "slideshow": {
     "slide_type": "subslide"
    }
   },
   "outputs": [
    {
     "name": "stdout",
     "output_type": "stream",
     "text": [
      "<class 'str'>\n",
      "<class 'str'>\n",
      "<class 'int'>\n",
      "<class 'float'>\n",
      "<class 'complex'>\n",
      "<class 'bool'>\n"
     ]
    }
   ],
   "source": [
    "caracter = 'a'\n",
    "estring = \"Hola mon\"\n",
    "enter =  123\n",
    "decimal = 1.23\n",
    "complexe = 1+23j\n",
    "logic = False\n",
    "\n",
    "\n",
    "# Aquest codi ara no es rellevant per a nosaltres,\n",
    "# serveix per verificar el tipus de dades de cada variable\n",
    "\n",
    "print(type(caracter))\n",
    "print(type(estring))\n",
    "print(type(enter))\n",
    "print(type(decimal))\n",
    "print(type(complexe))\n",
    "print(type(logic))"
   ]
  },
  {
   "cell_type": "markdown",
   "metadata": {
    "colab_type": "text",
    "id": "6S0DUax1URt3",
    "slideshow": {
     "slide_type": "slide"
    }
   },
   "source": [
    "### Operadors i operands\n",
    "\n",
    "A `Python`, els **operadors** són símbols especials que indiquen que cal fer algun tipus de computació. Els valors amb els quals actua un operador s'anomenen **operands**.\n",
    "\n",
    "Ho entendrem amb un petit exemple:\n",
    "```\n",
    "x = 10.0\n",
    "y = 5\n",
    "resultat = x + y\n",
    "```\n",
    "En aquest cas, l'operador **+** ens permet sumar els operands `x` i `y` junts i guardar el resultat en la variable del mateix nom. Hem de destacar que en aquest codi hem necessitat definir tres variables diferents.\n",
    "\n",
    "Un operand pot ser una variable o un literal. Definim els **literals** en un programa com l'expressió d'un valor que no canvia en el codi font. Els literals sempre seran d'un dels tipus de dades bàsics que hem descrit anteriorment.\n",
    "\n",
    "A continuació tenim un altre fragment de codi en el qual combinem diferents operadors, variables i literals de tipus enter:\n",
    "\n",
    "```\n",
    "a = 10\n",
    "b = 20\n",
    "x = 45\n",
    "r = (a + b - 5) + (x + 10 + 20)\n",
    "```"
   ]
  },
  {
   "cell_type": "markdown",
   "metadata": {
    "colab_type": "text",
    "id": "1hT4qF0g68Bb",
    "slideshow": {
     "slide_type": "subslide"
    }
   },
   "source": [
    "Una seqüència d'operands i operadors, com `a + b - 5`, s'anomena **expressió**. `Python` admet molts operadors diferents per combinar operands de diferents tipus. Això ens permetrà crear expressions diferents per solucionar els diferents problemes que se'ns presentin."
   ]
  },
  {
   "cell_type": "markdown",
   "metadata": {
    "colab_type": "text",
    "id": "xAOOjalo7Q9a",
    "slideshow": {
     "slide_type": "slide"
    }
   },
   "source": [
    "#### Operadors aritmètics\n",
    "\n",
    "La taula següent mostra els operadors aritmètics compatibles amb `Python`:\n",
    "\n",
    "<div class=\"table-responsive\">\n",
    "<table class=\"table table-hover\">\n",
    "<thead>\n",
    "<tr>\n",
    "<th>Operador</th>\n",
    "<th>Exemple</th>\n",
    "<th>Definició</th>\n",
    "<th>Resultat</th>\n",
    "</tr>\n",
    "</thead>\n",
    "<tbody>\n",
    "<tr>\n",
    "<td><code>+</code>&nbsp;(unari)</td>\n",
    "<td><code>+a</code></td>\n",
    "<td><strong>Unari Positiu</strong></td>\n",
    "<td><code>a</code> Realment no fa res. Existeix per complementar la negació unària.</td>\n",
    "</tr>\n",
    "<tr>\n",
    "<td><code>+</code>&nbsp;(binari)</td>\n",
    "<td><code>a + b</code></td>\n",
    "<td><strong>Suma</strong></td>\n",
    "<td>Suma <code>a</code> i <code>b</code></td>\n",
    "</tr>\n",
    "<tr>\n",
    "<td><code>-</code>&nbsp;(unari)</td>\n",
    "<td><code>-a</code></td>\n",
    "<td><strong>Negació unària </strong></td>\n",
    "<td>El mateix valor que <code>a</code> però amb el signe oposat</td>\n",
    "</tr>\n",
    "<tr>\n",
    "<td><code>-</code>&nbsp;(binari)</td>\n",
    "<td><code>a - b</code></td>\n",
    "<td><strong>Resta</strong></td>\n",
    "<td>Resultat de restar <code>b</code>  a l'operand <code>a</code></td>\n",
    "</tr>\n",
    "<tr>\n",
    "<td><code> * </code></td>\n",
    "<td><code>a * b</code></td>\n",
    "<td><strong>Multiplicació</strong></td>\n",
    "<td>Producte de  <code>a</code> i <code>b</code></td>\n",
    "</tr>\n",
    "<tr>\n",
    "<td><code>/</code></td>\n",
    "<td><code>a / b</code></td>\n",
    "<td><strong>Divisió</strong></td>\n",
    "<td>Quocient de <code>a</code> dividit per <code>b</code>.<br> El resultat sempré és del tipus float <code>float</code>.</td>\n",
    "</tr>\n",
    "<tr>\n",
    "<td><code>%</code></td>\n",
    "<td><code>a % b</code></td>\n",
    "<td><strong>Mòdul</strong></td>\n",
    "<td>Reste de <code>a</code> dividit per  <code>b</code></td>\n",
    "</tr>\n",
    "<tr>\n",
    "<td><code>//</code></td>\n",
    "<td><code>a // b</code></td>\n",
    "<td><strong>Divisió sencera</strong> </td>\n",
    "<td>Quocient de dividir <code>a</code> entre <code>b</code>, arrodonit al següent número sencer més petit</td>\n",
    "</tr>\n",
    "<tr>\n",
    "<td><code> **</code></td>\n",
    "<td><code>a ** b</code></td>\n",
    "<td><strong>Exponent</strong></td>\n",
    "<td><code>a</code> elevat a  <code>b</code></td>\n",
    "</tr>\n",
    "</tbody>\n",
    "</table>\n",
    "\n",
    "Aquí teniu alguns exemples del seu ús:"
   ]
  },
  {
   "cell_type": "code",
   "execution_count": 2,
   "metadata": {},
   "outputs": [
    {
     "name": "stdout",
     "output_type": "stream",
     "text": [
      "1.5\n"
     ]
    }
   ],
   "source": [
    "divisio_decimal = 3 / 2\n",
    "print(divisio_decimal)"
   ]
  },
  {
   "cell_type": "code",
   "execution_count": 3,
   "metadata": {},
   "outputs": [
    {
     "data": {
      "text/plain": "1"
     },
     "execution_count": 3,
     "metadata": {},
     "output_type": "execute_result"
    }
   ],
   "source": [
    "divisio_sencera = 3 // 2\n",
    "divisio_sencera"
   ]
  },
  {
   "cell_type": "markdown",
   "metadata": {
    "colab_type": "text",
    "id": "mIyp79mW9S0B",
    "slideshow": {
     "slide_type": "slide"
    }
   },
   "source": [
    "#### Operadors de comparació\n",
    "Els operadors de comparació s’utilitzen normalment en contextos _booleans_ com els que ens serveixen per controlar el\n",
    "flux del programa, com veurem un poc més endavant. El resultat d'usar un operador de comparació sempre és del tipus\n",
    "_booleà_.\n",
    "\n",
    "<div class=\"table-responsive\">\n",
    "<table class=\"table table-hover\">\n",
    "<thead>\n",
    "<tr>\n",
    "<th>Operador</th>\n",
    "<th>Exemple</th>\n",
    "<th>Definició</th>\n",
    "<th>Resultat</th>\n",
    "</tr>\n",
    "</thead>\n",
    "<tbody>\n",
    "<tr>\n",
    "<td><code>==</code></td>\n",
    "<td><code>a == b</code></td>\n",
    "<td><strong>Igual</strong></td>\n",
    "<td><code>True</code> si el valor de  <code>a</code> és igual al valor de <code>b</code><br><code>False</code> en cas contrari</td>\n",
    "</tr>\n",
    "<tr>\n",
    "<td><code>!=</code></td>\n",
    "<td><code>a != b</code></td>\n",
    "<td><strong>Diferent</strong></td>\n",
    "<td><code>True</code> si el valor de <code>a</code> és diferent a <code>b</code><br><code>False</code> en cas contrari</td>\n",
    "</tr>\n",
    "<tr>\n",
    "<td><code>&lt;</code></td>\n",
    "<td><code>a &lt; b</code></td>\n",
    "<td><strong>Menor</strong></td>\n",
    "<td><code>True</code> si el valor de <code>a</code> és menor a <code>b</code><br><code> False</code> en cas contrari</td>\n",
    "</tr>\n",
    "<tr>\n",
    "<td><code>&lt;=</code></td>\n",
    "<td><code>a &lt;= b</code></td>\n",
    "<td><strong>Menor o igual a </strong></td>\n",
    "<td><code>True</code> si el valor de <code>a</code>és menor o igual a <code>b</code><br><code>False</code> en cas contrari</td>\n",
    "</tr>\n",
    "<tr>\n",
    "<td><code>&gt;</code></td>\n",
    "<td><code>a &gt; b</code></td>\n",
    "<td><strong>Major</strong></td>\n",
    "<td><code>True</code> si el valor de <code>a</code> és major a <code>b</code><br><code>False</code> en cas contrari</td>\n",
    "</tr>\n",
    "<tr>\n",
    "<td><code>&gt;=</code></td>\n",
    "<td><code>a &gt;= b</code></td>\n",
    "<td><strong>Major o igual a</strong></td>\n",
    "<td><code>True</code> si el valor de <code>a</code> iés major o igual a <code>b</code><br><code>False</code> en cas contrari</td>\n",
    "</tr>\n",
    "</tbody>\n",
    "</table>\n",
    "</div>\n",
    "\n",
    "\n",
    "Aquí teniu alguns exemples del seu ús:"
   ]
  },
  {
   "cell_type": "code",
   "execution_count": 4,
   "outputs": [
    {
     "data": {
      "text/plain": "True"
     },
     "execution_count": 4,
     "metadata": {},
     "output_type": "execute_result"
    }
   ],
   "source": [
    "x = 5.3\n",
    "y = 5.5\n",
    "comparacio_1 = x < y\n",
    "comparacio_1"
   ],
   "metadata": {
    "collapsed": false
   }
  },
  {
   "cell_type": "code",
   "execution_count": 5,
   "outputs": [
    {
     "data": {
      "text/plain": "True"
     },
     "execution_count": 5,
     "metadata": {},
     "output_type": "execute_result"
    }
   ],
   "source": [
    "lletra_a = 'a'\n",
    "lletra_b = 'b'\n",
    "\n",
    "comparacio_2 = lletra_a != lletra_b\n",
    "comparacio_2"
   ],
   "metadata": {
    "collapsed": false
   }
  },
  {
   "cell_type": "code",
   "execution_count": 6,
   "outputs": [
    {
     "data": {
      "text/plain": "False"
     },
     "execution_count": 6,
     "metadata": {},
     "output_type": "execute_result"
    }
   ],
   "source": [
    "lletra_a = 'a'\n",
    "lletra_b = 'b'\n",
    "\n",
    "comparacio_3 = lletra_a > lletra_b\n",
    "comparacio_3"
   ],
   "metadata": {
    "collapsed": false
   }
  },
  {
   "cell_type": "markdown",
   "source": [
    "#### Representació dels nombres en coma flotant\n",
    "\n",
    "Els nombres de coma flotant es representen a l'ordinador com a fraccions en base 2 (fraccions binàries). Per exemple, el valor decimal `0.125` es pot representar amb l'expressió: `1/10 + 2/100 + 5/1000` o amb aquesta altra: ` 0/2 + 0/4 + 1/8`. L'única diferència entre les dues és que la primera està expressada en base 10 i la segona en base 2.\n",
    "\n",
    "El problema que trobem en la representació dels nombres en coma flotant és que la majoria de fraccions decimals no es poden representar exactament com a fraccions binàries. Una conseqüència és que, en general, els nombres decimals de coma flotant que introduïm en els nostres programes només s'aproximen als nombres binaris de coma flotant que queden emmagatzemats a la màquina.\n",
    "\n",
    "A la majoria de les màquines actuals, els flotants s'aproximen mitjançant una fracció binària amb el numerador utilitzant els primers 53 bits començant pel bit més significatiu i amb el denominador com a potència de dos. En el cas d'1/10, la fracció binària és `3602879701896397 / 2 ** 55`.\n",
    "\n",
    "Quan programem no ens adonem d'aquesta aproximació a causa de la manera com es mostren els valors per pantalla, `Python` només imprimeix una aproximació al valor decimal de l'aproximació binària emmagatzemada per la màquina. A la majoria de màquines, si `Python` imprimís el valor decimal veritable de l'aproximació binària emmagatzemada per a `0,1`, hauria de mostrar: `0.1000000000000000055511151231257827021181583404541015625`.\n",
    "\n",
    "```{admonition} Curiositat\n",
    "Curiosament, hi ha diversos nombres decimals diferents que comparteixen la mateixa fracció binària aproximada més propera. Per exemple, els nombres `0,1` , `0,10000000000000001` i `0,\n",
    "1000000000000000055511151231257827021181583404541015625` són tots aproximats amb `3602879701896397 / 2 ** 55`\n",
    "```\n",
    "[Per obtenir més informació podeu el següent document](https://docs.python.org/3/tutorial/floatingpoint.html)\n"
   ],
   "metadata": {
    "collapsed": false
   }
  },
  {
   "cell_type": "markdown",
   "source": [
    "#### Operadors lògics\n",
    "\n",
    "Els operadors lògics _not_, _or_ i _and_ modifiquen i uneixen expressions avaluades en un context booleà i ens permeten crear condicions més complexes.\n",
    "\n",
    "\n",
    "**Expressions lògiques que inclouen operands booleans**\n",
    "\n",
    "Com heu vist, algunes expressions de `Python` són, en realitat, de tipus booleà. És a dir, són iguals a un dels valors `Python` `True` or `False`.\n",
    "\n",
    "Per exemple:"
   ],
   "metadata": {
    "collapsed": false
   }
  },
  {
   "cell_type": "markdown",
   "metadata": {
    "colab_type": "text",
    "id": "7ZLUCGl8VTFx",
    "slideshow": {
     "slide_type": "subslide"
    }
   },
   "source": [
    "A continuació teniu la taula d'operadors:\n",
    "\n",
    "<div class=\"table-responsive\">\n",
    "<table class=\"table table-hover\">\n",
    "<tr>\n",
    "<th>Operador</th>\n",
    "<th>Exemple</th>\n",
    "<th>Significat</th>\n",
    "</tr>\n",
    "</thead>\n",
    "<tbody>\n",
    "<tr>\n",
    "<td><code>not</code></td>\n",
    "<td><code>not x</code></td>\n",
    "<td><code>True</code> si <code>x</code> és <code>False</code><br><code>False</code> si <code>x</code> és <code>True</code></td>\n",
    "</tr>\n",
    "<tr>\n",
    "<td><code>or</code></td>\n",
    "<td><code>x or y</code></td>\n",
    "<td><code>True</code> si <code>x</code> ò <code>y</code> és  <code>True</code><br><code>False</code> en cas contrari</td>\n",
    "</tr>\n",
    "<tr>\n",
    "<td><code>and</code></td>\n",
    "<td><code>x and y</code></td>\n",
    "<td><code>True</code> si <code>x</code> i  <code>y</code> són <code>True</code><br><code>False</code> en cas contrari </td>\n",
    "</tr>\n",
    "</tbody>\n",
    "</table>\n",
    "\n",
    "Per veure el seu ús, però sobretot el resultat de l'aplicació d'aquests operadors en variables del tipus booleà. A continuació teniu un conjunt d'exemples de la seva aplicació:"
   ]
  },
  {
   "cell_type": "code",
   "execution_count": 7,
   "metadata": {},
   "outputs": [
    {
     "data": {
      "text/plain": "False"
     },
     "execution_count": 7,
     "metadata": {},
     "output_type": "execute_result"
    }
   ],
   "source": [
    "vertader = True\n",
    "fals = False\n",
    "\n",
    "\n",
    "operador_not = not vertader\n",
    "operador_not"
   ]
  },
  {
   "cell_type": "code",
   "execution_count": 8,
   "metadata": {},
   "outputs": [
    {
     "data": {
      "text/plain": "True"
     },
     "execution_count": 8,
     "metadata": {},
     "output_type": "execute_result"
    }
   ],
   "source": [
    "operador_or = vertader or fals\n",
    "operador_or\n"
   ]
  },
  {
   "cell_type": "code",
   "execution_count": 9,
   "metadata": {},
   "outputs": [
    {
     "data": {
      "text/plain": "False"
     },
     "execution_count": 9,
     "metadata": {},
     "output_type": "execute_result"
    }
   ],
   "source": [
    "operador_or = fals or fals\n",
    "operador_or"
   ]
  },
  {
   "cell_type": "code",
   "execution_count": 10,
   "metadata": {},
   "outputs": [
    {
     "data": {
      "text/plain": "False"
     },
     "execution_count": 10,
     "metadata": {},
     "output_type": "execute_result"
    }
   ],
   "source": [
    "operador_and = vertader and fals\n",
    "operador_and"
   ]
  },
  {
   "cell_type": "code",
   "execution_count": 11,
   "metadata": {},
   "outputs": [
    {
     "data": {
      "text/plain": "True"
     },
     "execution_count": 11,
     "metadata": {},
     "output_type": "execute_result"
    }
   ],
   "source": [
    "operador_and = vertader and vertader\n",
    "operador_and"
   ]
  },
  {
   "cell_type": "markdown",
   "metadata": {
    "colab_type": "text",
    "id": "ao85rcLYdD7f",
    "slideshow": {
     "slide_type": "slide"
    }
   },
   "source": [
    "#### Operadors d'assignació augmentada\n",
    "\n",
    "Abans hem vist que un signe igual (=) s'utilitza per assignar un valor a una variable.\n",
    "\n",
    "És, per descomptat, perfectament viable que el valor de la dreta de l'assignació sigui una expressió que contingui altres variables. Si fem l'operació sobre una mateixa variable, podem fer el següent:\n",
    "\n",
    "`x <op>= y`  és el mateix que fer  ` x = x <op> y`\n",
    "\n",
    "\n",
    "És a dir:\n",
    "```\n",
    "x = 4\n",
    "y = 5\n",
    "\n",
    "x += y\n",
    "```\n",
    "És el mateix que fer:\n",
    "\n",
    "```\n",
    "x = x + y\n",
    "```"
   ]
  },
  {
   "cell_type": "markdown",
   "metadata": {
    "colab_type": "text",
    "id": "9lzzG0HpEGp2",
    "slideshow": {
     "slide_type": "slide"
    }
   },
   "source": [
    "### Comentaris en el codi\n",
    "\n",
    "En el món de la programació, un comentari és una explicació o anotació llegible pel programador en el codi font d’un programa d’ordinador. S'escriuen amb el propòsit de facilitar la comprensió del codi font per a futures lectures del mateix programador o per altres programadors, són ignorats pels intèrprets.\n",
    "\n",
    "Moltes vegades també usarem els comentaris per prevenir l'execució d'una part del codi quan volem avaluar el funcionament del nostre propi codi.\n",
    "\n",
    "A ```Python``` els comentaris s'expressen amb el símbol ```#```.  A continuació en veurem dos exemples del seu ús:\n",
    "\n",
    "```\n",
    "# Això és un comentari que m'ajuda a explicar el bloc de codi\n",
    "\n",
    "x = y +3 # Aquí també puc posar un comentari per descriure l'expressió\n",
    "```\n",
    "\n",
    "És recomanable comentar el codi que realitzem, en particular aquelles parts més rellevants o que presenten certa dificultat."
   ]
  },
  {
   "cell_type": "code",
   "execution_count": 12,
   "metadata": {},
   "outputs": [
    {
     "name": "stdout",
     "output_type": "stream",
     "text": [
      "78\n"
     ]
    }
   ],
   "source": [
    "# COMENTARI\n",
    "variable = 45\n",
    "resultat = variable + 33\n",
    "print(resultat)"
   ]
  },
  {
   "cell_type": "markdown",
   "metadata": {},
   "source": [
    "### Entrada / Sortida d'informació\n",
    "\n",
    "L'entrada i la sortida, o E/S ( _input/output_, I/O) és la comunicació entre un sistema de processament d'informació, com un ordinador, i el món exterior, possiblement un humà o un altre sistema. Les entrades són els senyals o dades que rep el sistema i les sortides són els senyals o dades enviades des d'aquest.\n",
    "\n",
    "#### Entrada\n",
    "Per poder proporcionar informació al programa, podem usar la funció `input`. Aquesta sempre ens tornarà l'string corresponent a la informació que l'usuari ens proporciona.\n",
    "\n",
    "```\n",
    "entrada = input()\n",
    "entrada\n",
    "```"
   ]
  },
  {
   "cell_type": "markdown",
   "metadata": {
    "colab_type": "text",
    "id": "MRtPt1erFF5u",
    "slideshow": {
     "slide_type": "slide"
    }
   },
   "source": [
    "Si volem llegir un sencer o un float haurem de realitzar una transformació explícita, aquesta explicació en el món de la programació es coneix com a *casting*. A continuació podeu observar dos exemples que mostrem com llegim un valor enter del teclat i a continuació com ho fem per llegir un nombre en coma flotant:\n",
    "\n",
    "```\n",
    "enter = int(input(\"Escriu un enter: \"))\n",
    "enter\n",
    "\n",
    "print(type(enter))\n",
    "print(enter)\n",
    "```\n",
    "A continuació veurem la lectura en coma flotant, fixeu-vos en el *casting*:\n",
    "```\n",
    "decimal = float(input(\"Escriu un decimal: \"))\n",
    "decimal\n",
    "print(type(decimal))\n",
    "```"
   ]
  },
  {
   "cell_type": "markdown",
   "metadata": {
    "colab_type": "text",
    "id": "yKHGE-aPfnPQ",
    "slideshow": {
     "slide_type": "slide"
    }
   },
   "source": [
    "En els nostres primers programes començarem fent feina amb informació molt senzilla, per tant ens interessarà llegir _strings_ amb un únic valor. Si volem llegir un únic caràcter, ho podem fer de  la següent manera:\n",
    "\n",
    "```\n",
    "import sys\n",
    "\n",
    "car = sys.stdin.read(1)\n",
    "print(car)\n",
    "```"
   ]
  },
  {
   "cell_type": "markdown",
   "metadata": {
    "colab_type": "text",
    "id": "3Gz46PWWGRtj",
    "slideshow": {
     "slide_type": "slide"
    }
   },
   "source": [
    "#### Sortida\n",
    "\n",
    "Per poder mostar informació per pantalla, farem servir la funció `print`. Aquesta funció pot mostrar qualsevol text (_string_).\n",
    "\n",
    "A continuació teniu diversos exemples:"
   ]
  },
  {
   "cell_type": "code",
   "execution_count": 13,
   "metadata": {
    "colab": {},
    "colab_type": "code",
    "id": "H4vuloNBHDcV",
    "slideshow": {
     "slide_type": "subslide"
    }
   },
   "outputs": [
    {
     "name": "stdout",
     "output_type": "stream",
     "text": [
      "Hola mon!\n",
      "Si vull posar cometes dobles en el text (\") puc delimitar el string amb cometes simples\n",
      "En Biel es un 'bon' professor?\n"
     ]
    }
   ],
   "source": [
    "print(\"Hola mon!\")\n",
    "print('Si vull posar cometes dobles en el text (\") puc delimitar el string amb cometes simples')\n",
    "print(\"En Biel es un 'bon' professor?\")"
   ]
  },
  {
   "cell_type": "markdown",
   "source": [
    "*Strings amb format*\n",
    "\n",
    "Els Strings amb format (també anomenats _f-strings_) permeten incloure el valor de les expressions de `Python` dins d'un _strings_ prefixant la cadena amb `f` o `F` i escrivint expressions com a `{expressió}`.\n",
    "\n",
    "A més podem afegir un especificador de format tot seguit de l'expressió. Això permet tenir un major control sobre com  es mostra el valor. L'exemple següent arrodoneix un nombre a tres valors decimals."
   ],
   "metadata": {
    "collapsed": false
   }
  },
  {
   "cell_type": "code",
   "execution_count": 14,
   "outputs": [
    {
     "name": "stdout",
     "output_type": "stream",
     "text": [
      "El valor aproximat de PI es: 3.142.\n"
     ]
    }
   ],
   "source": [
    "pi = 3.14159265359\n",
    "print(f'El valor aproximat de PI es: {pi:.3f}.')"
   ],
   "metadata": {
    "collapsed": false
   }
  },
  {
   "cell_type": "markdown",
   "source": [
    "També podem afegir qualsevol altre tipus de variable:"
   ],
   "metadata": {
    "collapsed": false
   }
  },
  {
   "cell_type": "code",
   "execution_count": 15,
   "outputs": [
    {
     "name": "stdout",
     "output_type": "stream",
     "text": [
      "El meu mag preferit és Harry potter.\n"
     ]
    }
   ],
   "source": [
    "cognom = 'potter'\n",
    "print(f'El meu mag preferit és Harry {cognom}.')"
   ],
   "metadata": {
    "collapsed": false
   }
  },
  {
   "cell_type": "markdown",
   "source": [
    "```{admonition} Curiositat\n",
    "Python permet formatar la sortida de text de moltes maneres diferents, usuaris avançats podeu consultar el següent [enllaç](https://docs.python.org/3/library/string.html#format-specification-mini-language)\n",
    "```"
   ],
   "metadata": {
    "collapsed": false
   }
  }
 ],
 "metadata": {
  "colab": {
   "collapsed_sections": [],
   "name": "Tema2",
   "provenance": [],
   "version": "0.3.2"
  },
  "kernelspec": {
   "display_name": "Python 3",
   "language": "python",
   "name": "python3"
  },
  "language_info": {
   "codemirror_mode": {
    "name": "ipython",
    "version": 3
   },
   "file_extension": ".py",
   "mimetype": "text/x-python",
   "name": "python",
   "nbconvert_exporter": "python",
   "pygments_lexer": "ipython3",
   "version": "3.7.9"
  }
 },
 "nbformat": 4,
 "nbformat_minor": 1
}
