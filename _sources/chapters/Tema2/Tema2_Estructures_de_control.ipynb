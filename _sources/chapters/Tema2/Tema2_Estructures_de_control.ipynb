{
 "cells": [
  {
   "cell_type": "markdown",
   "metadata": {
    "colab_type": "text",
    "id": "BADOB7_PdyRq",
    "slideshow": {
     "slide_type": "slide"
    }
   },
   "source": [
    "## Composició d'instruccions\n",
    "\n",
    "Normalment, un programa consta de més d'una instrucció. Per poder construir programes una mica complexos necessitarem executar una sèrie de sentències de manera repetida o triar entre camins alternatius segons el valor que té una variable en un moment determinat de la seva execució.\n",
    "\n",
    "Per poder dur a terme les idees abans descrites necessitem conèixer les diferents estructures de control que els llenguatges de programació ens proveeixen. Una estructura de control dirigeix l'ordre d'execució de les instruccions d'un programa. Com a característica comuna, podem veure que totes les estructures de control tenen un únic punt d'entrada i un únic punt de sortida. Aquest fet permet que la programació es regeixi pels principis de la programació estructurada. Els programes estructurats estan compostos per estructures simples organitzades de forma jeràrquica que controlen el flux d'execució del programa.\n",
    "\n",
    "Tenim tres esquemes de composició d'instruccions:\n",
    "\n",
    "- **Seqüencial**\n",
    "- **Condicional o alternatiu**\n",
    "- **Repetitiva o iterativa**"
   ]
  },
  {
   "cell_type": "markdown",
   "metadata": {
    "slideshow": {
     "slide_type": "slide"
    }
   },
   "source": [
    "### Seqüencial\n",
    "\n",
    "Amb els coneixements de programació que tenim de les seccions anteriors podem crear expressions usant variables o literals que es relacionen mitjançant els diferents operadors. A més podem intuir que un programa no es limitarà a una sola expressió sinó que per resoldre problemes una mica complexos en necessitarem un conjunt més o manco gran.  A continuació construirem un petit programa que servirà per il·lustrar els conceptes anteriors. Aquest servirà per resoldre equacions de primer grau:\n",
    "\n",
    "```\n",
    "print(\"Programa per resoldre una eqüació de primer grau, de la forma ax + b =  0\")\n",
    "\n",
    "# Obtenim informació de l'usuari\n",
    "a = int(input(\" Escriu el valor a: \"))\n",
    "\n",
    "b = int(input(\" ara escriu el valor de b: \"))\n",
    "\n",
    "# Expresio que resol el problema\n",
    "x = -b / a\n",
    "\n",
    "# Resultat\n",
    "print (f'El resultat és: {x}')\n",
    "```"
   ]
  },
  {
   "cell_type": "markdown",
   "metadata": {},
   "source": [
    "Si analitzem aquest programa podem observar com l'execució del codi que hem desenvolupat segueix un ordre seqüencial estricte per arribar al resultat desitjat. És necessari que l'intèrpret de `Python` executi les instruccions en l'ordre en el qual estan escrites: de dalt a baix i sense saltar-ne cap. Aquest és un clar exemple d'un esquema de composició seqüencial.\n"
   ]
  },
  {
   "cell_type": "markdown",
   "metadata": {
    "colab_type": "text",
    "id": "vJi1QV41ffqn",
    "slideshow": {
     "slide_type": "slide"
    }
   },
   "source": [
    "### Condicional\n",
    "\n",
    "En el món real, hi ha molt de problemes on s'ha d'avaluar la informació disponible en un moment determinat i a continuació triar entre diverses opcions basant-nos en el que hem observat. Aquest tipus de patrons no són reproduïbles amb l'esquema de composició seqüencial i, per per solventar aquesta mancança, introduirem l'esquema de composició condicional.\n",
    "\n",
    "Aquest esquema respon a estructures del següent tipus:\n",
    "```\n",
    "si plou\n",
    "   llavors afago el paraigüa\n",
    "```\n",
    "\n",
    "En un programa de `Python` la instrucció `if` serveix per realitzar aquest tipus de construccions. Permet l'execució condicional d'una declaració o grup d'afirmacions basada en el valor d'una expressió. La seva estructura és la següent:\n",
    "```\n",
    "if <expr>:\n",
    "    <cos>\n",
    "```\n",
    "\n",
    "En el codi que es mostra a dalt `<expr>` és una expressió avaluada en un context booleà i ```<cos>``` és un conjunt (no buit) d'expressions de `Python` vàlides. A més, fixau-vos que totes les expressions que pertanyen al cos **han d'estar tabulades**.\n",
    "\n",
    "En el següent exemple usem la composició condicional per obtenir el valor absolut d'un nombre:"
   ]
  },
  {
   "cell_type": "code",
   "execution_count": null,
   "metadata": {},
   "outputs": [],
   "source": [
    "# Programa que calcula el valor absolut d'un nombre\n",
    "x = 12\n",
    "\n",
    "#Bloc condicional\n",
    "if x < 0:\n",
    "    print(\"Entram dins el bloc condicional\")\n",
    "    x = x * -1  # x*= -1 o també x = -x\n",
    "\n",
    "print(\"Som fora del bloc condicional\")\n",
    "# Donam resultats\n",
    "print(f'El valor absolut es: {x}')\n"
   ]
  },
  {
   "cell_type": "markdown",
   "source": [
    "#### Les clàusules `else` i `elif`\n",
    "\n",
    "Ara que sabem com utilitzar una instrucció `if` per executar condicionalment una sola expressió o un bloc de diverses expressions, és hora d'esbrinar què més podem fer. Hi ha problemes en els quals volem avaluar una condició i prendre una ruta si és certa, però també poder seguir una ruta alternativa si aquesta no ho és. Aquest esquema respon a estructures del següent tipus:\n",
    "```\n",
    "si plou\n",
    "   llavors afago el paraigüa\n",
    "sino\n",
    "   llavors agafo la gorra\n",
    "```\n",
    "\n",
    "A `Python` això s'aconsegueix amb una clàusula `else`. Aquesta clàusula no necessita cap expressió associada ja que només s'executa quan `<expr>` és avaluada a fals. La seva estructura és la següent:\n",
    "\n",
    "```\n",
    "if <expr>:\n",
    "    <cos>\n",
    "else:\n",
    "    <cos2>\n",
    "```\n",
    "\n",
    "Si volem fer un programa que ens digui si un nombre és positiu o negatiu ho podem fer de la següent manera:\n",
    "\n",
    "```\n",
    "x = int(input(\"Insereix un nombre: \"))\n",
    "\n",
    "if x > 0:\n",
    "    print(\"Avaluam el nombre\")  # Un bloc amb dues sentències de codi.\n",
    "    print(\"El nombre és positiu\")\n",
    "else:  # Si arribam aquí és perque x <= 0\n",
    "    print(\"El nombre és negatiu\")\n",
    "```"
   ],
   "metadata": {
    "collapsed": false
   }
  },
  {
   "cell_type": "markdown",
   "metadata": {
    "colab_type": "text",
    "id": "hLguq-hosBvn",
    "slideshow": {
     "slide_type": "slide"
    }
   },
   "source": [
    "El codi anterior no fa del tot bé la seva feina, ja que quan la variable `x` pren el valor 0 el programa no contempla cap cas i ho considera com un nombre negatiu. Per a poder completar i corregir el nostre programa necessitem avaluar una condició més, això ho podem fer amb la paraula reservada `elif`.\n",
    "\n",
    "A continuació tenim la forma definitiva del bloc condicional. Podem tenir tantes construccions `elif <expr>` com necessitem, però només un `if`i un  `else` hem de tenir en compte que un cop una de les expressions s'avalua de forma positiva s'executarà el bloc de codi associat i ja no s'avaluarà cap més expressió.\n",
    "\n",
    "```\n",
    "if <expr>:\n",
    "    <cos>\n",
    "elif <expr>:\n",
    "    <cos2>\n",
    "else:\n",
    "    <cos3>\n",
    "```\n",
    "A continuació veiem el programa anterior resolt emprant un bloc condicional complet on es contempla la possibilitat que l'usuari introdueixi el valor 0:\n",
    "\n",
    "```\n",
    "x = int(input(\"Insereix un nombre: \"))\n",
    "\n",
    "if x > 0:\n",
    "    print(\"Avaluam el nombre\")  # Un bloc amb dues sentències de codi.\n",
    "    print(\"El nombre és positiu\")\n",
    "\n",
    "elif x == 0: # Aqui contemplam que el nombre pugui ser 0\n",
    "\n",
    "    print(\"El nombre és zero\")\n",
    "\n",
    "else:\n",
    "# Aqui no necesitam una nova condicio, si el nombre no es positiu\n",
    "# ni zero, segur que es negatiu\n",
    "\n",
    "    print(\"El nombre és negatiu\")\n",
    "    \n",
    "print(\"Fins la propera vegada\")\n",
    "```"
   ]
  },
  {
   "cell_type": "markdown",
   "metadata": {
    "colab_type": "text",
    "id": "-tXfLswYl04L",
    "slideshow": {
     "slide_type": "slide"
    }
   },
   "source": [
    "### Composició iterativa\n",
    "\n",
    "Altres problemes demanden la repetició del mateix bloc de codi més d'una vegada. Pensem per exemple en l'algorisme necessari per calcular una taula de multiplicar, bàsicament consisteix a repetir la mateixa expressió canviant un dels operands en cada iteració. L'estructura de control que implementa la composició iterativa s'anomena bucle.\n",
    "\n",
    "En la programació, hi ha dos tipus d'iteracions, indefinides i definides:\n",
    "\n",
    "  - Amb iteració **indefinida**, la quantitat de vegades que s'executa el bucle no s'explícita. El bloc s'executa repetidament sempre que es compleixi alguna condició lògica , és a dir _booleana_.\n",
    "  \n",
    "  - Amb una iteració **definida**, el nombre de vegades que s'executarà el bloc de codi associat al bucle ve determinat en el moment en aquest s'inicía. Aquest tipus de bucle es pot declarar tant amb una variable entera com amb un literal, o qualsevol estructura de dades que sigui iterable. Deixarem la seva explicació pel capítol 5.\n",
    "  "
   ]
  },
  {
   "cell_type": "markdown",
   "metadata": {
    "colab_type": "text",
    "id": "yG3V3TaMsOBX",
    "slideshow": {
     "slide_type": "slide"
    }
   },
   "source": [
    "#### El bucle  indefinit\n",
    "\n",
    "Per crear iteracions amb un nombre inicialment indefinit de repeticions usarem l'instrucció `while`. En aquesta secció veurem com es fa servir aquesta instrucció per construir programes que contenguin bucles.\n",
    "\n",
    "El format d'un `while` es mostra a continuació:\n",
    "\n",
    "```\n",
    "while <expr>:\n",
    "    <cos(+)>\n",
    "```\n",
    "\n",
    "Quan es troba un bucle, l'expressió ` <expr> ` es valora per primera vegada en un context booleà. Si el resultat és cert, llavors s'executa el cos del bucle. A continuació, `<expr> ` es valora de nou, i si encara és avaluada com a certa, el cos s'executa de nou. Aquest procés continua fins que ` <expr> ` és avaluada com `False`, llavors l'execució del programa segueix amb la primera sentència més enllà del cos del bucle. Fixau-vos que el cos del bucle va identat dins l'expressió `while`.\n",
    "\n",
    "Un exemple de programa que usa un bucle indefinit seria un programa que ens permet fer un compte enrere partint del valor de la variable `n` fins a arribar a 1:"
   ]
  },
  {
   "cell_type": "code",
   "execution_count": null,
   "metadata": {
    "colab": {},
    "colab_type": "code",
    "id": "xbKRf128kkNr",
    "slideshow": {
     "slide_type": "fragment"
    }
   },
   "outputs": [],
   "source": [
    "n = 5\n",
    "print(\"El valor inicial de la variable 'n' es: \" + str(5))\n",
    "while n > 0: # Que passa quant n = 0 ?\n",
    "\n",
    "    print(n)\n",
    "    n = n - 1\n",
    "\n",
    "print(f'Valor de n = {n}')\n",
    "print(\"Som fora del bucle\")"
   ]
  },
  {
   "cell_type": "markdown",
   "metadata": {
    "colab_type": "text",
    "id": "lFuUpaQevh9I",
    "slideshow": {
     "slide_type": "slide"
    }
   },
   "source": [
    "Un altre exemple de programa que usa bucles indefinits és el càlcul de les taules de multiplicació\n",
    "\n",
    "```\n",
    "print(\"Aquest és un programa pels alumnes de primaria\")\n",
    "taula = int(input(\"Quina taula de multiplicació vols que calculi ? \"))\n",
    "\n",
    "x = 0\n",
    "\n",
    "while x <= 10: # Esquema iteratiu indefinit\n",
    "    resultat = taula * x\n",
    "    print(f' {taula} x {x}  = {resultat}')\n",
    "\n",
    "    x = x + 1 # incrementam la variable que controla el bucle\n",
    "\n",
    "print(\"Programa acabat\")\n",
    "```"
   ]
  },
  {
   "cell_type": "markdown",
   "metadata": {},
   "source": [
    "#### El bucle definit\n",
    "\n",
    "Aquest altre tipus de bucle és més controlat que l'anterior, ja que no finalitza quan una condició es deixa de complir,\n",
    "sinó que quan el definim també sabem quantes iteracions realitzarà. La instrucció usada en aquest cas es coneix amb el\n",
    "nom de `for` i l'explicarem a continuació.\n",
    "\n",
    "```\n",
    "for <var> in <iterable>:\n",
    "    <cos(s)>\n",
    "    \n",
    "   ```\n",
    "   \n",
    "`var` és la variable que usarem en el cos del bucle, no s'ha de definir amb anterioritat. `<iterable>` és una\n",
    "col·lecció d'objectes sobre la qual iterarem, per exemple, una llista o una tupla. El ` <statement\n",
    "(s)>` en el cos del bucle es denota amb indentació tal com hem explicat en els condicionals i en els bucles indefinits,\n",
    "totes les expressions que formen el ` <statement(s)>` s'executa(en) una vegada per cada element de l'`<iterable>.`\n",
    "La variable de bucle `<var>` assumeix el valor del cada element de l`<iterable>`, en el següent cas tenim un bucle\n",
    "que usa una tupla:"
   ]
  },
  {
   "cell_type": "code",
   "source": [
    "for i in (0,1,2,3,4,5):\n",
    "    s = i + 3\n",
    "    print(s)"
   ],
   "metadata": {
    "collapsed": false
   },
   "execution_count": null,
   "outputs": []
  },
  {
   "cell_type": "markdown",
   "source": [
    "\n",
    "\n",
    "Fixem-nos en la part de l'`<iterable>` definim els valor que la variable `i` prendrà al llarg del bucle.\n",
    "Si el rang de valors és molt gran, haver d'escriure tots els nombres es pot fer molt pesat. Per tant\n",
    "`Python` ens proporciona una manera més elegant de fer-ho.\n",
    "\n",
    "**Deixarem els bucles que fan feina amb llistes i tuples pel tema 5** i ens centrarem en un sol tipus de bucles\n",
    "`for`. Si volem iterar sobre un rang de valors, podem fer el següent:"
   ],
   "metadata": {
    "collapsed": false
   }
  },
  {
   "cell_type": "code",
   "execution_count": null,
   "metadata": {
    "colab": {},
    "colab_type": "code",
    "id": "GogRxqKAxjwl",
    "slideshow": {
     "slide_type": "fragment"
    }
   },
   "outputs": [],
   "source": [
    "for i in range(10):\n",
    "    print(i)"
   ]
  },
  {
   "cell_type": "markdown",
   "metadata": {
    "colab_type": "text",
    "id": "ZRx1nrFrxtv3",
    "slideshow": {
     "slide_type": "slide"
    }
   },
   "source": [
    "La funció `range(<inici>, <final>, <bot>)` retorna un iterable que produeix enters començant amb `<begin>`, fins `<end>`-1.\n",
    "Si s'especifica, `<bot>` indica el salt entre dos valors consecutius de la seqüència.\n",
    "\n",
    "Vegem els següents exemples en els quals mostrarem el resultat d'usar la funció `range`. També s'utilitza la paraula\n",
    "reservada `list`, només per efectes de visualització, coneixerem la seva utilitat més endavant, en el tema 5."
   ]
  },
  {
   "cell_type": "code",
   "execution_count": null,
   "metadata": {
    "colab": {},
    "colab_type": "code",
    "id": "Av7s6VrZyAf9",
    "slideshow": {
     "slide_type": "fragment"
    }
   },
   "outputs": [],
   "source": [
    "list(range(5, 10, 1)) # el mateix que fer list(range(5, 10))"
   ]
  },
  {
   "cell_type": "code",
   "execution_count": null,
   "metadata": {
    "colab": {},
    "colab_type": "code",
    "id": "irk2iEO0yNfP",
    "slideshow": {
     "slide_type": "fragment"
    }
   },
   "outputs": [],
   "source": [
    "list(range(0, 100, 10))"
   ]
  },
  {
   "cell_type": "code",
   "execution_count": null,
   "metadata": {
    "colab": {},
    "colab_type": "code",
    "id": "gF2-RCYyyBwb",
    "slideshow": {
     "slide_type": "fragment"
    }
   },
   "outputs": [],
   "source": [
    "list(range(-5, 5))"
   ]
  },
  {
   "cell_type": "code",
   "execution_count": null,
   "metadata": {
    "colab": {},
    "colab_type": "code",
    "id": "0HPd3FBzyB5f",
    "slideshow": {
     "slide_type": "fragment"
    }
   },
   "outputs": [],
   "source": [
    "list(range(5, -5, -2))"
   ]
  },
  {
   "cell_type": "markdown",
   "metadata": {},
   "source": [
    "### Combinació d'estructures de control\n",
    "\n",
    "Encara que durant aquesta secció hem vist les diferents estructures de control del flux del programa per separat,\n",
    "molts dels nostres programes necessitaran la combinació d'aquests tres esquemes per tal de resoldre els problemes\n",
    "que s'ens presentaran.\n",
    "\n",
    "A continuació resoldrem dos problemes fent ús de les tres estructures de control descrites en el\n",
    "capítol:\n",
    "\n",
    "**Realitzar un programa que llegeixi dos nombres\n",
    "de teclat a i b, on _a_ <= _b_, i que mostri a l'usuari el sumatori d'_a_ fins _b_ (ambdós inclosos)**\n",
    "\n",
    "```\n",
    "print(\"Calcul de la suma de l'interval a ,b\")\n",
    "\n",
    "num_a = int(input(\"Escriu a \"))\n",
    "num_b = int(input(\"Escriu b \"))\n",
    "\n",
    "sumatori = 0\n",
    "\n",
    "for i in range(num_a, num_b+1):\n",
    "    sumatori = sumatori + i\n",
    "    print(i, sumatori) # Mostram informació intermitja, això no és necessari per solventar el problema\n",
    "\n",
    "print(f'El resultat es: {sumatori}')\n",
    "\n",
    "```"
   ]
  },
  {
   "cell_type": "markdown",
   "metadata": {},
   "source": [
    "**Realitzar un programa que llegeix un nombre enter del teclat i calcula la part sencera del seu logaritme en base 2**\n",
    "\n",
    "```\n",
    "print(\"Introdueix un nombre enter per teclat i calcularé la part sencera del seu logaritme e¡en base 2\")\n",
    "\n",
    "num = int(input(\"Sobre quin valor vols que realitzi el càlcul? \"))\n",
    "\n",
    "calc = 0\n",
    "\n",
    "while 2**calc < num:\n",
    "    calc = calc + 1\n",
    "\n",
    "if 2**calc == num:\n",
    "    print(f'La part entera del log es: {calc}')\n",
    "else:\n",
    "    calc = calc - 1\n",
    "    print(f'La part entera del log es: {calc}')\n",
    "```"
   ]
  }
 ],
 "metadata": {
  "colab": {
   "collapsed_sections": [],
   "include_colab_link": true,
   "name": "Tema2_Estructures_de_control",
   "provenance": [],
   "version": "0.3.2"
  },
  "kernelspec": {
   "display_name": "Python 3",
   "language": "python",
   "name": "python3"
  },
  "language_info": {
   "codemirror_mode": {
    "name": "ipython",
    "version": 3
   },
   "file_extension": ".py",
   "mimetype": "text/x-python",
   "name": "python",
   "nbconvert_exporter": "python",
   "pygments_lexer": "ipython3",
   "version": "3.7.9"
  }
 },
 "nbformat": 4,
 "nbformat_minor": 1
}
