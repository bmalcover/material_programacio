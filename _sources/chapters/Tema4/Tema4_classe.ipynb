{
 "cells": [
  {
   "cell_type": "markdown",
   "metadata": {},
   "source": [
    "# Tema 4\n",
    "## APLICACIÓ DELS ESQUEMES BÀSICS PER A LA RESOLUCIÓ D'ESQUEMES MÉS COMPLEXES"
   ]
  },
  {
   "cell_type": "markdown",
   "metadata": {},
   "source": [
    "L'aplicació dels conceptes introduïts al capítol 3 permets resoldre problemenes aparentment complicats sense gaire dificultat.\n",
    "\n",
    "Qualsevol problema que impliqui el tractament d'una seqüència, encara que no de forma evident, es resoluble amb els mètodes de cerca i recorregut.\n",
    "\n",
    "A aquest capítol es mostra com es poden usar els esquemes bàsics vists al capítol anterior per solucionar problemes una mica més generals."
   ]
  },
  {
   "cell_type": "markdown",
   "metadata": {},
   "source": [
    "### Exercici de comptar grups de lletres\n",
    "\n",
    "Proposarem diverses maneres de resoldre el mateix problema tot argumentant els pros i els contres de cada una d'elles.\n",
    "\n",
    "#### Es desitja saber quantes parelles *la* s’hi poden trobar.\n",
    "\n",
    "El fet d’haver-les de comptar totes requereix, per força, recórrer tota la seqüència. Així doncs s’haurà d’adaptar l'esquema de recorregut. "
   ]
  },
  {
   "cell_type": "code",
   "execution_count": null,
   "metadata": {
    "hideCode": true,
    "hidePrompt": true
   },
   "outputs": [],
   "source": [
    "# Aquest recorregut no funciona de manera correcta\n",
    "\n",
    "import sys\n",
    "\n",
    "fiSequencia = '.'\n",
    "nombre = 0\n",
    "\n",
    "print(\"Escriu un text acabat en '\" + fiSequencia + \"' i comptaré les parelles 'la' que hi escriuràs\")\n",
    "\n",
    "lletra = sys.stdin.read(1)  # Situar-se sobre el primer element\n",
    "\n",
    "while lletra != fiSequencia:  # Mentre no final\n",
    "    print(lletra, nombre)\n",
    "    if lletra == 'l':  # Tractar l'element en curs\n",
    "        lletra = sys.stdin.read(1)\n",
    "        if lletra == 'a':\n",
    "            nombre = nombre + 1\n",
    "\n",
    "    # Situar-se sobre el següent element\n",
    "    lletra = sys.stdin.read(1)\n",
    "\n",
    "# Donar resultats\n",
    "print(\"El nombre de parelles 'la' que has escrit és: \" + str(nombre))"
   ]
  },
  {
   "cell_type": "code",
   "execution_count": null,
   "metadata": {
    "hideCode": false
   },
   "outputs": [],
   "source": [
    "# Aquest si, encara que es poc generalitzable, potser dificil de entendre\n",
    "\n",
    "import sys\n",
    "\n",
    "fiSequencia = '.'\n",
    "nombre = 0\n",
    "\n",
    "print(\"Escriu un text acabat en '\" + fiSequencia + \"' i comptaré les parelles 'la' que hi escriuràs\")\n",
    "\n",
    "lletra = sys.stdin.read(1)  # Situar-se sobre el primer element\n",
    "\n",
    "while lletra != fiSequencia:  # Mentre no final\n",
    "    print(lletra, nombre)\n",
    "    if lletra == 'l':  # Tractar l'element en curs\n",
    "        lletra = sys.stdin.read(1)\n",
    "        if lletra == 'a':\n",
    "            nombre = nombre + 1\n",
    "    else:\n",
    "        # Situar-se sobre el següent element\n",
    "        lletra = sys.stdin.read(1)\n",
    "\n",
    "# Donar resultats\n",
    "print(\"El nombre de parelles 'la' que has escrit és: \" + str(nombre))"
   ]
  },
  {
   "cell_type": "markdown",
   "metadata": {},
   "source": [
    "### Abstracció de la solució al problema\n",
    "\n",
    "En aquesta primera etapa en el camí cap a una correcta programació, **els aspectes als que s'ha de donar més importància són als de la correctesa, la claredat i la facilitat de modificació** de l'algorisme. \n",
    "\n",
    "Els aspectes de fiabilitat (totes les comprovacions necessàries per evitar errors de l'usuari al utilitzar el programa) i d'eficiència (velocitat d'execució i estalvi de memòria) són tòpics avançats que cauen fora de l’àmbit d’aquest capítol. Es parla aquí de la **claredat** dels algorismes. \n",
    "\n",
    "Si es pretén que l'algorisme resultant sigui clar, s’ha d'intentar treballar en el mateix nivell d'abstracció que es planteja a l'enunciat: “... quantes parelles ...”. \n",
    "El plantejament de l’algorisme identificava com element del tractament seqüencial els caràcters, i a\n",
    "l’enunciat es parla de parelles de caràcters, un element no del tot adequat per resoldre el problema com s’ha pogut comprovar.\n",
    "\n",
    "És necessari, doncs, treballar a nivell de parelles i no de caràcters. Per això s’ha de recórrer la seqüència per parelles i a cada una d'aquestes parelles se l'ha de comparar amb “la”. Per tant l’element del tractament seqüencial serà una parella de caràcters. \n"
   ]
  },
  {
   "cell_type": "markdown",
   "metadata": {},
   "source": [
    "L'algorisme general seria de la següent forma:\n",
    "\n",
    "```\n",
    "inicialitzacions de les variables necessàries: lletra, lletrap, nombre\n",
    " \n",
    "llegir_primera_parella\n",
    "\n",
    "while no  final: # es a dir -> darrera_parella:\n",
    "    tractar_parella_actual (si la parella es \"la\" augmentar el contador de nombre)\n",
    "    llegir_següent_parella\n",
    "\n",
    "mostrar_resultats\n",
    "```"
   ]
  },
  {
   "cell_type": "code",
   "execution_count": null,
   "metadata": {
    "hideCode": false,
    "hidePrompt": false
   },
   "outputs": [],
   "source": [
    "import sys\n",
    "\n",
    "fiSequencia = '.'\n",
    "\n",
    "print(\"Escriu un text acabat en '\" + fiSequencia + \"' i comptare les parelles 'la' que hi escriuràs\")\n",
    "\n",
    "nombre = 0\n",
    "\n",
    "# Ens situam sobre la primera parella\n",
    "lletrap = ' ' # fixau-vos amb el valor inicial\n",
    "lletra = sys.stdin.read(1)\n",
    "\n",
    "while lletra != fiSequencia:  # mentre no final\n",
    "    if lletrap == 'l'and lletra == 'a':  # tractam la parella actual\n",
    "        nombre = nombre + 1\n",
    "\n",
    "    #Seguent parella\n",
    "    lletrap = lletra  # la lletra previa es l'actual\n",
    "    lletra = sys.stdin.read(1)  # la actual es la seguent de la sequencia\n",
    "\n",
    "# resultats\n",
    "print(\"El nombre de parelles 'la' que has escrit és: \" + str(nombre))"
   ]
  },
  {
   "cell_type": "markdown",
   "metadata": {},
   "source": [
    "### Combinació d’esquemes bàsics\n",
    "\n",
    "També es podria resoldre el problema utilitzant un esquema de cerca dins el recorregut.\n",
    "\n",
    "Si el que interessa és únicament les parelles \"la\", llavors es pot anar cercant cada una de les 'l' i després mirar el què hi ha al darrera. Aquest plantejament combina els recorreguts i les cerques. Cal destacar el fet que es planteja l’algorisme com un recorregut de valors 'l'.\n",
    "\n"
   ]
  },
  {
   "cell_type": "markdown",
   "metadata": {
    "hideCode": false,
    "hideOutput": false,
    "hidePrompt": false
   },
   "source": [
    "```\n",
    "inicialització de les variables necessàries: lletra, nombre\n",
    " \n",
    "llegir la primera lletra\n",
    " \n",
    "cercar_l\n",
    "\n",
    "while lletra != '.':\n",
    "     llegir(lletra);\n",
    "     si (lletra == 'a'):\n",
    "         nombre = nombre +1\n",
    "     cercar_l\n",
    " \n",
    "mostrar_resultats\n",
    "```"
   ]
  }
 ],
 "metadata": {
  "celltoolbar": "Hide code",
  "kernelspec": {
   "display_name": "Python 3",
   "language": "python",
   "name": "python3"
  },
  "language_info": {
   "codemirror_mode": {
    "name": "ipython",
    "version": 3
   },
   "file_extension": ".py",
   "mimetype": "text/x-python",
   "name": "python",
   "nbconvert_exporter": "python",
   "pygments_lexer": "ipython3",
   "version": "3.7.4"
  }
 },
 "nbformat": 4,
 "nbformat_minor": 2
}
