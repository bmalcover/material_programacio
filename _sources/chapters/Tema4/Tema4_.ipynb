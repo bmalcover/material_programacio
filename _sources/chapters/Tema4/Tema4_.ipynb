{
 "cells": [
  {
   "cell_type": "markdown",
   "metadata": {
    "collapsed": false,
    "jupyter": {
     "outputs_hidden": false
    }
   },
   "source": [
    "# Tema 4\n",
    "\n",
    "## Organització del codi per la resolució de problemes més complexos"
   ]
  },
  {
   "cell_type": "markdown",
   "metadata": {
    "collapsed": false,
    "jupyter": {
     "outputs_hidden": false
    }
   },
   "source": [
    "L'aplicació dels conceptes introduïts al capítol 3 permet resoldre problemes aparentment complicats sense gaire\n",
    "dificultat. Qualsevol problema que impliqui el tractament d'una seqüència, encara que no de forma evident, és\n",
    "resoluble amb els mètodes de cerca i recorregut.\n",
    "\n",
    "En aquest capítol es mostra com es poden usar els esquemes bàsics vists al capítol anterior per solucionar problemes\n",
    "una mica més generals i també més complexes. Durant aquest procés observarem com la quantitat de codi necessari creix i\n",
    "necessitarem organitzar-ho en blocs lògics coneguts amb el nom de subprogrames.\n"
   ]
  }
 ],
 "metadata": {
  "celltoolbar": "Hide code",
  "kernelspec": {
   "display_name": "Python 3 (ipykernel)",
   "language": "python",
   "name": "python3"
  },
  "language_info": {
   "codemirror_mode": {
    "name": "ipython",
    "version": 3
   },
   "file_extension": ".py",
   "mimetype": "text/x-python",
   "name": "python",
   "nbconvert_exporter": "python",
   "pygments_lexer": "ipython3",
   "version": "3.11.11"
  }
 },
 "nbformat": 4,
 "nbformat_minor": 4
}
