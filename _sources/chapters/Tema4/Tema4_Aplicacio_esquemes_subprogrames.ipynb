{
 "cells": [
  {
   "cell_type": "markdown",
   "metadata": {
    "collapsed": true,
    "pycharm": {
     "name": "#%% md\n"
    }
   },
   "source": [
    "## Resolució de problemes amb esquemes bàsics i subprogrames\n",
    "\n",
    "Ara que ja sabem com emprar i definir subprogrames, resoldrem el problema de comptar parelles de lletres\n",
    "\"la\" amb el seu ús. De moment, seguirem amb una nova implementació del mateix algorisme que hem presentat anteriorment:"
   ]
  },
  {
   "cell_type": "code",
   "execution_count": null,
   "outputs": [],
   "source": [
    "import sys\n",
    "\n",
    "# Definicio del subprograma\n",
    "def cercar_lletra():\n",
    "    global lletra  # la variable lletra es global\n",
    "    while (lletra != '.') and (lletra != 'l'):\n",
    "        lletra = sys.stdin.read(1)\n",
    "\n",
    "fiSequencia = '.'\n",
    "nombre = 0\n",
    "\n",
    "print(\"Escriu un text acabat en '\" + fiSequencia +\n",
    "      \"' i comptaré les parelles \\\"  la \\\" que escriuràs\")\n",
    "\n",
    "# Cercar la primera aparició de la primera lletra\n",
    "lletra = sys.stdin.read(1)\n",
    "cercar_lletra()\n",
    "\n",
    "# Recorregut fins el final\n",
    "while lletra != '.':\n",
    "\n",
    "    # En aquest punt segur que lletra == primeraLletra\n",
    "    lletra = sys.stdin.read(1)\n",
    "    if lletra == 'a':\n",
    "        nombre = nombre + 1\n",
    "\n",
    "    # Cercar la seguent aparicio de la primera lletra\n",
    "    cercar_lletra()\n",
    "\n",
    "# Donam resultats\n",
    "print(\"El nombre de parelles  \\\" la \\\" que has escrit és: \" + str(nombre))"
   ],
   "metadata": {
    "collapsed": false,
    "pycharm": {
     "name": "#%%\n"
    }
   }
  },
  {
   "cell_type": "markdown",
   "source": [
    "**COMENTAR global!!!!!!!!!!!!!!!!!**\n",
    "\n",
    "#### Una passa més enllà, tractament de paraules\n",
    "\n",
    "Dedicarem el final d'aquest tema a resoldre problemes que ens demanen tractar informació a nivell de paraula. El\n",
    "primer exercici que realitzarem, analogament al tractament de lletres, serà el de **comptar quantes paraules hi ha en\n",
    "un texte.**\n",
    "\n",
    "Una primera aproximació que ens pot ajudar a resoldre aquest problema és tractar la paraula cercant\n",
    "el seu inici que definirem com un conjunt de dues lletres, un espai i una lletra diferent a l'espai en blanc.\n",
    "Començarem amb una aproximació sense usar subprogrames que anirem refinant en successives iteracions.\n",
    "\n",
    "Recordem l'algorisme que hem usat en la secció anterior:\n",
    "\n",
    "```\n",
    "inicialitzacions de les variables necessàries: lletra, lletrap, nombre\n",
    "\n",
    "llegir_primera_parella\n",
    "\n",
    "while no  final: # es a dir darrera_parella:\n",
    "    tractar_parella_actual (si la parella es un espai en blanc i una lletra que no ho és, augmentar el contador)\n",
    "    llegir_següent_parella\n",
    "\n",
    "mostrar_resultats\n",
    "```\n",
    "\n",
    "La seva implementació és la següent:"
   ],
   "metadata": {
    "collapsed": false
   }
  },
  {
   "cell_type": "code",
   "execution_count": null,
   "outputs": [],
   "source": [
    "# Aquest algorisme es un recorregut per parelles\n",
    "import sys\n",
    "\n",
    "# Valors inicials de les variables\n",
    "final = '.'\n",
    "contador = 0\n",
    "lletra_p = ' '  # aquestes son les variables per fer el recorregut\n",
    "lletra_a = sys.stdin.read(1)\n",
    "\n",
    "# Mentre no final, tractam tots els elements\n",
    "while lletra_a != final:\n",
    "    if lletra_p == ' ' and lletra_a != ' ': # un espai seguit d'un no espai\n",
    "        contador += 1\n",
    "    # Accedir a l'element seguent\n",
    "    lletra_p = lletra_a\n",
    "    lletra_a = sys.stdin.read(1)\n",
    "\n",
    "print(\"En aquest texte hi ha \" + str(contador) + \" paraules \")"
   ],
   "metadata": {
    "collapsed": false,
    "pycharm": {
     "name": "#%%\n"
    }
   }
  },
  {
   "cell_type": "markdown",
   "source": [
    "En aquest cas s’ha solucionat el problema de comptar paraules a un nivell d'abstracció inferior del que seria adient\n",
    "fer-ho. Tot i això veureu que si ara volem resoldre el següent problema:\n",
    "\n",
    "_Una companyia telefònica vol cobrar cada paraula que escrivim en el wattsapp a 1 cèntim, fes un programa que donat\n",
    "una seqüència de text acabada en punt ens calculi el seu import._\n",
    "\n",
    "El programa anterior seria molt senzill de modificar, seria suficient amb canviar una única línia de codi:\n",
    "\n",
    "```\n",
    "print(\"El cost d'enviar aquest missatge es de\" +  str(contador * 0.01))\n",
    "```\n",
    "\n",
    "Però si ara canvia l'enunciat del problema i només ens volguessin cobrar les paraules de més de 4 lletres. Com\n",
    "canviaríem el programa anterior per només comptar les paraules de 4 o més lletres?\n",
    "\n",
    "Doncs seguint la lògica del programa anterior i adaptant el codi que ja teníem d'abans. Una possible solució seria la\n",
    "següent:"
   ],
   "metadata": {
    "collapsed": false
   }
  },
  {
   "cell_type": "code",
   "execution_count": null,
   "outputs": [],
   "source": [
    "import sys\n",
    "\n",
    "caracter = sys.stdin.read(1)\n",
    "caracter_previ = ' '\n",
    "lletres = 0  # nombre de lletres d'una paraula\n",
    "paraules_mes_4_lletres = 0\n",
    "\n",
    "# Feim un recorregut de tot el text\n",
    "while caracter != '.':\n",
    "    if caracter_previ != ' ':  # Si el caracter previ no es un espai estam dins una paraula\n",
    "        lletres = lletres + 1\n",
    "\n",
    "    if caracter_previ == ' ' and caracter != ' ':  # Inici de paraula\n",
    "        if lletres >= 4:\n",
    "            paraules_mes_4_lletres = paraules_mes_4_lletres + 1\n",
    "\n",
    "        lletres = 0  # A la paraula nova, tornam a començar a contar\n",
    "\n",
    "    # Seguent elemt\n",
    "    caracter_previ = caracter\n",
    "    caracter = sys.stdin.read(1)\n",
    "\n",
    "# Tractam la darrera paraula\n",
    "if caracter_previ != ' ':\n",
    "    lletres = lletres + 1\n",
    "if lletres >= 4:\n",
    "    paraules_mes_4_lletres = paraules_mes_4_lletres + 1\n",
    "\n",
    "# Donam resultats\n",
    "print(\"El cost del teu text es: \" + str(paraules_mes_4_lletres * 0.01) + \" Euros\")\n"
   ],
   "metadata": {
    "collapsed": false,
    "pycharm": {
     "name": "#%%\n"
    }
   }
  },
  {
   "cell_type": "markdown",
   "source": [
    "Com podem observar, utilitzar aquest tipus d'aproximació al problema no sembla que sigui la més adient i es\n",
    "contradiu amb els principis de **claredat** i **facilitat de modificació** que esperem del nostre codi.\n",
    "\n",
    "Tornem una mica enrere i intentarem resoldre el problema de contar el nombre de paraules en una seqüència acabada en\n",
    "punt al nivell d'abstracció adequat i veurem que després amb poques modificacions podrem contar el nombre de\n",
    "paraules amb un nombre de lletres igual o major a 4.\n",
    "\n",
    "Farem un plantejament basat en seqüències de paraules que estan separades per espais en blanc."
   ],
   "metadata": {
    "collapsed": false
   }
  },
  {
   "cell_type": "code",
   "execution_count": null,
   "outputs": [],
   "source": [
    "import sys\n",
    "# Donam valors inicials a les variables\n",
    "nombre = 0\n",
    "lletra = ' ' # La lletra li donam un valor provisional per tenir totes les variables aqui\n",
    "final = '.'\n",
    "\n",
    "def botar_blancs( ):\n",
    "    # procediment que fa una cerca fins la primera lletra que  no sigui espai\n",
    "    global lletra\n",
    "    while lletra != '.' and lletra == ' ':\n",
    "        lletra = sys.stdin.read(1)\n",
    "\n",
    "def botar_paraula( ):\n",
    "    # procediment que fa una cerca fins que troba un espai en blanc ( final paraula)\n",
    "    global lletra\n",
    "    while lletra != ' ' and lletra != '.':\n",
    "        lletra = sys.stdin.read(1)\n",
    "\n",
    "print(\" Introdueix in texte acabat en punt i contare les paraules\")\n",
    "lletra = sys.stdin.read(1)\n",
    "\n",
    "botar_blancs()  # Aixo ens assegura estar sobre la primera lletra de la primer paraula\n",
    "\n",
    "# Es un recorregut, mentre no final\n",
    "while lletra != final:\n",
    "    # Tractament de l'element actual\n",
    "    nombre += 1\n",
    "\n",
    "    # Seguent element\n",
    "    botar_paraula()  # Com ja l'hem contada l'hem de recorrer\n",
    "    botar_blancs()  # Ens situa sobre la seguent paraula\n",
    "\n",
    "# Donam resultats\n",
    "print(nombre)"
   ],
   "metadata": {
    "collapsed": false,
    "pycharm": {
     "name": "#%%\n"
    }
   }
  },
  {
   "cell_type": "markdown",
   "source": [
    "Ara que ja tenim l'implementació d'un algorisme que treballa a nivell de paraules, anem a modificar-lo per tenir un\n",
    "programa que ens dirà quantes paraules amb 4 o més lletres tenim en una seqüència de caracters acabada en punt."
   ],
   "metadata": {
    "collapsed": false
   }
  },
  {
   "cell_type": "code",
   "execution_count": null,
   "outputs": [],
   "source": [
    "import sys\n",
    "\n",
    "nombre = 0\n",
    "lletra = ' '\n",
    "final = '.'\n",
    "\n",
    "def botar_blancs( ):\n",
    "    # procediment que fa una cerca fins la primera lletra que  no sigui espai\n",
    "    global lletra\n",
    "    while lletra != '.' and lletra == ' ':\n",
    "        lletra = sys.stdin.read(1)\n",
    "\n",
    "\n",
    "def contar_lletres_paraula():\n",
    "    # procediment que fa una cerca fins que troba un espai en blanc ( final paraula)\n",
    "    global lletra\n",
    "    lletres_paraula = 0\n",
    "    while lletra != ' ' and lletra != '.':\n",
    "        lletres_paraula = lletres_paraula + 1\n",
    "        lletra = sys.stdin.read(1)\n",
    "\n",
    "    return lletres_paraula\n",
    "\n",
    "\n",
    "print(\" Introdueix in texte acabat en punt i contare les paraules\")\n",
    "lletra = sys.stdin.read(1)\n",
    "\n",
    "botar_blancs()  # Aixo ens assegura estar sobre la primera lletra de la primer paraula\n",
    "\n",
    "# Es un recorregut, mentre no final\n",
    "while lletra != final:\n",
    "    nombres_lletres = contar_lletres_paraula()  # Seguent element\n",
    "\n",
    "    # Tractament element actual\n",
    "    if nombres_lletres >= 4:\n",
    "        nombre = nombre + 1\n",
    "    botar_blancs()  # Ens situa sobre la seguent paraula\n",
    "\n",
    "# Donam resultats\n",
    "print(\"El nombre de lletres igual o major a 4 es: \" + str(nombre))"
   ],
   "metadata": {
    "collapsed": false,
    "pycharm": {
     "name": "#%%\n"
    }
   }
  },
  {
   "cell_type": "markdown",
   "source": [
    "El codi entre el programa anterior i aquest no canvia massa, i és que si triam l'algorisme adient amb un nivell\n",
    "d'abstracció adient podrem resoldre molts problemes amb programes molt similars.\n",
    "\n",
    "**Un punt de vista diferent**\n",
    "\n",
    "\n",
    "Finalment, deixo una proposta de solució on el recorregut és una mica diferent, enlloc de mirar si hem arribat al punt,\n",
    "miram si hem arribat a trobar una paraula de longitut 0."
   ],
   "metadata": {
    "collapsed": false
   }
  },
  {
   "cell_type": "code",
   "execution_count": null,
   "outputs": [],
   "source": [
    "import sys\n",
    "\n",
    "nombre = 0\n",
    "lletra = ' '\n",
    "final = '.'\n",
    "\n",
    "def botar_blancs( ):\n",
    "    # procediment que fa una cerca fins la primera lletra que  no sigui espai\n",
    "    global lletra\n",
    "    while lletra != '.' and lletra == ' ':\n",
    "        lletra = sys.stdin.read(1)\n",
    "\n",
    "\n",
    "def contar_lletres_paraula():\n",
    "    # procediment que fa una cerca fins que troba un espai en blanc ( final paraula)\n",
    "    global lletra\n",
    "    lletres_paraula = 0\n",
    "    while lletra != ' ' and lletra != '.':\n",
    "        lletres_paraula = lletres_paraula + 1\n",
    "        lletra = sys.stdin.read(1)\n",
    "\n",
    "    return lletres_paraula\n",
    "\n",
    "\n",
    "print(\" Introdueix in texte acabat en punt i contare les paraules\")\n",
    "lletra = sys.stdin.read(1)\n",
    "\n",
    "botar_blancs()  # Aixo ens assegura estar sobre la primera lletra de la primer paraula\n",
    "nombres_lletres = contar_lletres_paraula()\n",
    "# Es un recorregut, mentre no final, en aquest cas el final es la paraula de longitut 0\n",
    "while nombres_lletres != 0:\n",
    "    # Tractament element actual\n",
    "    if nombres_lletres >= 4:\n",
    "        nombre = nombre + 1\n",
    "\n",
    "    # Seguent element\n",
    "    botar_blancs()\n",
    "    nombres_lletres = contar_lletres_paraula()\n",
    "\n",
    "# Donam resultats\n",
    "print(\"El nombre de paraules majors a 4 es: \" + str(nombre))\n",
    "\n"
   ],
   "metadata": {
    "collapsed": false,
    "pycharm": {
     "name": "#%%\n"
    }
   }
  }
 ],
 "metadata": {
  "kernelspec": {
   "display_name": "Python 3",
   "language": "python",
   "name": "python3"
  },
  "language_info": {
   "codemirror_mode": {
    "name": "ipython",
    "version": 2
   },
   "file_extension": ".py",
   "mimetype": "text/x-python",
   "name": "python",
   "nbconvert_exporter": "python",
   "pygments_lexer": "ipython2",
   "version": "2.7.6"
  }
 },
 "nbformat": 4,
 "nbformat_minor": 0
}