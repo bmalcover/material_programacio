{
 "cells": [
  {
   "cell_type": "markdown",
   "metadata": {
    "collapsed": true,
    "jupyter": {
     "outputs_hidden": true
    },
    "pycharm": {
     "name": "#%% md\n"
    }
   },
   "source": [
    "## Exercicis del Tema 4\n",
    "\n",
    "\n",
    "És recomanable fer tots els exercicis en el mateix fitxer Python. Un cop heu realitzat la funció o subprograma\n",
    "corresponent heu de comprovar el seu correcte funcionament.\n",
    "\n",
    "1.Subprograma que rep dos enters, els suma i retorna el resultat.\n",
    "\n",
    "2.Procediment que rep dos enters, els suma i mostra el valor resultant.\n",
    "\n",
    "3.Subprograma que rep dos nombres i torna el més gran.\n",
    "\n",
    "4.Subprograma que rep tres nombres i torna el més gran.\n",
    "\n",
    "4.1Realitzar un subprograma que rep tres nombres i torna el gran fent ús del subprograma del punt 3.\n",
    "\n",
    "5.Subprograma que rep tres nombres i mostra per pantalla si hi ha almanco dos nombres iguals.\n",
    "\n",
    "6.Subprograma que rep un nombre i retorna el seu valor absolut.\n",
    "\n",
    "7.Subprograma que rep un caràcter i retorna cert si el caràcter és una vocal.\n",
    "\n",
    "8.Subprograma que rep dos sencers i retorna cert si el primer és divisor del segon.\n",
    "\n",
    "9.Subprograma anomenat llegir_int que retorna un enter llegit del teclat.\n",
    "\n",
    "10.Subprograma que llegeix dos enters del teclat i retorna cert si el primer és divisor del segon.\n",
    "\n",
    "11.Subprograma que rep un enter i retorna un valor booleà segons si aquest és un nombre primer o no.\n",
    "\n",
    "12.Subprograma que rep un enter i retorna el menor nombre primer major que aquest número.\n",
    "\n",
    "```\n",
    "    Per exemple\n",
    "    - El nombre 7 tornaria 11.\n",
    "    - El nombre 14 tornaria 17.\n",
    "    - 22 tornaria 23.\n",
    "```\n",
    "\n",
    "13.Subprograma que rep un caràcter de l'abecedari en llengua anglesa o un digit entre el 0 i el 9, i el retorna en\n",
    "majúscules.\n",
    "```\n",
    "    Per exemple\n",
    "     El caràcter a retorna el caràcter A.\n",
    "     El caràcter B retorna el caràcter B.\n",
    "     El caràcter 9 retorna el caràcter 9.\n",
    "```\n",
    "\n",
    "14.Subprograma que rep els dos costats d'un triangle rectangle i torna la hipotenusa.\n",
    "\n",
    "15.Realitzar un subprograma que rep dos enters i torna el mcd de tots dos.\n",
    "\n",
    "16.Realitzar un subprograma que rep dos sencers, que representen una fracció. La funció hauria de reduir la fracció\n",
    "als termes més petits possibles i després mostrar per pantalla tant el numerador com el denominador de la fracció\n",
    "reduïda.\n",
    "```\n",
    "    Exemple:\n",
    "    Si els paràmetres passats a la funció són 6 i 63, llavors el resultat és 2 i 21.\n",
    "```\n",
    "\n",
    "17.Realitzar el subprograma anomenat _sumaseq_ que rep un enter en el rang 1, 9 i un nombre de repeticions. El\n",
    "programa ha\n",
    "de realitzar la següent operació:\n",
    "```\n",
    "    Si rep 8 i 5 repeticions ha de retornar el resultat de la següent suma 8 + 88 + 888 +8888 + 88888\n",
    "    Si rep 5 i 2 repeticions ha de retornar: 5 + 55\n",
    "    Si rep 1 i 8 repeticions ha de retornar: 1 + 11 +111+ 1111 + 11111 + 111111 + 1111111 + 11111111\n",
    "```\n",
    "\n",
    "18.Realitzar un programa que rep 3 nombres (d, m, a) que representen una data (dia, mes i any). El programa ha de\n",
    "tornar el dia següent a aquesta data. Heu de tenir en compte els dies de cada mes i els anys de traspàs."
   ]
  }
 ],
 "metadata": {
  "kernelspec": {
   "display_name": "Python 3 (ipykernel)",
   "language": "python",
   "name": "python3"
  },
  "language_info": {
   "codemirror_mode": {
    "name": "ipython",
    "version": 3
   },
   "file_extension": ".py",
   "mimetype": "text/x-python",
   "name": "python",
   "nbconvert_exporter": "python",
   "pygments_lexer": "ipython3",
   "version": "3.11.11"
  }
 },
 "nbformat": 4,
 "nbformat_minor": 4
}
