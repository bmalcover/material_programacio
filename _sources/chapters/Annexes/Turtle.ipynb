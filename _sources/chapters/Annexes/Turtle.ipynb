{
 "cells": [
  {
   "cell_type": "markdown",
   "metadata": {
    "collapsed": true,
    "pycharm": {
     "name": "#%% md\n"
    }
   },
   "source": [
    "# Turtle\n",
    "\n",
    "La nostra primera aproximació al món de la programació serà mitjançant l'eina anomenada _Turtle_ que\n",
    "permet realitzar dibuixos sobre una finestra que representa un llenç en blanc. L'interés que té l'ús d'aquesta eina\n",
    "és en primer lloc el de conèixer l'entorn de programació que emprarem durant tot el curs i en segon lloc començar a\n",
    "comprendre com es pot implementar un programa.\n",
    "\n",
    "_Turtle_ principalment s'empra per introduir els nens al món de la informàtica. És una manera senzilla però\n",
    "versàtil d'entendre els conceptes de `Python`. Això fa que sigui una gran via perquè els nens facin els seus primers\n",
    "passos en la programació Python. Dit això, la biblioteca de tortugues Python no es limita només als més petits! També\n",
    " s'ha demostrat molt útil per als adults que estan provant les seves mans amb Python, cosa que el fa fantàstic per\n",
    " als principiants de `Python`. Amb _Turtle_, podeu dibuixar i crear diferents tipus de formes i imatges\n",
    "\n",
    "## El nostre primer programa\n",
    "\n",
    "Anem a veure el codi que tendrá un primer exemple que dibuixa una línia cap a la dreta i una línia cap avall. La\n",
    "primera i la darrera línia del codi que teniu a continuació són obligatòries: la primera serveix per dir que els\n",
    "nostres programes usaran _turtle_, la darrera serveix per mostrar el que hem dibuixat en una finestra que es tanca\n",
    "quan hi fem _click_ amb el botó esquerre del ratolí.\n",
    "\n",
    "```\n",
    "from turtle import *\n",
    "\n",
    "forward(100)\n",
    "left(90)\n",
    "forward(100)\n",
    "\n",
    "exitonclick()\n",
    "```\n",
    "\n",
    "Si copiem aquest codi al nostre IDE (_Pycharm_) i l'executem, veurem com podem interpretar de forma molt senzilla el\n",
    "codi de les línies centrals: dibuixa una línia cap a la dreta, fa un gir de 90 graus i després dibuixa una línia cap\n",
    "a l'esquerra. El nombre 100 que veieu dins l'operació `forward` (avançar) és el nombre de pixels que dibuixarà.\n",
    "\n",
    "L'ordre `left` ens permet girar el bolígraf i el nombre que veieu entre parèntesis, <<és el nombre de graus.\n",
    "\n",
    "## Ordres bàsiques\n",
    "\n",
    "A més d'avançar i girar cap a l'esquerra, _turtle_ permet altres operacions. A continuació descriurem les necessaries\n",
    "per poder dibuixar de manera senzilla encara que si esteu interessats [aquí](https://realpython.com/beginners-guide-python-turtle/#getting-started-with-turtle)\n",
    "en podeu trobar més.\n",
    "\n",
    "- forward i backward: Avançar o retrocedir el bolígraf. S'ha d'especificar entre parèntesis el nombre de píxels que ens\n",
    "desplaçarem.\n",
    "- left i right: Girar en un sentit o l'altre. S'ha d'especificar entre parèntesis els graus que volem rotar.\n",
    "- goto: moure el bolígraf a una coordenada. S'han d'especificar entre parèntesis dos nombres enters: la coordenada\n",
    "_x_ i la coordenada _y_.\n",
    "- penup i pendown: serveixen per aixecar i baixar el bolígraf, amb el bolígraf alçat els desplaçaments no pinten fins\n",
    " que tornem a baixar-lo. Per usar aquestes comandes s'ha de fer posant un parèntesi buit al darrere. Per exemple `  penup()`\n",
    "\n",
    "## Un primer exercici\n",
    "\n",
    "1. Fes un programa que dibuixi les dues primeres lletres del teu nom.\n",
    "2. Modifica el teu codi per fer cada lletra d'un color. Pots mirar la documentació [aquí](https://realpython.com/beginners-guide-python-turtle/#getting-started-with-turtle)"
   ]
  }
 ],
 "metadata": {
  "kernelspec": {
   "display_name": "Python 3",
   "language": "python",
   "name": "python3"
  },
  "language_info": {
   "codemirror_mode": {
    "name": "ipython",
    "version": 2
   },
   "file_extension": ".py",
   "mimetype": "text/x-python",
   "name": "python",
   "nbconvert_exporter": "python",
   "pygments_lexer": "ipython2",
   "version": "2.7.6"
  }
 },
 "nbformat": 4,
 "nbformat_minor": 0
}