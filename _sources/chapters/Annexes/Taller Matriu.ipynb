{
 "cells": [
  {
   "cell_type": "markdown",
   "id": "fancy-maldives",
   "metadata": {},
   "source": [
    "# Taller de la classe Matriu\n",
    "\n",
    "En aquest taller implementarem la classe matriu quadrada. \n",
    "\n",
    "El constructor ha de rebre dos paràmetres:\n",
    "La dimensió de la matriu, un enter anomenat n.\n",
    "Un booleà que indica si els valors de la matriu són 0 (cas *False*) o son nombres generats aleatòriament entre \\[0 i 10\\] (cas *True*). Aquest booleà anomenat *aleatori*  tindrà un valor per defecte de *False*.\n",
    "\n",
    "La nostra matriu ha d’implementar els següents mètodes:\n",
    "\n",
    "   - La funció **màxim** que retorna el valor més gran de la matriu. Fer aquesta operació mitjançant un recorregut\n",
    "   - La funció **mínim** que retorna el valor més petit de la matriu. Fer aquesta operació mitjançant funcions de Python.\n",
    "   - La funció **identitat** que retorna True si la matriu és la identitat.\n",
    "   - La funció **transposta** que retorna un nou objecte del tipus matriu, la transposta de la matriu original referenciada pel paràmetre *self*.\n",
    "   - La funció estàtica **multiplicació** de matrius que rep per paràmetre 2 matrius i retorna una nova matriu resultat de multiplicar les dues anteriors per paràmetre.\n",
    "   - Un procediment **imprimir** que mostra la matriu per pantalla (en forma matricial).\n",
    "\n",
    "\n",
    "**Realitza un programa principal en un altre fitxer que validi la correctesa dels mètodes implementats.**\n",
    "\n",
    "## Estructura de dades\n",
    "\n",
    "Python no té un tipus de dades definit per tractar les matrius, així que usarem llistes que contenen llistes com a estructura de dades. Això implica que som nosaltres, els programadors, que hem de controlar que la dimensionalitat sigui correcte.\n",
    "\n",
    "Anem a veure un exemple:"
   ]
  },
  {
   "cell_type": "code",
   "execution_count": null,
   "id": "mineral-humanity",
   "metadata": {},
   "outputs": [],
   "source": [
    "\n",
    "# Definició explícita d'una matriu de 4x3\n",
    "matriu = [[1, 4, 5, 12], \n",
    "          [-5, 8, 9, 0],\n",
    "          [-6, 7, 11, 19]]\n"
   ]
  },
  {
   "cell_type": "markdown",
   "id": "canadian-group",
   "metadata": {},
   "source": [
    "**Accés als elements d'una matriu**\n",
    "\n",
    "Podem accedir als elements d'una matriu pel seu índex:"
   ]
  },
  {
   "cell_type": "code",
   "execution_count": null,
   "id": "existing-munich",
   "metadata": {},
   "outputs": [],
   "source": [
    "#Nota: Podem obtenir tots els elements d'una fila amb una única selecció però no\n",
    "# tots els elements d'una columna.\n",
    "print(\"matriu =>\", matriu) # mostram la matriu com una llista\n",
    "print(\"matriu[1] =\", matriu[1])      # segona fila\n",
    "print(\"matriu[1][2] =\", matriu[1][2])   # tercer element de la segona fila\n",
    "print(\"matriu[0][-1] =\", matriu[0][-1])   # darrer  element de la primera fila"
   ]
  },
  {
   "cell_type": "markdown",
   "id": "advanced-carolina",
   "metadata": {},
   "source": [
    "**Recorregut d'una matriu**\n",
    "\n",
    "Així com amb les llistes podem recórrer les matrius amb bucles definits:\n"
   ]
  },
  {
   "cell_type": "code",
   "execution_count": null,
   "id": "corresponding-maker",
   "metadata": {},
   "outputs": [],
   "source": [
    "\n",
    "for i in range(len(matriu)): # nombre de files\n",
    "    for j in range(len(matriu[0])): # nombre de columnes\n",
    "        \n",
    "        print(matriu[i][j])\n",
    "    "
   ]
  },
  {
   "cell_type": "markdown",
   "id": "restricted-setting",
   "metadata": {},
   "source": [
    "**Creació d'una matriu**\n",
    "\n",
    "És molt possible que necessitem crear una estructura de dades amb un valor determinat, per exemple la matriu buida.\n",
    "\n",
    "*Nota: No és l'única manera de fer aquesta operació.*"
   ]
  },
  {
   "cell_type": "code",
   "execution_count": null,
   "id": "chubby-magic",
   "metadata": {},
   "outputs": [],
   "source": [
    "files = 5\n",
    "columnes = 2\n",
    "\n",
    "matriu_2 = [] # Llista que contendrà les altres llistes\n",
    "\n",
    "for i in range(files):\n",
    "    fila = [] # Cada fila és una llista\n",
    "    for j in range(columnes):\n",
    "     \n",
    "        fila.append(0)\n",
    "    \n",
    "    matriu_2.append(fila) # Concatenam files\n",
    "    \n",
    "    \n",
    "print(matriu_2)\n"
   ]
  }
 ],
 "metadata": {
  "kernelspec": {
   "display_name": "Python 3",
   "language": "python",
   "name": "python3"
  },
  "language_info": {
   "codemirror_mode": {
    "name": "ipython",
    "version": 3
   },
   "file_extension": ".py",
   "mimetype": "text/x-python",
   "name": "python",
   "nbconvert_exporter": "python",
   "pygments_lexer": "ipython3",
   "version": "3.7.9"
  }
 },
 "nbformat": 4,
 "nbformat_minor": 5
}
