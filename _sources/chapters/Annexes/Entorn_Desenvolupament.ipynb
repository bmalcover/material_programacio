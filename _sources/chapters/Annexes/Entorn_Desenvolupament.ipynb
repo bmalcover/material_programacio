{
 "cells": [
  {
   "cell_type": "markdown",
   "metadata": {
    "collapsed": true
   },
   "source": [
    "## Entorn de desenvolupament\n",
    "\n",
    "En aquest annex trobareu la descripció del que necessitem per començar a programar.\n",
    "\n",
    "\n",
    "### Software\n",
    "\n",
    "#### Python\n",
    "Per programar en `Python` necessitem tenir instal·lat el paquet de _software_ que conté la màquina virtual de `Python` i altre codi que en un futur ens ajudaran a ampliar els nostres programes. Actualment conviuen dues versions del llenguatge, la 2 i la 3, en aquest curs **només usarem la versió 3, no s'acceptarà cap programa amb la versió 2**.\n",
    "\n",
    "Els usuaris de _MacOs_ i _Linux_ ja tenen aquest Python instal·lat en els seus equips i per tant no és necessari que ho instal·lin, a les sessions presencials comprovarem que teniu les versions adients. En canvi els usuaris de _Windows_  han d'instal·lar el següent _software_:\n",
    "\n",
    "[Enllaç al programa d'instal·lació de Python ](https://www.python.org/downloads/)\n",
    "\n",
    "\n",
    "\n",
    "#### Pycharm\n",
    "\n",
    "Per desenvolupar els nostres programes utilitzarem una eina anomenada Entorn Integral de Desenvolupament (IDE per les\n",
    "seves sigles en anglès) que a més d'un editor de text té un gestor de projectes i també permet executar, introduir\n",
    "informació i veure informació generada dels nostres programes. Existeixen un gran nombre d'IDEs amb els quals podem\n",
    "programar, el que es recomana usar en aquest curs és **Pycharm en la seva versió Community** sobre el qual es donarà\n",
    "suport.\n",
    "\n",
    "[Enllaç a Pycharm](https://www.jetbrains.com/pycharm/download)\n",
    "\n",
    "\n",
    "```{figure} ../img/IDE.png\n",
    ":alt: Imatge IDE\n",
    ":width: 400px\n",
    ":align: center\n",
    "\n",
    "Existeixen dues versions d'aquest programa, nosaltres usarem la versió Community que es correspon amb l'enllaç\n",
    "de descarrega de color negre. Seleccionau el vostre sistema operatiu.\n",
    "```\n",
    "\n",
    "\n",
    "\n",
    "### Tutorial primer programa\n",
    "\n",
    "A continuació trobarem un petit tutorial per fer el nostre primer programa.\n",
    "[Tutorial](https://beginnersbook.com/2018/01/first-python-project-in-pycharm-ide/)\n",
    "\n"
   ]
  }
 ],
 "metadata": {
  "kernelspec": {
   "display_name": "Python 3",
   "language": "python",
   "name": "python3"
  },
  "language_info": {
   "codemirror_mode": {
    "name": "ipython",
    "version": 2
   },
   "file_extension": ".py",
   "mimetype": "text/x-python",
   "name": "python",
   "nbconvert_exporter": "python",
   "pygments_lexer": "ipython2",
   "version": "2.7.6"
  }
 },
 "nbformat": 4,
 "nbformat_minor": 0
}
