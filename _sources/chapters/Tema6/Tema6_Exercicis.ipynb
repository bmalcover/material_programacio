{
 "cells": [
  {
   "cell_type": "markdown",
   "metadata": {
    "collapsed": true
   },
   "source": [
    "## Exercicis\n",
    "\n",
    "Pycharm permet crear fitxers de text, amb extensió .txt, seguint la mateixa manera que cream els nostres fitxers de\n",
    "codi `Python`, amb extensió .py. En aquest punt, en els vostres projectes o carpetes tendreu dos tipus de fitxers: codi i de text.\n",
    "\n",
    "\n",
    "1.\tCrea un fitxer manualment anomenat primer_fitxer que contengui una estrofa d’una cançó. Fes un programa que\n",
    "llegeixi cada caràcter de manera individual i el mostri per pantalla, cada lletra a una línia diferent.\n",
    "2.\tUsa el fitxer creat a l’exercici anterior però ara llegeix el fitxer línia a línia. Mostra el que has llegit del\n",
    "fitxer per pantalla.\n",
    "3.\tFes un programa que llegeixi una seqüència de teclat acabada en punt i la guardi en un fitxer. El nom del fitxer\n",
    "ha de ser `fitxer_escrit.txt`. Valida que el contingut és correcte.\n",
    "4.\tCrea un fitxer de text a l’escriptori del teu ordinador, usant un direccionament absolut mostra per pantalla el\n",
    "contingut del fitxer.\n",
    "5.\tEn el teu projecte crea una carpeta que es digui `folder`. Copia el contingut del fitxer de l’exercici 1 a un\n",
    "fitxer que es digui resultat.txt i que es trobi dins la carpeta `folder`.\n",
    "6.\tCrea un programa dins la carpeta folder i intenta llegir el contingut del fitxer anomenat primer_fitxer.\n",
    "\n",
    "\n"
   ]
  }
 ],
 "metadata": {
  "kernelspec": {
   "display_name": "Python 3",
   "language": "python",
   "name": "python3"
  },
  "language_info": {
   "codemirror_mode": {
    "name": "ipython",
    "version": 2
   },
   "file_extension": ".py",
   "mimetype": "text/x-python",
   "name": "python",
   "nbconvert_exporter": "python",
   "pygments_lexer": "ipython2",
   "version": "2.7.6"
  }
 },
 "nbformat": 4,
 "nbformat_minor": 0
}
