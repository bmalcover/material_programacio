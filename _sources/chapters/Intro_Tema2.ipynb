{
 "cells": [
  {
   "cell_type": "markdown",
   "source": [
    "# Tema 2"
   ],
   "metadata": {
    "collapsed": false
   }
  },
  {
   "cell_type": "markdown",
   "source": [
    "## Components del llenguatge\n",
    "\n",
    "Un programa es pot definir com una seqüència d'**operacions** que s'han d'aplicar a un conjunt de **dades** en un\n",
    "**ordre** determinat per realitzar una tasca específica en un computador.\n",
    "\n",
    "En aquest tema veurem els components més elementals del llenguatge que seran necessaris per poder crear un programa.\n",
    "En concret parlarem de:\n",
    "\n",
    "- Els **tipus de dades** que podem tractar.\n",
    "- **Quines operacions** es poden utilitzar amb les dades.\n",
    "- **Mecanismes** que permetran controlar l'ordre d'execució de les operacions.\n",
    "\n",
    "A més de les peces més elementals que conformen els programes, també realitzarem una breu introducció als mètodes per\n",
    " aportar i obtenir informació d'un programa. El que és coneix com **entrada/sortida**.\n",
    "\n",
    "La lectura i comprensió dels conceptes exposats en aquest segon capítol ens permetrà realitzar els nostres primers\n",
    "programes d'ordinador."
   ],
   "metadata": {
    "collapsed": false
   }
  }
 ],
 "metadata": {
  "kernelspec": {
   "display_name": "Python 3",
   "language": "python",
   "name": "python3"
  },
  "language_info": {
   "codemirror_mode": {
    "name": "ipython",
    "version": 2
   },
   "file_extension": ".py",
   "mimetype": "text/x-python",
   "name": "python",
   "nbconvert_exporter": "python",
   "pygments_lexer": "ipython2",
   "version": "2.7.6"
  }
 },
 "nbformat": 4,
 "nbformat_minor": 0
}