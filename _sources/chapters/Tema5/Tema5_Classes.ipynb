{
 "cells": [
  {
   "cell_type": "markdown",
   "metadata": {
    "colab_type": "text",
    "hideCode": false,
    "id": "luOLvtNTrj0x"
   },
   "source": [
    "## Classes i Objectes\n",
    "\n",
    "El concepte de tipus de dades estructurats s’amplia amb la incorporació dels conceptes propis de l’orientació a\n",
    "objectes: les **classes** i les seves instàncies, els **objectes**.\n",
    "\n",
    "Per arribar a entendre el concepte de classe primer cal parlar del concepte de **Tipus Abstracte de Dades** (TAD). Un\n",
    "TAD es defineix com un model matemàtic compost per una col·lecció d'operacions definides sobre un conjunt de dades.\n",
    "\n",
    "Un Tipus Abstracte de Dades es caracteritza per:\n",
    "\n",
    "* Usa un o més tipus de dades, elementals o no.\n",
    "* Defineix un conjunt d’operacions sobre aquestes dades. Aquest conjunt d'operacions és coneix com a interfície.\n",
    "* Les operacions de la interfície són les úniques que estan permeses per les dades que hem definit. \n",
    "* No existeix cap altre mecanisme d’accés a l’estructura de dades definida.\n",
    "\n",
    "El fet de definir una interfície com a mecanisme d’actuació sobre els valors del Tipus Abstracte de Dades permet protegir\n",
    "els valors enfront d’una utilització incorrecta.  Aquesta tècnica es coneix amb el nom d’**encapsulació**.\n",
    "\n",
    "### Classes\n",
    "\n",
    "Una Classe es pot considerar com la implementació d'un Tipus Abstracte de Dades en un llenguatge de programació.\n",
    "\n",
    "- Quan es parla dels **valors** que es representen amb una classe es parla dels **atributs**.\n",
    "- Quan es parla de les **operacions** es parla dels **mètodes**.\n",
    "\n",
    "Existeix un tipus especial de mètodes, els mètodes que serveixen per construir els objectes, són els anomenats\n",
    "**constructors**. Un constructor té la característica especial que el valor resultat de la seva invocació (crida) és un\n",
    "nou objecte, una instància de la classe. Una altra característica dels constructors és que no són invocats de manera\n",
    "explícita sinó que són invocats quan es creen noves instàncies de la classe.\n",
    "\n",
    "Per il·lustrar els conceptes plantejats, començarem amb la definició de la nostra primera classe que serveix per\n",
    "guardar informació relativa a una persona:"
   ]
  },
  {
   "cell_type": "code",
   "execution_count": 1,
   "metadata": {
    "colab": {},
    "colab_type": "code",
    "id": "r3uHBPLSrag1"
   },
   "outputs": [],
   "source": [
    "class Persona:\n",
    "  \n",
    "  ''' \n",
    "      El mètode __init__ és un mètode especial de Python que serveix per definir com\n",
    "      es construeix un objecte. Només el podem crear dins una classe.\n",
    "      Hi definirem els seus atributs.\n",
    "  '''\n",
    "  \n",
    "  def __init__(self, ed, pe, al): # notem l'ús del paràmetre self\n",
    "    \n",
    "        self.edat = ed\n",
    "        self.pes = pe\n",
    "        self.alt = al # la alcada es en cm"
   ]
  },
  {
   "cell_type": "markdown",
   "metadata": {
    "colab_type": "text",
    "id": "Wj4soykLvYpq"
   },
   "source": [
    "### Objectes \n",
    "\n",
    "Per poder utilitzar les classes és necessari realitzar una instància, de manera que es construeix un **objecte**.\n",
    "Les variables s’utilitzen **per fer referència** als objectes creats."
   ]
  },
  {
   "cell_type": "code",
   "execution_count": 2,
   "metadata": {
    "colab": {
     "base_uri": "https://localhost:8080/",
     "height": 52
    },
    "colab_type": "code",
    "id": "VgE_d4t-waf9",
    "outputId": "3a2edd8c-f9f2-4cd5-cc9e-5279a640a3d0"
   },
   "outputs": [
    {
     "name": "stdout",
     "output_type": "stream",
     "text": [
      "<__main__.Persona object at 0x0000027BCDB94608>\n",
      "<__main__.Persona object at 0x0000027BCDD4F3C8>\n",
      "199\n"
     ]
    }
   ],
   "source": [
    "# Creació d'un objecte persona amb referencia p1\n",
    "p1 = Persona(32, 72, 180)\n",
    "\n",
    "# Creació d'un objecte persona amb referencia p2\n",
    "p2 = Persona(41, 134, 152)\n",
    "\n",
    "# p1 i p2 no tenen valor, son referencies\n",
    "print(p1)\n",
    "print(p2)\n",
    "\n",
    "p1.alt = 199\n",
    "\n",
    "print(p1.alt)\n"
   ]
  },
  {
   "cell_type": "markdown",
   "metadata": {
    "colab_type": "text",
    "id": "SUCy4SUSxMvF"
   },
   "source": [
    "Com hem notat en les darreres línies del codi anterior, podem accedir als atributs d'una classe usant el punt després\n",
    "del nom de l'objecte.\n",
    "\n",
    "Seguint amb l'exemple anterior veurem com mostrar la informació dels atributs d'un objecte."
   ]
  },
  {
   "cell_type": "code",
   "execution_count": 3,
   "metadata": {
    "colab": {
     "base_uri": "https://localhost:8080/",
     "height": 52
    },
    "colab_type": "code",
    "id": "F_ob9-qzxNU-",
    "outputId": "f41852bd-db51-409f-9136-a25e0db177a2"
   },
   "outputs": [
    {
     "name": "stdout",
     "output_type": "stream",
     "text": [
      "Edat 32 - Pes: 72\n",
      "Edat 41 - Pes: 134\n",
      "Edat 55 - Pes: 32\n"
     ]
    }
   ],
   "source": [
    "print(f'Edat \" + str(p1.edat) + \" - Pes: \" + {p1.pes}')\n",
    "print(\"Edat \" + str(p2.edat) + \" - Pes: \" + str(p2.pes))\n",
    "\n",
    "professor = Persona(55,32, 140) # Cream un nou objecte del tipus persona anomenat professor\n",
    "\n",
    "# Mostram l'informacio dels seus atributs\n",
    "print(\"Edat \" + str(professor.edat) + \" - Pes: \" + str(professor.pes))\n"
   ]
  },
  {
   "cell_type": "markdown",
   "metadata": {
    "colab_type": "text",
    "hideOutput": true,
    "id": "tGSwr1bgyE3b"
   },
   "source": [
    "Hem dit que una de les coses que caracteritza un TAD és la capacitat de definir interfícies, és a dir operacions\n",
    "sobre les nostres dades. En definirem algunes per a la classe que estem construint i a continuació les implementarem.\n",
    "\n",
    "Operacions de la classe Persona:\n",
    "\n",
    "* Calcular l'IMC (índex de massa corporal).\n",
    "* Saber si una persona és major d'edat.\n",
    "* Donades dues persones, saber qui és més vell.\n",
    "* Mostrar per pantalla la informació d'un objecte.\n"
   ]
  },
  {
   "cell_type": "code",
   "execution_count": 4,
   "metadata": {
    "colab": {
     "base_uri": "https://localhost:8080/",
     "height": 86
    },
    "colab_type": "code",
    "id": "0Wxgh-a59s3n",
    "outputId": "387e42bd-11e0-4792-fdd9-e9c8fce8cf0d"
   },
   "outputs": [],
   "source": [
    "class Persona:\n",
    "    \n",
    "    def __init__(self, ed, pe, al): \n",
    "        # Atributs de la meva classe\n",
    "        self.edat = ed\n",
    "        self.pes = pe\n",
    "        self.alt = al # la alcada es en cm\n",
    "        \n",
    "        '''\n",
    "        Mètodes de la meva classe\n",
    "        Els mètodes que usen la informació de l'objecte tenen el seu primer paràmetre\n",
    "        anomenat self\n",
    "        '''\n",
    "    def IMC(self):\n",
    "        \n",
    "        alsada_m = self.alt / 100\n",
    "        index_massa = self.pes / (alsada_m * alsada_m)\n",
    "    \n",
    "        return index_massa\n",
    "\n",
    "    def es_major_edat(self):\n",
    "        \n",
    "        if self.edat >= 18:\n",
    "            return True\n",
    "        else:\n",
    "            return False\n",
    "    \n",
    "    def es_major(self, o):\n",
    "    \n",
    "        edat_persona = self.edat\n",
    "        edat_a_comparar = o.edat\n",
    "        \n",
    "        print(self.edat, o.edat)\n",
    "        \n",
    "        if edat_persona > edat_a_comparar:\n",
    "            return True\n",
    "        else:\n",
    "            return False\n",
    "    \n",
    "    def son_iguals(self, o):\n",
    "        \n",
    "        return self.edat == o.edat\n",
    "    \n",
    "    def imprimir(self):\n",
    "        print(f'Edat {self.edat} - Pes: {self.pes} - Alsada: {self.alt}')"
   ]
  },
  {
   "cell_type": "markdown",
   "source": [
    "I ara veurem com es poden usar en un programa:"
   ],
   "metadata": {
    "collapsed": false,
    "pycharm": {
     "name": "#%% md\n"
    }
   }
  },
  {
   "cell_type": "code",
   "execution_count": 1,
   "metadata": {},
   "outputs": [
    {
     "ename": "NameError",
     "evalue": "name 'Persona' is not defined",
     "output_type": "error",
     "traceback": [
      "\u001B[1;31m---------------------------------------------------------------------------\u001B[0m",
      "\u001B[1;31mNameError\u001B[0m                                 Traceback (most recent call last)",
      "\u001B[1;32m<ipython-input-1-7e8075f3a8c1>\u001B[0m in \u001B[0;36m<module>\u001B[1;34m\u001B[0m\n\u001B[0;32m      1\u001B[0m \u001B[1;31m#Programa principal\u001B[0m\u001B[1;33m\u001B[0m\u001B[1;33m\u001B[0m\u001B[1;33m\u001B[0m\u001B[0m\n\u001B[0;32m      2\u001B[0m \u001B[1;33m\u001B[0m\u001B[0m\n\u001B[1;32m----> 3\u001B[1;33m \u001B[0mp\u001B[0m \u001B[1;33m=\u001B[0m \u001B[0mPersona\u001B[0m\u001B[1;33m(\u001B[0m\u001B[1;36m19\u001B[0m\u001B[1;33m,\u001B[0m \u001B[1;36m75\u001B[0m\u001B[1;33m,\u001B[0m \u001B[1;36m175\u001B[0m\u001B[1;33m)\u001B[0m\u001B[1;33m\u001B[0m\u001B[1;33m\u001B[0m\u001B[0m\n\u001B[0m\u001B[0;32m      4\u001B[0m \u001B[1;33m\u001B[0m\u001B[0m\n\u001B[0;32m      5\u001B[0m \u001B[0mestudiant\u001B[0m \u001B[1;33m=\u001B[0m \u001B[0mPersona\u001B[0m\u001B[1;33m(\u001B[0m\u001B[1;36m22\u001B[0m\u001B[1;33m,\u001B[0m \u001B[1;36m90\u001B[0m\u001B[1;33m,\u001B[0m \u001B[1;36m210\u001B[0m\u001B[1;33m)\u001B[0m\u001B[1;33m\u001B[0m\u001B[1;33m\u001B[0m\u001B[0m\n",
      "\u001B[1;31mNameError\u001B[0m: name 'Persona' is not defined"
     ]
    }
   ],
   "source": [
    "#Programa principal    \n",
    "\n",
    "p = Persona(19, 75, 175)\n",
    "\n",
    "estudiant = Persona(22, 90, 210)\n",
    "\n",
    "estudiant.imprimir()\n",
    "p.imprimir()"
   ]
  },
  {
   "cell_type": "markdown",
   "metadata": {
    "colab_type": "text",
    "id": "jIxfKKX2E7r4"
   },
   "source": [
    "A més del mètode `__init__`, `Python` n'ofereix d'altres que ens permetran simplificar la interacció amb els objectes.\n",
    "Per acabar aquest primer contacte amb les classes veurem el mètode `__str__`:"
   ]
  },
  {
   "cell_type": "code",
   "execution_count": 6,
   "metadata": {
    "colab": {
     "base_uri": "https://localhost:8080/",
     "height": 219
    },
    "colab_type": "code",
    "id": "N5GXT3zoFihO",
    "outputId": "fea8456f-e338-41d5-eb3b-6cab16cd5b35"
   },
   "outputs": [
    {
     "name": "stdout",
     "output_type": "stream",
     "text": [
      "Pes 80 Alsada 191\n"
     ]
    }
   ],
   "source": [
    "class Persona:\n",
    "    \n",
    "    def __init__(self, ed, pe, al): \n",
    "        # Atributs de la meva classe\n",
    "        self.edat = ed\n",
    "        self.pes = pe\n",
    "        self.alt = al # la alcada es en cm\n",
    "        \n",
    "    '''\n",
    "    Mètodes de la meva classe\n",
    "    Els mètodes que usen la informació de l'objecte tenen el seu primer paràmetre\n",
    "    anomenat self\n",
    "    '''\n",
    "    \n",
    "    def IMC(self):\n",
    "        index_massa = self.pes / (self.alt * self.alt)\n",
    "        return index_massa\n",
    "    \n",
    "    def es_major_edat(self):\n",
    "        \n",
    "        if self.edat >= 18:   \n",
    "            return True\n",
    "        return False\n",
    "    \n",
    "    def es_major(self, o):\n",
    "    \n",
    "        return self.edat > o.edat\n",
    "    \n",
    "    # Aquest mètode sempre ha de retornar un string\n",
    "    def __str__(self):\n",
    "    \n",
    "        s = \"Pes \" + str(self.pes) + \" Alsada \" + str(self.alt) \n",
    "        return s\n",
    "\n",
    "p = Persona(22, 80, 191)\n",
    "\n",
    "# Això ens permet mostrar la informació d'un objecte de la següent manera:\n",
    "print(p)   "
   ]
  },
  {
   "cell_type": "markdown",
   "metadata": {
    "colab_type": "text",
    "id": "WL-NuIE212Ll"
   },
   "source": [
    "## Classe dels nombres complexos\n",
    "\n",
    "Fins on sabem, els llenguatges de programació no tenen cap tipus de dades elemental que ens permeti treballar amb\n",
    "nombres complexos.\n",
    "\n",
    "Aprofitarem per crear el nostre propi tipus de dades i definir les operacions de:\n",
    "\n",
    "* suma\n",
    "* resta\n",
    "* multiplicació\n",
    "* mostrar per pantalla (imprimir)"
   ]
  },
  {
   "cell_type": "code",
   "execution_count": 7,
   "metadata": {
    "colab": {
     "base_uri": "https://localhost:8080/",
     "height": 34
    },
    "colab_type": "code",
    "id": "hx5H2RsJ2J6N",
    "outputId": "ed9d2ae5-bd90-475e-f886-f59faf193abc"
   },
   "outputs": [
    {
     "name": "stdout",
     "output_type": "stream",
     "text": [
      "(6+4i)\n"
     ]
    }
   ],
   "source": [
    "class Complex:\n",
    "    def __init__(self, r, i): # Constructor\n",
    "        # Atributs\n",
    "        self.real = r\n",
    "        self.imaginaria = i\n",
    "        \n",
    "    # Metodes\n",
    "    '''\n",
    "    Fixau-vos que aquest mètode retorna un objecte del tipus Complex.\n",
    "    Es a dir, dins el mètode suma, es crea un objecte de la classe Complex\n",
    "    ''' \n",
    "    def suma(self, o): \n",
    "        \n",
    "        r = self.real + o.real\n",
    "        i = self.imaginaria + o.imaginaria\n",
    "        c = Complex(r, i)\n",
    "        return c\n",
    "      \n",
    "    def resta(self, o):\n",
    "        real = self.real-o.real\n",
    "        img = self.imaginaria-o.imaginaria\n",
    "        \n",
    "        return Complex(real, img)\n",
    "      \n",
    "    def multiplica(self, o):\n",
    "        \n",
    "        real = self.real * o.real - self.imaginaria * o.imaginaria\n",
    "        img = self.real * o.imaginaria + self.imaginaria * o.real\n",
    "        \n",
    "        return Complex(real, img)\n",
    "      \n",
    "    def __str__(self):\n",
    "        \n",
    "        if self.imaginaria < 0:\n",
    "            return '(' + str(self.real) + str(self.imaginaria) + 'i)'\n",
    "        else:\n",
    "            return '(' + str(self.real) + '+' + str(self.imaginaria) + 'i)'\n",
    "\n",
    "# Programa principal\n",
    "# Programa que defineix dos nombres complexos, els suma i retorna el seu resultat\n",
    "          \n",
    "c1 = Complex(2,-3)\n",
    "c2 = Complex(4,7)\n",
    "\n",
    "c1 = c1.suma(c2)  # Aquesta operació genera un nou nombre\n",
    "\n",
    "print(c1)"
   ]
  },
  {
   "cell_type": "markdown",
   "metadata": {},
   "source": [
    "**Problema**\n",
    "\n",
    "Modifiqueu el programa principal anterior, per un que faci el següent:\n",
    "Heu de demanar a l'usuari quants nombres complexos vol operar, el vostre programa ha de llegir del teclat aquests\n",
    "nombres i realitzar la següent seqüència d'operacions.\n",
    "\n",
    "- Si la part real del nombre que heu llegit per teclat mòdul 3 dóna 0 l'heu de sumar al nombre real que heu obtingut\n",
    "de l'operació anterior.\n",
    "- Si dóna 1 l'heu de restar al nombre real que heu obtingut de l'operació anterior.\n",
    "- Si dóna 2 l'heu de multiplicar al nombre real que heu obtingut de l'operació anterior.\n",
    "\n",
    "Podeu considerar que en la primera iteració el nombre anterior és el nombre complex: 1+1i. A cada iteració heu de\n",
    "mostrar el nombre obtingut per pantalla.\n",
    "\n",
    "*Trobareu la solució d'aquest problema a la carpeta d'exemples de classe a uibdigital, fitxers: complexe i\n",
    "principal_complexe*"
   ]
  },
  {
   "cell_type": "markdown",
   "metadata": {
    "colab_type": "text",
    "id": "QaBTYsN5mcyK"
   },
   "source": [
    "## Encapsulació\n",
    "\n",
    "Com hem comentat al principi del capítol és necessari que en un **TAD** es doni el següent:\n",
    "\n",
    "* Les operacions de la interfície són les úniques que estan permeses pel tipus exportat.\n",
    "\n",
    "* No existeix cap altre mecanisme d'accés a l'estructura de dades definida.\n",
    "\n",
    "En les dues classes que hem definit fins ara Persona i Complex aquestes dues restriccions no es compleixen, podem\n",
    "modificar els atributs d'una classe des de qualsevol lloc del nostre programa, incloent-hi el programa principal. A\n",
    "continuació aprendrem com podem modificar l'accés als atributs d'una classe perquè els seus valors només es puguin\n",
    "canviar dins la mateixa classe.\n",
    "\n",
    "### Atributs privats\n",
    "\n",
    "Tot i que està permès pel llenguatge, **no és recomanable declarar els atributs públics**, és a dir com ho hem fet\n",
    "fins ara, ja que això permetria un possible ús incorrecte d'aquests.\n",
    "\n",
    "Seguirem treballant amb la classe dels nombres complexos. Deixem aquí un recordatori del que havíem desenvolupat:"
   ]
  },
  {
   "cell_type": "code",
   "execution_count": 8,
   "metadata": {
    "colab": {
     "base_uri": "https://localhost:8080/",
     "height": 323
    },
    "colab_type": "code",
    "id": "ZScVJoQLml9W",
    "outputId": "d5046de7-2947-4419-98b1-dc251687a477"
   },
   "outputs": [],
   "source": [
    "class Complex:\n",
    "    \n",
    "    def __init__(self, r, i): # Constructor\n",
    "        # Atributs\n",
    "        self.real = r\n",
    "        self.imaginaria = i\n",
    "        \n",
    "        # Metode\n",
    "    def suma(self, o):    \n",
    "        r = self.real + o.real\n",
    "        i = self.imaginaria + o.imaginaria\n",
    "        return Complex(r, i)\n",
    "    \n",
    "    def __str__(self):\n",
    "        \n",
    "        if self.imaginaria < 0:\n",
    "            return '(' + str(self.real) + str(self.imaginaria) + 'i)'\n",
    "        else:\n",
    "            return '(' + str(self.real) + '+' + str(self.imaginaria) + 'i)'\n"
   ]
  },
  {
   "cell_type": "markdown",
   "metadata": {
    "pycharm": {
     "name": "#%% md\n"
    }
   },
   "source": [
    "Veiem com tenir atributs d'accés públic ens pot dur alguns problemes:"
   ]
  },
  {
   "cell_type": "code",
   "execution_count": null,
   "outputs": [],
   "source": [
    "c1 = Complex(2,3)\n",
    "c2 = Complex(3,4)\n",
    "\n",
    "c1.real = \"matematiques\" # canviam el tipus d'una variable de enter a string\n",
    "\n",
    "c3 = c1.suma(c2) # aixo dona error ja que no pot sumar un string amb un enter"
   ],
   "metadata": {
    "collapsed": false,
    "pycharm": {
     "name": "#%%\n"
    }
   }
  },
  {
   "cell_type": "markdown",
   "metadata": {
    "colab_type": "text",
    "id": "hu0BMSjRmk_Y"
   },
   "source": [
    "La pregunta que sorgeix és: **Com fem un atribut privat?**\n",
    "\n",
    "A `Python`, per definir que un atribut és privat ho fem posant `__` (doble guió) davant del seu nom.\n",
    "\n",
    "Que un atribut sigui privat implica que no podem consultar ni modificar el seu valor fora de l'àmbit de la classe on\n",
    "aquest ha estat definit."
   ]
  },
  {
   "cell_type": "code",
   "execution_count": 1,
   "metadata": {
    "colab": {
     "base_uri": "https://localhost:8080/",
     "height": 69
    },
    "colab_type": "code",
    "id": "DGbUybY5Pgju",
    "outputId": "07f0365a-deea-43be-8cec-4c747cbec2b0"
   },
   "outputs": [],
   "source": [
    "class Complex:\n",
    "    \n",
    "    def __init__(self, r, i): # Constructor\n",
    "        # Atributs, ara privats\n",
    "        self.__real = r\n",
    "        self.__imaginaria = i\n",
    "        \n",
    "    def suma(self, o):    \n",
    "        r = self.__real + o.__real\n",
    "        i = self.__imaginaria + o.__imaginaria\n",
    "        return Complex(r, i)\n",
    "    \n",
    "    # Aquests dos mètodes ens permeten modificar els atributs privats (setters)\n",
    "    def set_real(self, real):\n",
    "\n",
    "        self.__real = real\n",
    "        \n",
    "    def set_imaginari(self, imaginaria):\n",
    "\n",
    "        self.__imaginaria = imaginaria\n",
    "\n",
    "   # També podem fer mètodes que ens retornen el seu valor (getters)\n",
    "\n",
    "    def get_imaginari(self):\n",
    "    \n",
    "        return self.__imaginaria\n",
    "    \n",
    "    def get_real(self):\n",
    "    \n",
    "        return self.__real\n",
    "\n",
    "    def __str__(self):\n",
    "        \n",
    "        if self.__imaginaria < 0:\n",
    "            return '(' + str(self.__real) + str(self.__imaginaria) + 'i)'\n",
    "        else:\n",
    "            return '(' + str(self.__real) + '+' + str(self.__imaginaria) + 'i)'"
   ]
  },
  {
   "cell_type": "markdown",
   "metadata": {
    "pycharm": {
     "name": "#%% md\n"
    }
   },
   "source": [
    "Veiem un exemple d'ús dels mètodes que hem creat per modificar explícitament els atributs i els seus beneficis."
   ]
  },
  {
   "cell_type": "code",
   "execution_count": null,
   "outputs": [],
   "source": [
    "c1 = Complex(2, 3)\n",
    "c2 = Complex(3, 4)\n",
    "\n",
    "c2.set_real(33)\n",
    "c1.__real = \"patata\"\n",
    "\n",
    "print(\"Informacio de l'objecte c1: \")\n",
    "print(c1)\n",
    "\n",
    "print(\"Informacio de l'objecte c2: \")\n",
    "print(c2)"
   ],
   "metadata": {
    "collapsed": false,
    "pycharm": {
     "name": "#%%\n"
    }
   }
  },
  {
   "cell_type": "markdown",
   "metadata": {
    "colab_type": "text",
    "id": "lUxb8NVcP-uE"
   },
   "source": [
    "```{note}\n",
    "En conclusió: Si volem tenir la capacitat per modificar els valors dels atributs d'una classe, podem construir mètodes\n",
    "que els modifiquin i dins aquests fer els controls necessaris per mantenir la coherència d'aquests.\n",
    "```\n",
    "\n",
    "\n",
    "### Mètodes privats\n",
    "A més d'atributs privats també podem tenir mètodes privats. La diferència entre els mètodes de la interfície (públics) i\n",
    "la resta de mètodes que puguin formar la classe, mètodes necessaris per al correcte comportament d'aquesta, és que\n",
    "**els mètodes de la interfície es declaren públics**, mentre que **la resta es declaren privats**, de manera que no\n",
    "s'habilita la possibilitat d'accedir-hi des de fora de la classe.\n",
    "\n",
    "Seguim amb l'exemple de la classe `Complex`:"
   ]
  },
  {
   "cell_type": "code",
   "execution_count": null,
   "metadata": {
    "colab": {
     "base_uri": "https://localhost:8080/",
     "height": 219
    },
    "colab_type": "code",
    "id": "ujpunuExQFzT",
    "outputId": "c4285372-9140-47bc-8ad5-441780e1fb05"
   },
   "outputs": [],
   "source": [
    "class Complex:\n",
    "    \n",
    "    def __init__(self, r, i): # Constructor\n",
    "        # Atributs, ara privats\n",
    "        self.__real = r\n",
    "        self.__imaginaria = i\n",
    "\n",
    "    # Aquest es un metode privat, nomes es visible dins la classe\n",
    "    def __igual_a_zero(self):\n",
    "        \n",
    "        return self.__real == 0 and self.__imaginaria == 0\n",
    "\n",
    "    # Aquests dos mètodes públics són visibles tant dins com fora de la classe\n",
    "    def es_zero(self):\n",
    "        \n",
    "        return  self.__igual_a_zero()\n",
    "\n",
    "    # Un nombre complex te invers si es diferent a 0\n",
    "    def te_invers(self):\n",
    "        return not self.__igual_a_zero()\n",
    "\n",
    "# Programa principal on cream un nombre i comprovem una propietat\n",
    "c1 = Complex(2, 3)\n",
    "\n",
    "if not c1.es_zero():\n",
    "    print(\"Es diferent de zero\")"
   ]
  },
  {
   "cell_type": "markdown",
   "metadata": {
    "colab_type": "text",
    "id": "ynR94IuhVA8F"
   },
   "source": [
    "## Atributs i mètodes de classe\n",
    "\n",
    "**Mètodes de classe**\n",
    "\n",
    "Alguns cops necessitem definir mètodes (funcions o procediments) dins la nostra classe que no estan directament\n",
    "relacionats amb els atributs d'un objecte, sinó que ens serveixen per complementar la funcionalitat de la classe.\n",
    "Anomenem aquests mètodes com **mètodes de classe o també estàtics** i s'identifiquen amb el decorador `@staticmethod`\n",
    "abans de la definició del mateix mètode. Com són mètodes que no operen amb els objectes de la classe no reben el\n",
    "paràmetre `self`.\n",
    "\n",
    "Veiem la seva sintaxi:\n",
    "\n",
    " ```\n",
    " @staticmethod\n",
    " def metodeestatic(parametres opcionals):\n",
    "     \n",
    "     linies de codi\n",
    "     necessaries \n",
    "     return valor # si el que implementam es una funcio\n",
    " \n",
    " ```\n",
    "\n",
    "Una de les seves màximes utilitats és la d'implementar constructors alternatius.\n",
    "\n",
    "**Atributs de classe**\n",
    "\n",
    "Fins ara hem vist que els valors dels atributs d'un objecte són independents dels atributs d'altres objectes de la\n",
    "mateixa classe i que podem modificar-los lliurement sense estar preocupats que la modificació dels uns pugui afectar\n",
    "als valors dels altres objectes.\n",
    "\n",
    "Existeixen un tipus d'atributs, coneguts com a **atributs de classe** que actuen d'una manera diferent del que coneixem\n",
    "fins ara, no es troben associats a un objecte sinó a la mateixa classe.\n",
    "\n",
    "Una altra de les utilitats dels mètodes estàtics és operar amb els atributs associats a la classe, així, si volem usar\n",
    "aquests atributs no depenem d'haver creat un objecte prèviament. L'ús d'atributs de classe no és molt comú, però en\n",
    "alguna ocasió pot ser de gran utilitat.\n",
    "\n",
    "Tornem a l'exemple de la classe persona per veure com funciona:"
   ]
  },
  {
   "cell_type": "code",
   "execution_count": null,
   "metadata": {
    "colab": {
     "base_uri": "https://localhost:8080/",
     "height": 173
    },
    "colab_type": "code",
    "id": "07zgy_VEU7Q7",
    "outputId": "09bac02c-9507-406b-b8fd-680b74c12f33",
    "scrolled": true
   },
   "outputs": [],
   "source": [
    "class Persona:\n",
    "    \n",
    "    # Atribut de classe, sempre es creen aqui abans del constructor\n",
    "    # com els atributs d'un objecte poden ser publics o privats\n",
    "    __nombre_de_persones = 0\n",
    "    \n",
    "    def __init__(self, ed, pe, al):\n",
    "        \n",
    "        self.__edat = ed\n",
    "        self.__pes = pe\n",
    "        self.__alt = al\n",
    "        \n",
    "        #Cada cop que cream un nou objecte del tipus Persona sumam un al contador\n",
    "        Persona.__nombre_de_persones += 1\n",
    "        \n",
    "    \n",
    "    \n",
    "    # Aquest mètode ens retorna el valor d'una variable estatica, no necessita d'un objecte\n",
    "    # per tant no usa el parametre self.\n",
    "    @staticmethod\n",
    "    def nombre_persones_creades():\n",
    "        return Persona.__nombre_de_persones # sabem quantes persones hem creat\n",
    "    \n",
    "    \n",
    "    # Exemple de mètode de classe estàtic que serveix per construir un nou objecte\n",
    "    @staticmethod\n",
    "    def bebe(pes, alt):\n",
    "    \n",
    "        persona_petita = Persona(0, pes, alt)\n",
    "        \n",
    "        return persona_petita\n",
    "    \n",
    "    \n",
    "    def __str__(self):\n",
    "    \n",
    "        cadena =  \"  o  \" + \"Pes:  \" + str(self.__pes) + \"\\n\" + \" /|\\ \" + \"Edat: \" + str(self.__edat) + \"\\n\" + \"  |  \" + \"Alt:  \" + str(self.__alt) + \"\\n\" + \" / \\ \"                                   \n",
    "        return cadena\n",
    "    \n",
    "# Programa principal\n",
    "creades = Persona.nombre_persones_creades()\n",
    "print(\"*Inici, persones creades: \" + str(creades))\n",
    "\n",
    "p = Persona(20, 72, 174)\n",
    "p2= Persona(30, 80, 163)\n",
    "p3= Persona.bebe(6, 50)\n",
    "\n",
    "# Mostrara el valor 3\n",
    "creades = Persona.nombre_persones_creades()\n",
    "print(f'*Nombre de persones creades {creades}')\n",
    "print(\"*Com son? \")\n",
    "\n",
    "print(p)\n",
    "print(p2)\n",
    "print(p3)"
   ]
  },
  {
   "cell_type": "markdown",
   "metadata": {
    "colab_type": "text",
    "id": "Cn3HFyyw3Qat"
   },
   "source": [
    "## Sobrecàrrega d'operadors\n",
    "\n",
    "En el tema 2 definíem els **operadors** com a símbols especials que indiquen que cal fer algun tipus de computació.\n",
    "Els valors amb els quals actua un operador s'anomenen **operands**.\n",
    "\n",
    "Vàrem veure que tenim operadors: aritmètics, de comparació i lògics. Tots aquests operadors es troben definits pels\n",
    "tipus de dades del nucli de `Python`,es a dir, enter, string, llista i float. Si ens fixem bé, el mateix\n",
    "operador es comporta de manera diferent amb diferents tipus. Per exemple, l'operador **+** realitzarà una addició\n",
    "aritmètica de dos nombres, unirà dues llistes i concatenarà dos _strings_.\n",
    "\n",
    "Aquesta característica de `Python` que permet que un mateix operador tingui un significat diferent segons el tipus de\n",
    "dades amb el qual opera es diu **sobrecàrrega d'operadors**.\n",
    "\n",
    "Si pensem en les classes que hem construït fins ara, quan volem operar dos objectes o comparar-los construïm mètodes\n",
    "que tenen noms que ens ajuden a reconèixer l'operació que volem realitzar, però seria molt més pràctic poder usar\n",
    "els operadors que ja coneixem.\n",
    "\n",
    "A continuació aprendrem com podem aplicar sobrecarrega d'operadors a les classes que cream.\n",
    "\n",
    "**Operadors aritmètics**\n",
    "\n",
    "Considerem la classe següent, que defineix un punt en el sistema de coordenades 2-D."
   ]
  },
  {
   "cell_type": "code",
   "execution_count": null,
   "metadata": {
    "colab": {
     "base_uri": "https://localhost:8080/",
     "height": 221
    },
    "colab_type": "code",
    "id": "AT8MwjEt8q59",
    "outputId": "4cabe94f-91d6-48f8-b722-663e617d7ef9"
   },
   "outputs": [],
   "source": [
    "class Punt:\n",
    "    def __init__(self, x = 0, y = 0):\n",
    "        self.__x = x\n",
    "        self.__y = y\n",
    "    \n",
    "    def __str__(self):\n",
    "     \n",
    "      return \"(\" + str(self.__x) + \", \" + str(self.__y) + \")\"\n",
    "\n",
    "# Exemple d'ús\n",
    "p1 = Punt()\n",
    "p2 = Punt(7)\n",
    "print(p1)\n",
    "print(p2)\n"
   ]
  },
  {
   "cell_type": "markdown",
   "metadata": {
    "colab_type": "text",
    "id": "obmDRDte9QBN"
   },
   "source": [
    "\n",
    "Per sobrecarregar el signe +, haurem d’implementar el mètode `__add __` a la nostra classe. Com podem intuir aquest\n",
    "mètode és com el constructor de les classes i el mètode `__str__` propis de `Python`.\n",
    "\n",
    "`Python` no avalua que dins aquest mètode sumem dos objectes d'aquella classe, ja que no coneix el significat de\n",
    "sumar. Però el que sí que ens obliga és que aquest sigui un mètode d'objecte és a dir que rep el paràmetre self i\n",
    "un objecte de la classe per paràmetre. També és altament recomanable tornar un objecte de la mateixa classe.\n",
    "\n",
    "Ara en veurem un exemple:"
   ]
  },
  {
   "cell_type": "code",
   "execution_count": null,
   "metadata": {
    "colab": {
     "base_uri": "https://localhost:8080/",
     "height": 34
    },
    "colab_type": "code",
    "id": "4qF2e3ET9QnV",
    "outputId": "d21c4ecb-45d6-4947-d97e-24100e7e9c36"
   },
   "outputs": [],
   "source": [
    "class Punt:\n",
    "    def __init__(self, x = 0, y = 0):\n",
    "        self.__x = x\n",
    "        self.__y = y\n",
    "        \n",
    "    def __str__(self):\n",
    "     \n",
    "      return \"Punt(\" + str(self.__x) + \", \" + str(self.__y) + \")\"\n",
    "\n",
    "    def __add__(self, altra):\n",
    "        x = self.__x + altra.__x\n",
    "        y = self.__y + altra.__y\n",
    "        return Punt(x, y)\n",
    "    \n",
    "    def __sub__(self, p2):\n",
    "        x = self.__x - p2.__x\n",
    "        y = self.__y - p2.__y\n",
    "        return Punt(x, y)\n",
    "        \n",
    "# Programa principal\n",
    "p1 = Punt(2, 2)\n",
    "p2 = Punt(7)\n",
    "\n",
    "p3 = p1 + p2 # estam cridant al mètode p1.__add__(p2)\n",
    "\n",
    "print(p1)\n",
    "print(p2)\n",
    "print(p3)\n",
    "\n",
    "p4 = p2 - p1\n",
    "\n",
    "print(p4)\n",
    "      "
   ]
  },
  {
   "cell_type": "markdown",
   "metadata": {
    "colab_type": "text",
    "id": "WA4OnF0x_r_6"
   },
   "source": [
    "De la mateixa manera que hem sobrecarregat l'operador suma també podem sobrecarregar altres operadors. Les funcions\n",
    "especials que podem implementar es mostren a continuació. Cal recordar que tota funció ja existent a `Python` i que\n",
    "volem sobreescriure ha de començar i acabar amb doble barra baixa: `__`. Per exemple `__add__` o `__sub__`.\n",
    "\n",
    "A continuació trobem una taula amb els diferents operadors que podem sobrecarregar:\n",
    "\n",
    "| Operador    | Expressió  | Mètode    |\n",
    "|:------------|:-----------|:----------|\n",
    "|Suma         |  p1 + p2   | `p1.__add__(p2)`|\n",
    "|Resta        |  p1 - p2   | `p1.__sub__(p2)`|\n",
    "|Multiplicació|  p1 * p2   | `p1.__mul__(p2)`|\n",
    "|Potència     |  p1 ** p2  | `p1.__pow__(p2)`|\n",
    "|Divisió      |  p1 / p2   | `p1.__truediv__(p2)`|\n",
    "|Divisió sencera |  p1 // p2 | `p1.__floordiv__(p2)`|\n",
    "|Mòdul        |  p1 % p2   | `p1.__mod__(p2)`|\n",
    "\n",
    "\n",
    "**Operadors de comparació**\n",
    "\n",
    "De la mateixa manera que ho hem fet amb els aritmètics, podem sobrecarregar els operadors de comparació. Uns dels més\n",
    "usats és la igualtat `==`. Vegem un exemple del seu ús en la classe `Punt`:"
   ]
  },
  {
   "cell_type": "code",
   "execution_count": null,
   "metadata": {},
   "outputs": [],
   "source": [
    "class Punt:\n",
    "    def __init__(self, x = 0, y = 0):\n",
    "        self.__x = x\n",
    "        self.__y = y\n",
    "    \n",
    "    \n",
    "    # Els següents tres mètodes fan el mateix, el primer és un mètode de classe\n",
    "    # El segon és un mètode d'objecte.\n",
    "    # El tercer mètode sobrecarrega l'operador d'igualtat\n",
    "    \n",
    "    @staticmethod\n",
    "    def son_iguals(p1, p2):\n",
    "        \n",
    "        return p1.__x == p2.__x and  p1.__y == p2.__y\n",
    "        \n",
    "    def __es_igual_a(self, p2):\n",
    "        \n",
    "        return self.__x == p2.__x and  self.__y == p2.__y\n",
    "    \n",
    "    def __eq__(self, p2):\n",
    "        \n",
    "         return self.__es_igual_a(p2)\n",
    "    \n",
    "            \n",
    "    def __str__(self):\n",
    "     \n",
    "      return \"(\" + str(self.__x) + \", \" + str(self.__y) + \")\"\n",
    "    \n",
    "# Programa principal\n",
    "p1 = Punt(2, 2)\n",
    "p2 = Punt(2, 2)\n",
    "\n",
    "\n",
    "if p2 == p1 :\n",
    "    print(\"Son iguals\")\n"
   ]
  },
  {
   "cell_type": "markdown",
   "metadata": {
    "colab_type": "text",
    "id": "-hScTMc4_4H_"
   },
   "source": [
    "A continuació tenim una taula amb els diferents operadors que podem sobrecarregar:\n",
    "\n",
    "\n",
    "| Operador    | Expressió  | Mètode    |\n",
    "|:------------|:-----------|:----------|\n",
    "|Menor        | p1 &lt; p2 | `p1.__lt__(p2)`|\n",
    "|Menor o igual| p1 &lt;= p2 | `p1.__le__(p2)`|\n",
    "|Igual        | p1 == p2 | `p1.__eq__(p2)`|\n",
    "|Diferent     | p1 != p2 | `p1.__ne__(p2)`|\n",
    "|Major        | p1 &gt; p2 | `p1.__gt__(p2)`|\n",
    "|Major o igual| p1 &gt;= p2 | `p1.__ge__(p2)`|\n",
    "\n",
    "En implementar aquests operadors hem de tenir en compte que si n'hem implementat un d'ells, normalment l'usuari\n",
    "esperarà que implementem totes les altres comparacions possibles. I per tant si sobrecarreguem alguns dels\n",
    "operadors, com a bona pràctica de programació, també haurem de sobrecarregar la resta."
   ]
  },
  {
   "cell_type": "code",
   "execution_count": 10,
   "metadata": {
    "colab": {
     "base_uri": "https://localhost:8080/"
    },
    "colab_type": "code",
    "id": "RKtZ2cWbBVqZ",
    "outputId": "39521265-101a-44f6-f83e-b765feb8fe98"
   },
   "outputs": [
    {
     "name": "stdout",
     "output_type": "stream",
     "text": [
      "Punt(9, 2)\n",
      "True\n"
     ]
    }
   ],
   "source": [
    "#Un exemple\n",
    "\n",
    "class Punt:\n",
    "    def __init__(self, x = 0, y = 0):\n",
    "        self.__x = x\n",
    "        self.__y = y\n",
    "\n",
    "    def __add__(self, altra):\n",
    "        x = self.__x + altra.__x\n",
    "        y = self.__y + altra.__y\n",
    "        return Punt(x, y)\n",
    "      \n",
    "    def __lt__(self, altra):\n",
    "      \n",
    "        self_mag = (self.__x ** 2) + (self.__y ** 2)\n",
    "        altra_mag = (altra.__x ** 2) + (altra.__y ** 2)\n",
    "        \n",
    "        return self_mag < altra_mag\n",
    "    \n",
    "            \n",
    "    def __str__(self):\n",
    "     \n",
    "      return \"Punt(\" + str(self.__x) + \", \" + str(self.__y) + \")\"\n",
    "\n",
    "# Programa principal\n",
    "p1 = Punt(2, 2)\n",
    "p2 = Punt(7)\n",
    "\n",
    "p3 = p1 + p2\n",
    "\n",
    "print(p3)\n",
    "\n",
    "print(p1 < p3)"
   ]
  },
  {
   "cell_type": "markdown",
   "metadata": {},
   "source": [
    "Finalment cal dir que existeixen altres operadors que podríem sobrecarregar per fer més completes les nostres classes,\n",
    "però degut les limitacions del curs i l'àmbit en el qual ens trobem (el grau de matemàtiques) aquests que hem vist són\n",
    " els més interessants."
   ]
  }
 ],
 "metadata": {
  "colab": {
   "collapsed_sections": [],
   "include_colab_link": true,
   "name": "Tema5_classes.ipynb",
   "provenance": [],
   "version": "0.3.2"
  },
  "kernelspec": {
   "display_name": "Python 3",
   "language": "python",
   "name": "python3"
  },
  "language_info": {
   "codemirror_mode": {
    "name": "ipython",
    "version": 3
   },
   "file_extension": ".py",
   "mimetype": "text/x-python",
   "name": "python",
   "nbconvert_exporter": "python",
   "pygments_lexer": "ipython3",
   "version": "3.7.4"
  }
 },
 "nbformat": 4,
 "nbformat_minor": 1
}