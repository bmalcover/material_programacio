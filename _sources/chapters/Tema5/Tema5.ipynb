{
 "cells": [
  {
   "cell_type": "markdown",
   "metadata": {},
   "source": [
    "# Tema 5\n",
    "\n",
    "## Dades estructurades\n",
    "\n",
    "Amb les eines i tècniques que hem après fins aquest moment hi ha problemes pels quals seríem capaços de construir un\n",
    "programa, però que la seva resolució ens obligaria a crear un nombre molt gran de variables o a usar estratègies que ens\n",
    "farien la implementació del programa poc comprensible i/o poc modificable, pensem en:\n",
    "\n",
    "* Un programa que compta quants cops apareix cada lletra de l'abecedari.\n",
    "* Mostrar la vocal que més cops apareix en un text. \n",
    "    \n",
    "Per altra banda tampoc seríem capaços de resoldre altres problemes que aparentment pareixen senzills, però que si ho\n",
    "intentem ni tan sols seríem capaços de fer la implementació del programa corresponent. Sembla que ens falten\n",
    "eines per fer-ho, per acabar d'entendre-ho posem els següents problemes d'exemple:\n",
    "\n",
    "* Donada una seqüència acabada en punt, poder mostrar-la girada per pantalla.\n",
    "* Comptar el nombre d'aparicions de la primera paraula en un text.\n",
    "* Guardar una relació de notes d'un examen, on tinguem el DNI d'un estudiant i la seva nota associada.\n",
    "\n",
    "Un cop aquest tema serem capaços de resoldre aquests problemes i molts més."
   ]
  },
  {
   "cell_type": "markdown",
   "metadata": {},
   "source": [
    "### Dades simples i estructurades\n",
    "\n",
    "Uns dels problemes que tenim és pel fet que fins al moment nosaltres hem definit les **variables** com a **dades\n",
    "simples**, cada variable guarda un únic valor d'un únic tipus de dades.\n",
    "\n",
    "En aquest tema introduirem el concepte de **dades estructurades** o dades compostes que ens permetran agrupar\n",
    "conjunts de valors en una única variable, és a dir, en un únic nom.\n",
    "\n",
    "Així com no hi ha un únic tipus de dades elemental, tampoc hi ha una única manera de dotar d'estructura a les nostres\n",
    "dades cada una d'aquestes estructures té unes característiques particulars que les fa adients per diferents\n",
    "circumstàncies. Durant aquest capítol en veurem les més rellevants:\n",
    "\n",
    "* Llistes\n",
    "* Tuples\n",
    "* Diccionaris\n",
    "* Classes\n",
    "\n",
    "Derivat del coneixement d'aquestes estructures també descobrirem noves capacitats del llenguatge:\n",
    "\n",
    "* _List comprehension_\n",
    "* Funcions _lambda_\n",
    "* Funcions _map_ i _filter_\n",
    "* Funcions generadores de seqüències\n",
    "\n",
    "\n",
    "\n"
   ]
  }
 ],
 "metadata": {
  "kernelspec": {
   "display_name": "Python 3",
   "language": "python",
   "name": "python3"
  },
  "language_info": {
   "codemirror_mode": {
    "name": "ipython",
    "version": 3
   },
   "file_extension": ".py",
   "mimetype": "text/x-python",
   "name": "python",
   "nbconvert_exporter": "python",
   "pygments_lexer": "ipython3",
   "version": "3.7.4"
  }
 },
 "nbformat": 4,
 "nbformat_minor": 2
}