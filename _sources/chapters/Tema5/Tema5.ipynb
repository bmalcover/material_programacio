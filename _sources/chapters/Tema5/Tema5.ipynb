{
 "cells": [
  {
   "cell_type": "markdown",
   "metadata": {},
   "source": [
    "# 5. Magatzems de dades\n",
    "\n",
    "## Introducció\n",
    "\n",
    "Amb les eines i tècniques que hem après fins aquest moment hi ha problemes pels quals seríem capaços de construir un programa, però que la seva resolució ens obligaria a crear un nombre molt gran de variables o a usar estratègies que ens farien la implementació del programa poc comprensible i/o poc modificable, pensem en:\n",
    "\n",
    "* Un programa que compta quants cops apareix cada lletra de l'abecedari.\n",
    "* Mostrar la vocal que més cops apareix en un text. \n",
    "    \n",
    "Per altra banda, tampoc seríem capaços de resoldre altres problemes que aparentment pareixen senzills, però que si ho intentem ni tan sols seríem capaços de fer la implementació del programa corresponent. Sembla que ens falten eines per fer-ho, per acabar d'entendre-ho posem els següents problemes d'exemple:\n",
    "\n",
    "* Donada una seqüència acabada en punt, poder mostrar-la girada per pantalla.\n",
    "* Comptar el nombre d'aparicions de la primera paraula en un text.\n",
    "* Guardar una relació de notes d'un examen, on tinguem el DNI d'un estudiant i la seva nota associada.\n",
    "\n",
    "Un cop aquest tema serem capaços de resoldre aquests problemes i molts més."
   ]
  },
  {
   "cell_type": "markdown",
   "metadata": {},
   "source": [
    "### Dades simples i estructurades\n",
    "\n",
    "Una de les limitacions existents és pel fet que fins al moment nosaltres hem definit les **variables** com a **dades simples** (\"unidimensionals\") , cada variable guarda un únic valor d'un únic tipus de dades. En aquest tema introduirem el concepte de **dades estructurades** o dades compostes que ens permetran agrupar conjunts de valors en una única variable, és a dir, en un únic nom.\n",
    "\n",
    "Així com no hi ha un únic tipus problema a resoldre, tampoc hi ha una única manera de dotar d'estructura a les nostres dades. Cada una d'aquestes estructures té unes característiques particulars que les fa adients per diferents circumstàncies.\n"
   ]
  }
 ],
 "metadata": {
  "kernelspec": {
   "display_name": "Python 3",
   "language": "python",
   "name": "python3"
  },
  "language_info": {
   "codemirror_mode": {
    "name": "ipython",
    "version": 3
   },
   "file_extension": ".py",
   "mimetype": "text/x-python",
   "name": "python",
   "nbconvert_exporter": "python",
   "pygments_lexer": "ipython3",
   "version": "3.7.4"
  }
 },
 "nbformat": 4,
 "nbformat_minor": 2
}
