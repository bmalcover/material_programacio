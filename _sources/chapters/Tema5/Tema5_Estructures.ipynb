{
 "cells": [
  {
   "cell_type": "markdown",
   "metadata": {
    "colab_type": "text",
    "id": "rwsDD6KizieW"
   },
   "source": [
    "## Altres maneres d'estructurar les dades\n",
    "\n",
    "Al principi del tema hem vist una estructura de dades que organitza la informació de manera ordenada i que és\n",
    "mutable, és a dir una llista.\n",
    "\n",
    "En aquesta part del capítol veurem:\n",
    "\n",
    "* **Tuples**: molt similars a les llistes sense mutabilitat.\n",
    "* **Diccionaris**: una estructura no lineal que relaciona parells de dades.\n",
    "* **List comprehensions**: eina que crea una nova llista basada en una altra llista, en una sola línia i de manera llegible.\n",
    "* **Funcions lambda**: funcions anònimes, és a dir sense nom.\n",
    "* **Map, filter**: funcions de Python que usen les funcions anònimes i actuen sobre les llistes.\n",
    "* **Yield**: Funcions generadores de seqüències."
   ]
  },
  {
   "cell_type": "markdown",
   "metadata": {},
   "source": [
    "### Tuples\n",
    "\n",
    "Python proporciona un altre tipus de col·lecció ordenada d'objectes, anomenada tupla.\n",
    "\n",
    "Les tuples són idèntiques a les llistes en tots els aspectes, tret de les propietats següents:\n",
    "\n",
    "* Les tuples es defineixen especificant els elements entre parèntesis, en comptes de claudàtors.\n",
    "* Les tuples **són immutables**.\n"
   ]
  },
  {
   "cell_type": "code",
   "execution_count": null,
   "metadata": {},
   "outputs": [],
   "source": [
    "# Creació d'una tupla i us amb funcions\n",
    "vocals = ('a', 'e', 'i', 'o', 'u')\n",
    "\n",
    "# Operadors\n",
    "hi_es = 'u' in vocals\n",
    "\n",
    "print(hi_es)\n",
    "\n",
    "\n",
    "long = len(vocals)\n",
    "print(long)\n",
    "\n",
    "maxim = max(vocals)\n",
    "print(maxim)\n",
    "\n",
    "\n",
    "# Indexacio\n",
    "vocals[0] = 'A'"
   ]
  },
  {
   "cell_type": "markdown",
   "metadata": {},
   "source": [
    "Les tuples es poden desempaquetar, és a dir, transformar-les en variables individuals:"
   ]
  },
  {
   "cell_type": "code",
   "execution_count": null,
   "metadata": {},
   "outputs": [],
   "source": [
    "a, e, i, o, u = vocals\n",
    "\n",
    "print(a + \" - \" +  e + \" - \" + i)"
   ]
  },
  {
   "cell_type": "code",
   "execution_count": null,
   "metadata": {},
   "outputs": [],
   "source": [
    "x = 4\n",
    "y = 5\n",
    "\n",
    "print(str(x) + \" - \" +  str(y))"
   ]
  },
  {
   "cell_type": "code",
   "execution_count": null,
   "metadata": {},
   "outputs": [],
   "source": [
    "aei, o , u = vocals  # ens dona un error ja que hauria de posar 5 variables i no 3\n",
    "print(aei)"
   ]
  },
  {
   "cell_type": "code",
   "execution_count": null,
   "metadata": {},
   "outputs": [],
   "source": [
    "a = 4\n",
    "b = 5\n",
    "tupla_int = (a, b)\n",
    "print(tupla_int)"
   ]
  },
  {
   "cell_type": "markdown",
   "metadata": {},
   "source": [
    "Això ens és molt pràctic per construir funcions _que retornen més d'un valor_ , no és una pràctica altament recomanable\n",
    "però si que pot ser molt útil en algunes situacions."
   ]
  },
  {
   "cell_type": "code",
   "execution_count": null,
   "metadata": {},
   "outputs": [],
   "source": [
    "def retorna2():\n",
    "    a = 3\n",
    "    b = 4\n",
    "    return (a, b)\n",
    "\n",
    "primer, segon = retorna2()\n",
    "\n",
    "print(primer)\n",
    "print(segon)"
   ]
  },
  {
   "cell_type": "markdown",
   "metadata": {},
   "source": [
    "**Per què utilitzar una tupla en lloc d'una llista?**\n",
    "\n",
    "Quan no volem que les dades es puguin modificar. Si es pretén que els valors de la col·lecció es mantinguin constants\n",
    "durant tota la vida del programa, cal usar una tupla en lloc d'una llista, ja que protegirà les dades contra una possible\n",
    "modificació accidental."
   ]
  },
  {
   "cell_type": "markdown",
   "metadata": {
    "colab_type": "text",
    "id": "J_9IX_vk4vTk"
   },
   "source": [
    "### Diccionaris\n",
    "\n",
    "Un diccionari consisteix en una col·lecció **no ordenada** de parells de clau-valor.\n",
    "\n",
    "A diferència de les seqüències, indexades per un rang de nombres, els diccionaris són indexats per claus, que poden ser\n",
    "de **qualsevol tipus immutable**; els *strings* i els nombres sempre poden ser claus.\n",
    "\n",
    "Les tuples es poden utilitzar com a claus. No podem utilitzar llistes com a claus, ja que les llistes es poden modificar.\n",
    "\n",
    "El millor és pensar en les claus del diccionari com un **conjunt**, on a cada element del conjunt li correspon un valor.\n",
    "\n",
    "A continuació teniu les operacions bàsiques:"
   ]
  },
  {
   "cell_type": "code",
   "execution_count": null,
   "metadata": {
    "colab": {
     "base_uri": "https://localhost:8080/",
     "height": 92
    },
    "colab_type": "code",
    "id": "sMFkcWrwzEeN",
    "outputId": "9dc0134b-58d6-4ff6-c1fa-3b7d23971dff"
   },
   "outputs": [],
   "source": [
    "# Creacio d'un diccionari nou\n",
    "\n",
    "dicc = dict() # Fixau-vos que aixo es el constructor de la classe diccionari\n",
    "# Tambe es podria construir aixi:\n",
    "#dicc2 = {}\n",
    "\n",
    "\n",
    "dicc = {43142512: \"Joan Petit\",  44216793:\"Marina Aniram\", 44444444: \"Joan Petit\"}\n",
    "print(dicc)"
   ]
  },
  {
   "cell_type": "markdown",
   "metadata": {},
   "source": [
    "#### Accedint als elements d'un diccionari\n",
    "\n",
    "En aquesta estructura no accedim als elements amb un índex, sinó que es fa amb el valor d'una clau."
   ]
  },
  {
   "cell_type": "code",
   "execution_count": null,
   "metadata": {},
   "outputs": [],
   "source": [
    "# Donada una clau obtenció del seu valor:\n",
    "nom = dicc[44444444]\n",
    "print(nom)\n"
   ]
  },
  {
   "cell_type": "code",
   "execution_count": null,
   "metadata": {},
   "outputs": [],
   "source": [
    "diccionari_strings = {\"biel\": \"professor\", \"arnau\": \"alumne\"}\n",
    "\n",
    "diccionari_strings[\"arnau\"]"
   ]
  },
  {
   "cell_type": "markdown",
   "metadata": {},
   "source": [
    "#### Mutabilitat\n",
    "\n",
    "Un cop hem creat un diccionari, podem afegir, eliminar, canviar i moure elements a voluntat. `Python` ofereix una àmplia\n",
    "gamma de maneres d'operar amb els diccionaris.\n",
    "\n",
    "\n",
    "#### Modificació d'un valor\n",
    "\n",
    "Un únic valor d'un diccionari es pot substituir, de manera molt similar a com modifiquem una variable, però ara hem\n",
    "d'especificar quin dels valors volem modificar, ho fem mitjançant la seva clau."
   ]
  },
  {
   "cell_type": "code",
   "execution_count": null,
   "metadata": {},
   "outputs": [],
   "source": [
    "\n",
    "#Donada una clau podem modificar el seu valor\n",
    "dicc[43142512] = \"Matt Murdock\" \n",
    "nom = dicc[43142512]\n",
    "print(nom)"
   ]
  },
  {
   "cell_type": "markdown",
   "metadata": {},
   "source": [
    "**Afegir informació**\n",
    "\n",
    "També podem afegir noves parelles clau-valor de manera dinàmica."
   ]
  },
  {
   "cell_type": "code",
   "execution_count": null,
   "metadata": {},
   "outputs": [],
   "source": [
    "# Insercio d'una parella clau - valor\n",
    "dicc[43142133] = \"Ororo Munroe\"\n",
    "\n",
    "\n",
    "# Inserció de noves parelles clau - valor\n",
    "dicc[41142133] = \"Kurt Wagner\"\n",
    "dicc[46094245] = \"Jean Gray\"\n",
    "dicc[40111134] = \"Robert Drake\"\n",
    "\n",
    "print(dicc)"
   ]
  },
  {
   "cell_type": "markdown",
   "metadata": {},
   "source": [
    "\n",
    "### Operadors, funcions i mètodes\n",
    "\n",
    "\n",
    "**Operadors**\n",
    "\n",
    "Als diccionaris també podem aplicar l'operador de pertinença ```in``` i el seu modificador ```not```"
   ]
  },
  {
   "cell_type": "code",
   "execution_count": null,
   "metadata": {},
   "outputs": [],
   "source": [
    "# Consultam pertanyença\n",
    "\n",
    "dni = 40111134\n",
    "print(\"Tenim el dni\", dni, \"? \")\n",
    "\n",
    "pertany = 40111134 in dicc\n",
    "print(pertany)\n",
    "\n",
    "print(dicc[dni])"
   ]
  },
  {
   "cell_type": "markdown",
   "metadata": {},
   "source": [
    "**Funcions**\n",
    "\n",
    "Als diccionaris també podem usar la funció ```len``` que ens diu quants d'elements conté el diccionari.\n",
    "\n",
    "També podem usar les funcions ```max``` i ```min``` que ens retornen informació de les claus:"
   ]
  },
  {
   "cell_type": "code",
   "execution_count": null,
   "metadata": {},
   "outputs": [],
   "source": [
    "longitud = len(dicc)\n",
    "print(longitud)\n",
    "\n",
    "\n",
    "valor_maxim = max(dicc)\n",
    "print(valor_maxim)"
   ]
  },
  {
   "cell_type": "markdown",
   "metadata": {
    "colab_type": "text",
    "id": "FxQ5xnR9Btp8"
   },
   "source": [
    "**Mètodes**\n",
    "\n",
    "A més de modificar i afegir elements usant els claudàtors també ho podem fer mitjançant mètodes propis dels\n",
    "diccionaris. A més, usant els mètodes adients podem obtenir la informació del diccionari en forma de llista, siguin:\n",
    "les claus, els valors o tuples clau-valor:\n",
    "\n",
    "Modificació:\n",
    "\n",
    "* ```clear```: Elimina totes les parelles clau-valor del diccionari.\n",
    "* ```get```: Ens retorna el valor de la clau que passem per paràmetre, si la clau no existeix, retorna Error.\n",
    "* ```pop```: Elimina la clau del diccionari i ens torna el seu valor, si no existeix retorna Error.\n"
   ]
  },
  {
   "cell_type": "code",
   "execution_count": null,
   "metadata": {},
   "outputs": [],
   "source": [
    "## get\n",
    "clau = 40111134\n",
    "valor =  dicc.get(clau)\n",
    "print(valor)\n",
    "\n",
    "# pop \n",
    "#clau2 = 43142133\n",
    "valor = dicc.pop(clau2)   # error si una clau no existeix\n",
    "\n",
    "print(valor)\n",
    "\n",
    "nombre_elements = len(dicc)\n",
    "print(nombre_elements)\n",
    "\n",
    "\n",
    "# clear\n",
    "#dicc.clear()\n",
    "print(dicc)"
   ]
  },
  {
   "cell_type": "markdown",
   "metadata": {},
   "source": [
    "Consulta:\n",
    "\n",
    "* ``` keys```: mètode que ens retorna una llista amb el conjunt de claus que hi ha al diccionari.\n",
    "* ``` values```: mètode que ens retorna una llista amb els valors que hi ha al diccionari.\n",
    "* ``` items```: mètode que ens retorna una llista de tuples. Cada tupla té una clau i el seu valor corresponent.\n",
    "\n",
    "És important destacar 2 coses:\n",
    "\n",
    "  * Les llistes que obtenim de les operacions anteriors, poden no seguir cap ordre.\n",
    "  * Obtenir llistes ens dóna la possibilitat d'iterar sobre elles (usar un `for`)."
   ]
  },
  {
   "cell_type": "code",
   "execution_count": null,
   "metadata": {
    "colab": {
     "base_uri": "https://localhost:8080/",
     "height": 167
    },
    "colab_type": "code",
    "id": "KeG2bEncBuJ6",
    "outputId": "0070bc2e-f1d7-4512-9370-4311ccb34494"
   },
   "outputs": [],
   "source": [
    "#Del nostre diccionari en podem obtenir les claus amb el metode keys()\n",
    "print(\"Claus\", end= \" -> \")\n",
    "print(dicc.keys())\n",
    "\n",
    "\n",
    "#Podem tenir tots els valors\n",
    "print(\"Valors\", end= \" -> \")\n",
    "print(dicc.values())\n",
    "\n",
    "#Tambe podem obtenir totes les parelles clau - valor en format llista de tuples\n",
    "print(\"Parelles\", end= \" -> \")\n",
    "print(dicc.items())\n",
    "\n",
    "print(\"Iteracions\")\n",
    "print(\"Iteracio sobre les claus d'un diccionari: \")\n",
    "for clau in dicc.keys():\n",
    "    print(clau, end= \" \")\n",
    "    print(\"\")\n",
    "\n",
    "print(\"Iteracio sobre les claus valors d'un diccionari: \")\n",
    "\n",
    "for item in dicc.items():\n",
    "    clau, valor = item # Desempaquetam els valors d'una tupla\n",
    "    print(valor, end= \" \")\n",
    "    \n",
    "\n",
    "#NOTA: Aquest for es pot fer d'almanco una altra manera mes: desempaquetar a l'encapçalament\n",
    "\n",
    "for clau, valor in dicc.items():\n",
    "    print(clau)\n",
    "    "
   ]
  },
  {
   "cell_type": "markdown",
   "metadata": {},
   "source": [
    "Les llistes i els diccionaris són dos dels tipus Python més usats. Com heu vist, tenen diverses similituds, però\n",
    "difereixen en com s’accedeix als seus elements. S'accedeix als elements de les llistes mitjançant un índex numèric en\n",
    " funció de l'ordre i al diccionari s'hi accedeix mitjançant claus.\n",
    "\n",
    "A causa d'aquesta diferència, les llistes i diccionaris són adequats per a circumstàncies diferents."
   ]
  },
  {
   "cell_type": "markdown",
   "metadata": {
    "colab_type": "text",
    "id": "pceCDfOjFFKO"
   },
   "source": [
    "\n",
    "### List comprehension\n",
    "\n",
    "Ens proporcionen una manera concisa de crear llistes. \n",
    "\n",
    "Les aplicacions més habituals són la creació de noves llistes en què cada element és el resultat d’alguna operació\n",
    "aplicada a cada membre d’una altra seqüència o per crear una subseqüència d'aquells elements que satisfan una\n",
    "determinada condició.\n",
    "\n",
    "nova_llista = **[** expresio **for** element **in** iterable **]**\n",
    "\n",
    "Per exemple, suposam que volem crear una llista dels quadrats dels nombres entre 0 i 10:"
   ]
  },
  {
   "cell_type": "code",
   "execution_count": null,
   "metadata": {
    "colab": {
     "base_uri": "https://localhost:8080/",
     "height": 36
    },
    "colab_type": "code",
    "id": "dTToOzn2I3O4",
    "outputId": "83566706-6dc4-4cad-883f-8f88a6ecfd6f"
   },
   "outputs": [],
   "source": [
    "# Manera tradicional\n",
    "quadrats = []\n",
    "for x in range(0, 10):\n",
    "    quadrats.append(x**2)\n",
    "\n",
    "print(quadrats)\n",
    "# La manera de generar aquesta mateixa llista amb list comprehension:\n",
    "llista_original = (0,1,2,3,4,5,6,7,8,9)\n",
    "quadrats_2 = [x**2 for x in llista_original]\n",
    "print(quadrats_2)"
   ]
  },
  {
   "cell_type": "markdown",
   "metadata": {
    "colab_type": "text",
    "id": "_BYeJj1hK-VF"
   },
   "source": [
    "A continuació teniu varis exemples del seu ús:"
   ]
  },
  {
   "cell_type": "code",
   "execution_count": null,
   "metadata": {
    "colab": {
     "base_uri": "https://localhost:8080/",
     "height": 111
    },
    "colab_type": "code",
    "id": "wn0LQpjBLCF5",
    "outputId": "e697c11f-cdd5-45bd-e26a-2a8634d36e47"
   },
   "outputs": [],
   "source": [
    "vec = [-4, -2, 0, 2, 4]\n",
    "\n",
    "# donada una llista, multiplicam per dos cada un dels seus valors\n",
    "r1 = [x*2 for x in vec]\n",
    "print(r1)\n",
    "\n"
   ]
  },
  {
   "cell_type": "markdown",
   "metadata": {},
   "source": [
    "nova_llista = **[** expresio **for** element **in** iterable **if** condicio **]**"
   ]
  },
  {
   "cell_type": "code",
   "execution_count": null,
   "metadata": {},
   "outputs": [],
   "source": [
    "# ens quedam amb els valors positius\n",
    "r2 = [x for x in vec if x >= 0]\n",
    "print(r2)"
   ]
  },
  {
   "cell_type": "code",
   "execution_count": null,
   "metadata": {},
   "outputs": [],
   "source": [
    "# podem aplicar funcions a cada un dels elements\n",
    "r3 = [abs(x) for x in vec]\n",
    "print(r3)"
   ]
  },
  {
   "cell_type": "code",
   "execution_count": null,
   "metadata": {},
   "outputs": [],
   "source": [
    "# tenim molta flexibilitat, per exemple:\n",
    "r5 = [(x, x**2) for x in range(6)]\n",
    "print(r5)\n",
    "\n",
    "\n",
    "nombre, quadrat = r5[len(r5)-1]\n",
    "print(nombre)\n",
    "print(quadrat)"
   ]
  },
  {
   "cell_type": "markdown",
   "metadata": {
    "colab_type": "text",
    "id": "jKlpTcVS72z2"
   },
   "source": [
    "### La funció *zip*\n",
    "\n",
    "La funció `zip` pren una o més seqüències i combina els elements corresponents de les seqüències en una tupla. Es\n",
    "deté quan s'esgota la seqüència més curta."
   ]
  },
  {
   "cell_type": "code",
   "execution_count": null,
   "metadata": {
    "colab": {
     "base_uri": "https://localhost:8080/",
     "height": 167
    },
    "colab_type": "code",
    "id": "-fGNMN7_77WW",
    "outputId": "f6f89a12-23b0-490b-f4f7-05e211a33732"
   },
   "outputs": [],
   "source": [
    "l = list(range(18))\n",
    "l2 = list(range(6))\n",
    "\n",
    "z = list(zip(l,l2))\n",
    "\n",
    "print(\"Resultat d'executar zip\")\n",
    "print(z)\n",
    "\n",
    "for element in z:\n",
    "    \n",
    "    print(str(element[0]) + \" - \" + str(element[1]))"
   ]
  },
  {
   "cell_type": "code",
   "execution_count": null,
   "metadata": {},
   "outputs": [],
   "source": [
    "# Exemple sumar els elements de dues llistes\n",
    "\n",
    "import random\n",
    "\n",
    "# Agafam 6 mostres d'una llista que te els elements de 0 a 99\n",
    "l3 = random.sample(range(100), 6) \n",
    "\n",
    "print(\"Llista generada aleatoriament\")\n",
    "print(l3)\n",
    "print(\"Llista simple\")\n",
    "print(l)\n",
    "\n",
    "zipat = zip(l,l3)\n",
    "print(list(zipat))"
   ]
  },
  {
   "cell_type": "code",
   "execution_count": null,
   "metadata": {},
   "outputs": [],
   "source": [
    "# En aquest exemple aplicam un list comprehension a la funcio zip\n",
    "suma = [x + y for x, y in zip(l, l3)]\n",
    "\n",
    "print(\"Suma\")\n",
    "print(suma)\n"
   ]
  },
  {
   "cell_type": "code",
   "execution_count": null,
   "metadata": {},
   "outputs": [],
   "source": [
    "longitud = len(l3)-1\n",
    "\n",
    "sumatori = []\n",
    "for i in range(0, longitud):\n",
    "    \n",
    "    sumat = l[i] + l3[i]\n",
    "    sumatori.append(sumat)\n",
    "\n",
    "print(sumatori)\n",
    "    "
   ]
  },
  {
   "cell_type": "markdown",
   "metadata": {},
   "source": [
    "**Exercicis**\n",
    "\n",
    "1. Donada una llista amb els nombres d'1 a 100, obtenir una llista amb els senars.\n",
    "2. Donada una llista amb tots els nombres d'1 a 7000, eliminar tots els múltiples de 7.\n",
    "3. Crear un llista de tuples que tingui els primers 50 nombres parells, juntament amb els 50 primers nombres que no\n",
    "són múltiple de 7."
   ]
  },
  {
   "cell_type": "code",
   "execution_count": null,
   "metadata": {},
   "outputs": [],
   "source": [
    "### 1\n",
    "llista_1_100 = range(1, 101)\n",
    "\n",
    "llista_senars = [x for x in llista_1_100 if x % 2 == 1]\n",
    "\n",
    "#print(llista_senars)\n",
    "\n",
    "#2\n",
    "llista_7 = [x for x in range(1, 7001) if x % 7 != 0]\n",
    "\n",
    "#print(llista_7)\n",
    "\n",
    "#3\n",
    "\n",
    "zippat = zip(llista_senars, llista_7)\n",
    "print(list(zippat))\n"
   ]
  },
  {
   "cell_type": "markdown",
   "metadata": {
    "colab_type": "text",
    "id": "-v5K7zkxSNYv"
   },
   "source": [
    "### Funcions lambda\n",
    "\n",
    "A `Python`, utilitzem la paraula clau `lambda` per declarar una funció anònima. Una funció anònima fa referència a\n",
    "una funció declarada sense nom.\n",
    "\n",
    "Tot i que sintàcticament semblen diferents, les funcions lambda es comporten de la mateixa manera que les funcions\n",
    "regulars que es declaren usant la paraula clau `def`.\n",
    "\n",
    "Les següents són les característiques de les funcions lambda de Python:\n",
    "\n",
    "* Una funció lambda pot prendre qualsevol nombre d’arguments.\n",
    "* De forma sintàctica, les funcions lambda només **es limiten a una sola expressió**. Recordar que una expressió és una\n",
    "peça de codi executada per la funció lambda.\n",
    "\n",
    "La seva sintaxi és:\n",
    "```lambda argument(s): expressio```"
   ]
  },
  {
   "cell_type": "code",
   "execution_count": null,
   "metadata": {
    "colab": {
     "base_uri": "https://localhost:8080/",
     "height": 54
    },
    "colab_type": "code",
    "id": "LtUfSRUBUdIr",
    "outputId": "f53aee43-7652-4b83-8df7-7496c717e6ef"
   },
   "outputs": [],
   "source": [
    "def divisible2(num):\n",
    "    return num % 2 == 0\n",
    "\n",
    "# es equivalent a:\n",
    "\n",
    "f = lambda num: num % 2 == 0\n",
    "\n",
    "print(f(22))\n",
    "\n",
    "\n",
    "# no es necessari ni tan sols assignar un identificador\n",
    "\n",
    "print((lambda num: num % 2 == 0)(5))\n",
    "\n",
    "\n",
    "# Poden tenir el nombre de paràmetres que volguem\n",
    "\n",
    "s = lambda x,y,z:  x+y+z\n",
    "\n",
    "print(s(5,5,10))\n"
   ]
  },
  {
   "cell_type": "markdown",
   "metadata": {
    "colab_type": "text",
    "id": "nRya-1-ZXWVu"
   },
   "source": [
    "Les funcions anònimes (`lambda`) s’utilitzen quan necessitem una funció durant un període curt de temps.\n",
    "\n",
    "Normalment s'utilitza quan es vol passar una funció com a argument per a funcions d'ordre superior, és a dir,\n",
    "funcions que prenen altres funcions com a arguments tal com veurem a continuació:"
   ]
  },
  {
   "cell_type": "markdown",
   "metadata": {
    "colab_type": "text",
    "id": "RuGny5xSk_y7"
   },
   "source": [
    "### Map i Filter\n",
    "\n",
    "Aquestes dues funcions ens permeten aplicar funcions a objectes iterables (llistes, tuples, strings o diccionaris)\n",
    "\n",
    "#### Map\n",
    "\n",
    "La funció `map` és una funció del nucli de `Python` que com a paràmetres rep una funció i una o més llistes. La\n",
    "sintaxi de la funció map és la següent:\n",
    "\n",
    "`map(funcio, iterable_1, iterable_2, ...) `\n",
    "\n",
    "\n",
    "`map ` aplica a cada element de l'iterable la funció que rep com a primer paràmetre. I ens retorna un iterable que\n",
    "podem transformar de manera molt senzilla en una llista (usant la funció` list`).\n",
    "\n",
    "Anem a veure un exemple:"
   ]
  },
  {
   "cell_type": "code",
   "execution_count": null,
   "metadata": {
    "colab": {
     "base_uri": "https://localhost:8080/",
     "height": 92
    },
    "colab_type": "code",
    "id": "6AyNHHpvnxfz",
    "outputId": "8754b6fc-fda5-496f-f91c-7ae0ca77512c"
   },
   "outputs": [],
   "source": [
    "llista = list(range(10))\n",
    "\n",
    "#definim una funcio lambda\n",
    "suma_3 = lambda x: x + 3\n",
    "\n",
    "# aplicam aquesta funcio a una llista\n",
    "resultat = list(map(suma_3, llista))\n",
    "#print(llista)\n",
    "#print(resultat)\n",
    "\n",
    "\n",
    "llista_nova = [x + 3 for x in llista]\n",
    "#print(llista_nova)\n",
    "\n",
    "\n",
    "# Anem a sumar els valors de dues llistes\n",
    "#print(\"Suma dues llistes\")\n",
    "suma_2_ll = map(lambda x,y: x+y, llista, resultat) # la funcio esta declarada directament\n",
    "\n",
    "suma_2_ll = list(suma_2_ll)\n",
    "print(llista)\n",
    "print(resultat)\n",
    "print(suma_2_ll)\n",
    "\n",
    "\n",
    "resultat_2 = [x + y for x, y in zip(llista,resultat)]\n",
    "print(resultat_2)"
   ]
  },
  {
   "cell_type": "markdown",
   "metadata": {
    "colab_type": "text",
    "id": "QTpO63o7rnlp"
   },
   "source": [
    "#### Filter\n",
    "\n",
    "Aquesta funció també pertany al nucli de `Python`, la seva sintaxi és la següent:\n",
    "\n",
    "`filter(funcio, iterable) `\n",
    "\n",
    "La funció que passem ha de retornar un valor de tipus booleà. L’objecte serà cridat per a cada ítem de l'iterable per\n",
    "fer-ne l’avaluació. Evidentment per cada element tindrem un valor `True` o `False`.  Aquesta funció només pot tenir un\n",
    "sol paràmetre iterable\n",
    "\n",
    "La funció `filter` retorna una llista d'aquells elements que s'avaluen com a certs per la funció.\n",
    "\n",
    "Anem a veure un exemple:"
   ]
  },
  {
   "cell_type": "code",
   "execution_count": null,
   "metadata": {
    "colab": {
     "base_uri": "https://localhost:8080/",
     "height": 92
    },
    "colab_type": "code",
    "id": "Nod-piwTnvIu",
    "outputId": "dc949943-d8bb-43cc-b5a0-fb81f5a99ee3"
   },
   "outputs": [],
   "source": [
    "nombres = [2, 6, 8, 10, 11, 4, 12, 7, 13, 17, 0, 3, 21]\n",
    "\n",
    "filtratge = filter(lambda num: num > 7, nombres)\n",
    "print(\"Eliminam els valors majors a 7\")\n",
    "print(list(filtratge))  \n",
    "\n",
    "\n",
    "filtratge_2 = [ y for y in nombres if y > 7]\n",
    "print(filtratge_2)"
   ]
  },
  {
   "cell_type": "markdown",
   "metadata": {
    "colab_type": "text",
    "id": "mJdO3pvwMwBh"
   },
   "source": [
    "### Funcions generadores\n",
    "\n",
    "Els generadors són una manera especial de definir iteradors en `Python`. A diferència de les llistes o altres col·leccions, els generadors no emmagatzemen tots els valors en memòria alhora, sinó que els produeixen un a un quan se'ls demana (això es coneix com a *avaluació mandrosa* o *lazy evaluation*). Aquesta característica els fa molt útils quan es treballa amb seqüències llargues o potencialment infinites, ja que estalvien memòria i poden ser més eficients.\n",
    "\n",
    "Per crear un generador, s'utilitza la paraula clau `yield` dins d'una funció. Aquesta funciona de manera semblant a `return`, però en comptes de finalitzar l'execució de la funció, `yield` pausa la funció i retorna temporalment un valor. La propera vegada que s’itera sobre el generador, la funció reprèn l’execució just després del `yield`, mantenint l’estat anterior.\n",
    "\n",
    "Així, una funció amb `yield` no retorna un valor únic, sinó un objecte generador que pot produir múltiples valors al llarg del temps mitjançant un bucle `for` o crides successives a `next()`.\n",
    "\n",
    "\n",
    "Vegem un exemple en codi:"
   ]
  },
  {
   "cell_type": "code",
   "execution_count": 4,
   "metadata": {
    "colab": {
     "base_uri": "https://localhost:8080/",
     "height": 92
    },
    "colab_type": "code",
    "id": "PgroqM8QdkDm",
    "outputId": "a40bc37c-3575-497c-af4d-3d5995f5a8c7"
   },
   "outputs": [
    {
     "name": "stdout",
     "output_type": "stream",
     "text": [
      "Inici\n",
      "1\n",
      "2\n",
      "3\n",
      "25\n"
     ]
    }
   ],
   "source": [
    "#Primer exemple\n",
    "def generador_simple():\n",
    "    print(\"Inici\")\n",
    "    yield 1\n",
    "    yield 2\n",
    "    yield 3\n",
    "    yield 25\n",
    "  \n",
    "  \n",
    "generador = generador_simple()\n",
    "\n",
    "\n",
    "print(next(generador))\n",
    "print(next(generador))\n",
    "print(next(generador))\n",
    "\n",
    "nou_valor = next(generador)\n",
    "print(nou_valor)"
   ]
  },
  {
   "cell_type": "code",
   "execution_count": 10,
   "metadata": {
    "colab": {
     "base_uri": "https://localhost:8080/",
     "height": 73
    },
    "colab_type": "code",
    "id": "PXsRCBkrMvpk",
    "outputId": "b3411b34-790d-4def-c5bd-36e7b623958d"
   },
   "outputs": [
    {
     "name": "stdout",
     "output_type": "stream",
     "text": [
      "0\n",
      "1\n",
      "4\n",
      "9\n",
      "16\n"
     ]
    }
   ],
   "source": [
    "# Generador en un recorregut usant un for\n",
    "\n",
    "def generador_quadrats(maxim):\n",
    "    i = 0\n",
    "    while i <= maxim:\n",
    "        yield i*i\n",
    "        i = i +1\n",
    "    \n",
    "generador = generador_quadrats(10)\n",
    "\n",
    "y = 0\n",
    "while y < 4:\n",
    "    valor = next(generador)\n",
    "    print(valor)\n",
    "    y = y + 1\n",
    "    \n",
    "nou_valor =  next(generador)\n",
    "print(nou_valor)"
   ]
  },
  {
   "cell_type": "markdown",
   "metadata": {
    "colab_type": "text",
    "id": "ez22pWqpSWds"
   },
   "source": [
    "És imporant entendre que quan es crida per primer cop a la funció, el codi de la funció no s’executa. La funció només\n",
    "retorna l’objecte del generador. La primera vegada que usem el nostre generador, s'executarà el codi de la nostra\n",
    "funció des del principi fins que arribi a `yield`, i tornarà el primer valor del bucle. A continuació, cada una de\n",
    "les altres trucades del nostre generador executarà el bucle de la funció una vegada més i retornarà el valor següent,\n",
    " fins que no hi hagi cap valor per tornar.\n",
    "\n",
    "El generador es considera buit una vegada que la funció s’executa, però ja no es produeix un nou valor. Pot ser que\n",
    "el bucle hagi acabat, o perquè ja no satisfà una certa condició."
   ]
  },
  {
   "cell_type": "code",
   "execution_count": 16,
   "metadata": {
    "colab": {
     "base_uri": "https://localhost:8080/",
     "height": 1812
    },
    "colab_type": "code",
    "id": "pjidTpM_W1-3",
    "outputId": "2397e2a0-bbed-4ae4-f25c-ad9cdeed196a"
   },
   "outputs": [
    {
     "name": "stdout",
     "output_type": "stream",
     "text": [
      "1\n",
      "1\n",
      "2\n",
      "3\n",
      "5\n",
      "8\n",
      "13\n",
      "21\n",
      "34\n",
      "55\n",
      "89\n",
      "144\n",
      "233\n",
      "377\n",
      "610\n",
      "987\n",
      "1597\n",
      "2584\n",
      "4181\n",
      "6765\n",
      "10946\n",
      "17711\n",
      "28657\n",
      "46368\n",
      "75025\n",
      "121393\n",
      "196418\n",
      "317811\n",
      "514229\n",
      "832040\n",
      "1346269\n",
      "2178309\n",
      "3524578\n"
     ]
    }
   ],
   "source": [
    "# Aquí tenim un exemple que ens permet generar tants elements de la successio de\n",
    "# Fibonacci com necessitem.\n",
    "def Fibo():\n",
    "    pre1 = 1\n",
    "    pre2 = 1\n",
    "    suma = 1\n",
    "    yield suma\n",
    "    while True:\n",
    "        yield suma\n",
    "        suma = pre1 + pre2\n",
    "        pre1 = pre2\n",
    "        pre2 = suma\n",
    "        \n",
    "generador = Fibo()\n",
    "i = 0\n",
    "while i < 33:\n",
    "  \n",
    "    print(next(generador))\n",
    "    \n",
    "    i += 1"
   ]
  }
 ],
 "metadata": {
  "colab": {
   "include_colab_link": true,
   "name": "Tema5_estructures_avançades.ipynb",
   "provenance": [],
   "version": "0.3.2"
  },
  "kernelspec": {
   "display_name": "Python 3",
   "language": "python",
   "name": "python3"
  },
  "language_info": {
   "codemirror_mode": {
    "name": "ipython",
    "version": 3
   },
   "file_extension": ".py",
   "mimetype": "text/x-python",
   "name": "python",
   "nbconvert_exporter": "python",
   "pygments_lexer": "ipython3",
   "version": "3.7.4"
  }
 },
 "nbformat": 4,
 "nbformat_minor": 1
}
