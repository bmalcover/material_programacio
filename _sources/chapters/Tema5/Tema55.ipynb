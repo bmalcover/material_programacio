{
 "cells": [
  {
   "cell_type": "markdown",
   "source": [
    "\n",
    "# 6. POO (Programació Orientada a Objectes)\n",
    "\n",
    "La Programació Orientada a Objectes o POO (OOP segons les seves sigles en anglès) és un paradigma de programació que intenta proporcionar un model de programació basat en **objectes** que contenen dades i procediments associats coneguts com a **mètodes**. Aquests objectes són un tipus abstracte de dades que encapsulen (amaguen) tant les dades com les funcions per a accedir-hi.\n",
    "\n",
    "La POO ens permetrà organitzar i reutilitzar millor el nostre codi, amb l'objectiu de resoldre problemes més complexes d'una manera més senzilla.\n",
    "\n",
    "\n"
   ],
   "metadata": {
    "collapsed": false
   }
  }
 ],
 "metadata": {
  "kernelspec": {
   "display_name": "Python 3",
   "language": "python",
   "name": "python3"
  },
  "language_info": {
   "codemirror_mode": {
    "name": "ipython",
    "version": 2
   },
   "file_extension": ".py",
   "mimetype": "text/x-python",
   "name": "python",
   "nbconvert_exporter": "python",
   "pygments_lexer": "ipython2",
   "version": "2.7.6"
  }
 },
 "nbformat": 4,
 "nbformat_minor": 0
}
