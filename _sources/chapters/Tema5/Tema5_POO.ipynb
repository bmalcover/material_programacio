{
 "nbformat": 4,
 "nbformat_minor": 0,
 "metadata": {
  "colab": {
   "provenance": []
  },
  "kernelspec": {
   "name": "python3",
   "display_name": "Python 3"
  },
  "language_info": {
   "name": "python"
  }
 },
 "cells": [
  {
   "cell_type": "markdown",
   "source": [
    "# POO\n",
    " \n",
    "## Classe Conjunt\n",
    "\n",
    "  Aquesta classe té un únic atribut: una llista.\n",
    "  \n",
    "  El constructor crea una llista buida.\n",
    "  Mètodes (interficie):\n",
    "\n",
    "  - **afegir**(self, e). Afegeix un (e) element al conjunt.\n",
    "  - **eliminar**(self, e). Elimina un element (e) del conjunt.\n",
    "  - **cardinal**(self). Retorna el nombre d'elements del conjunt\n",
    "  - **unio**(conjunt1, conjunt2). Retorna un Conjunt amb la unió de conjunt1 i conjunt2.\n",
    "  - **intersecar**(self, conjunt2). Mètode privat que retorna un nou conjunt amb l'intersecció de self i conjunt2.\n",
    "  - **interseccio**(self, conjunt2). Mètode públic ....\n",
    "  - disjunts(self, conjunt2) han d'usar intersecar(self, conjunt2) definit com a mètode privat.\n",
    "  - **pertany**(self, e). Retorna True si l'element e pertany al conjunt i False en cas contrari.\n",
    "  - **es_subconjunt**(self, conjunt2):  Mètode que retorna True si el conjunt identificat amb la variable self és subconjunt del conjunt2.\n",
    "  - **sobreescriptura** _String_ : retorna un string amb els elements del conjunt.\n",
    "\n",
    "\n",
    "### Exercici\n",
    "\n",
    "Fer un programa que ens digui quines lletres tenen en comú 2 seqüències de lletres llegides del teclat i acabades en punt, els espais no.\n",
    "\n"
   ],
   "metadata": {
    "id": "7qqgvwJV2ct-"
   }
  },
  {
   "cell_type": "markdown",
   "source": [
    "## Classe Interval\n",
    "Es demana implementar una clase coneguda amb el nom d’Interval (Interval tancat). Els objectes d’aquesta classe guarden dos valors: límit inferior de l’interval i el límit superior de l’interval.\n",
    "\n",
    "Un exemple d’operació que es pot fer amb aquesta classe és: siguin dos nombres p i q que es troben en els intervals p = [a,b] i q = [c,d]. El resultat de la suma es trobarà en el nou interval [s, t] on s=a+c i t=b+d. Per aquesta classe\n",
    "a més de la suma tenim les següents operacions que s’han d’implementar:\n",
    "\n",
    "- **Constructor: rep dos nombres decimals**: limit_inferior, limit_superior . Ha d’assegurar que el límit inferior és menor que el límit superior. En cas contrari el límit superior de l’Interval serà igual al límit inferior rebut per paràmetre.\n",
    "\n",
    "- **Interval_no_incert** que funcioni com a constructor alternatiu. Aquest mètode només rep un nombre i retorna un nou objecte amb els mateixos limit_inferior i  limit_superior.\n",
    "\n",
    "- **Resta**: Sobreescritura de l’operador __sub__. Rep un objecte de la classe interval i retorna un nou objecte de la classe\n",
    "interval. Si tenim p i q llavors p - q = [a−d, b−c]\n",
    "\n",
    "- **Multiplicació**: Mètode estàtic i privat que rep dos objectes de la classe Interval i retorna un nou objecte d’aquesta\n",
    "classe pq=[min(ac,ad,bc,bd), max(ac,ad,bc,bd)]. Podeu emprar les funcions min i max.\n",
    "\n",
    "- **Potència**: Mètode que rep un enter, l’exponent,  per paràmetre i calcula la potència de l’objecte referenciat per self.\n",
    "Si l’exponent és 0 o menor a 0 llavors modifica l’objecte referenciat per self  amb els dos límits amb valor 1. Si l’exponent és positiu multiplica el nombre per ell mateix tantes vegades com el valor de l’exponent.\n",
    "\n",
    "- **Multiplicació_amb_enter**: Mètode que rep un enter estrictament positiu per paràmetre. Transforma l’enter en un objecte de la clase Interval i retorna el resultat de multiplicació d’aquest nou enter amb l’objecte referenciat per self.\n",
    "\n",
    "- Sobreescriu l’operador String d’aquesta classe.\n",
    "\n",
    "### Exercici\n",
    "\n",
    "Un cop implementada aquesta classe, fes un programa que calculi el volum d’una esfera. Sigui r  un nombre que hem de llegir de teclat. El radi, R, de l’esfera té una certa incertesa i es troba dins l’interval un 10% més petit o un 10%\n",
    "més gran de r. El resultat ha de ser un Interval que mostrem per pantalla.\n",
    "\n",
    "Utilitzarem la següent formula: $V = (4/3)𝜋R^3$\n",
    "\n",
    "La constant pi és al paquet _Math_"
   ],
   "metadata": {
    "id": "GbXlbxuS3GtG"
   }
  },
  {
   "cell_type": "markdown",
   "source": [
    "## Classe RutaGpx\n",
    "Discworld és un món pla sostingut per quatre elefants que, al seu torn, es recolzen a la closca de Gran A'Tuin, la tortuga estel·lar. El mag Rincewind ens demana que l’ajudem programant una classe per guardar les seves rutes preferides.\n",
    "Aquesta classe anomenada RutaGpx ha de permetre guardar un conjunt ordenat de punts de la forma `p=(x, y, z)` que indiquen un camí dins el mon.\n",
    "Els constructors d’aquesta classe reben el nom de la ruta, un string amb valor per defecte \"Df\".\n",
    "\n",
    "Ens demanen les següents operacions:\n",
    "\n",
    "1. **afegirPunt**: rep un punt per paràmetre i l’afegeix al final de la ruta.\n",
    "2. **eliminarPunt**: rep un nombre enter per paràmetre i elimina el punt en aquest índex si i només si l’index és vàlid. Suposarem que els índexos van de 1 al nombre de punts.\n",
    "3. Sobreescriure l’**operador longitud** (__len__), en aquest cas ens retorna la longitud de la ruta (suma de les distàncies entre els punts), aproximada a un nombre enter (el mètode `len` només pot retornar enters).\n",
    "4. Sobreescriure l’operador **string**, en aquest cas ens retorna el nom de la ruta i la llista de punts separats per el caràcter \":\".\n",
    "5. Sobreescriure l’operador **suma** (__add__) que retorna un nou objecte RutaGpx. Aquest conté una nova ruta resultant de la concatenació de les dues rutes, primer col·locarem la ruta referenciada pel self el nom de la nova ruta és la concatenació dels noms de les rutes amb el \"_\" com a separador.\n",
    "6. Realitzar una funció **intersecció** que rep una ruta per paràmetre i retorna `True` si existeix alguna intersecció amb la ruta referenciada per `self` i `False` en cas contrari. En el nostre context direm que dues rutes intersequen si tenen algun punt en comú.\n",
    "\n",
    "### Exercicis\n",
    "\n",
    "#### 1\n",
    "Realitzar un programa que crea les següents rutes, emprant els mètodes desenvolupats:\n",
    "\n",
    "lluc = [ (1, 1, 0), (2, 2, 139), (3, 3, 278), (4, 4, 417), (5, 5, 556), (6, 6, 695), (7, 7, 834), (8, 8, 973), (9, 9, 1112), (10, 10, 1250) ]\n",
    "\n",
    "caimari = [ (11, 11, 1300), (10, 13, 1156), (9, 14, 1011), (8, 16, 867), (7, 17, 722), (6, 19, 578), (5, 20, 433), (4, 22, 289), (3, 23, 144), (1, 25, 0) ]\n",
    "\n",
    "Després ha de mostrar la longitud de la ruta anomenada lluc, concatenar les dues rutes (lluc va primer) i mira si la ruta lluc interseca amb la nova ruta creada.\n",
    "\n",
    "#### 2\n",
    "\n",
    "Modifica la classe anterior per a que existeixi un mètode que ens permeti saber quantes rutes hem creat."
   ],
   "metadata": {
    "id": "v1mC7Mm74hE8"
   }
  }
 ]
}
