{
 "cells": [
  {
   "cell_type": "markdown",
   "metadata": {
    "collapsed": true,
    "pycharm": {
     "name": "#%% md\n"
    }
   },
   "source": [
    "## Exercicis Tema 5/2\n",
    "\n",
    "### Altres estructures\n",
    "\n",
    "\n",
    "1. Obtenir una llista amb el quadrat dels 5 primers nombres naturals. Aquest exercici s'ha de realitzar usant _list comprehension_.\n",
    "\n",
    "2. Tenim una llista que té un conjunt de distàncies en metres (la podeu crear a mà dins el codi). Transformar-la en una que té les distàncies en iardes: 1 iarda = 0,9144 metres. Aquest exercici s'ha de realitzar usant _list comprehension_.\n",
    "\n",
    "3. Fer un programa que ens diu el nombre d’aparicions de cada vocal en una seqüència acabada en punt; Aquest cop en lloc d'una llista heu d'usar un diccionari. Aquest exercici no es pot solucionar amb _list comprehension.\n",
    "\n",
    "4. Crear una funció generadora que rebi el valor d’inici i l’increment com a paràmetre i ens proporcioni valors successius a partir del valor inicial. Llavors, crear una llista de 10 nombres que comenci en el valor -5 i els següents nombres s'obtinguin d’incrementar l'anterior en 10 unitats. Finalment, crear una nova llista, amb aquells que\n",
    "són positius.\n",
    "\n",
    "5. Generar una llista que contengui els primers 11 valors d’una successió que té com a terme inicial el valor 1 i els termes successius s'obtenen sumant un nombre aleatori entre 1 i 4 al terme previ. Crear la llista d'aquells que són parells. Heu d'usar una funció generadora.\n",
    "\n",
    "6. Implementar la vostra pròpia funció `map` anomenada `mimap`. Aquesta funció rep una funció lambda per paràmetre i l'aplica als elements d'una llista que també rep per paràmetre. Posau un exemple d’ús.\n",
    "\n",
    "7. Eliminar els noms buits de la següent llista: `noms = [\"\", \"jose\", \"juana\", \"lluis\" , \"encarnacio\", \"\", \"pepa\"]`._Ajuda_: Un *string* buit té longitud 0.\n",
    "\n",
    "\n",
    "8. A partir de la llista de l’exercici anterior, volem obtenir una nova llista on concatenem els noms amb els següents\n",
    "`cognoms = [\"stark\", \"targaryen\", \"baratheon\", \"martell\", \"lannister\"]`\n",
    "\n",
    "\n",
    "9. Aquest algorisme hauria de fer la següent feina: donades dues llistes de nombres de la mateixa longitud, determina quina d'elles té més valors més alts comparant-los un a un. Aquest programa no funciona correctament. Heu d’indicar un cas en què falli, i escriure una nova versió corregida. La nova versió no pot emprar bucles, només _list comprehensions_ i funcions lambda.\n",
    "```\n",
    "countA = 0\n",
    "countB = 0\n",
    "for i in range(0, len(A)+ len(B)):\n",
    "    vA = A[i]\n",
    "    vB = B[i]\n",
    "    if vA > vB:\n",
    "        countA = countA + 1\n",
    "    else:\n",
    "        countB = countB + 1\n",
    "\n",
    "print(A gana ' + str(countA) + ', B gana ' + str(countB)+ ':')\n",
    "\n",
    "if countA > countB:\n",
    "   print (‘Gana A')\n",
    "if countB < countA:\n",
    "   print('Gana B')\n",
    "else:\n",
    "   print ('Empate’)\n",
    "```"
   ]
  }
 ],
 "metadata": {
  "kernelspec": {
   "display_name": "Python 3",
   "language": "python",
   "name": "python3"
  },
  "language_info": {
   "codemirror_mode": {
    "name": "ipython",
    "version": 2
   },
   "file_extension": ".py",
   "mimetype": "text/x-python",
   "name": "python",
   "nbconvert_exporter": "python",
   "pygments_lexer": "ipython2",
   "version": "2.7.6"
  }
 },
 "nbformat": 4,
 "nbformat_minor": 0
}
