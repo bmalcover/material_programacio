{
 "cells": [
  {
   "cell_type": "markdown",
   "metadata": {
    "colab_type": "text",
    "id": "hnF0MPsqZjWb",
    "slideshow": {
     "slide_type": "slide"
    }
   },
   "source": [
    "# Tema 3\n",
    "\n",
    "## Esquemes algorísmics bàsics\n",
    "\n",
    "Un cop que disposem de les eines bàsiques necessàries per poder construir els nostres programes, és el moment d’estudiar algorismes que ens permetin solucionar programes amb major complexitat. Durant tot el curs veurem que a partir d'aquestes composicions bàsiques aplicades a seqüències de dades es poden resoldre una ampla varietat de problemes.\n",
    "\n",
    "Començarem l'aplicació d'aquests esquemes algorísmics resolent problemes de seqüències de lletres i de nombres, ja que ens permeten aplicar els conceptes teòrics i són senzills de programar."
   ]
  },
  {
   "cell_type": "markdown",
   "metadata": {
    "colab_type": "text",
    "id": "cT3Ev4Y8ZsdZ",
    "slideshow": {
     "slide_type": "slide"
    }
   },
   "source": [
    "### El concepte de seqüència.\n",
    "\n",
    "S’enten com a seqüència aquell conjunt d'elements que verifica les següents condicions:\n",
    "\n",
    "- Existeix un primer element al qual es pot accedir.\n",
    "- Tots els elements tenen un successor excepte el darrer i amb aquesta relació de succesió es pot accedir a la resta d'elements que formen la seqüència.\n",
    "- Existeix un darrer element i aquest element es pot identificar.\n",
    "\n",
    "```{figure} ../img/sequencia.png\n",
    ":alt: Seqüència de text\n",
    ":width: 500px\n",
    ":align: center\n",
    "\n",
    "Exemple de seqüència de text amb els seus elements bàsics.\n",
    "```\n",
    "\n",
    "La primera passa a realitzar quant volem resoldre un problema mitjançant algorismes que tracten seqüències és identificar quin és l'element a tractar: lletres, nombres, booleans, paraules, vídeos... No sempre serà una tasca senzilla i dependrà de l'experiència i de la capacitat d'anàlisi del programador adoptar la solució més convenient al problema a tractar.\n",
    "\n",
    "El tractament de les seqüències es realitza començant pel primer element i accedint a la resta amb la relació de successió prèviament definida.\n",
    "\n",
    "El concepte de tractament seqüencial ens duu a definir algorismes bàsics:\n",
    "\n",
    "- **Esquema de recorregut** amb el qual es pretén realitzar un determinat tractament per a cada un dels elements de la\n",
    "seqüència. En aquest cas el tractament s'acabarà en detectar el final de la seqüència.\n",
    "- **Esquema de cerca** amb el qual es pretén verificar l'existència d'un element dins la seqüència. Aquest\n",
    "tractament pot acabar quan l'element s'ha trobat o quan s'ha arribat al final de la seqüència per què l'element no hi era."
   ]
  },
  {
   "cell_type": "markdown",
   "metadata": {
    "colab_type": "text",
    "id": "NtqB-WcAZi5G",
    "slideshow": {
     "slide_type": "slide"
    }
   },
   "source": [
    "## Esquema de recorregut\n",
    "\n",
    "El recorregut és el mecanisme que permet aplicar una determinada operació a tots els elements que formen part\n",
    "d’una seqüència. És important tenir present sempre el fet que el tractament s’haurà de començar amb el primer element\n",
    "i no acabarà fins que s’hagi aplicat al darrer element de la seqüència.  En determinades circumstàncies és possible\n",
    "que pel cas del darrer element s’hagi de fer un tractament específic.\n",
    "\n",
    "Aquest és l'algorisme general de l'esquema d'un recorregut:\n",
    "```\n",
    "inicialització \n",
    "situar-se sobre el primer element \n",
    "\n",
    "mentre no final:\n",
    "        tractar element actual    \n",
    "        situar-se sobre el següent element\n",
    "\n",
    "tractament de final \n",
    "donar resultat\n",
    "```\n",
    "\n",
    "Un exemple d'un recorregut és un programa que compta el nombre d'aparicions de la lletra 'a' en un text. Cal\n",
    "considerar que el caràcter '.' s'utilitzarà com a darrer element per indicar el final de la seqüència, almenys durant la\n",
    "primera part del curs.\n",
    "\n",
    "```\n",
    "import sys\n",
    "print(\"Introdueix una seqüència de text acabada en punt.\")\n",
    "lletra = sys.stdin.read(1)\n",
    "nombre = 0\n",
    "while lletra != '.':\n",
    "\n",
    "    if lletra == 'a':\n",
    "        nombre = nombre + 1\n",
    "\n",
    "    lletra = sys.stdin.read(1)\n",
    "\n",
    "print(f' Hi ha un total de {nombre} lletres \"a\" en el texte.')\n",
    "```"
   ]
  },
  {
   "cell_type": "markdown",
   "metadata": {
    "colab_type": "text",
    "id": "hQeFxtRlg-d6",
    "slideshow": {
     "slide_type": "slide"
    }
   },
   "source": [
    "## Esquema general de cerca\n",
    "\n",
    "L’esquema general de cerca és molt semblant al de recorregut, es basa, com aquell, en un bucle per anar tractant els\n",
    "successius elements de la seqüència. La principal diferència es troba precisament en la condició d’acabament del\n",
    "bucle. L’esquema general de cerca consisteix en les següents operacions:\n",
    "\n",
    "```\n",
    "inicialització \n",
    "situar-se sobre el primer element \n",
    "mentre no final i no trobat:\n",
    "        tractar element actual\n",
    "        situar-se sobre el següent element\n",
    "\n",
    "tractament de final \n",
    "actuar segons els resultats\n",
    "```"
   ]
  },
  {
   "cell_type": "markdown",
   "metadata": {
    "slideshow": {
     "slide_type": "slide"
    }
   },
   "source": [
    "A continuació veurem un exemple d'un programa que realitza una cerca. Realitzarem un programa que cerqui la primera vocal d'una seqüència de text acabada en punt.\n",
    "\n",
    "```\n",
    "import sys\n",
    "\n",
    "print(\"Introdueix un text acabat en punt\")\n",
    "lletra = sys.stdin.read(1)\n",
    "\n",
    "while lletra != '.' and (lletra != 'a' and lletra != 'e' and lletra != 'i' and lletra != 'o' and lletra != 'u'):\n",
    "\n",
    "    lletra = sys.stdin.read(1)\n",
    "\n",
    "if lletra !='.':\n",
    "    print(f'La primera vocal es: {lletra}')\n",
    "else:\n",
    "    print (\"No he trobat cap vocal\")\n",
    "```"
   ]
  },
  {
   "cell_type": "markdown",
   "metadata": {
    "colab_type": "text",
    "id": "KaM6-tf1kaym",
    "slideshow": {
     "slide_type": "slide"
    }
   },
   "source": [
    "Encara que el programa funciona de forma correcta, la condició de trobat és un poc llarga, realitzarem una segona versió del mateix programa fent ús d’una variable booleana per poder simplificar les condicions de finalització del bucle. Evidentment, això provoca certs canvis en el nostre programa: El primer valor assignat a la variable `lletra` serà l'espai en blanc, això és degut al fet que l'avaluació del valor de la variable\n",
    "`lletra` és dins el bucle i, per tant, necessitem assegurar que entrarem almanco una vegada dins aquest per saber si la primera lletra de la seqüència és vocal o no.\n",
    "\n",
    "Vegem el codi:\n",
    "\n",
    "```\n",
    "import sys\n",
    "\n",
    "lletra = ' '\n",
    "trobat = False\n",
    "\n",
    "while lletra != '.' and not trobat:\n",
    "\n",
    "    lletra = sys.stdin.read(1)\n",
    "\n",
    "    if lletra == 'a' or lletra == 'e' or lletra == 'i' or lletra == 'o' or lletra == 'u':\n",
    "        trobat = True\n",
    "\n",
    "if trobat == True:\n",
    "    print(\"La primera vocal és: \" + lletra)\n",
    "else:\n",
    "    print (\"No he trobat cap vocal\")\n",
    "\n",
    "```"
   ]
  },
  {
   "cell_type": "markdown",
   "metadata": {
    "colab_type": "text",
    "id": "hrvWpHWZlH_j",
    "slideshow": {
     "slide_type": "slide"
    }
   },
   "source": [
    "Si ens aturem a fer una petita reflexió, podrem observar com els dos programes anteriors són dues implementacions diferents **del mateix algorisme**.\n",
    "\n",
    "Tant els recorreguts com les cerques són eines molt útils, és important saber com aplicar adequadament aquests dos esquemes. Al llarg dels següents capítols es plantegen nombrosos exemples on, a priori, l'aplicació de cerques i recorreguts pot parèixer estranya, però un examen detallat dels problemes revelarà que quasi sempre es pot interpretar el problema considerant que es tracta de manejar una seqüència d'elements d'un determinat tipus."
   ]
  }
 ],
 "metadata": {
  "celltoolbar": "Slideshow",
  "colab": {
   "include_colab_link": true,
   "name": "Tema 3.ipynb",
   "provenance": [],
   "version": "0.3.2"
  },
  "kernelspec": {
   "display_name": "Python 3",
   "language": "python",
   "name": "python3"
  },
  "language_info": {
   "codemirror_mode": {
    "name": "ipython",
    "version": 3
   },
   "file_extension": ".py",
   "mimetype": "text/x-python",
   "name": "python",
   "nbconvert_exporter": "python",
   "pygments_lexer": "ipython3",
   "version": "3.7.3"
  }
 },
 "nbformat": 4,
 "nbformat_minor": 1
}
