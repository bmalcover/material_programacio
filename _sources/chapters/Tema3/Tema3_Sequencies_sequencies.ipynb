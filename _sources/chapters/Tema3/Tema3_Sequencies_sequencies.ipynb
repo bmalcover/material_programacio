{
 "cells": [
  {
   "cell_type": "markdown",
   "id": "d5aeddbd-1ec5-43a9-8bfe-de08b4bbf2f4",
   "metadata": {},
   "source": [
    "### Seqüències de seqüències\n",
    "\n",
    "Als problemes tractats en la secció anterior, hi afegirem la possibilitat que els elements de les seqüències siguin, al seu torn, altres seqüències.\n",
    "\n",
    "Per començar suposarem que en els nostres problemes tenim un nombre $n$ que indica el nombre de seqüències i després cada seqüència acaba amb un sentinella, en el nostre cas particular, el valor $-1$. Més endavant tindrem temps per eliminar aquestes dues restriccions.\n",
    "\n",
    "A partir dels dos esquemes algorísmics que hem vist en la primera secció d'aquest mateix tema, apareixen 4 possibles combinacions:\n",
    "\n",
    "1. Un recorregut amb recorreguts.\n",
    "2. Una cerca amb recorreguts.\n",
    "3. Un recorregut amb cerques.\n",
    "4. Una cerca amb cerques.\n",
    "\n",
    "Tenim diferents exemples de problemes que es poden resoldre amb aquests esquemes \n",
    "\n",
    "- Donades diverses seqüències d'enters, compteu la quantitat mitjana de nombres primers per seqüència (seqüències tracta-totes, elements tracta-tots).\n",
    "- Donades diverses seqüències de caràcters, comproveu si una de les seqüències conté la combinació de caràcters \"hola\" un nombre parell de vegades (seqüència de cerca, elements tracta-tots).\n",
    "- Donades diverses seqüències d'enters, descobriu quina és la primera seqüència que conté un nombre primer (seqüència de cerca,\n",
    "element de cerca).\n",
    "- Donades diverses seqüències d'enters, indiqueu la primera posició de cada seqüència que conté un nombre primer (seqüències tracta-totes, element de cerca).\n"
   ]
  },
  {
   "cell_type": "markdown",
   "id": "b0dc9f62-92ca-44a8-8ed4-295821451f50",
   "metadata": {},
   "source": [
    "#### Recorregut amb recorreguts\n",
    "\n",
    "Un exemple d'aquesta estructura sería el següent enunciat: **Donades diverses seqüències de nombres enters positius acabades amb el nombre -1, comptar la mitjana de nombres parells que hi ha a cada seqüència**.\n",
    "\n",
    "Veiem que per resoldre aquest problema necessitarem tenir 2 bucles anidats; Un recorregut dins un recorregut. El bucle exterior serveix per iterar les seqüències i l'interior per iterar dins cada seqüència.\n",
    "\n",
    "El codi `Python` per resoldre aquest problema és el següent:"
   ]
  },
  {
   "cell_type": "code",
   "execution_count": 2,
   "id": "072badca-0311-4d54-91e7-52ceb532131f",
   "metadata": {},
   "outputs": [
    {
     "name": "stdin",
     "output_type": "stream",
     "text": [
      "introdueix el nombre de seqüències que vols tractar, contaré la mitjana de nombres parells per seqüència 0\n"
     ]
    }
   ],
   "source": [
    "n = int(input(\"introdueix el nombre de seqüències que vols tractar, contaré la mitjana de nombres parells per seqüència\"))\n",
    "\n",
    "for i in range(1, n+1): # mentre no final; següent element\n",
    "    # Tractar element actual (tota la seqüència)\n",
    "    nombre = int(input(\"introdueix un nombre enter positiu\")) # primer element\n",
    "    total = 0\n",
    "    parells = 0\n",
    "    while nombre != -1: # mentre no final\n",
    "\n",
    "        if nombre % 2 == 0: #tractar element actual (un element d'una seqüència)\n",
    "            parells += 1\n",
    "\n",
    "        total += 1\n",
    "        nombre = int(input(\"introdueix un nombre enter positiu\")) # següent element\n",
    "    \n",
    "    if total > 0: # resultats\n",
    "        print(f\"En la seqüència {i} hi ha {parells/total} nombres parells de mitjana\")\n",
    " "
   ]
  },
  {
   "cell_type": "markdown",
   "id": "c3553b1f-3904-4fa1-b674-e22611fb5b8c",
   "metadata": {},
   "source": [
    "#### Cerca amb recorreguts\n",
    "\n",
    "Un exemple d'aquesta estructura sería el següent enunciat: **Donades diverses seqüències de nombres enters positius acabades amb el nombre -1,  indiqueu el número de la primera línia en què la suma dels elements sigui parella. Si no n’hi ha cap que compleixi aquesta condició, escriviu \"No es compleix\".**\n",
    "\n",
    "El codi `Python` per resoldre aquest problema és el següent:"
   ]
  },
  {
   "cell_type": "code",
   "execution_count": null,
   "id": "5a1f4e17-75ae-4217-b75e-5c8709aa8848",
   "metadata": {},
   "outputs": [],
   "source": [
    "n = int(input(\"introdueix el nombre de seqüències que vols tractar, cercaré la primera amb suma parella d'elements\"))\n",
    "trobat = False\n",
    "i = 0\n",
    "\n",
    "while not trobat and i < n: # mentre no final; \n",
    "    # Tractar element actual (tota la seqüència)\n",
    "    nombre = int(input(\"introdueix un nombre enter positiu\")) # primer element\n",
    "    sumatori_parells = 0\n",
    "    \n",
    "    while nombre != -1: # mentre no final\n",
    "        sumatori_parells += nombre\n",
    "\n",
    "        nombre = int(input(\"introdueix un nombre enter positiu\")) # següent element\n",
    "    if sumatori_parells % 2 == 0: # resultats de cada seqüència\n",
    "        trobat = True    \n",
    "    \n",
    "    i += 1\n",
    "\n",
    "# Resultats de la cerca\n",
    "if trobat:\n",
    "    print(f\"La línia que té la suma dels seus elements un nombre parell és {i}\")\n",
    "else:\n",
    "    print(\"No es compleix\")"
   ]
  },
  {
   "cell_type": "markdown",
   "id": "41c66014-a0d1-4d6b-b0e0-cf5610c8848c",
   "metadata": {},
   "source": [
    "#### Recorregut amb cerques\n",
    "\n",
    "Un exemple d'aquesta estructura sería el següent enunciat: **Donades diverses seqüències de nombres enters positius acabades amb el nombre -1, indicar la primera posició de cada una on hi ha un nombre parell en cada seqüència**.\n",
    "\n",
    "Un codi `Python` per resoldre aquest problema podría ser el següent:"
   ]
  },
  {
   "cell_type": "code",
   "execution_count": null,
   "id": "05b358e0-f75a-48f5-a728-4340f7e9397b",
   "metadata": {},
   "outputs": [],
   "source": [
    "n = int(input(\"introdueix el nombre de seqüències que vols tractar, et diré on es troba el primer nombre primer a cada seqüència\"))\n",
    "\n",
    "for i in range(1, n+1): # mentre no final; següent element\n",
    "    # Tractar element actual (tota la seqüència)\n",
    "    print(f\"> seqüència {i}\")\n",
    "    nombre = int(input(\"introdueix un nombre enter positiu\")) # primer element\n",
    "    trobat = False\n",
    "    posicio = 0\n",
    "    while not trobat and nombre != -1: # mentre no trobat i no final\n",
    "\n",
    "        if nombre % 2 == 0: #tractar element actual (un element d'una seqüència)\n",
    "            trobat = True\n",
    "        else:\n",
    "            nombre = int(input(\"introdueix un nombre enter positiu\")) # següent element\n",
    "        posicio += 1\n",
    "    if trobat:\n",
    "            print(f\" El primer parell és {nombre} i es troba a la posició {posicio}\")\n",
    "    else:\n",
    "        print(\"Aquesta seqüència no té nombres parells\")"
   ]
  },
  {
   "cell_type": "markdown",
   "id": "5539a298-9636-4ea1-8433-17a49bd7c733",
   "metadata": {},
   "source": [
    "Quin resultat tendriem amb la següent entrada?\n",
    "\n",
    "```\n",
    "n = 2\n",
    "seq1 = 3 4 5 6 -1\n",
    "seq2 = 4 6 4 3 -1\n",
    "```"
   ]
  },
  {
   "cell_type": "markdown",
   "id": "6cec5e5a-ad8c-42e3-a2c9-31aa6f84b101",
   "metadata": {},
   "source": [
    "Tal com està programat, obtindrem resultats no dessitjats, ja que en trobar un nombre parell l'anàlisi de la seqüència s'interromp. Això fa que quedin valors sense processar, que es tracten com si formessin part d'una nova seqüència.\n",
    "\n",
    "En conclusió podem dir que **sempre és necessari consumir tots els elements de cada seqüència abans de passar a la següent**. El codi que resol aquest problema de forma correcta és el següent:"
   ]
  },
  {
   "cell_type": "code",
   "execution_count": null,
   "id": "5362e4aa-cf8a-493f-ad20-71c48ccd4474",
   "metadata": {},
   "outputs": [],
   "source": [
    "n = int(input(\"introdueix el nombre de seqüències que vols tractar, et diré on es troba el primer nombre primer a cada seqüència\"))\n",
    "\n",
    "for i in range(1, n+1): # mentre no final; següent element\n",
    "    # Tractar element actual (tota la seqüència)\n",
    "    print(f\"> seqüència {i}\")\n",
    "    nombre = int(input(\"introdueix un nombre enter positiu\")) # primer element\n",
    "    trobat = False\n",
    "    posicio = 0\n",
    "    while nombre != -1: # no final\n",
    "\n",
    "        if nombre % 2 == 0: #tractar element actual (un element d'una seqüència)\n",
    "            trobat = True\n",
    "        else:\n",
    "            nombre = int(input(\"introdueix un nombre enter positiu\")) # següent element\n",
    "        posicio += 1\n",
    "    if trobat:\n",
    "            print(f\" El primer parell és {nombre} i es troba a la posició {posicio}\")\n",
    "    else:\n",
    "        print(\"Aquesta seqüència no té nombres parells\")"
   ]
  },
  {
   "cell_type": "markdown",
   "id": "40685c0a-1310-4ba7-9aef-4f6696b23824",
   "metadata": {},
   "source": [
    "#### Cerca amb cerques\n",
    "\n",
    "\n",
    "Un exemple d'aquesta estructura sería el següent enunciat: **Donades diverses seqüències de nombres enters positius, cadascuna acabada amb el nombre -1, digueu el número de la primera línia que contingui algun element senar. Si no n’hi ha cap que compleixi aquesta condició, escriviu \"No n'existeix cap\".**\n",
    "\n",
    "El codi `Python` per resoldre aquest problema és el següent:"
   ]
  },
  {
   "cell_type": "code",
   "execution_count": null,
   "id": "0b040781-b3f4-4d2e-9913-3f37e17b127d",
   "metadata": {},
   "outputs": [],
   "source": [
    "n = int(input(\"introdueix el nombre de seqüències que vols tractar, et diré quina és la primera línia que conté un element senar\"))\n",
    "\n",
    "trobat = False # noteu el canvi, ja que si trobem a una seqüència ja no hem de cercar més\n",
    "i = 0\n",
    "\n",
    "while not trobat and i < n: # mentre no final;  # mentre no final; següent element\n",
    "    # Tractar element actual (tota la seqüència)\n",
    "    print(f\"> seqüència {i}\")\n",
    "    nombre = int(input(\"introdueix un nombre enter positiu\")) # primer element\n",
    "    \n",
    "    posicio = 0\n",
    "    while not trobat and nombre != -1: # no final\n",
    "\n",
    "        if nombre % 2 != 0: #tractar element actual (un element d'una seqüència)\n",
    "            trobat = True\n",
    "        else:\n",
    "            nombre = int(input(\"introdueix un nombre enter positiu\")) # següent element\n",
    "    i += 1\n",
    "\n",
    "if trobat:\n",
    "    print(f\"La primera línia amb un nombre senar és {posicio}\")\n",
    "else:\n",
    "    print(\"No n'existeix cap\")"
   ]
  },
  {
   "cell_type": "markdown",
   "id": "7ae68d12-e986-413c-9624-c1fa452c1924",
   "metadata": {},
   "source": [
    "#### Conclusions\n",
    "\n",
    "Com hem vist en aquesta secció, hi ha quatre combinacions bàsiques en els algorismes de cerques i recorreguts quant tractam problemes de seqüències amb seqüències, cadascuna amb les seves particularitats i aplicacions. Aquestes estructures ens permeten resoldre una gran varietat de problemes senzills. Tanmateix, a mesura que els programes es fan més complexos, és important saber com organitzar el codi per mantenir-lo clar i entenedor. En el proper capítol aprendrem com aïllar blocs de codi mitjançant l’ús de funcions, una eina fonamental que ens permet dividir els problemes en parts més manejables i millorar la llegibilitat i reutilització del codi."
   ]
  }
 ],
 "metadata": {
  "kernelspec": {
   "display_name": "Python 3 (ipykernel)",
   "language": "python",
   "name": "python3"
  },
  "language_info": {
   "codemirror_mode": {
    "name": "ipython",
    "version": 3
   },
   "file_extension": ".py",
   "mimetype": "text/x-python",
   "name": "python",
   "nbconvert_exporter": "python",
   "pygments_lexer": "ipython3",
   "version": "3.11.11"
  }
 },
 "nbformat": 4,
 "nbformat_minor": 5
}
