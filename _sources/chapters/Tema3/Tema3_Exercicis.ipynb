{
 "cells": [
  {
   "cell_type": "markdown",
   "metadata": {
    "collapsed": true,
    "pycharm": {
     "name": "#%% md\n"
    }
   },
   "source": [
    "\n",
    "## Exercicis del Tema 3\n",
    "\n",
    "### Seqüències de text\n",
    "\n",
    "Les seqüències de caràcters a què fan referència aquests exercicis són introduïdes per teclat i acabades amb el\n",
    "caràcter punt.\n",
    "\n",
    "1-Fes un programa que serveixi per comptar quantes aparicions hi ha de cada vocal.\n",
    "```\n",
    "    Exemples d'execució: Murcielago.\n",
    "\n",
    "    a -> 1\n",
    "    e -> 1\n",
    "    i -> 1\n",
    "    o -> 1\n",
    "    u -> 1\n",
    "\n",
    "    Carla la patata.\n",
    "    a -> 6\n",
    "    e -> 0\n",
    "    i -> 0\n",
    "    o -> 0\n",
    "    u -> 0\n",
    "```\n",
    "\n",
    "2-Desenvolupa un programa que serveixi per cercar la primera vocal d'una seqüència de text acabada en punt i mostri\n",
    "per pantalla la següent lletra.\n",
    "```\n",
    "Exemples:\n",
    "    Murcielago. La següent lletra es la 'r'\n",
    "    Lo importante es participar. La següent lletra es la ' '\n",
    "    Hay mas felicidad en dar que en recibir. La següent lletra es la 'y'\n",
    "    N st scnc n hy vcls. En aquesta frase no hi ha vocals\n",
    "```\n",
    "3-Comptar el nombre d'espais que apareixen després de la primera t (majúscula o minúscula). Per indicar el caracter\n",
    "espai en un programa es fa especificant-ho entre cometes simples com si fos qualsevol altra lletra (espai = ' ').\n",
    "```\n",
    "Exemples:\n",
    "    El sol ha eixit la radio sona estem vius. 8 espais\n",
    "    Un dia que te sobren vitamines. 2 espais\n",
    "    Estudiar matematiques es divertit. 3 espais\n",
    "    Supercalifragilisticoespialidos.  Aquesta seqüència no té espais\n",
    "```\n",
    "4-Implementar un programa que llegeixi una seqüència de caràcters acabada en punt i mostri el caràcter més gran.\n",
    "```\n",
    "Exemple:\n",
    "    puerto rico me lo confirmo. El caracter mes gran es la 'u'\n",
    "```\n",
    "\n",
    "5-Implementar un programa que llegeixi una seqüència de caràcters acabada en punt i mostri el caràcter més petit.\n",
    "\n",
    "6-Implementar un programa que llegeixi una seqüència de caràcters acabada en punt i mostri el nombre de vocals,\n",
    "consonants i espais.\n",
    "\n",
    "7-Implementar un programa que demani una lletra a l'usuari i compti el nombre d'espais que apareixen en una\n",
    "seqüència de caràcters acabada en punt fins a trobar la lletra triada.\n",
    "\n",
    "8-Dissenyar i implementar un programa que llegeixi una seqüència de caràcters acabada en ‘.’ i ens digui quantes lletres\n",
    "apareixen entre el primer i el segon espai. Si la seqüència no té dos espais, el programa ha de comunicar-ho a l’usuari.\n",
    "\n",
    "\n",
    "### Seqüències numèriques\n",
    "\n",
    "9-Implementar un programa que demani a l'usuari un número `n` i aquest mostri per pantalla els `n` primers termes de la\n",
    "successió de Fibonacci. Si l'usuari introdueix el número 6, el programa mostrarà: 1, 1, 2, 3, 5, 8. [Succesió de Fibonacci](https://ca.wikipedia.org/wiki/Successi%C3%B3_de_Fibonacci)\n",
    "\n",
    "10-Crear un petit joc en el qual l'ordinador genera un nombre aleatori entre 0 i 9, l'usuari ha d'aconseguir\n",
    "endevinar en el menor nombre possible d'intents:\n",
    "```\n",
    "    Exemple:\n",
    "    He pensat un número del 0 al 9, a veure si l'endevines. 7\n",
    "    Incorrecte, 4\n",
    "    Incorrecte, 5\n",
    "    Incorrecte, 6\n",
    "    Incorrecte, 3\n",
    "    Incorrecte, 1\n",
    "    Has necesitat 6 intents, el nombre que havia pensat es el 1.\n",
    "```\n",
    "Per generar un nombre aleatori entre 0 i 9 hem de fer el següent:"
   ]
  },
  {
   "cell_type": "code",
   "execution_count": null,
   "outputs": [],
   "source": [
    "import random\n",
    "aleatori = random.randint(0, 9)\n"
   ],
   "metadata": {
    "collapsed": false,
    "pycharm": {
     "name": "#%%\n"
    }
   }
  },
  {
   "cell_type": "markdown",
   "source": [
    "11-Escriure un programa que rebi un nombre enter `n` i lliuri com a resultat el nombre `n` amb els seus dígits\n",
    "en l'ordre invers.\n",
    "\n",
    "12-Escriure un programa en el qual l’usuari introdueixi un nombre i el programa calculi una aproximació al nombre pi\n",
    "desenvolupant tants termes de la següent successió com el nombre introduït: pi ≈ 4(1 - 1/3 + 1/5 - 1/7 ...)\n",
    "\n",
    "13-El 2520 és el nombre més petit que es pot dividir per cadascun dels nombres de l'1 al 10 sense cap tipus de\n",
    "reste. Quin és el nombre positiu més petit que es pot dividir sense reste per tots els nombres de l'1 al 20?\n",
    "\n",
    "\n",
    "\n",
    "\n",
    "\n"
   ],
   "metadata": {
    "collapsed": false
   }
  }
 ],
 "metadata": {
  "kernelspec": {
   "display_name": "Python 3",
   "language": "python",
   "name": "python3"
  },
  "language_info": {
   "codemirror_mode": {
    "name": "ipython",
    "version": 2
   },
   "file_extension": ".py",
   "mimetype": "text/x-python",
   "name": "python",
   "nbconvert_exporter": "python",
   "pygments_lexer": "ipython2",
   "version": "2.7.6"
  }
 },
 "nbformat": 4,
 "nbformat_minor": 0
}